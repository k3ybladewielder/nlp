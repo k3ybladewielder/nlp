{
  "cells": [
    {
      "cell_type": "markdown",
      "metadata": {
        "id": "DdYrQcac2yv-"
      },
      "source": [
        "<img src=\"https://raw.githubusercontent.com/alan-barzilay/NLPortugues/master/imagens/logo_nlportugues.png\"   width=\"150\" align=\"right\">\n",
        "\n",
        "\n",
        "# Lista 6 - LSTM & GRU"
      ]
    },
    {
      "cell_type": "markdown",
      "source": [
        "\n",
        "______________\n"
      ],
      "metadata": {
        "id": "PEVYujH57chy"
      }
    },
    {
      "cell_type": "markdown",
      "metadata": {
        "id": "nCCgVIO72ywB"
      },
      "source": [
        "\n",
        "O objetivo desta lista é fazer com que vocês treinem um modelo de análise de sentimentos utilizando GRU's e LSTM's. Essa lista é semelhante a lista 03 onde aprendemos a usar embeddings e onde você ja recebeu a arquitetura do seu modelo quase pronta. A diferença é que desta vez você ira construir sozinho sua rede e utilizará as camadas que acabamos de aprender: LSTM e GRU."
      ]
    },
    {
      "cell_type": "code",
      "execution_count": 1,
      "metadata": {
        "id": "rsAUbJmf2ywB"
      },
      "outputs": [],
      "source": [
        "import tensorflow as tf\n",
        "from tensorflow import keras\n",
        "import numpy as np\n",
        "import pandas as pd\n",
        "import matplotlib.pyplot as plt"
      ]
    },
    {
      "cell_type": "code",
      "execution_count": 2,
      "metadata": {
        "id": "2aYJaVXW2ywD",
        "outputId": "44f9bf19-64a0-45d0-9e4c-dd9794647398",
        "colab": {
          "base_uri": "https://localhost:8080/",
          "height": 36
        }
      },
      "outputs": [
        {
          "output_type": "execute_result",
          "data": {
            "text/plain": [
              "'2.15.0'"
            ],
            "application/vnd.google.colaboratory.intrinsic+json": {
              "type": "string"
            }
          },
          "metadata": {},
          "execution_count": 2
        }
      ],
      "source": [
        "tf.__version__"
      ]
    },
    {
      "cell_type": "markdown",
      "metadata": {
        "id": "Ug68fqVx2ywE"
      },
      "source": [
        "## Importando os dados como um dataframe\n",
        "\n",
        "Para esta lista nós utilizaremos um recorte do dataset **B2W-Reviews01** que consiste em avaliações de mais de 130k compras online no site Americanas.com e [esta disponivel no github](https://github.com/b2wdigital/b2w-reviews01) sob a licensa CC BY-NC-SA 4.01."
      ]
    },
    {
      "cell_type": "code",
      "source": [
        "!mkdir data"
      ],
      "metadata": {
        "id": "QBYTj_LY8PaJ"
      },
      "execution_count": 3,
      "outputs": []
    },
    {
      "cell_type": "code",
      "source": [
        "!curl https://raw.githubusercontent.com/alan-barzilay/NLPortugues/master/Semana%2003/data/b2w-10k.csv --output 'data/b2w-10k.csv'"
      ],
      "metadata": {
        "id": "kUtnF_vB8P8T",
        "outputId": "fca3befa-7404-405d-d2b7-2ea7718e50ab",
        "colab": {
          "base_uri": "https://localhost:8080/"
        }
      },
      "execution_count": 4,
      "outputs": [
        {
          "output_type": "stream",
          "name": "stdout",
          "text": [
            "  % Total    % Received % Xferd  Average Speed   Time    Time     Time  Current\n",
            "                                 Dload  Upload   Total   Spent    Left  Speed\n",
            "100 3919k  100 3919k    0     0  4674k      0 --:--:-- --:--:-- --:--:-- 4671k\n"
          ]
        }
      ]
    },
    {
      "cell_type": "code",
      "execution_count": 5,
      "metadata": {
        "scrolled": true,
        "id": "nwEAVF_x2ywF",
        "outputId": "c8098484-c12d-40f4-cf7e-d2f4283a22b8",
        "colab": {
          "base_uri": "https://localhost:8080/",
          "height": 590
        }
      },
      "outputs": [
        {
          "output_type": "execute_result",
          "data": {
            "text/plain": [
              "       submission_date                                        reviewer_id  \\\n",
              "0  2018-01-01 00:11:28  d0fb1ca69422530334178f5c8624aa7a99da47907c44de...   \n",
              "1  2018-01-01 00:13:48  014d6dc5a10aed1ff1e6f349fb2b059a2d3de511c7538a...   \n",
              "2  2018-01-01 00:26:02  44f2c8edd93471926fff601274b8b2b5c4824e386ae4f2...   \n",
              "3  2018-01-01 00:35:54  ce741665c1764ab2d77539e18d0e4f66dde6213c9f0863...   \n",
              "4  2018-01-01 01:00:28  7d7b6b18dda804a897359276cef0ca252f9932bf4b5c8e...   \n",
              "\n",
              "   product_id                                       product_name  \\\n",
              "0   132532965  Notebook Asus Vivobook Max X541NA-GO472T Intel...   \n",
              "1    22562178               Copo Acrílico Com Canudo 500ml Rocie   \n",
              "2   113022329  Panela de Pressão Elétrica Philips Walita Dail...   \n",
              "3   113851581               Betoneira Columbus - Roma Brinquedos   \n",
              "4   131788803  Smart TV LED 43\" LG 43UJ6525 Ultra HD 4K com C...   \n",
              "\n",
              "    product_brand      site_category_lv1       site_category_lv2  \\\n",
              "0             NaN            Informática                Notebook   \n",
              "1             NaN  Utilidades Domésticas  Copos, Taças e Canecas   \n",
              "2  philips walita        Eletroportáteis         Panela Elétrica   \n",
              "3     roma jensen             Brinquedos   Veículos de Brinquedo   \n",
              "4              lg      TV e Home Theater                      TV   \n",
              "\n",
              "                       review_title  overall_rating recommend_to_a_friend  \\\n",
              "0                               Bom               4                   Yes   \n",
              "1  Preço imbatível, ótima qualidade               4                   Yes   \n",
              "2      ATENDE TODAS AS EXPECTATIVA.               4                   Yes   \n",
              "3        presente mais que desejado               4                   Yes   \n",
              "4            Sem duvidas, excelente               5                   Yes   \n",
              "\n",
              "                                         review_text reviewer_birth_year  \\\n",
              "0  Estou contente com a compra entrega rápida o ú...                1958   \n",
              "1  Por apenas R$1994.20,eu consegui comprar esse ...                1996   \n",
              "2  SUPERA EM AGILIDADE E PRATICIDADE OUTRAS PANEL...                1984   \n",
              "3  MEU FILHO AMOU! PARECE DE VERDADE COM TANTOS D...                1985   \n",
              "4  A entrega foi no prazo, as americanas estão de...                1994   \n",
              "\n",
              "  reviewer_gender reviewer_state Unnamed: 14 Unnamed: 15 Unnamed: 16  \\\n",
              "0               F             RJ         NaN         NaN         NaN   \n",
              "1               M             SC         NaN         NaN         NaN   \n",
              "2               M             SP         NaN         NaN         NaN   \n",
              "3               F             SP         NaN         NaN         NaN   \n",
              "4               M             MG         NaN         NaN         NaN   \n",
              "\n",
              "  Unnamed: 17 Unnamed: 18  \n",
              "0         NaN         NaN  \n",
              "1         NaN         NaN  \n",
              "2         NaN         NaN  \n",
              "3         NaN         NaN  \n",
              "4         NaN         NaN  "
            ],
            "text/html": [
              "\n",
              "  <div id=\"df-f001e8cf-c086-418f-911e-a2a49ec38dec\" class=\"colab-df-container\">\n",
              "    <div>\n",
              "<style scoped>\n",
              "    .dataframe tbody tr th:only-of-type {\n",
              "        vertical-align: middle;\n",
              "    }\n",
              "\n",
              "    .dataframe tbody tr th {\n",
              "        vertical-align: top;\n",
              "    }\n",
              "\n",
              "    .dataframe thead th {\n",
              "        text-align: right;\n",
              "    }\n",
              "</style>\n",
              "<table border=\"1\" class=\"dataframe\">\n",
              "  <thead>\n",
              "    <tr style=\"text-align: right;\">\n",
              "      <th></th>\n",
              "      <th>submission_date</th>\n",
              "      <th>reviewer_id</th>\n",
              "      <th>product_id</th>\n",
              "      <th>product_name</th>\n",
              "      <th>product_brand</th>\n",
              "      <th>site_category_lv1</th>\n",
              "      <th>site_category_lv2</th>\n",
              "      <th>review_title</th>\n",
              "      <th>overall_rating</th>\n",
              "      <th>recommend_to_a_friend</th>\n",
              "      <th>review_text</th>\n",
              "      <th>reviewer_birth_year</th>\n",
              "      <th>reviewer_gender</th>\n",
              "      <th>reviewer_state</th>\n",
              "      <th>Unnamed: 14</th>\n",
              "      <th>Unnamed: 15</th>\n",
              "      <th>Unnamed: 16</th>\n",
              "      <th>Unnamed: 17</th>\n",
              "      <th>Unnamed: 18</th>\n",
              "    </tr>\n",
              "  </thead>\n",
              "  <tbody>\n",
              "    <tr>\n",
              "      <th>0</th>\n",
              "      <td>2018-01-01 00:11:28</td>\n",
              "      <td>d0fb1ca69422530334178f5c8624aa7a99da47907c44de...</td>\n",
              "      <td>132532965</td>\n",
              "      <td>Notebook Asus Vivobook Max X541NA-GO472T Intel...</td>\n",
              "      <td>NaN</td>\n",
              "      <td>Informática</td>\n",
              "      <td>Notebook</td>\n",
              "      <td>Bom</td>\n",
              "      <td>4</td>\n",
              "      <td>Yes</td>\n",
              "      <td>Estou contente com a compra entrega rápida o ú...</td>\n",
              "      <td>1958</td>\n",
              "      <td>F</td>\n",
              "      <td>RJ</td>\n",
              "      <td>NaN</td>\n",
              "      <td>NaN</td>\n",
              "      <td>NaN</td>\n",
              "      <td>NaN</td>\n",
              "      <td>NaN</td>\n",
              "    </tr>\n",
              "    <tr>\n",
              "      <th>1</th>\n",
              "      <td>2018-01-01 00:13:48</td>\n",
              "      <td>014d6dc5a10aed1ff1e6f349fb2b059a2d3de511c7538a...</td>\n",
              "      <td>22562178</td>\n",
              "      <td>Copo Acrílico Com Canudo 500ml Rocie</td>\n",
              "      <td>NaN</td>\n",
              "      <td>Utilidades Domésticas</td>\n",
              "      <td>Copos, Taças e Canecas</td>\n",
              "      <td>Preço imbatível, ótima qualidade</td>\n",
              "      <td>4</td>\n",
              "      <td>Yes</td>\n",
              "      <td>Por apenas R$1994.20,eu consegui comprar esse ...</td>\n",
              "      <td>1996</td>\n",
              "      <td>M</td>\n",
              "      <td>SC</td>\n",
              "      <td>NaN</td>\n",
              "      <td>NaN</td>\n",
              "      <td>NaN</td>\n",
              "      <td>NaN</td>\n",
              "      <td>NaN</td>\n",
              "    </tr>\n",
              "    <tr>\n",
              "      <th>2</th>\n",
              "      <td>2018-01-01 00:26:02</td>\n",
              "      <td>44f2c8edd93471926fff601274b8b2b5c4824e386ae4f2...</td>\n",
              "      <td>113022329</td>\n",
              "      <td>Panela de Pressão Elétrica Philips Walita Dail...</td>\n",
              "      <td>philips walita</td>\n",
              "      <td>Eletroportáteis</td>\n",
              "      <td>Panela Elétrica</td>\n",
              "      <td>ATENDE TODAS AS EXPECTATIVA.</td>\n",
              "      <td>4</td>\n",
              "      <td>Yes</td>\n",
              "      <td>SUPERA EM AGILIDADE E PRATICIDADE OUTRAS PANEL...</td>\n",
              "      <td>1984</td>\n",
              "      <td>M</td>\n",
              "      <td>SP</td>\n",
              "      <td>NaN</td>\n",
              "      <td>NaN</td>\n",
              "      <td>NaN</td>\n",
              "      <td>NaN</td>\n",
              "      <td>NaN</td>\n",
              "    </tr>\n",
              "    <tr>\n",
              "      <th>3</th>\n",
              "      <td>2018-01-01 00:35:54</td>\n",
              "      <td>ce741665c1764ab2d77539e18d0e4f66dde6213c9f0863...</td>\n",
              "      <td>113851581</td>\n",
              "      <td>Betoneira Columbus - Roma Brinquedos</td>\n",
              "      <td>roma jensen</td>\n",
              "      <td>Brinquedos</td>\n",
              "      <td>Veículos de Brinquedo</td>\n",
              "      <td>presente mais que desejado</td>\n",
              "      <td>4</td>\n",
              "      <td>Yes</td>\n",
              "      <td>MEU FILHO AMOU! PARECE DE VERDADE COM TANTOS D...</td>\n",
              "      <td>1985</td>\n",
              "      <td>F</td>\n",
              "      <td>SP</td>\n",
              "      <td>NaN</td>\n",
              "      <td>NaN</td>\n",
              "      <td>NaN</td>\n",
              "      <td>NaN</td>\n",
              "      <td>NaN</td>\n",
              "    </tr>\n",
              "    <tr>\n",
              "      <th>4</th>\n",
              "      <td>2018-01-01 01:00:28</td>\n",
              "      <td>7d7b6b18dda804a897359276cef0ca252f9932bf4b5c8e...</td>\n",
              "      <td>131788803</td>\n",
              "      <td>Smart TV LED 43\" LG 43UJ6525 Ultra HD 4K com C...</td>\n",
              "      <td>lg</td>\n",
              "      <td>TV e Home Theater</td>\n",
              "      <td>TV</td>\n",
              "      <td>Sem duvidas, excelente</td>\n",
              "      <td>5</td>\n",
              "      <td>Yes</td>\n",
              "      <td>A entrega foi no prazo, as americanas estão de...</td>\n",
              "      <td>1994</td>\n",
              "      <td>M</td>\n",
              "      <td>MG</td>\n",
              "      <td>NaN</td>\n",
              "      <td>NaN</td>\n",
              "      <td>NaN</td>\n",
              "      <td>NaN</td>\n",
              "      <td>NaN</td>\n",
              "    </tr>\n",
              "  </tbody>\n",
              "</table>\n",
              "</div>\n",
              "    <div class=\"colab-df-buttons\">\n",
              "\n",
              "  <div class=\"colab-df-container\">\n",
              "    <button class=\"colab-df-convert\" onclick=\"convertToInteractive('df-f001e8cf-c086-418f-911e-a2a49ec38dec')\"\n",
              "            title=\"Convert this dataframe to an interactive table.\"\n",
              "            style=\"display:none;\">\n",
              "\n",
              "  <svg xmlns=\"http://www.w3.org/2000/svg\" height=\"24px\" viewBox=\"0 -960 960 960\">\n",
              "    <path d=\"M120-120v-720h720v720H120Zm60-500h600v-160H180v160Zm220 220h160v-160H400v160Zm0 220h160v-160H400v160ZM180-400h160v-160H180v160Zm440 0h160v-160H620v160ZM180-180h160v-160H180v160Zm440 0h160v-160H620v160Z\"/>\n",
              "  </svg>\n",
              "    </button>\n",
              "\n",
              "  <style>\n",
              "    .colab-df-container {\n",
              "      display:flex;\n",
              "      gap: 12px;\n",
              "    }\n",
              "\n",
              "    .colab-df-convert {\n",
              "      background-color: #E8F0FE;\n",
              "      border: none;\n",
              "      border-radius: 50%;\n",
              "      cursor: pointer;\n",
              "      display: none;\n",
              "      fill: #1967D2;\n",
              "      height: 32px;\n",
              "      padding: 0 0 0 0;\n",
              "      width: 32px;\n",
              "    }\n",
              "\n",
              "    .colab-df-convert:hover {\n",
              "      background-color: #E2EBFA;\n",
              "      box-shadow: 0px 1px 2px rgba(60, 64, 67, 0.3), 0px 1px 3px 1px rgba(60, 64, 67, 0.15);\n",
              "      fill: #174EA6;\n",
              "    }\n",
              "\n",
              "    .colab-df-buttons div {\n",
              "      margin-bottom: 4px;\n",
              "    }\n",
              "\n",
              "    [theme=dark] .colab-df-convert {\n",
              "      background-color: #3B4455;\n",
              "      fill: #D2E3FC;\n",
              "    }\n",
              "\n",
              "    [theme=dark] .colab-df-convert:hover {\n",
              "      background-color: #434B5C;\n",
              "      box-shadow: 0px 1px 3px 1px rgba(0, 0, 0, 0.15);\n",
              "      filter: drop-shadow(0px 1px 2px rgba(0, 0, 0, 0.3));\n",
              "      fill: #FFFFFF;\n",
              "    }\n",
              "  </style>\n",
              "\n",
              "    <script>\n",
              "      const buttonEl =\n",
              "        document.querySelector('#df-f001e8cf-c086-418f-911e-a2a49ec38dec button.colab-df-convert');\n",
              "      buttonEl.style.display =\n",
              "        google.colab.kernel.accessAllowed ? 'block' : 'none';\n",
              "\n",
              "      async function convertToInteractive(key) {\n",
              "        const element = document.querySelector('#df-f001e8cf-c086-418f-911e-a2a49ec38dec');\n",
              "        const dataTable =\n",
              "          await google.colab.kernel.invokeFunction('convertToInteractive',\n",
              "                                                    [key], {});\n",
              "        if (!dataTable) return;\n",
              "\n",
              "        const docLinkHtml = 'Like what you see? Visit the ' +\n",
              "          '<a target=\"_blank\" href=https://colab.research.google.com/notebooks/data_table.ipynb>data table notebook</a>'\n",
              "          + ' to learn more about interactive tables.';\n",
              "        element.innerHTML = '';\n",
              "        dataTable['output_type'] = 'display_data';\n",
              "        await google.colab.output.renderOutput(dataTable, element);\n",
              "        const docLink = document.createElement('div');\n",
              "        docLink.innerHTML = docLinkHtml;\n",
              "        element.appendChild(docLink);\n",
              "      }\n",
              "    </script>\n",
              "  </div>\n",
              "\n",
              "\n",
              "<div id=\"df-46e60e52-fc2a-47a0-8cde-5780b0123bcf\">\n",
              "  <button class=\"colab-df-quickchart\" onclick=\"quickchart('df-46e60e52-fc2a-47a0-8cde-5780b0123bcf')\"\n",
              "            title=\"Suggest charts\"\n",
              "            style=\"display:none;\">\n",
              "\n",
              "<svg xmlns=\"http://www.w3.org/2000/svg\" height=\"24px\"viewBox=\"0 0 24 24\"\n",
              "     width=\"24px\">\n",
              "    <g>\n",
              "        <path d=\"M19 3H5c-1.1 0-2 .9-2 2v14c0 1.1.9 2 2 2h14c1.1 0 2-.9 2-2V5c0-1.1-.9-2-2-2zM9 17H7v-7h2v7zm4 0h-2V7h2v10zm4 0h-2v-4h2v4z\"/>\n",
              "    </g>\n",
              "</svg>\n",
              "  </button>\n",
              "\n",
              "<style>\n",
              "  .colab-df-quickchart {\n",
              "      --bg-color: #E8F0FE;\n",
              "      --fill-color: #1967D2;\n",
              "      --hover-bg-color: #E2EBFA;\n",
              "      --hover-fill-color: #174EA6;\n",
              "      --disabled-fill-color: #AAA;\n",
              "      --disabled-bg-color: #DDD;\n",
              "  }\n",
              "\n",
              "  [theme=dark] .colab-df-quickchart {\n",
              "      --bg-color: #3B4455;\n",
              "      --fill-color: #D2E3FC;\n",
              "      --hover-bg-color: #434B5C;\n",
              "      --hover-fill-color: #FFFFFF;\n",
              "      --disabled-bg-color: #3B4455;\n",
              "      --disabled-fill-color: #666;\n",
              "  }\n",
              "\n",
              "  .colab-df-quickchart {\n",
              "    background-color: var(--bg-color);\n",
              "    border: none;\n",
              "    border-radius: 50%;\n",
              "    cursor: pointer;\n",
              "    display: none;\n",
              "    fill: var(--fill-color);\n",
              "    height: 32px;\n",
              "    padding: 0;\n",
              "    width: 32px;\n",
              "  }\n",
              "\n",
              "  .colab-df-quickchart:hover {\n",
              "    background-color: var(--hover-bg-color);\n",
              "    box-shadow: 0 1px 2px rgba(60, 64, 67, 0.3), 0 1px 3px 1px rgba(60, 64, 67, 0.15);\n",
              "    fill: var(--button-hover-fill-color);\n",
              "  }\n",
              "\n",
              "  .colab-df-quickchart-complete:disabled,\n",
              "  .colab-df-quickchart-complete:disabled:hover {\n",
              "    background-color: var(--disabled-bg-color);\n",
              "    fill: var(--disabled-fill-color);\n",
              "    box-shadow: none;\n",
              "  }\n",
              "\n",
              "  .colab-df-spinner {\n",
              "    border: 2px solid var(--fill-color);\n",
              "    border-color: transparent;\n",
              "    border-bottom-color: var(--fill-color);\n",
              "    animation:\n",
              "      spin 1s steps(1) infinite;\n",
              "  }\n",
              "\n",
              "  @keyframes spin {\n",
              "    0% {\n",
              "      border-color: transparent;\n",
              "      border-bottom-color: var(--fill-color);\n",
              "      border-left-color: var(--fill-color);\n",
              "    }\n",
              "    20% {\n",
              "      border-color: transparent;\n",
              "      border-left-color: var(--fill-color);\n",
              "      border-top-color: var(--fill-color);\n",
              "    }\n",
              "    30% {\n",
              "      border-color: transparent;\n",
              "      border-left-color: var(--fill-color);\n",
              "      border-top-color: var(--fill-color);\n",
              "      border-right-color: var(--fill-color);\n",
              "    }\n",
              "    40% {\n",
              "      border-color: transparent;\n",
              "      border-right-color: var(--fill-color);\n",
              "      border-top-color: var(--fill-color);\n",
              "    }\n",
              "    60% {\n",
              "      border-color: transparent;\n",
              "      border-right-color: var(--fill-color);\n",
              "    }\n",
              "    80% {\n",
              "      border-color: transparent;\n",
              "      border-right-color: var(--fill-color);\n",
              "      border-bottom-color: var(--fill-color);\n",
              "    }\n",
              "    90% {\n",
              "      border-color: transparent;\n",
              "      border-bottom-color: var(--fill-color);\n",
              "    }\n",
              "  }\n",
              "</style>\n",
              "\n",
              "  <script>\n",
              "    async function quickchart(key) {\n",
              "      const quickchartButtonEl =\n",
              "        document.querySelector('#' + key + ' button');\n",
              "      quickchartButtonEl.disabled = true;  // To prevent multiple clicks.\n",
              "      quickchartButtonEl.classList.add('colab-df-spinner');\n",
              "      try {\n",
              "        const charts = await google.colab.kernel.invokeFunction(\n",
              "            'suggestCharts', [key], {});\n",
              "      } catch (error) {\n",
              "        console.error('Error during call to suggestCharts:', error);\n",
              "      }\n",
              "      quickchartButtonEl.classList.remove('colab-df-spinner');\n",
              "      quickchartButtonEl.classList.add('colab-df-quickchart-complete');\n",
              "    }\n",
              "    (() => {\n",
              "      let quickchartButtonEl =\n",
              "        document.querySelector('#df-46e60e52-fc2a-47a0-8cde-5780b0123bcf button');\n",
              "      quickchartButtonEl.style.display =\n",
              "        google.colab.kernel.accessAllowed ? 'block' : 'none';\n",
              "    })();\n",
              "  </script>\n",
              "</div>\n",
              "    </div>\n",
              "  </div>\n"
            ]
          },
          "metadata": {},
          "execution_count": 5
        }
      ],
      "source": [
        "b2wCorpus = pd.read_csv(\"data/b2w-10k.csv\")\n",
        "b2wCorpus.head()"
      ]
    },
    {
      "cell_type": "code",
      "execution_count": 6,
      "metadata": {
        "id": "T-uIlLRJ2ywF",
        "outputId": "19fbe7d2-b0d5-4eb5-8d98-6201c4f3142a",
        "colab": {
          "base_uri": "https://localhost:8080/"
        }
      },
      "outputs": [
        {
          "output_type": "execute_result",
          "data": {
            "text/plain": [
              "0       Estou contente com a compra entrega rápida o ú...\n",
              "1       Por apenas R$1994.20,eu consegui comprar esse ...\n",
              "2       SUPERA EM AGILIDADE E PRATICIDADE OUTRAS PANEL...\n",
              "3       MEU FILHO AMOU! PARECE DE VERDADE COM TANTOS D...\n",
              "4       A entrega foi no prazo, as americanas estão de...\n",
              "                              ...                        \n",
              "9994    Celular muito rápido, com processador e armaze...\n",
              "9995    achei o produto muito frágil, o material veio ...\n",
              "9996    Uma porcaria pois ñ recebi ñ recomendo pra nin...\n",
              "9997    Maquina excelente,super pratica. recomendo.ent...\n",
              "9998    Agradeço pelo compromisso, obrigado. ,...........\n",
              "Name: review_text, Length: 9999, dtype: object"
            ]
          },
          "metadata": {},
          "execution_count": 6
        }
      ],
      "source": [
        "b2wCorpus[\"review_text\"]"
      ]
    },
    {
      "cell_type": "markdown",
      "metadata": {
        "id": "UZuwgrFT2ywG"
      },
      "source": [
        "\n",
        "## Pré-processamento\n",
        "# <font color='blue'>Questão 1 </font>\n",
        "Copie suas etapas de préprocessamento da lista 03, ou seja, selecione apenas as colunas relevantes (\"review_text\" e \"recommend_to_a_friend\"), converta a coluna \"review_text\" de uma coluna de `str` para uma coluna de `int` e separe os dados em teste e treino.\n"
      ]
    },
    {
      "cell_type": "code",
      "execution_count": 7,
      "metadata": {
        "id": "Qsyt8FuU2ywH"
      },
      "outputs": [],
      "source": [
        "# preprocess\n",
        "b2wCorpus_copy = b2wCorpus[[\"review_text\", \"recommend_to_a_friend\"]].copy()\n",
        "b2wCorpus_copy[\"recommend_to_a_friend\"] = b2wCorpus_copy[\"recommend_to_a_friend\"].map({\"Yes\": 1, \"No\":0})\n",
        "\n",
        "# separando\n",
        "from sklearn.model_selection import train_test_split\n",
        "random_state = 42\n",
        "test_size = 0.25\n",
        "\n",
        "x_values = b2wCorpus_copy[\"review_text\"]\n",
        "y_values = b2wCorpus_copy[\"recommend_to_a_friend\"]\n",
        "x_train, x_test, y_train, y_test = train_test_split(x_values, y_values, random_state=random_state, test_size=test_size)"
      ]
    },
    {
      "cell_type": "markdown",
      "metadata": {
        "id": "DZMDIxEV2ywI"
      },
      "source": [
        "## Tokenizando\n",
        "\n",
        "\n"
      ]
    },
    {
      "cell_type": "markdown",
      "metadata": {
        "id": "kiSDsvGk2ywJ"
      },
      "source": [
        "# <font color='blue'>Questão 2 </font>\n",
        "Utilizando a camada [`TextVectorization`](https://www.tensorflow.org/api_docs/python/tf/keras/layers/experimental/preprocessing/TextVectorization) tokenize os inputs.\n",
        "Declare a camada e então chame a função `adapt()` no seu conjunto de treino para adequar o seu vocabulário aos reviews.\n",
        "\n",
        "Note que o uso de padding não é mais necessario."
      ]
    },
    {
      "cell_type": "code",
      "execution_count": 13,
      "metadata": {
        "id": "VQmFQQKe2ywK",
        "outputId": "99fc9ef3-6840-4897-ed29-21919b38813c",
        "colab": {
          "base_uri": "https://localhost:8080/"
        }
      },
      "outputs": [
        {
          "output_type": "stream",
          "name": "stdout",
          "text": [
            "GPUs disponíveis: [PhysicalDevice(name='/physical_device:GPU:0', device_type='GPU')]\n"
          ]
        }
      ],
      "source": [
        "import tensorflow as tf\n",
        "from tensorflow.keras.layers import TextVectorization\n",
        "\n",
        "# Exibe as GPUs disponíveis (deve exibir pelo menos uma GPU)\n",
        "physical_devices = tf.config.list_physical_devices('GPU')\n",
        "print(\"GPUs disponíveis:\", physical_devices)\n",
        "\n",
        "# Configuração para alocar memória de forma dinâmica\n",
        "gpus = tf.config.experimental.list_physical_devices('GPU')\n",
        "if gpus:\n",
        "    for gpu in gpus:\n",
        "        tf.config.experimental.set_memory_growth(gpu, True)\n",
        "\n",
        "# Criar a camada TextVectorization\n",
        "output_sequence_length = 10000\n",
        "vectorizer = TextVectorization(output_mode='tf-idf', ) #, output_sequence_length=output_sequence_length)\n",
        "\n",
        "# Adaptar o vetorizador aos dados de treinamento\n",
        "vectorizer.adapt(x_train)\n",
        "\n",
        "# Verificar o vocabulário criado pelo vetorizador\n",
        "vocab = vectorizer.get_vocabulary()\n",
        "# print(\"Vocabulário:\", vocab)\n",
        "\n",
        "# Vetorizar os dados de treinamento\n",
        "vectorized_train_data = vectorizer(x_train).numpy()"
      ]
    },
    {
      "cell_type": "code",
      "source": [
        "vectorized_train_data"
      ],
      "metadata": {
        "id": "pTMUG3oILyOX",
        "outputId": "fb2bd85b-4ec6-4e37-bbec-3aa3ae36c2ad",
        "colab": {
          "base_uri": "https://localhost:8080/"
        }
      },
      "execution_count": 18,
      "outputs": [
        {
          "output_type": "execute_result",
          "data": {
            "text/plain": [
              "array([[0.       , 2.2734647, 3.2161298, ..., 0.       , 0.       ,\n",
              "        0.       ],\n",
              "       [0.       , 0.       , 0.       , ..., 0.       , 0.       ,\n",
              "        0.       ],\n",
              "       [0.       , 1.1367323, 1.0720433, ..., 0.       , 0.       ,\n",
              "        0.       ],\n",
              "       ...,\n",
              "       [0.       , 2.2734647, 0.       , ..., 8.229645 , 0.       ,\n",
              "        0.       ],\n",
              "       [0.       , 1.1367323, 2.1440866, ..., 0.       , 0.       ,\n",
              "        0.       ],\n",
              "       [0.       , 1.1367323, 1.0720433, ..., 0.       , 0.       ,\n",
              "        0.       ]], dtype=float32)"
            ]
          },
          "metadata": {},
          "execution_count": 18
        }
      ]
    },
    {
      "cell_type": "markdown",
      "metadata": {
        "id": "zTRN2gF-2ywK"
      },
      "source": [
        "## LSTM&GRU\n",
        "\n",
        "Agora vamos juntar a camada do tokenizador a nossa camada [Embedding](https://www.tensorflow.org/api_docs/python/tf/keras/layers/Embedding) e definir o resto de nosso modelo.\n",
        "\n",
        "#  <font color='blue'>Questão 3 </font>\n",
        "\n",
        "a) Defina, compile, treine e avalie seu modelo, utilize camadas  [LSTM](https://keras.io/api/layers/recurrent_layers/lstm/).\n",
        "Atenção a dimensão do input da camada de embedding, lembre se que < OOV > e < PAD > possuem seus próprios tokens.\n",
        "\n",
        "\n",
        "\n",
        "b) Como foi a performance desta rede em comparação a da lista 3?\n",
        "\n",
        "\n"
      ]
    },
    {
      "cell_type": "markdown",
      "metadata": {
        "id": "Ck3LRPSz2ywL"
      },
      "source": [
        "**<font color='red'> Sua resposta aqui </font>**"
      ]
    },
    {
      "cell_type": "code",
      "source": [
        "# # preprocess\n",
        "# b2wCorpus_copy = b2wCorpus[[\"review_text\", \"recommend_to_a_friend\"]].copy()\n",
        "# b2wCorpus_copy[\"recommend_to_a_friend\"] = b2wCorpus_copy[\"recommend_to_a_friend\"].map({\"Yes\": 1, \"No\": 0})\n",
        "\n",
        "# # separando\n",
        "# from sklearn.model_selection import train_test_split\n",
        "# random_state = 42\n",
        "# test_size = 0.25\n",
        "\n",
        "# x_values = b2wCorpus_copy[\"review_text\"]\n",
        "# y_values = b2wCorpus_copy[\"recommend_to_a_friend\"]\n",
        "# x_train, x_test, y_train, y_test = train_test_split(x_values, y_values, random_state=random_state, test_size=test_size)\n",
        "\n",
        "# import tensorflow as tf\n",
        "# from tensorflow.keras.models import Sequential\n",
        "# from tensorflow.keras.layers import Embedding, LSTM, Dense\n",
        "# from tensorflow.keras.layers.experimental.preprocessing import TextVectorization\n",
        "\n",
        "# # Encontre o comprimento máximo da sequência nos dados de treinamento\n",
        "# max_sequence_length = max(len(seq) for seq in x_train)\n",
        "\n",
        "# # Defina output_sequence_length para ser o máximo entre 10000 e max_sequence_length\n",
        "# output_sequence_length = min(10000, max_sequence_length)\n",
        "\n",
        "# # Criar a camada TextVectorization\n",
        "# vectorizer = TextVectorization(output_mode='tf-idf') #output_sequence_length=output_sequence_length)\n",
        "\n",
        "# # Adaptar o vetorizador aos dados de treinamento\n",
        "# vectorizer.adapt(x_train)\n",
        "\n",
        "# # Verificar o vocabulário criado pelo vetorizador\n",
        "# vocab = vectorizer.get_vocabulary()\n",
        "\n",
        "import tensorflow as tf\n",
        "from tensorflow.keras.layers import Embedding, Bidirectional, GRU, LSTM, Dense\n",
        "\n",
        "# Exibe as GPUs disponíveis (deve exibir pelo menos uma GPU)\n",
        "physical_devices = tf.config.list_physical_devices('GPU')\n",
        "print(\"GPUs disponíveis:\", physical_devices)\n",
        "\n",
        "# Configuração para alocar memória de forma dinâmica\n",
        "gpus = tf.config.experimental.list_physical_devices('GPU')\n",
        "if gpus:\n",
        "    for gpu in gpus:\n",
        "        tf.config.experimental.set_memory_growth(gpu, True)\n",
        "\n",
        "# Criar o modelo\n",
        "input_dim = len(vocab) + 2  # Adicionar 2 para <OOV> e <PAD>\n",
        "embedding_dim = 50\n",
        "input_len = len(vectorized_train_data[0])\n",
        "output_dim = 10\n",
        "\n",
        "model = Sequential()\n",
        "# model.add(Embedding(input_dim=input_dim, output_dim=embedding_dim, input_length=input_len))\n",
        "model.add(Embedding(input_dim=input_dim, output_dim=output_dim, input_length=input_len))\n",
        "model.add(LSTM(64))  # Adapte o número de unidades LSTM conforme necessário\n",
        "model.add(Dense(1, activation='sigmoid'))\n",
        "\n",
        "# Compilar o modelo\n",
        "model.compile(optimizer='adam', loss='binary_crossentropy', metrics=['accuracy'])\n",
        "\n",
        "# Treinar o modelo\n",
        "model.fit(vectorizer(x_train).numpy(), y_train, epochs=5, batch_size=32)\n",
        "\n",
        "# Avaliar o modelo nos dados de teste\n",
        "vectorized_test_data = vectorizer(x_test).numpy()\n",
        "accuracy = model.evaluate(vectorized_test_data, y_test)[1]\n",
        "print(f\"Acurácia do modelo nos dados de teste: {accuracy}\")"
      ],
      "metadata": {
        "id": "TUZvilXML6B7",
        "outputId": "6750a460-a49e-4a95-9f65-34741437c0e9",
        "colab": {
          "base_uri": "https://localhost:8080/"
        }
      },
      "execution_count": null,
      "outputs": [
        {
          "output_type": "stream",
          "name": "stdout",
          "text": [
            "GPUs disponíveis: [PhysicalDevice(name='/physical_device:GPU:0', device_type='GPU')]\n",
            "Epoch 1/5\n"
          ]
        }
      ]
    },
    {
      "cell_type": "markdown",
      "metadata": {
        "id": "r69ak91X2ywM"
      },
      "source": [
        "#  <font color='blue'>Questão 4 </font>\n",
        "\n",
        "a) Defina, compile, treine e avalie seu modelo, utilize camadas [GRU](https://keras.io/api/layers/recurrent_layers/gru/).\n",
        "Atenção a dimensão do input da camada de embedding, lembre se que < OOV > e < PAD > possuem seus próprios tokens.\n",
        "\n",
        "\n",
        "\n",
        "b) Como foi a performance desta rede em comparação a da lista 3?\n"
      ]
    },
    {
      "cell_type": "markdown",
      "metadata": {
        "id": "fEKTe33f2ywM"
      },
      "source": [
        "**<font color='red'> Sua resposta aqui </font>**"
      ]
    },
    {
      "cell_type": "code",
      "execution_count": 25,
      "metadata": {
        "id": "n0p5u_E12ywN",
        "outputId": "ed6b73eb-0960-445e-9eb8-e47938d37582",
        "colab": {
          "base_uri": "https://localhost:8080/"
        }
      },
      "outputs": [
        {
          "output_type": "stream",
          "name": "stdout",
          "text": [
            "GPUs disponíveis: [PhysicalDevice(name='/physical_device:GPU:0', device_type='GPU')]\n",
            "Epoch 1/5\n",
            "235/235 [==============================] - 75s 307ms/step - loss: 0.5815 - accuracy: 0.7390\n",
            "Epoch 2/5\n",
            "235/235 [==============================] - 72s 306ms/step - loss: 0.5738 - accuracy: 0.7412\n",
            "Epoch 3/5\n",
            "235/235 [==============================] - 72s 306ms/step - loss: 0.5727 - accuracy: 0.7412\n",
            "Epoch 4/5\n",
            "235/235 [==============================] - 73s 311ms/step - loss: 0.5732 - accuracy: 0.7412\n",
            "Epoch 5/5\n",
            "235/235 [==============================] - 74s 313ms/step - loss: 0.5734 - accuracy: 0.7412\n",
            "79/79 [==============================] - 12s 147ms/step - loss: 0.5605 - accuracy: 0.7572\n",
            "Acurácia do modelo nos dados de teste: 0.7572000026702881\n",
            "CPU times: user 6min 15s, sys: 4.11 s, total: 6min 19s\n",
            "Wall time: 6min 38s\n"
          ]
        }
      ],
      "source": [
        "%%time\n",
        "\n",
        "# Criar o modelo\n",
        "input_dim = len(vocab) + 2  # Adicionar 2 para <OOV> e <PAD>\n",
        "embedding_dim = 50\n",
        "input_len = len(vectorized_train_data[0])\n",
        "output_dim = 10\n",
        "\n",
        "model = Sequential()\n",
        "model.add(Embedding(input_dim=input_dim, output_dim=output_dim, input_length=input_len))\n",
        "model.add(GRU(64))  # Adapte o número de unidades GRU conforme necessário\n",
        "model.add(Dense(1, activation='sigmoid'))\n",
        "\n",
        "# Compilar o modelo\n",
        "model.compile(optimizer='adam', loss='binary_crossentropy', metrics=['accuracy'])\n",
        "\n",
        "# Treinar o modelo\n",
        "model.fit(vectorizer(x_train).numpy(), y_train, epochs=5, batch_size=32)\n",
        "\n",
        "# Avaliar o modelo nos dados de teste\n",
        "vectorized_test_data = vectorizer(x_test).numpy()\n",
        "accuracy = model.evaluate(vectorized_test_data, y_test)[1]\n",
        "print(f\"Acurácia do modelo nos dados de teste: {accuracy}\")"
      ]
    },
    {
      "cell_type": "markdown",
      "metadata": {
        "id": "JrnJXk4t2ywN"
      },
      "source": [
        "## Redes Bi-direcionais\n",
        "#  <font color='blue'>Questão 5 </font>\n",
        "\n",
        "a) Defina, compile, treine e avalie um novo modelo que utilize contexto em ambas as direções usando a camada [`Bidirectional()`](https://keras.io/api/layers/recurrent_layers/bidirectional/), seja com camadas GRU ou LSTM.\n",
        "\n",
        "\n",
        "b) Como foi sua performance em relação as questões anteriores com contexto unidirecional?"
      ]
    },
    {
      "cell_type": "markdown",
      "metadata": {
        "id": "Q_OPmqPA2ywN"
      },
      "source": [
        "**<font color='red'> Sua resposta aqui </font>**"
      ]
    },
    {
      "cell_type": "code",
      "execution_count": 27,
      "metadata": {
        "id": "vRdMJzXi2ywN",
        "outputId": "59be7131-fdb7-45de-d360-fa09194eb239",
        "colab": {
          "base_uri": "https://localhost:8080/"
        }
      },
      "outputs": [
        {
          "output_type": "stream",
          "name": "stdout",
          "text": [
            "Epoch 1/5\n",
            "235/235 [==============================] - 147s 609ms/step - loss: 0.5577 - accuracy: 0.7425\n",
            "Epoch 2/5\n",
            "235/235 [==============================] - 140s 595ms/step - loss: 0.5292 - accuracy: 0.7501\n",
            "Epoch 3/5\n",
            "235/235 [==============================] - 140s 594ms/step - loss: 0.5259 - accuracy: 0.7513\n",
            "Epoch 4/5\n",
            "235/235 [==============================] - 141s 600ms/step - loss: 0.5147 - accuracy: 0.7574\n",
            "Epoch 5/5\n",
            "235/235 [==============================] - 139s 593ms/step - loss: 0.5322 - accuracy: 0.7553\n",
            "79/79 [==============================] - 22s 265ms/step - loss: 0.5255 - accuracy: 0.7588\n",
            "Acurácia do modelo nos dados de teste: 0.7588000297546387\n",
            "CPU times: user 11min 58s, sys: 14.2 s, total: 12min 12s\n",
            "Wall time: 13min 9s\n"
          ]
        }
      ],
      "source": [
        "%%time\n",
        "\n",
        "# Criar o modelo\n",
        "input_dim = len(vocab) + 2  # Adicionar 2 para <OOV> e <PAD>\n",
        "embedding_dim = 50\n",
        "input_len = len(vectorized_train_data[0])\n",
        "output_dim = 10\n",
        "\n",
        "model = Sequential()\n",
        "model.add(Embedding(input_dim=input_dim, output_dim=output_dim, input_length=input_len))\n",
        "model.add(Bidirectional(GRU(64)))  # Adapte o número de unidades GRU conforme necessário\n",
        "model.add(Dense(1, activation='sigmoid'))\n",
        "\n",
        "# Compilar o modelo\n",
        "model.compile(optimizer='adam', loss='binary_crossentropy', metrics=['accuracy'])\n",
        "\n",
        "# Treinar o modelo\n",
        "model.fit(vectorizer(x_train).numpy(), y_train, epochs=5, batch_size=32)\n",
        "\n",
        "# Avaliar o modelo nos dados de teste\n",
        "vectorized_test_data = vectorizer(x_test).numpy()\n",
        "accuracy = model.evaluate(vectorized_test_data, y_test)[1]\n",
        "print(f\"Acurácia do modelo nos dados de teste: {accuracy}\")"
      ]
    }
  ],
  "metadata": {
    "kernelspec": {
      "display_name": ".venv_tutorial",
      "language": "python",
      "name": ".venv_tutorial"
    },
    "language_info": {
      "codemirror_mode": {
        "name": "ipython",
        "version": 3
      },
      "file_extension": ".py",
      "mimetype": "text/x-python",
      "name": "python",
      "nbconvert_exporter": "python",
      "pygments_lexer": "ipython3",
      "version": "3.8.5"
    },
    "colab": {
      "name": "Copy of 06 - LSTM&GRU.ipynb",
      "provenance": [],
      "gpuType": "T4"
    },
    "accelerator": "GPU"
  },
  "nbformat": 4,
  "nbformat_minor": 0
}