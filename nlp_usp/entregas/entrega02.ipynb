{
  "nbformat": 4,
  "nbformat_minor": 0,
  "metadata": {
    "colab": {
      "provenance": [],
      "gpuType": "T4"
    },
    "kernelspec": {
      "name": "python3",
      "display_name": "Python 3"
    },
    "language_info": {
      "name": "python"
    },
    "accelerator": "GPU"
  },
  "cells": [
    {
      "cell_type": "markdown",
      "source": [
        "# Pré-processamento de dados\n",
        "\n",
        "Vamos criar um pipeline (uma linha de processamento) que automaticamente extrai os dados de uma planilha csv, gera os corpus de treinamento e teste, gera os iteradores que vão criar os batches (lotes) e codifica as palavras de acordo com algum embedding.\n",
        "\n",
        "Nós utilizaremos o corpus de avaliações da B2W, e estaremos interessados em apenas duas colunas: **review_text**, que sera referida daqui para frente como texto; e **overall_rating**, que sera referido apenas como nota.\n",
        "\n",
        "Este pipeline deve conter os seguintes passos:\n",
        "\n",
        "**filtro**: Filtrar todas as linhas cuja nota não é um valor numérico entre 0 e 5.\n",
        "\n",
        "**partilha**: Recebe o nome do arquivo csv contendo o conjunto de dados de entrada, e recebe também o nome do diretório de saída, e as proporções dos conjuntos de dados de treinamento e de teste. A partir dos dados filtrados, altera aleatoriamente a sua ordem e gera as planilhas csv de treinamento e teste. Note que essas planilhas só devem conter as colunas de texto e de nota. As proporções sugeridas são as seguintes:\n",
        "\n",
        "• Treinamento: 75%\n",
        "• Teste: 25%\n",
        "\n",
        "Se a quantidade de dados for pequena, pode-se aumentar a quantidade de dados de treinamento, com proporções como 85-20, ou 85-15.  ́E usual que o modelo seja salvo após o treinamento.\n",
        "\n",
        "**codifica**: Utilizar um codificador de palavras para vetor de dados de d-dimensional. Pode ser o word2vec retreinado, mas pode ser o pacote pré-compilado do Nilc, pode ser uma rede neural do tipo Embedding, a ser treinada com os dados de treinamento.\n",
        "\n",
        "#  Treinamento\n",
        "O treinamento se inicia verificando que o número de palavras da entrada não excede um valor máximo, que  é um hiper-parâmetro do modelo. As sentenças devem ser truncadas caso a entrada exceda este valor máximo. Supondo uma ordem aleatória das sentenças do corpus de treinamento, o conjunto de sentenças devem ser organizadas em batches (lotes) de tamanho fixo, onde o tamanho de cada lote de treinamento (batch size) também é um hiper-parâmetro. Tipicamente esses valores são potencias de 2, e são limitados pelo tamanho da memória do modelo e, no caso de estar se usando uma GPU, pela quantidade de memória da GPU. Todas as sentenças no lote devem ter o mesmo tamanho, e portanto deve-se encontrar a maior sentença e completar as sentenças menores com caracteres de padding (preenchimento) <PAD>. Podemos limitar o tamanho do vocabulário em um número fixo de palavras mais frequentes, por exemplo 20.000, transformando as demais palavras em palavras desconhecidas.\n",
        "\n",
        "O primeiro passo do treinamento consiste no **embedding das palavras** num espaço vetorial de tamanho fixo. Neste passo voce pode utilizar os valores calculados pelo programa do ep1, ou então os valores pré-calculados pelo NILC; uma terceira possibilidade é o uso de uma **camada especifica de embedding**, mas nesse exercício estamos dando preferência para o uso de algum mapeamento pré-treinado. Cada lote é submetido durante o treinamento a uma rede neural recorrente formada por elementos **LSTM ou GRU**.\n",
        "\n",
        "Vamos experimentar dois casos. No primeiro caso utilizaremos um **Encoder unidirecional** e no segundo caso utilizaremos um **Encoder bidirecional**. Em ambos os casos, a saída do Encoder deve ser conectada a uma **rede linear densa (FeedForward)** cujo número de saídas é igual `a quantidade de classes em que a entrada pode ser classificada. Ou seja, teremos quatro experimentos variando os parâmetros de rede **uni/bi-direcional, redes LSTM e GRU**.\n",
        "\n",
        "# Teste\n",
        "Fixe um número de épocas entre 5 e 50 e treine diferentes modelos para escolher o conjunto de parâmetros que maximize a performance de cada um dos nossos 4 experimentos. Por fim, agregue em uma tabela os resultados obtidos. Uma única tabela deve reunir o resultado dos testes finais dos quatro modelos e concluir qual modelo apresenta a melhor acurácia de teste. A tabela csv deve ter o seguinte formato:\n",
        "\n",
        "| Método               | Acurácia | Melhor (S/N) |\n",
        "|----------------------|----------|--------------|\n",
        "| LSTM uni-direcional  |          |              |\n",
        "| LSTM bi-direcional   |          |              |\n",
        "| GRU uni-direcional   |          |              |\n",
        "| GRU bi-direcional    |          |              |\n"
      ],
      "metadata": {
        "id": "j4rcLCMXGb7p"
      }
    },
    {
      "cell_type": "markdown",
      "source": [
        "# Imports"
      ],
      "metadata": {
        "id": "65jWSfF5GsM7"
      }
    },
    {
      "cell_type": "code",
      "execution_count": 12,
      "metadata": {
        "colab": {
          "base_uri": "https://localhost:8080/",
          "height": 36
        },
        "id": "YQY_69lnGHqP",
        "outputId": "1330e806-e083-4155-b09b-5e2c98305cfe"
      },
      "outputs": [
        {
          "output_type": "execute_result",
          "data": {
            "text/plain": [
              "'2.15.0'"
            ],
            "application/vnd.google.colaboratory.intrinsic+json": {
              "type": "string"
            }
          },
          "metadata": {},
          "execution_count": 12
        }
      ],
      "source": [
        "import tensorflow as tf\n",
        "from tensorflow import keras\n",
        "from tensorflow.keras.layers import TextVectorization, Embedding, Bidirectional, GRU, LSTM, Dense, Dropout\n",
        "from tensorflow.keras.models import Sequential\n",
        "from tensorflow.keras.utils import to_categorical # para gerar o y como one-hot, já que é problema multiclasse\n",
        "from tensorflow.keras.preprocessing.sequence import pad_sequences\n",
        "\n",
        "import numpy as np\n",
        "np.random.seed(42)\n",
        "import pandas as pd\n",
        "\n",
        "import matplotlib.pyplot as plt\n",
        "import seaborn as sns\n",
        "\n",
        "from sklearn.model_selection import train_test_split\n",
        "\n",
        "%matplotlib inline\n",
        "\n",
        "tf.__version__"
      ]
    },
    {
      "cell_type": "code",
      "source": [
        "!mkdir data"
      ],
      "metadata": {
        "colab": {
          "base_uri": "https://localhost:8080/"
        },
        "id": "AZzeqqiFNXpY",
        "outputId": "7ab5ecd1-25ef-44f0-a8ea-1e5fbaf157ee"
      },
      "execution_count": 13,
      "outputs": [
        {
          "output_type": "stream",
          "name": "stdout",
          "text": [
            "mkdir: cannot create directory ‘data’: File exists\n"
          ]
        }
      ]
    },
    {
      "cell_type": "code",
      "source": [
        "!curl https://raw.githubusercontent.com/alan-barzilay/NLPortugues/master/Semana%2003/data/b2w-10k.csv --output 'data/b2w-10k.csv'"
      ],
      "metadata": {
        "colab": {
          "base_uri": "https://localhost:8080/"
        },
        "id": "ojx6ew1gNbOx",
        "outputId": "5913ab18-0f57-4cb0-dad0-290b3f156ca6"
      },
      "execution_count": 14,
      "outputs": [
        {
          "output_type": "stream",
          "name": "stdout",
          "text": [
            "  % Total    % Received % Xferd  Average Speed   Time    Time     Time  Current\n",
            "                                 Dload  Upload   Total   Spent    Left  Speed\n",
            "100 3919k  100 3919k    0     0  8896k      0 --:--:-- --:--:-- --:--:-- 8907k\n"
          ]
        }
      ]
    },
    {
      "cell_type": "code",
      "source": [
        "usecols = [\"review_text\", \"overall_rating\"]\n",
        "b2wCorpus = pd.read_csv(\"data/b2w-10k.csv\", usecols=usecols)\n",
        "b2wCorpus.head()"
      ],
      "metadata": {
        "colab": {
          "base_uri": "https://localhost:8080/",
          "height": 206
        },
        "id": "LNPRJ5OTNopb",
        "outputId": "eefbc685-77a0-4796-e153-4bfd2e78f916"
      },
      "execution_count": 15,
      "outputs": [
        {
          "output_type": "execute_result",
          "data": {
            "text/plain": [
              "   overall_rating                                        review_text\n",
              "0               4  Estou contente com a compra entrega rápida o ú...\n",
              "1               4  Por apenas R$1994.20,eu consegui comprar esse ...\n",
              "2               4  SUPERA EM AGILIDADE E PRATICIDADE OUTRAS PANEL...\n",
              "3               4  MEU FILHO AMOU! PARECE DE VERDADE COM TANTOS D...\n",
              "4               5  A entrega foi no prazo, as americanas estão de..."
            ],
            "text/html": [
              "\n",
              "  <div id=\"df-842c0239-de2c-4e68-aba4-82347da4fd05\" class=\"colab-df-container\">\n",
              "    <div>\n",
              "<style scoped>\n",
              "    .dataframe tbody tr th:only-of-type {\n",
              "        vertical-align: middle;\n",
              "    }\n",
              "\n",
              "    .dataframe tbody tr th {\n",
              "        vertical-align: top;\n",
              "    }\n",
              "\n",
              "    .dataframe thead th {\n",
              "        text-align: right;\n",
              "    }\n",
              "</style>\n",
              "<table border=\"1\" class=\"dataframe\">\n",
              "  <thead>\n",
              "    <tr style=\"text-align: right;\">\n",
              "      <th></th>\n",
              "      <th>overall_rating</th>\n",
              "      <th>review_text</th>\n",
              "    </tr>\n",
              "  </thead>\n",
              "  <tbody>\n",
              "    <tr>\n",
              "      <th>0</th>\n",
              "      <td>4</td>\n",
              "      <td>Estou contente com a compra entrega rápida o ú...</td>\n",
              "    </tr>\n",
              "    <tr>\n",
              "      <th>1</th>\n",
              "      <td>4</td>\n",
              "      <td>Por apenas R$1994.20,eu consegui comprar esse ...</td>\n",
              "    </tr>\n",
              "    <tr>\n",
              "      <th>2</th>\n",
              "      <td>4</td>\n",
              "      <td>SUPERA EM AGILIDADE E PRATICIDADE OUTRAS PANEL...</td>\n",
              "    </tr>\n",
              "    <tr>\n",
              "      <th>3</th>\n",
              "      <td>4</td>\n",
              "      <td>MEU FILHO AMOU! PARECE DE VERDADE COM TANTOS D...</td>\n",
              "    </tr>\n",
              "    <tr>\n",
              "      <th>4</th>\n",
              "      <td>5</td>\n",
              "      <td>A entrega foi no prazo, as americanas estão de...</td>\n",
              "    </tr>\n",
              "  </tbody>\n",
              "</table>\n",
              "</div>\n",
              "    <div class=\"colab-df-buttons\">\n",
              "\n",
              "  <div class=\"colab-df-container\">\n",
              "    <button class=\"colab-df-convert\" onclick=\"convertToInteractive('df-842c0239-de2c-4e68-aba4-82347da4fd05')\"\n",
              "            title=\"Convert this dataframe to an interactive table.\"\n",
              "            style=\"display:none;\">\n",
              "\n",
              "  <svg xmlns=\"http://www.w3.org/2000/svg\" height=\"24px\" viewBox=\"0 -960 960 960\">\n",
              "    <path d=\"M120-120v-720h720v720H120Zm60-500h600v-160H180v160Zm220 220h160v-160H400v160Zm0 220h160v-160H400v160ZM180-400h160v-160H180v160Zm440 0h160v-160H620v160ZM180-180h160v-160H180v160Zm440 0h160v-160H620v160Z\"/>\n",
              "  </svg>\n",
              "    </button>\n",
              "\n",
              "  <style>\n",
              "    .colab-df-container {\n",
              "      display:flex;\n",
              "      gap: 12px;\n",
              "    }\n",
              "\n",
              "    .colab-df-convert {\n",
              "      background-color: #E8F0FE;\n",
              "      border: none;\n",
              "      border-radius: 50%;\n",
              "      cursor: pointer;\n",
              "      display: none;\n",
              "      fill: #1967D2;\n",
              "      height: 32px;\n",
              "      padding: 0 0 0 0;\n",
              "      width: 32px;\n",
              "    }\n",
              "\n",
              "    .colab-df-convert:hover {\n",
              "      background-color: #E2EBFA;\n",
              "      box-shadow: 0px 1px 2px rgba(60, 64, 67, 0.3), 0px 1px 3px 1px rgba(60, 64, 67, 0.15);\n",
              "      fill: #174EA6;\n",
              "    }\n",
              "\n",
              "    .colab-df-buttons div {\n",
              "      margin-bottom: 4px;\n",
              "    }\n",
              "\n",
              "    [theme=dark] .colab-df-convert {\n",
              "      background-color: #3B4455;\n",
              "      fill: #D2E3FC;\n",
              "    }\n",
              "\n",
              "    [theme=dark] .colab-df-convert:hover {\n",
              "      background-color: #434B5C;\n",
              "      box-shadow: 0px 1px 3px 1px rgba(0, 0, 0, 0.15);\n",
              "      filter: drop-shadow(0px 1px 2px rgba(0, 0, 0, 0.3));\n",
              "      fill: #FFFFFF;\n",
              "    }\n",
              "  </style>\n",
              "\n",
              "    <script>\n",
              "      const buttonEl =\n",
              "        document.querySelector('#df-842c0239-de2c-4e68-aba4-82347da4fd05 button.colab-df-convert');\n",
              "      buttonEl.style.display =\n",
              "        google.colab.kernel.accessAllowed ? 'block' : 'none';\n",
              "\n",
              "      async function convertToInteractive(key) {\n",
              "        const element = document.querySelector('#df-842c0239-de2c-4e68-aba4-82347da4fd05');\n",
              "        const dataTable =\n",
              "          await google.colab.kernel.invokeFunction('convertToInteractive',\n",
              "                                                    [key], {});\n",
              "        if (!dataTable) return;\n",
              "\n",
              "        const docLinkHtml = 'Like what you see? Visit the ' +\n",
              "          '<a target=\"_blank\" href=https://colab.research.google.com/notebooks/data_table.ipynb>data table notebook</a>'\n",
              "          + ' to learn more about interactive tables.';\n",
              "        element.innerHTML = '';\n",
              "        dataTable['output_type'] = 'display_data';\n",
              "        await google.colab.output.renderOutput(dataTable, element);\n",
              "        const docLink = document.createElement('div');\n",
              "        docLink.innerHTML = docLinkHtml;\n",
              "        element.appendChild(docLink);\n",
              "      }\n",
              "    </script>\n",
              "  </div>\n",
              "\n",
              "\n",
              "<div id=\"df-1930c941-a369-46ce-b666-dbf8d3f9cac4\">\n",
              "  <button class=\"colab-df-quickchart\" onclick=\"quickchart('df-1930c941-a369-46ce-b666-dbf8d3f9cac4')\"\n",
              "            title=\"Suggest charts\"\n",
              "            style=\"display:none;\">\n",
              "\n",
              "<svg xmlns=\"http://www.w3.org/2000/svg\" height=\"24px\"viewBox=\"0 0 24 24\"\n",
              "     width=\"24px\">\n",
              "    <g>\n",
              "        <path d=\"M19 3H5c-1.1 0-2 .9-2 2v14c0 1.1.9 2 2 2h14c1.1 0 2-.9 2-2V5c0-1.1-.9-2-2-2zM9 17H7v-7h2v7zm4 0h-2V7h2v10zm4 0h-2v-4h2v4z\"/>\n",
              "    </g>\n",
              "</svg>\n",
              "  </button>\n",
              "\n",
              "<style>\n",
              "  .colab-df-quickchart {\n",
              "      --bg-color: #E8F0FE;\n",
              "      --fill-color: #1967D2;\n",
              "      --hover-bg-color: #E2EBFA;\n",
              "      --hover-fill-color: #174EA6;\n",
              "      --disabled-fill-color: #AAA;\n",
              "      --disabled-bg-color: #DDD;\n",
              "  }\n",
              "\n",
              "  [theme=dark] .colab-df-quickchart {\n",
              "      --bg-color: #3B4455;\n",
              "      --fill-color: #D2E3FC;\n",
              "      --hover-bg-color: #434B5C;\n",
              "      --hover-fill-color: #FFFFFF;\n",
              "      --disabled-bg-color: #3B4455;\n",
              "      --disabled-fill-color: #666;\n",
              "  }\n",
              "\n",
              "  .colab-df-quickchart {\n",
              "    background-color: var(--bg-color);\n",
              "    border: none;\n",
              "    border-radius: 50%;\n",
              "    cursor: pointer;\n",
              "    display: none;\n",
              "    fill: var(--fill-color);\n",
              "    height: 32px;\n",
              "    padding: 0;\n",
              "    width: 32px;\n",
              "  }\n",
              "\n",
              "  .colab-df-quickchart:hover {\n",
              "    background-color: var(--hover-bg-color);\n",
              "    box-shadow: 0 1px 2px rgba(60, 64, 67, 0.3), 0 1px 3px 1px rgba(60, 64, 67, 0.15);\n",
              "    fill: var(--button-hover-fill-color);\n",
              "  }\n",
              "\n",
              "  .colab-df-quickchart-complete:disabled,\n",
              "  .colab-df-quickchart-complete:disabled:hover {\n",
              "    background-color: var(--disabled-bg-color);\n",
              "    fill: var(--disabled-fill-color);\n",
              "    box-shadow: none;\n",
              "  }\n",
              "\n",
              "  .colab-df-spinner {\n",
              "    border: 2px solid var(--fill-color);\n",
              "    border-color: transparent;\n",
              "    border-bottom-color: var(--fill-color);\n",
              "    animation:\n",
              "      spin 1s steps(1) infinite;\n",
              "  }\n",
              "\n",
              "  @keyframes spin {\n",
              "    0% {\n",
              "      border-color: transparent;\n",
              "      border-bottom-color: var(--fill-color);\n",
              "      border-left-color: var(--fill-color);\n",
              "    }\n",
              "    20% {\n",
              "      border-color: transparent;\n",
              "      border-left-color: var(--fill-color);\n",
              "      border-top-color: var(--fill-color);\n",
              "    }\n",
              "    30% {\n",
              "      border-color: transparent;\n",
              "      border-left-color: var(--fill-color);\n",
              "      border-top-color: var(--fill-color);\n",
              "      border-right-color: var(--fill-color);\n",
              "    }\n",
              "    40% {\n",
              "      border-color: transparent;\n",
              "      border-right-color: var(--fill-color);\n",
              "      border-top-color: var(--fill-color);\n",
              "    }\n",
              "    60% {\n",
              "      border-color: transparent;\n",
              "      border-right-color: var(--fill-color);\n",
              "    }\n",
              "    80% {\n",
              "      border-color: transparent;\n",
              "      border-right-color: var(--fill-color);\n",
              "      border-bottom-color: var(--fill-color);\n",
              "    }\n",
              "    90% {\n",
              "      border-color: transparent;\n",
              "      border-bottom-color: var(--fill-color);\n",
              "    }\n",
              "  }\n",
              "</style>\n",
              "\n",
              "  <script>\n",
              "    async function quickchart(key) {\n",
              "      const quickchartButtonEl =\n",
              "        document.querySelector('#' + key + ' button');\n",
              "      quickchartButtonEl.disabled = true;  // To prevent multiple clicks.\n",
              "      quickchartButtonEl.classList.add('colab-df-spinner');\n",
              "      try {\n",
              "        const charts = await google.colab.kernel.invokeFunction(\n",
              "            'suggestCharts', [key], {});\n",
              "      } catch (error) {\n",
              "        console.error('Error during call to suggestCharts:', error);\n",
              "      }\n",
              "      quickchartButtonEl.classList.remove('colab-df-spinner');\n",
              "      quickchartButtonEl.classList.add('colab-df-quickchart-complete');\n",
              "    }\n",
              "    (() => {\n",
              "      let quickchartButtonEl =\n",
              "        document.querySelector('#df-1930c941-a369-46ce-b666-dbf8d3f9cac4 button');\n",
              "      quickchartButtonEl.style.display =\n",
              "        google.colab.kernel.accessAllowed ? 'block' : 'none';\n",
              "    })();\n",
              "  </script>\n",
              "</div>\n",
              "\n",
              "    </div>\n",
              "  </div>\n"
            ]
          },
          "metadata": {},
          "execution_count": 15
        }
      ]
    },
    {
      "cell_type": "markdown",
      "source": [
        "# Preprocessing"
      ],
      "metadata": {
        "id": "gfB7Z95MN9ab"
      }
    },
    {
      "cell_type": "code",
      "source": [
        "# check overall_rating\n",
        "\n",
        "b2wCorpus[\"overall_rating\"].unique()\n",
        "\n",
        "# não tem nenhuma linha cuja nota não é um valor numérico entre 0 e 5"
      ],
      "metadata": {
        "colab": {
          "base_uri": "https://localhost:8080/"
        },
        "id": "iLHvXIMgNorq",
        "outputId": "cbd0615b-6c73-40e9-8636-0288fb243b57"
      },
      "execution_count": 16,
      "outputs": [
        {
          "output_type": "execute_result",
          "data": {
            "text/plain": [
              "array([4, 5, 1, 2, 3])"
            ]
          },
          "metadata": {},
          "execution_count": 16
        }
      ]
    },
    {
      "cell_type": "code",
      "source": [
        "# train, test split\n",
        "\n",
        "random_state = 42\n",
        "test_size = 0.25\n",
        "\n",
        "x_values = b2wCorpus[\"review_text\"]\n",
        "y_values = b2wCorpus[\"overall_rating\"]\n",
        "\n",
        "x_train, x_test, y_train, y_test = train_test_split(x_values, y_values, random_state=random_state, test_size=test_size)"
      ],
      "metadata": {
        "id": "zs4y11QxOYnp"
      },
      "execution_count": 17,
      "outputs": []
    },
    {
      "cell_type": "code",
      "source": [
        "# embedding\n",
        "\n",
        "import tensorflow as tf\n",
        "\n",
        "# Exibe as GPUs disponíveis (deve exibir pelo menos uma GPU)\n",
        "physical_devices = tf.config.list_physical_devices('GPU')\n",
        "print(\"GPUs disponíveis:\", physical_devices)\n",
        "\n",
        "# Configuração para alocar memória de forma dinâmica\n",
        "gpus = tf.config.experimental.list_physical_devices('GPU')\n",
        "if gpus:\n",
        "    for gpu in gpus:\n",
        "        tf.config.experimental.set_memory_growth(gpu, True)\n",
        "\n",
        "# Cria a camada TextVectorization\n",
        "output_sequence_length = 10000\n",
        "vectorizer = TextVectorization()\n",
        "vectorizer.adapt(x_train) # Adaptar o vetorizador aos dados de treinamento\n",
        "vocab = vectorizer.get_vocabulary() # Verificar o vocabulário criado pelo vetorizador\n",
        "vectorized_train_data = vectorizer(x_train).numpy() # Vetorizar os dados de treinamento\n",
        "vectorized_train_data"
      ],
      "metadata": {
        "colab": {
          "base_uri": "https://localhost:8080/"
        },
        "id": "dUghSyHrNouI",
        "outputId": "68147aec-a288-4d5f-802f-eb81dc2652e8"
      },
      "execution_count": 18,
      "outputs": [
        {
          "output_type": "stream",
          "name": "stdout",
          "text": [
            "GPUs disponíveis: [PhysicalDevice(name='/physical_device:GPU:0', device_type='GPU')]\n"
          ]
        },
        {
          "output_type": "execute_result",
          "data": {
            "text/plain": [
              "array([[256,   5, 300, ...,   0,   0,   0],\n",
              "       [ 45,  10,   6, ...,   0,   0,   0],\n",
              "       [106,  14, 107, ...,   0,   0,   0],\n",
              "       ...,\n",
              "       [370,  42,   2, ...,   0,   0,   0],\n",
              "       [ 17,   6,   5, ...,   0,   0,   0],\n",
              "       [787, 148, 764, ...,   0,   0,   0]])"
            ]
          },
          "metadata": {},
          "execution_count": 18
        }
      ]
    },
    {
      "cell_type": "code",
      "source": [
        "print(\"Vocabulário:\", vocab)"
      ],
      "metadata": {
        "colab": {
          "base_uri": "https://localhost:8080/"
        },
        "id": "9Vq76uWNRJTl",
        "outputId": "ef4ab4ad-282f-4601-bfd3-2b8a3a51a591"
      },
      "execution_count": 19,
      "outputs": [
        {
          "output_type": "stream",
          "name": "stdout",
          "text": [
            "Vocabulário: ['', '[UNK]', 'o', 'e', 'a', 'de', 'produto', 'que', 'não', 'muito', 'do', 'é', 'com', 'para', 'um', 'bom', 'da', 'recomendo', 'entrega', 'no', 'em', 'uma', 'na', 'bem', 'qualidade', 'mas', 'mais', 'prazo', 'chegou', 'foi', 'excelente', 'as', 'eu', 'antes', 'se', 'comprei', 'americanas', 'como', 'meu', 'tem', 'minha', 'por', 'recebi', 'dia', 'super', 'gostei', 'até', 'compra', 'estou', 'já', 'pra', 'me', 'os', 'sem', 'boa', 'veio', 'ainda', 'ótimo', 'só', 'pois', 'mesmo', 'ser', 'loja', 'ele', 'preço', 'está', 'esse', 'aparelho', 'comprar', 'ao', 'pelo', 'celular', 'ótima', 'minhas', 'expectativas', 'nem', 'rápida', 'fácil', 'rápido', 'site', 'agora', 'tudo', 'ou', 'nada', 'ter', 'nao', 'entregue', 'dias', 'melhor', 'quando', 'Ótimo', 'uso', 'porém', 'isso', 'das', 'dentro', 'custo', 'pouco', 'são', 'pela', 'todos', 'atendeu', 'era', 'É', 'bonito', 'presente', 'tive', 'problema', 'ela', 'tempo', 'lojas', 'sempre', 'tenho', 'funciona', 'estava', 'bateria', 'atendimento', 'dos', 'quem', 'este', 'achei', 'também', 'pena', 'perfeito', 'fazer', 'fica', 'vale', 'tv', 'atende', 'avaliar', 'usar', 'porque', 'q', 'contato', 'parabéns', 'imagem', 'esta', 'hoje', 'material', 'faz', 'outro', 'essa', 'empresa', '2', 'data', 'além', 'nÃo', 'defeito', 'depois', 'vou', 'adorei', 'vez', 'dinheiro', 'natal', 'benefício', 'tamanho', 'assim', 'previsto', 'lindo', 'fiz', 'apenas', 'leve', 'ficou', 'conforme', 'filha', 'ruim', 'produtos', 'câmera', 'fiquei', 'satisfeita', 'casa', 'momento', 'seu', 'pedido', 'vem', 'prático', 'nenhum', 'necessidades', 'nota', 'som', '3', 'vezes', 'nas', 'posso', 'menos', 'vai', 'ja', 'esperado', 'pode', 'amei', 'valor', 'nunca', 'embalado', 'bastante', 'chegar', '10', 'problemas', 'dar', 'tinha', '1', 'marca', 'email', 'grande', 'troca', 'parece', 'todas', 'sendo', 'poderia', 'caixa', 'acabamento', 'resposta', 'quanto', 'sobre', 'satisfeito', 'mês', 'tela', 'filho', 'dá', 'cumpre', 'cor', 'seja', 'jogo', 'todo', 'então', 'dois', 'otimo', 'estado', 'adorou', 'realmente', 'outra', 'falta', 'quero', 'primeira', 'perfeitamente', 'muita', 'fui', 'vocês', 'superou', 'livro', 'indico', 'apesar', 'água', 'original', 'eles', 'fora', 'ate', 'resistente', 'maior', 'foto', 'qualquer', 'paguei', 'deixa', 'aqui', 'retorno', 'parte', 'nenhuma', 'gostaria', 'coisa', 'sua', 'receber', 'estão', 'esperava', 'compro', 'tanto', 'nos', 'deveria', 'embalagem', 'outros', 'beneficio', 'acho', 'mim', 'devolução', 'tão', 'sei', 'quase', 'outras', 'meus', 'deu', 'demora', 'anos', 'você', 'promete', 'porem', 'duas', 'demais', 'à', 'ver', 'maravilhoso', 'desejar', 'quer', 'ok', 'certo', 'brinquedo', 'após', 'pequeno', 'desde', 'meses', 'transportadora', 'simples', 'semana', 'saber', 'hora', 'dura', 'dezembro', 'bonita', 'péssimo', 'for', 'eficiente', 'desempenho', 'cliente', 'ano', 'diferente', 'comprado', 'amou', 'vcs', 'toda', 'montar', 'montagem', 'há', 'frete', 'falar', 'copo', 'cabelo', 'trava', 'sim', 'fotos', 'design', 'demorou', 'aguardando', 'prevista', 'linda', 'confortável', 'pedi', 'mesma', 'manual', 'cartão', 'barato', 'americanascom', 'pq', 'funcionando', 'ficar', 'desse', 'relação', 'exatamente', 'compre', 'usei', 'seria', 'péssima', 'preciso', 'novo', 'ninguém', 'modelo', 'internet', 'dele', 'conta', 'Ótima', 'obrigado', 'feita', 'consegui', 'alguns', 'frágil', 'forma', 'espero', 'espaço', 'descrição', 'consumidor', 'volta', 'vendedor', 'memória', 'lixo', 'infelizmente', 'caso', 'algo', 'trocar', 'telefone', 'avaliação', 'aguardo', 'trabalho', 'seus', 'samsung', 'instalação', 'esperando', 'atraso', 'reclamação', 'precisa', 'otima', 'notebook', 'colocar', 'totalmente', 'pratico', 'possui', 'onde', 'às', 'somente', 'sistema', 'sai', 'qual', 'perfeita', 'condições', 'café', 'queria', 'peças', 'fiscal', 'dizer', 'diz', 'criança', 'consigo', 'comprem', 'bla', 'serviço', 'fornecedor', 'controle', 'boneca', 'baixo', 'vi', 'resolver', 'ponto', 'pessoa', 'funcionou', 'feito', 'estipulado', 'entregaram', 'rapido', 'pessoas', 'novamente', 'eletro', 'disso', 'devido', 'cancelamento', '4', 'máquina', 'igual', 'havia', 'três', 'so', 'respeito', 'prática', 'pequena', 'mercadoria', 'entregar', 'cada', 'aos', 'reclamar', 'potente', 'p', 'obrigada', 'necessidade', 'lcg', 'fosse', 'correios', 'certinho', 'alto', '5', 'entrei', 'certeza', 'capa', 'cabo', 'valeu', 'suporte', 'podem', 'opção', 'deste', 'crianças', 'assistência', 'único', 'várias', 'rapida', 'poder', 'perfume', 'logo', 'garantia', 'caro', 'acordo', 'top', 'tipo', 'segundo', 'muitas', 'moto', 'algumas', 'total', 'simplesmente', 'processador', 'primeiro', 'manuseio', 'informações', 'entrar', 'compras', 'combinado', 'única', 'reais', 'rapidez', 'ideal', 'gostou', 'geral', 'funcionar', 'fraco', 'faltando', 'chega', '30', 'utilizar', 'técnica', 'principalmente', 'possível', 'passar', 'meio', 'limpeza', 'jogos', 'forte', 'devolver', 'dessa', 'decepcionada', 'boas', 'algum', 'útil', 'vieram', 'solicitei', 'mercado', 'junto', 'instalar', 'feliz', 'esquenta', 'errado', 'direito', 'carregar', 'x', 'usando', 'parceria', 'medo', 'funções', 'expectativa', 'coisas', 'anunciado', 'smartphone', 'recomendado', 'pro', 'peça', 'obtive', 'melhores', 'gosteiproduto', 'final', 'equipamento', 'alta', 'tecido', 'quebrado', 'pior', 'perfeitas', 'normal', 'ligar', 'fone', 'extremamente', 'cuidado', 'cores', 'vários', 'vc', 'tivesse', 'smart', 'será', 'resultado', 'pagamento', 'limpar', 'houve', 'foram', 'estar', 'dela', 'deixou', 'acredito', '6', 'teria', 'silencioso', 'relógio', 'recebido', 'horas', 'entregou', 'enquanto', 'difícil', 'barulho', 'ajuda', 'vergonhoso', 'up2games', 'tbm', 'rouba', 'prometido', 'parceiro', 'pagar', 'nesse', 'mal', 'lugar', 'kit', 'gosto', 'gente', 'funcionamento', 'fez', 'faço', 'fato', 'excelentes', 'designer', 'custobenefício', 'comprando', 'claro', 'cabelos', 'apresenta', 'anúncio', 'vida', 'verdade', 'mto', 'madeira', 'informado', 'desta', 'contar', 'carrega', 'cafeteira', 'aconteceu', '20', 'vidro', 'via', 'venda', 'tentei', 'surpresa', 'sido', 'nessa', 'muitos', 'menor', 'liguei', 'legal', 'frontal', 'facil', 'durante', 'dificuldade', 'aplicativos', 'alguma', 'sabe', 'precisava', 'plástico', 'jeito', 'insatisfeita', 'funcional', 'fabricante', 'dei', 'carregador', 'cabeça', 'agilidade', 'acessível', '100', 'usado', 'uns', 'tarde', 'resolução', 'recomendaria', 'procon', 'numa', 'informação', 'hd', 'função', 'estorno', 'esperar', 'computador', 'aquisição', 'absurdo', '15', 'solução', 'show', 'resto', 'promoção', 'noite', 'imagens', 'fazendo', 'enviar', 'entre', 'durabilidade', 'deixar', 'comigo', 'carro', 'atenção', 'americana', '8', 'transporte', 'tendo', 'si', 'segurança', 'satisfação', 'propaganda', 'processo', 'posição', 'parou', 'opinião', 'mouse', 'moderno', 'lado', 'justo', 'fixação', 'deve', 'correto', 'correio', 'clientes', 'utilização', 'surpreendeu', 'serve', 'r', 'previsão', 'preto', 'portanto', 'pensei', 'ocorreu', 'motorola', 'jogar', 'fino', 'fim', 'família', 'enviei', 'entanto', 'enfim', 'disse', 'descrito', 'deram', 'cozinha', 'configuração', 'cima', 'cancelar', 'apresentou', 'android', 'abrir', '7', '2017', 'wifi', 'tomada', 'semanas', 'segura', 'poderiam', 'pequenas', 'panelas', 'num', 'mãe', 'marcas', 'maravilhosa', 'luz', 'levar', 'leva', 'inclusive', 'fala', 'etc', 'espectativas', 'erro', 'enviaram', 'entrada', 'confiável', 'coloquei', 'aí', 'anuncio', 'acabado', 'umas', 'status', 'sou', 'sinal', 'parafusos', 'parabens', 'mochila', 'maiores', 'lindas', 'lg', 'ir', 'interessante', 'gosta', 'ficam', 'favor', 'd', 'cheiro', 'azul', 'úteis', 'ótimas', 'volume', 'vir', 'usa', 'teve', 'teclado', 'sensacional', 'porcaria', 'peso', 'pelos', 'papel', 'panela', 'netflix', 'mão', 'manusear', 'macio', 'linha', 'janeiro', 'inferior', 'horrível', 'experiência', 'esposa', 'devolvi', 'curto', 'conhecia', 'começou', 'cama', 'bons', 'baixa', 'vamos', 'trabalhos', 'tomar', 'texto', 'tentando', 'ta', 'senti', 'segunda', 'recomento', 'passou', 'neste', 'negativo', 'n', 'minutos', 'mandei', 'estabelecido', 'endereço', 'duração', 'compraria', 'completo', 'carga', 'cabe', 'branco', 'att', 'atrás', 'atendente', 'armazenamento', 'ambiente', 'amassada', 'alem', 'ai', 'acima', 'youtube', 'usb', 'tirar', 'tentar', 'situação', 'seguro', 'sair', 'realizada', 'quebrou', 'pude', 'praticidade', 'pequenos', 'pago', 'ontem', 'neto', 'mil', 'mesa', 'mes', 'memoria', 'frente', 'faculdade', 'escova', 'envio', 'eficiência', 'diferença', 'deveriam', 'descaso', 'deles', 'corretamente', 'contra', 'consta', 'completamente', 'causa', 'brincar', 'assistir', 'ar', 'aparelhos', 'altura', 'áudio', 'visto', 'vista', 'vergonha', 'tá', 'tiver', 'recursos', 'reclame', 'quebrada', 'proteção', 'presentear', 'potência', 'pesado', 'pensando', 'pele', 'necessário', 'liga', 'leitura', 'isto', 'interna', 'fraca', 'facilita', 'facilidade', 'exemplo', 'estoque', 'encher', 'encaixe', 'efetuei', 'direitinho', 'diferentes', 'decepcionado', 'consegue', 'camera', 'cadeira', 'atÉ', 'atendendo', 'app', 'adquirir', 'vão', 'vindo', 'tenha', 'temperatura', 'sequer', 'roupa', 'reclamações', 'pilhas', 'nova', 'mãos', 'modo', 'mexer', 'medidas', 'local', 'incrível', 'hj', 'física', 'fio', 'filtro', 'fico', 'espera', 'especificações', 'enviou', 'enviado', 'efeito', 'dvd', 'dor', 'dizendo', 'divertido', 'código', 'câmeras', 'costura', 'corpo', 'conseguir', 'condiz', 'colchão', 'capacidade', 'brilho', 'amigos', 'aguardar', 'adquirido', 'acessórios', 'abri', '02012018', 'vídeos', 'velocidade', 'trabalhar', 'tirando', 'testei', 'tampa', 'suas', 'residência', 'remoto', 'rastreamento', 'pipoca', 'passei', 'passa', 'padrão', 'nome', 'mt', 'mandaram', 'longo', 'ligado', 'ler', 'lavar', 'geladeira', 'fÁcil', 'encomenda', 'embora', 'emails', 'decepção', 'chateada', 'cancelei', 'brasil', 'botão', 'bike', 'bicicleta', 'belo', 'bebê', 'asus', 'alguém', 'agua', 'adoro', '2018', 'voltar', 'unica', 'traseira', 'seca', 'sala', 'risco', 'responsável', 'quente', 'percebi', 'película', 'parede', 'parecia', 'oque', 'mundo', 'motor', 'mensagem', 'mariana', 'maquina', 'jÁ', 'instalei', 'informando', 'importante', 'gostando', 'gelada', 'filmes', 'faltou', 'estamos', 'escolha', 'entretanto', 'encontrei', 'dúvidas', 'durar', 'digital', 'cumpriu', 'corresponde', 'conjunto', 'cidade', 'base', 'aparência', 'antigo', 'alimentos', 'agradável', 'acesso', 'unidades', 'tambem', 'talvez', 'superior', 'saiu', 'responde', 'rede', 'quarto', 'pó', 'procurar', 'precisar', 'pouca', 'parceiros', 'parceira', 'oferta', 'nesta', 'nele', 'máximo', 'microondas', 'marido', 'mantém', 'ligou', 'iphone', 'insatisfeito', 'impressão', 'hdmi', 'gela', 'enorme', 'encaixa', 'elegante', 'eh', 'efetuar', 'disponível', 'direto', 'defeitos', 'crédito', 'confortavel', 'compensa', 'coloca', 'chão', 'black', 'aparece', 'agradeço', '14', '11', 'voces', 'vendido', 'vender', 'varias', 'util', 'tramontina', 'tinta', 'televisão', 'te', 'sobrinho', 'sac', 'roda', 'robusto', 'reclamei', 'rapidamente', 'questão', 'pé', 'pressão', 'possa', 'porta', 'pessimo', 'perdi', 'pedir', 'partir', 'painel', 'oferece', 'normalmente', 'mostra', 'livros', 'lateral', 'iria', 'impossível', 'forno', 'fonte', 'fazem', 'falso', 'exelente', 'detalhes', 'deixando', 'decepcionei', 'dando', 'dado', 'conforto', 'comunicação', 'complicado', 'chegado', 'carrinho', 'boleto', 'bacana', 'arrependi', 'arrepender', 'arquivos', 'aplicativo', 'amigo', 'voltarei', 'técnico', 'sÓ', 'suficiente', 'sozinho', 'sobrinha', 'serem', 'retirar', 'reembolso', 'quiser', 'quebrar', 'própria', 'pontos', 'performance', 'pelas', 'pegar', 'passaram', 'papai', 'olha', 'né', 'neta', 'modelos', 'mandar', 'levou', 'lento', 'laterais', 'indicaria', 'imaginei', 'imaginava', 'existe', 'estranho', 'estiver', 'esses', 'essas', 'enganosa', 'eficaz', 'dúvida', 'demorado', 'correta', 'conheço', 'comprarei', 'compacto', 'chip', 'centavo', 'características', 'canais', 'cair', 'buscar', 'barulhento', 'aspirador', 'anterior', 'antena', 'amando', 'acabei', 'ventilador', 'to', 'tablet', 'sinto', 'satisfatório', 'recebimento', 'rastreio', 'querem', 'propõe', 'precisando', 'prancha', 'peço', 'partes', 'ouvido', 'opinar', 'número', 'novembro', 'noel', 'ninguem', 'música', 'metade', 'lá', 'irei', 'início', 'investimento', 'inteiro', 'idade', 'ia', 'grandes', 'funcionalidade', 'fogão', 'filhos', 'ficaram', 'ferro', 'falando', 'escrito', 'equipe', 'elas', 'diversos', 'disseram', 'direitos', 'detalhe', 'desliga', 'desenho', 'danificado', 'cuecas', 'configurações', 'compramos', 'começo', 'comentários', 'chego', 'chegaram', 'chegada', 'certa', 'celulares', 'avarias', 'através', 'aprovado', 'apple', 'aplicação', 'aberto', 'abaixo', '2612', '02', 'ótimos', 'voltagem', 'virtual', 'versátil', 'venho', 'uteis', 'transtorno', 'testar', 'tb', 'tapete', 'sucesso', 'sorte', 'solicitação', 'sofá', 'seguinte', 'secador', 'saída', 'roupas', 'resolvi', 'realizei', 'realizar', 'quantidade', 'próximo', 'provavelmente', 'pronto', 'profissional', 'preços', 'pretendo', 'portas', 'podia', 'pilha', 'philco', 'pessoal', 'perto', 'pedindo', 'pc', 'passado', 'parafuso', 'oq', 'marcada', 'm', 'longe', 'liquidificador', 'ligações', 'leitor', 'itens', 'instruções', 'indicado', 'impressora', 'ha', 'guardar', 'guarda', 'gelo', 'g', 'flash', 'fizeram', 'filme', 'faixa', 'errada', 'entrou', 'emitida', 'embalada', 'efetuada', 'durou', 'drive', 'devolvido', 'demorando', 'continua', 'conexão', 'comparado', 'cm', 'clara', 'cheio', 'chave', 'cd', 'cara', 'caixinha', 'bola', 'autorizada', 'atrasado', 'aquece', 'aparentemente', 'adquiri', 'adequado', 'acontece', '9', 'última', 'xbox', 'visual', 'viagem', 'versão', 'utilizei', 'travando', 'torneira', 'teclas', 'sony', 'solta', 'sol', 'sites', 'silenciosa', 'sao', 'sabor', 'sabia', 'rÁpida', 'ruído', 'responsabilidade', 'resolvido', 'resolve', 'resistentes', 'quatro', 'qdo', 'pós', 'pulseira', 'prejuízo', 'praticamente', 'plenamente', 'philips', 'perfeitos', 'pega', 'opções', 'online', 'olá', 'objetivo', 'nosso', 'nossa', 'monitor', 'moderna', 'microfone', 'medida', 'lacrado', 'item', 'informaram', 'informar', 'impecável', 'gráficos', 'gostamos', 'fundo', 'facilmente', 'estÁ', 'espetacular', 'eram', 'entregam', 'entender', 'energia', 'encontrar', 'durável', 'duro', 'determinado', 'desmontar', 'desligar', 'continuar', 'consideração', 'confiança', 'conecta', 'concorrentes', 'comum', 'cinza', 'cheia', 'chapinha', 'cadeiras', 'cachos', 'bolsa', 'barba', 'atualização', 'atingiu', 'atendido', 'atender', 'assento', 'aquele', 'ajudar', 'aguenta', 'adorando', '50', 'ágil', 'á', 'vídeo', 'vontade', 'vermelha', 'vendem', 'utilizando', 'trás', 'trata', 'transportar', 'tirei', 'terei', 'tecnologia', 'tarefas', 'tal', 'supriu', 'serviu', 'selo', 'satisfaz', 'satisfatória', 's', 'rosa', 'responder', 'regular', 'regulagem', 'referente', 'recebemos', 'rapidinho', 'ram', 'quesito', 'purificador', 'procura', 'principal', 'precisam', 'pratica', 'prata', 'poucas', 'positivo', 'pneu', 'período', 'pediu', 'ouvir', 'ordem', 'nós', 'numero', 'mínimo', 'motivo', 'marcado', 'manter', 'maioria', 'lugares', 'lindos', 'limpa', 'ligação', 'iriam', 'instalado', 'graça', 'grato', 'gb', 'frágeis', 'força', 'firme', 'fina', 'falaram', 'falante', 'excepcional', 'estrutura', 'espaçoso', 'entendo', 'enganado', 'dão', 'duvidas', 'dificil', 'diferencial', 'devo', 'desses', 'demorar', 'dados', 'cumprir', 'correspondeu', 'contente', 'conseguimos', 'colorido', 'coleção', 'chips', 'cerca', 'central', 'cartucho', 'caiu', 'cai', 'c', 'brincadeira', 'breve', 'botões', 'borracha', 'bluetooth', 'atividades', 'atendida', 'aproximadamente', 'apresentação', 'apresentando', 'apps', 'amo', 'amiga', 'ambos', 'amassado', 'alcance', 'acaba', '2712', '27', '12', 'zenfone', 'vocÊs', 'viagens', 'veste', 'verificar', 'vendeu', 'vendendo', 'travou', 'tratar', 'transparente', 'tranquilo', 'touch', 'torna', 'toque', 'tira', 'testado', 'terceira', 'tentativa', 'temos', 'tao', 'surpreendi', 'supera', 'solto', 'rosto', 'retornaram', 'restante', 'respostas', 'responderam', 'região', 'redes', 'reclamando', 'razoável', 'rastrear', 'rasgada', 'quis', 'queda', 'pés', 'pÉssimo', 'programas', 'programado', 'procurava', 'procurando', 'preta', 'poucos', 'potes', 'possuem', 'ponta', 'plastico', 'pintura', 'permite', 'perder', 'perde', 'pensar', 'paulo', 'pano', 'oportunidade', 'olhos', 'ocorre', 'nível', 'média', 'má', 'moro', 'montado', 'mayara', 'maneira', 'manda', 'livre', 'led', 'lamentável', 'jogabilidade', 'inteira', 'grátis', 'fã', 'fábrica', 'full', 'fritadeira', 'friday', 'fique', 'fantástico', 'falhas', 'explicação', 'estimado', 'estas', 'especial', 'escuro', 'escolhi', 'diversas', 'dez', 'dessas', 'deseja', 'daí', 'creio', 'cortar', 'contudo', 'conseguiu', 'configurar', 'conectar', 'compatível', 'chuva', 'chocolate', 'cheguei', 'caminho', 'burocracia', 'brastemp', 'brasileiro', 'bonitas', 'barraca', 'baixar', 'avaria', 'atrasou', 'aspecto', 'apresentar', 'antigos', 'ambientes', 'aliás', 'adoraram', 'acontecer', 'abre', '32gb', '26', '04012018', 'último', 'óleo', 'área', 'verde', 'vendo', 'vendi', 'vende', 'vendas', 'utilizo', 'urgente', 'travamento', 'trabalha', 'termos', 'sÃo', 'suja', 'soubesse', 'soltando', 'solicito', 'solicitado', 'software', 'sobra', 'serviços', 'servir', 'sensor', 'senhores', 'secreto', 'satisfez', 'sacanagem', 'rs', 'resultados', 'respondeu', 'respondem', 'reforçado', 'recebo', 'recebeu', 'quentinho', 'queima', 'quebra', 'próxima', 'próprio', 'protocolo', 'proposto', 'proporciona', 'promoções', 'procurei', 'proceder', 'presta', 'prefiro', 'preco', 'potencia', 'posicionamento', 'português', 'placa', 'piscina', 'pessima', 'pente', 'pedem', 'parcela', 'palavras', 'pais', 'optei', 'ocupa', 'ocorrido', 'obter', 'observação', 'obs', 'note', 'nano', 'móvel', 'máscara', 'mÊs', 'mesmos', 'melhorar', 'meia', 'mangueira', 'mandou', 'levei', 'leite', 'lavadora', 'jus', 'jogado', 'irá', 'irmã', 'inúmeras', 'interno', 'interesse', 'interessados', 'informou', 'ilustrativa', 'gastei', 'gastar', 'garrafa', 'games', 'game', 'galaxy', 'furos', 'fossem', 'formato', 'fluxo', 'fios', 'ficaria', 'falsificado', 'falha', 'facilitar', 'excelência', 'especificado', 'encontrado', 'encontra', 'empresas', 'elétrica', 'descarrega', 'demorada', 'câmara', 'custobeneficio', 'cumprido', 'corte', 'contatar', 'comprou', 'categoria', 'carregamento', 'caras', 'cancelaram', 'cancelado', 'camisa', 'caixas', 'básico', 'busca', 'bonecas', 'beleza', 'barbie', 'balança', 'ação', 'atualizado', 'atenciosos', 'arrependo', 'antecedência', 'amaram', 'alumínio', 'alguem', 'ajudou', 'adianta', 'acompanhar', 'acompanha', 'achar', 'acabou', 'aberta', '40', '2212', '03', '0201', '01', '0', 'óculos', 'ñ', 'Água', 'zero', 'xícaras', 'voltou', 'vivas', 'vim', 'vento', 'ventila', 'vejo', 'usuário', 'tvs', 'traz', 'toalha', 'titanium', 'tipos', 'teste', 'terceiro', 'tento', 'tempos', 'tamanhos', 'série', 'sujeira', 'sozinha', 'solucionar', 'soltou', 'solicitar', 'sociais', 'sinais', 'shop', 'senão', 'segurar', 'satisfeitos', 'roteador', 'rodinhas', 'resolveu', 'recomendar', 'recomendadíssimo', 'real', 'raiva', 'queira', 'queimou', 'queimado', 'páginas', 'prova', 'prontamente', 'progressiva', 'processar', 'processamento', 'principais', 'prime', 'prestado', 'precisei', 'prazos', 'prazer', 'pontual', 'pino', 'pet', 'pediram', 'passo', 'parecendo', 'parabÉns', 'parabenizar', 'papelão', 'pagando', 'paga', 'orientação', 'operacional', 'números', 'níveis', 'nítida', 'nossas', 'nf', 'namorado', 'mudar', 'mencionado', 'medir', 'massa', 'mandando', 'lâmina', 'longa', 'limpo', 'limite', 'lhe', 'levo', 'lavagem', 'la', 'justiça', 'j7', 'invés', 'intermediário', 'interior', 'inox', 'in', 'importado', 'iluminação', 'home', 'história', 'grata', 'gelar', 'gavetas', 'frasco', 'fraquinho', 'fortes', 'foco', 'fixa', 'festas', 'feitas', 'feio', 'falsa', 'falam', 'facilitou', 'esteja', 'estavam', 'escrever', 'entao', 'embaixo', 'eletrônica', 'dvds', 'dores', 'dizia', 'diversão', 'disco', 'diferenciado', 'desligava', 'desenvolvimento', 'desejo', 'desejado', 'descrições', 'desconfortável', 'dependendo', 'dava', 'danos', 'danificada', 'cumpri', 'culpa', 'cuidados', 'costas', 'core', 'cordas', 'contrário', 'conteúdo', 'conseguindo', 'confuso', 'confio', 'confiei', 'confesso', 'compromisso', 'completa', 'começa', 'coloco', 'chegaria', 'casinha', 'carregando', 'carinho', 'cancelou', 'canal', 'brinde', 'branca', 'boneco', 'boca', 'bebida', 'batedeira', 'basta', 'barata', 'avaliações', 'autora', 'aumentar', 'audio', 'atenderam', 'atenciosa', 'assistencia', 'arranhado', 'aproveitando', 'apos', 'apoio', 'aplicar', 'análise', 'aniversário', 'agradou', 'adoramos', 'adaptador', 'aconselho', 'achando', 'aceita', '4k', '23', '22122017', '21', '18', '16', '13', '03012018', '0301', 'época', 'árvore', 'z2', 'windows', 'virar', 'vinha', 'vermelho', 'vaza', 'validade', 'usálo', 'usou', 'usava', 'usada', 'tres', 'travesseiro', 'tratamento', 'tranquilamente', 'terminar', 'td', 'tava', 'surpreende', 'supre', 'sons', 'solicitando', 'sentar', 'sensação', 'sd', 'saem', 'saboroso', 'sabendo', 's8', 'rÁpido', 'rsrs', 'rodas', 'rodar', 'riscado', 'retirada', 'resumindo', 'ressalva', 'resistência', 'reservatório', 'requisitos', 'relogio', 'reconhece', 'recomendável', 'receitas', 'realidade', 'querendo', 'quedas', 'quadro', 'péssimos', 'página', 'pÉssima', 'pudesse', 'pronta', 'princípio', 'presteza', 'presa', 'postar', 'portátil', 'pneus', 'plus', 'pinos', 'pesquisei', 'pesados', 'pen', 'pecas', 'passada', 'parecem', 'parar', 'parafusadeira', 'pai', 'originais', 'one', 'olhar', 'office', 'obra', 'negativos', 'navegar', 'namorada', 'movimentos', 'montador', 'mole', 'min', 'microsoft', 'mensagens', 'menores', 'mega', 'maravilhosas', 'manteiga', 'mancha', 'machuca', 'líquido', 'luzes', 'link', 'linguiça', 'ligaram', 'li', 'leves', 'lesado', 'lacre', 'joguei', 'janela', 'jamais', 'j5', 'interface', 'informada', 'infantil', 'indicar', 'imediatamente', 'imagina', 'hidratação', 'google', 'geração', 'gato', 'garantida', 'ganhou', 'gamer', 'g5', 'funcionários', 'frustrada', 'fogo', 'fofo', 'fita', 'ficando', 'ficamos', 'feitos', 'fechar', 'fecha', 'fazia', 'fatura', 'faltam', 'expresso', 'explicações', 'exigir', 'evitar', 'estrelas', 'estrela', 'esteticamente', 'esquentou', 'esquentava', 'esposo', 'escolhido', 'escolher', 'erros', 'entro', 'entregarem', 'entra', 'encantada', 'elétrico', 'elogios', 'edredom', 'economia', 'dual', 'dourado', 'doméstico', 'diárias', 'directlog', 'dificulta', 'dificuldades', 'devolveram', 'devia', 'depeche', 'dell', 'deixaram', 'cápsulas', 'curta', 'corta', 'correndo', 'copos', 'cooler', 'contém', 'contraste', 'continuo', 'continue', 'contas', 'consumidores', 'console', 'conhecimento', 'conhecido', 'conhecer', 'comprarem', 'componentes', 'compensou', 'compensação', 'comparação', 'compacta', 'começar', 'comentário', 'cola', 'cinco', 'chegando', 'chapa', 'chamado', 'chama', 'cerveja', 'centro', 'caído', 'carteira', 'carregava', 'capinha', 'cancelada', 'cameras', 'calor', 'caindo', 'cadeirinha', 'box', 'bordas', 'bebidas', 'barbeador', 'bandeja', 'aviso', 'avalio', 'automática', 'automaticamente', 'atual', 'ato', 'atenda', 'atencioso', 'atenciosamente', 'arrasando', 'aquilo', 'aqueles', 'apena', 'apartamento', 'apaga', 'aonde', 'antiga', 'alça', 'altíssima', 'algodão', 'agradecer', 'agrada', 'afilhada', 'adultos', 'adesivo', 'acrílico', 'acessório', 'acessar', 'acabar', 'absolutamente', 'abriu', '64gb', '29122017', '2912', '28', '25', '24', '200', '18122017', '1000', '030118', 'è', 'áreas', 'Único', 'xixi', 'x4', 'whatsapp', 'web', 'voz', 'volumes', 'vitaminas', 'visor', 'visitas', 'violão', 'videos', 'video', 'viajando', 'venderam', 'vendedores', 'velocidades', 'velha', 'vazão', 'varal', 'v', 'utilizado', 'utilizada', 'utilidades', 'título', 'tênis', 'troquei', 'trocado', 'triste', 'travava', 'travar', 'tradicional', 'tiveram', 'tinham', 'termômetro', 'tentativas', 'tenham', 'tema', 'televisor', 'tecla', 'tampo', 'tabuleiro', 'surpreendendo', 'sugiro', 'sucção', 'submarino', 'suave', 'sonho', 'soluÇÃo', 'shampoo', 'sera', 'sensível', 'segundos', 'seguida', 'sedex', 'secar', 'saúde', 'saudável', 'saco', 'rua', 'rj', 'rio', 'restituição', 'respeitado', 'resolveram', 'resolvam', 'resolva', 'reputação', 'reforçada', 'referência', 'recente', 'receio', 'recebe', 'realizado', 'realizadas', 'quinta', 'quesitos', 'querer', 'quebradas', 'ps4', 'providências', 'provar', 'proposta', 'procedência', 'primeiros', 'prezados', 'previsao', 'prejuizo', 'preferi', 'pratos', 'praso', 'praia', 'pr', 'postagem', 'possivel', 'porq', 'pontas', 'poderei', 'play', 'pintar', 'pessoalmente', 'pesquisa', 'pesada', 'pendrive', 'pelicula', 'pegada', 'passando', 'parecido', 'parecer', 'parcelas', 'param', 'palhetas', 'palhaçada', 'ouro', 'operadora', 'ocasiões', 'obg', 'now', 'notei', 'nitidez', 'nessas', 'móveis', 'máxima', 'multifuncional', 'mudou', 'mostrado', 'mop', 'molhado', 'mode', 'minimo', 'mini', 'meninas', 'melhorou', 'mau', 'marrom', 'marchas', 'manutenção', 'malha', 'mala', 'magazine', 'lâmpada', 'lâminas', 'luminosidade', 'lona', 'logística', 'locais', 'ligo', 'ligava', 'ligando', 'ligada', 'levando', 'lesada', 'lençol', 'lentidão', 'lente', 'lembrando', 'legumes', 'lavei', 'lançamento', 'km', 'justamente', 'juros', 'jogando', 'joga', 'jato', 'jarra', 'isopor', 'inúmeros', 'investir', 'intenção', 'instrumento', 'instala', 'insatisfação', 'infância', 'informo', 'informem', 'informei', 'indo', 'indignada', 'indicação', 'incompleto', 'incomodar', 'hÁ', 'hp', 'grossos', 'grosso', 'gravar', 'grade', 'goste', 'golpe', 'glamor', 'gasto', 'galho', 'físicas', 'funcionava', 'funcionam', 'funcionalidades', 'fumaça', 'frutas', 'fraude', 'franquia', 'fragrância', 'fosco', 'fornecido', 'fornecedores', 'formas', 'fomos', 'firma', 'fiquem', 'fininho', 'finalidade', 'ferramentas', 'ferramenta', 'feira', 'fantástica', 'familiares', 'familia', 'faltaram', 'falantes', 'explicar', 'experiencia', 'exige', 'exceto', 'estudo', 'estragou', 'estragado', 'estivesse', 'estaria', 'estando', 'estampas', 'estabilidade', 'essencial', 'esquentar', 'esperei', 'espectativa', 'esforço', 'escura', 'escritório', 'entregador', 'entraram', 'entrando', 'entendimento', 'entendi', 'encosto', 'encaixou', 'encaixam', 'durando', 'droga', 'dourada', 'dou', 'dorme', 'diário', 'dizem', 'dito', 'distância', 'disponíveis', 'dispensa', 'discreto', 'digo', 'diante', 'devolvendo', 'desvantagem', 'destino', 'desliza', 'desligando', 'desculpa', 'desconto', 'descobri', 'delícia', 'deixei', 'definido', 'decepcionou', 'decepcionante', 'daquele', 'cortina', 'correr', 'conversar', 'contratar', 'continuam', 'constava', 'conhece', 'confiar', 'condomínio', 'condição', 'comprimento', 'comprada', 'compativel', 'compartimento', 'comparar', 'comoda', 'comercial', 'comandos', 'comando', 'colocou', 'colocado', 'cobrando', 'cobrado', 'claras', 'claramente', 'chiado', 'chateado', 'chamada', 'cesta', 'certamente', 'cds', 'causou', 'carros', 'caros', 'capaz', 'canudo', 'cantos', 'cachorro', 'cabos', 'básicas', 'brasileira', 'bloqueado', 'berço', 'bebedouro', 'bebe', 'baterias', 'batendo', 'banho', 'avó', 'avisando', 'avaliálo', 'auto', 'atendem', 'assunto', 'arrependimento', 'aro', 'armário', 'armazenar', 'aquecer', 'aprovo', 'aprendendo', 'aparecer', 'apaixonada', 'ambas', 'amarelo', 'amanhã', 'amador', 'alisadora', 'alisa', 'alergia', 'alavanca', 'adiantou', 'adesivos', 'adaptou', 'adaptar', 'acompanhamento', 'acionar', 'acender', 'abraços', '90', '8gb', '60', '500', '44', '35', '32', '22', '2112', '2016', '1912', '128', '11122017', '05122017', '0501', 'Única', 'È', 'À', 'xícara', 'watts', 'volante', 'vitamina', 'visão', 'viajar', 'vejam', 'vazio', 'vazando', 'vazamento', 'vassoura', 'varios', 'vapor', 'usuários', 'usamos', 'urgência', 'ultima', 'turbo', 'tubo', 'trouxe', 'travamentos', 'transmite', 'torta', 'tornou', 'torno', 'torcer', 'tocar', 'tiro', 'textura', 'testes', 'testando', 'televisores', 'telefonei', 'tecnico', 'tecnica', 'tantos', 'tais', 'sério', 'surpreso', 'suporta', 'sujo', 'suco', 'substituir', 'sp', 'soltos', 'soltam', 'soh', 'simulador', 'shopping', 'servem', 'senha', 'selfie', 'seguir', 'seco', 'screen', 'sait', 'sabão', 'sabem', 'rígido', 'ruins', 'ruido', 'rotina', 'ridículo', 'revoltante', 'revestimento', 'retornar', 'retangular', 'resume', 'representante', 'remove', 'remetente', 'relógios', 'relativamente', 'reiniciava', 'refresca', 'referida', 'recorrer', 'recomendações', 'recomendamos', 'recarrega', 'recarga', 'razão', 'rasgou', 'quinze', 'quarta', 'qualidades', 'qto', 'pulso', 'ps', 'protetora', 'protege', 'prometida', 'programa', 'prima', 'previsÃo', 'prestação', 'preparo', 'preparado', 'preocupada', 'preocupa', 'premium', 'prazoproduto', 'pouquinho', 'postado', 'possÍvel', 'possivelmente', 'possibilidade', 'possam', 'positivos', 'polegadas', 'podendo', 'podemos', 'piores', 'piada', 'pia', 'peÇa', 'pesadas', 'permitindo', 'perguntas', 'perfeição', 'perdido', 'perdeu', 'pendurada', 'peguei', 'pegou', 'pegando', 'pede', 'peca', 'parcialmente', 'parado', 'parada', 'pacote', 'paciência', 'organização', 'opnião', 'operação', 'ondulado', 'ondas', 'on', 'oleoso', 'oi', 'oficial', 'odiei', 'obrigação', 'novas', 'notas', 'nela', 'negócio', 'negocio', 'necessito', 'navegação', 'natural', 'nariz', 'nacional', 'mulher', 'mudaram', 'muda', 'msm', 'movimento', 'movimentar', 'mostrando', 'montei', 'ml', 'mg', 'metros', 'mentira', 'menino', 'marcar', 'marcante', 'maravilha', 'manualmente', 'mantegueira', 'maleta', 'mail', 'lo', 'liso', 'line', 'limpezas', 'ligadesliga', 'letras', 'lei', 'lego', 'legais', 'lebre', 'lava', 'laser', 'larga', 'laranja', 'lanterna', 'lampada', 'lamina', 'lados', 'laboratório', 'kkkkkk', 'kg', 'juntos', 'judicial', 'jardim', 'irão', 'irresponsável', 'irmão', 'investido', 'interativo', 'intacto', 'instalados', 'inicio', 'iniciantes', 'informava', 'indisponível', 'indignação', 'indicarei', 'incríveis', 'inconveniente', 'inclinado', 'imprimir', 'importa', 'imediato', 'imaginação', 'ilumina', 'igualzinha', 'iguais', 'i5', 'historia', 'haver', 'havendo', 'guerra', 'gráfico', 'grossa', 'gravação', 'grava', 'grana', 'gostoso', 'gostosa', 'gostaram', 'gostam', 'gordura', 'gold', 'gaveta', 'gatos', 'garrafinha', 'ganhar', 'galinha', 'g3', 'fáceis', 'furadeira', 'funcione', 'funcionado', 'frascos', 'frango', 'fotografia', 'fortemente', 'fones', 'folha', 'fizemos', 'finalizar', 'finalizado', 'filmagem', 'figura', 'fiel', 'ficha', 'ferve', 'felicidade', 'feedback', 'fechados', 'façam', 'farei', 'falhou', 'faca', 'fabricação', 'fabrica', 'extra', 'explicativo', 'existem', 'exijo', 'execução', 'exata', 'estudos', 'estourar', 'estilo', 'estes', 'estarei', 'estao', 'estampa', 'esperada', 'especialmente', 'espaçosa', 'escrita', 'escovas', 'escada', 'enviasse', 'enviando', 'enviada', 'entrarei', 'entradas', 'enrolado', 'engano', 'enganei', 'encomendei', 'encaminhei', 'encaminharam', 'encaixado', 'embalagens', 'embalados', 'elaborado', 'edição', 'editar', 'econômica', 'economizar', 'dói', 'dágua', 'duvida', 'dormir', 'doce', 'dobro', 'diziam', 'distribuidora', 'distração', 'distante', 'dispositivo', 'display', 'diretamente', 'digitação', 'dica', 'devolva', 'devida', 'devem', 'deus', 'desrespeito', 'desencaixa', 'descascada', 'descarregar', 'desapontada', 'derreter', 'depende', 'delicioso', 'delas', 'deixado', 'definição', 'definitivamente', 'decidi', 'debitado', 'datas', 'daqui', 'daqueles', 'danificar', 'dai', 'dagua', 'dada', 'cx', 'curvas', 'cumprimento', 'cujo', 'cuba', 'credibilidade', 'cozinhar', 'cozimento', 'couro', 'corrente', 'corre', 'convencional', 'controles', 'contras', 'contatos', 'considero', 'considerei', 'considerando', 'confortáveis', 'confortaveis', 'conferir', 'confere', 'conectado', 'conect', 'condicionado', 'concreta', 'concorrência', 'conceituada', 'comunicado', 'compromissos', 'comprometimento', 'compreensão', 'compraram', 'complicada', 'compartimentos', 'comparando', 'comentarios', 'coluna', 'colocamos', 'coifa', 'cobertura', 'cinto', 'china', 'chegam', 'chef', 'chato', 'charme', 'cep', 'casal', 'carregada', 'carnes', 'canguru', 'campo', 'camiseta', 'cafés', 'brinquedos', 'brincando', 'brilhante', 'braços', 'braço', 'boys', 'botoes', 'bonitão', 'bolso', 'bolo', 'bolha', 'bocas', 'bivolt', 'bico', 'bater', 'banquetas', 'balde', 'baita', 'baby', 'azuis', 'aumento', 'atualmente', 'atualizar', 'atrativo', 'atrasada', 'atras', 'atrapalha', 'atraente', 'atividade', 'atendentes', 'assar', 'aspirar', 'aspectos', 'arrependida', 'arranhões', 'arranhão', 'aquelas', 'aquecimento', 'aprovação', 'apropriada', 'apresentado', 'aprender', 'aparenta', 'aparecia', 'antiaderente', 'antecipada', 'americanacom', 'ameiiii', 'amassadas', 'alternativa', 'almofada', 'alcança', 'ajuste', 'agência', 'agendado', 'agenda', 'adora', 'acontecido', 'acontecendo', 'aconchegante', 'acompanhado', 'acidente', 'acertar', 'acer', 'acende', 'aceitar', 'acabaram', 'acabamentos', '70', '41', '360', '29', '28122017', '2812', '27122017', '26122017', '221217', '220', '20122017', '201217', '19122017', '151217', '121217', '100ml', '08012018', '080118', '08', '07', '06', '05012018', '020118', '01122017', '01012018', 'úmido', 'últimos', 'ângulo', 'Ótimas', 'zwilling', 'zoom', 'z', 'wahl', 'volto', 'vocÊ', 'voce', 'vive', 'visualizar', 'viria', 'viram', 'vira', 'violado', 'vimos', 'vibrador', 'viaja', 'vga', 'verdadeiro', 'venta', 'venha', 'veloz', 'velho', 'veda', 'vazar', 'varrer', 'vantagens', 'valem', 'vagabundo', 'utilize', 'utilizava', 'utiliza', 'utilidade', 'usaram', 'usam', 'usalo', 'urgentemente', 'universal', 'unidade', 'unico', 'ultra', 'u', 'térmica', 'trocaram', 'trinta', 'trincou', 'tricae', 'treinos', 'tratava', 'tratase', 'tras', 'transtornos', 'transação', 'tradicionais', 'toner', 'tomei', 'tomando', 'toca', 'tivessem', 'tiverem', 'titulo', 'tido', 'tesoura', 'terá', 'terem', 'terceiros', 'terceirizada', 'tenis', 'telas', 'teflon', 'tecno', 'tbem', 'taxa', 'tanque', 'tampouco', 'tambÉm', 'tamanha', 'séries', 'surpresas', 'sucos', 'substituição', 'soube', 'sonora', 'sombras', 'solucionado', 'soltinho', 'solteiro', 'soltas', 'solicitações', 'sogra', 'sofreu', 'sofisticado', 'sobrinhos', 'situações', 'sirvo', 'sintoniza', 'sinceramente', 'similares', 'similar', 'silicone', 'setor', 'sete', 'servindo', 'separados', 'sentiu', 'sentir', 'sentido', 'sente', 'sensibilidade', 'selfies', 'seis', 'segurando', 'secagem', 'secadores', 'saí', 'sapato', 'salgado', 'salada', 'saindo', 'sachês', 's7', 'rádio', 'ruídos', 'roubada', 'rotativa', 'rosca', 'rodinha', 'robustez', 'riscos', 'ressarcimento', 'ressarcida', 'respondido', 'responderem', 'respeitar', 'reposição', 'renovação', 'rendimento', 'remover', 'remessa', 'relacionamentos', 'reiniciando', 'registros', 'registro', 'refrigera', 'referido', 'reenviar', 'recurso', 'recomendoo', 'recomendoe', 'recomendochegou', 'recomendação', 'recepção', 'receoso', 'recebida', 'receberia', 'reavaliar', 'realização', 'realiza', 'razoavelmente', 'rastilho', 'rasgado', 'rapaz', 'ramos', 'radio', 'rack', 'rachou', 'r20000', 'questionei', 'questionando', 'querida', 'queremos', 'queixas', 'queixar', 'queimadores', 'quebraram', 'quantos', 'quaisquer', 'qd', 'péssimas', 'pão', 'puxa', 'puro', 'pulgas', 'puder', 'ps3', 'próximos', 'prós', 'providência', 'providencias', 'protudo', 'protegido', 'pros', 'propósito', 'proprio', 'prometeram', 'promessa', 'projeto', 'projetado', 'profundidade', 'produção', 'produtonão', 'produtoentrega', 'produtochegou', 'producto', 'procuro', 'processos', 'procedimento', 'procede', 'primo', 'primeiramente', 'preÇo', 'pressionar', 'presidente', 'presenteado', 'preparar', 'prepara', 'preocupação', 'prejudica', 'preferência', 'precinho', 'prateleiras', 'power', 'pote', 'posterior', 'postei', 'possíveis', 'possuo', 'porco', 'poderá', 'plug', 'planeta', 'piscar', 'pirata', 'pipoqueira', 'pintei', 'phone', 'pesquisas', 'pesquisando', 'pescoço', 'pesa', 'personagens', 'persiana', 'pernas', 'permanece', 'perguntando', 'pergunta', 'perfumaria', 'perdendo', 'perceptível', 'pequenina', 'pensem', 'peneira', 'pegam', 'pedidos', 'pedia', 'patê', 'passava', 'passam', 'pasmem', 'pararam', 'parabenizo', 'palavra', 'padrões', 'ouvidos', 'organizado', 'orelha', 'optar', 'ondulados', 'olho', 'oferecido', 'oferecer', 'ocasião', 'observar', 'objetos', 'objeto', 'nítidas', 'numeração', 'novos', 'novinho', 'noticia', 'nostálgico', 'nossos', 'ninguÉm', 'net', 'nesses', 'nescafé', 'negativa', 'necessárias', 'necessita', 'necessario', 'ne', 'nasceu', 'nacionais', 'mídias', 'médio', 'más', 'musa', 'muio', 'mudo', 'mudei', 'ms', 'movimentação', 'mostrou', 'mostrava', 'mostram', 'moral', 'mora', 'montada', 'monta', 'mondial', 'momentos', 'molhada', 'molde', 'moderado', 'modelar', 'modelador', 'mo', 'mixer', 'minions', 'milagre', 'micro', 'mi', 'metal', 'messa', 'merece', 'melhoria', 'melhora', 'melhem', 'mediano', 'maternidade', 'materiais', 'marketplace', 'marinar', 'maravilhosos', 'manuseálo', 'manuseado', 'mantendo', 'manobras', 'manifestou', 'mandam', 'manchas', 'malas', 'maia', 'magic', 'mae', 'macios', 'macias', 'machucar', 'macho', 'lê', 'luta', 'louca', 'longos', 'lol', 'live', 'lista', 'linux', 'linguagem', 'ligam', 'levaria', 'levado', 'lendo', 'lazer', 'lata', 'largo', 'laptop', 'lancheira', 'lacrada', 'kkkk', 'justos', 'justiÇa', 'jose', 'irresponsabilidade', 'ips', 'intuito', 'internos', 'interferência', 'intenso', 'insuportável', 'insuperável', 'inimigo', 'iniciando', 'informa', 'inferiores', 'indignado', 'indicada', 'indica', 'incômodo', 'incrivel', 'incomodou', 'inclui', 'impressionado', 'impossivel', 'impossibilitado', 'imports', 'importar', 'impede', 'impacto', 'imensa', 'identificação', 'ideia', 'hábil', 'hoverboard', 'houver', 'horário', 'horrÍvel', 'horrivel', 'horizontal', 'honra', 'homem', 'hidratante', 'hidratado', 'headset', 'hdr', 'haviam', 'gás', 'grudar', 'grosseiro', 'grelha', 'graças', 'gravado', 'graus', 'gostar', 'globoplay', 'globo', 'gatinha', 'gastando', 'garantiu', 'garantir', 'gama', 'g5s', 'g4', 'futuras', 'furações', 'fundamental', 'funcionaria', 'frustrante', 'frizz', 'frio', 'fria', 'fresco', 'freio', 'fralda', 'fragilidade', 'fracos', 'fps', 'forneceu', 'focar', 'fixo', 'fixador', 'fixado', 'fininha', 'finas', 'finalizei', 'finalidades', 'filhas', 'festa', 'ferragens', 'feriado', 'feijão', 'fechamento', 'fechado', 'faça', 'faÇo', 'fantasia', 'faltar', 'falou', 'falo', 'facilitando', 'extremidades', 'extrema', 'extravio', 'externo', 'externa', 'expectativasrecomendo', 'existia', 'exigente', 'executa', 'execelente', 'exclente', 'exceção', 'ex', 'evolução', 'etiqueta', 'estética', 'estável', 'estranha', 'estragar', 'estornado', 'estive', 'estendida', 'estações', 'esquece', 'espuma', 'espremedor', 'esponja', 'espessura', 'espelhos', 'espelho', 'espelhado', 'especifico', 'espaços', 'escovão', 'escolhida', 'esclarecimentos', 'equivalente', 'eou', 'envolvidos', 'envolvida', 'enviarão', 'envia', 'entregariam', 'entregando', 'entregadores', 'entramos', 'entorta', 'entes', 'ensina', 'enrosca', 'enrolando', 'enganados', 'enganada', 'enchimento', 'encaixes', 'encaixar', 'en', 'empenho', 'emitiram', 'emite', 'emborrachado', 'embalar', 'elástico', 'elimina', 'eletrolux', 'electrolux', 'eficientes', 'efetuou', 'efetuado', 'efetua', 'econômico', 'ecommerce', 'dê', 'dure', 'duravel', 'duras', 'duradoura', 'drivers', 'dr', 'domingo', 'dl', 'divisórias', 'divertir', 'divertida', 'distribuição', 'distribuidor', 'dirá', 'direção', 'direita', 'direct', 'diminuiu', 'digitais', 'difíceis', 'dificultando', 'diametro', 'devolvêlo', 'devolveu', 'devolucao', 'devidamente', 'devese', 'devendo', 'destravar', 'destinatário', 'destina', 'desperdício', 'desorganizado', 'desmonta', 'desligado', 'desistir', 'designe', 'desgaste', 'desenhos', 'desculpas', 'descartável', 'derrubar', 'derreteu', 'denovoexcelente', 'demorei', 'demoraram', 'demoram', 'demonstrado', 'demonstra', 'deixam', 'definitiva', 'daria', 'cílios', 'custa', 'curtindo', 'cupom', 'cumprem', 'cuja', 'criancas', 'credito', 'coube', 'costumo', 'corrigir', 'corridas', 'conversor', 'convencionais', 'contínuo', 'contrario', 'continuarei', 'contento', 'consumir', 'constar', 'considerável', 'considerado', 'consertar', 'conhecida', 'confirmação', 'confirmar', 'confiando', 'conclusão', 'conceito', 'comuns', 'compreender', 'comprava', 'compradores', 'comprador', 'complicações', 'completar', 'competência', 'competente', 'comparada', 'comentar', 'comecei', 'combinada', 'combina', 'coloridas', 'coloque', 'colocaram', 'colocando', 'coleta', 'colegas', 'colcha', 'colar', 'cod', 'cobre', 'coador', 'climatizador', 'clean', 'cinema', 'churrasco', 'cheiroso', 'chegará', 'chamados', 'chamadas', 'cesto', 'cerdas', 'cenários', 'cel', 'causar', 'cartao', 'carrinhos', 'carretilha', 'carregou', 'carregadores', 'cargas', 'capta', 'capacete', 'canto', 'caneta', 'caneca', 'cancelam', 'camada', 'calço', 'calçado', 'calça', 'calcinhas', 'cafe', 'caem', 'cadastro', 'cabem', 'básica', 'bucha', 'brinca', 'bonitos', 'bonitinho', 'bomchegou', 'bolsinha', 'bolinhas', 'bolado', 'blá', 'blusa', 'biométrico', 'bicho', 'besteira', 'benefÍcio', 'belíssimo', 'bela', 'beira', 'bebês', 'beber', 'bb', 'batida', 'bate', 'batata', 'barulhinho', 'banheira', 'banda', 'baixei', 'bagageiro', 'bacia', 'babá', 'b', 'aço', 'azeite', 'avisado', 'avariado', 'avançado', 'avalie', 'avaliando', 'avaliacao', 'avalia', 'autonomia', 'aumenta', 'atualizou', 'atualiza', 'atrapalham', 'atitude', 'assistindo', 'assadeiras', 'assa', 'aspira', 'articulada', 'art', 'arroz', 'arrisquei', 'arrependido', 'arno', 'armários', 'aquela', 'aprovou', 'aproveitei', 'aproveitar', 'aprovei', 'apertado', 'apareceu', 'apagou', 'apagando', 'apagada', 'anunciam', 'anti', 'anteriormente', 'anteriores', 'antecipadamente', 'ansioso', 'animal', 'angulo', 'andar', 'andador', 'analisar', 'ana', 'américas', 'amor', 'amamos', 'ama', 'alteração', 'alisou', 'aliseu', 'alias', 'aletas', 'alegrias', 'alegria', 'alegaram', 'alegando', 'alarme', 'ajustada', 'ajusta', 'ajude', 'ajudando', 'air', 'ah', 'agente', 'afinal', 'afilhado', 'advogado', 'adulto', 'adquirilo', 'aderente', 'adequadamente', 'adequada', 'adaptando', 'acostumado', 'acostuma', 'acordado', 'acompanhando', 'acionei', 'achou', 'achava', 'acesa', 'acertado', 'acerca', 'acento', 'acelerar', 'aceitou', 'abrindo', 'abraço', 'abertura', 'abertos', '8mpx', '8000', '800', '80', '5s', '55', '4g', '48', '46', '45', '2911', '281117', '27112017', '25112017', '2312', '220v', '2012', '1ª', '1gb', '17', '16gb', '1601', '150', '14122017', '12122017', '120', '1000w', '08122017', '0812', '0801', '0512', '05', '04122017', '04', '03122017', '0112', '010118', '“', 'úmida', 'ótimochegou', 'ótimaspreço', 'ínfimo', 'índice', 'épocas', 'álbum', 'Ótimos', 'zíper', 'ziper', 'ze551ml', 'yoke', 'yamaha', 'xplane', 'xiaomi', 'word', 'whats', 'webos', 'walita', 'w', 'vêm', 'vê', 'válido', 'vÁrias', 'voo', 'voltando', 'voaram', 'voar', 'voando', 'vizinhos', 'vizinho', 'vivos', 'viver', 'viu', 'visibilidade', 'virtude', 'virou', 'virem', 'viciante', 'veículo', 'vestem', 'vertical', 'verniz', 'verifiquem', 'verifiquei', 'verificou', 'vendidos', 'vendedora', 'venceu', 'veludo', 'vedar', 'vazia', 'vassouras', 'vaso', 'varinha', 'variados', 'varetas', 'vara', 'vantagem', 'valvula', 'valores', 'va', 'utéis', 'utilizações', 'utilizamos', 'usufruir', 'usos', 'usbc', 'usarei', 'usadas', 'usabilidade', 'urbano', 'uniforme', 'unhas', 'une', 'una', 'ultrapassado', 'ultimamente', 'tô', 'têlo', 'térmico', 'técnicas', 'tÔ', 'tutorial', 'turma', 'tubinhos', 'trocasse', 'trocas', 'trocaria', 'trocarem', 'triturar', 'tristeza', 'trincada', 'triciclo', 'treinamento', 'travesseiros', 'tratando', 'traseiro', 'transparência', 'transformando', 'transforma', 'transferência', 'tranquilidade', 'tranquila', 'tranco', 'tradução', 'tradição', 'trabalhando', 'touchpad', 'torto', 'tortas', 'tonto', 'tomo', 'tomem', 'tome', 'toma', 'todavia', 'todaaaa', 'tm', 'tirou', 'tiraram', 'tintas', 'time', 'theater', 'the', 'terrível', 'termo', 'teriam', 'terceirizado', 'tente', 'tentamos', 'tempestivamente', 'temia', 'televisÃo', 'telefonema', 'tel', 'teclados', 'tarefa', 'tanta', 'tampão', 'tampas', 'tablets', 'tabelado', 'tab', 't', 'séculos', 'sutil', 'sustentação', 'suspense', 'suprindo', 'superfície', 'suoer', 'sumiu', 'sul', 'sujando', 'sugestão', 'sugerido', 'stress', 'store', 'star', 'ssd', 'srs', 'sra', 'sr', 'spray', 'souza', 'sortido', 'sono', 'somos', 'some', 'sombra', 'soluçao', 'solucionaram', 'solteiros', 'solda', 'sofÁ', 'sofa', 'sobrou', 'sobrinhas', 'sobrecarregado', 'sobrancelhas', 'sob', 'slot', 'skatenet', 'sistemas', 'sintonia', 'sinistro', 'singelo', 'simplismente', 'simplificado', 'silva', 'significativa', 'shoptime', 'shimano', 'serão', 'serÁ', 'serviria', 'serventia', 'serpentina', 'serio', 'seriedade', 'seriam', 'sequinho', 'separado', 'sentindo', 'sentado', 'sentada', 'senta', 'semelhantes', 'semelhante', 'self', 'seguintes', 'segui', 'segue', 'sedoso', 'sede', 'secretaria', 'saídas', 'saude', 'sat', 'sastifeita', 'sas', 'sansung', 'sanar', 'samart', 'salvou', 'salvo', 'salientar', 'sal', 'saitek', 'saida', 'saiba', 'saia', 'saga', 'safados', 'sache', 'sabores', 'sabemos', 's2', 'rápidas', 'rápidachegou', 'rápidaamericanas', 'rádios', 'rsrsrs', 'roxo', 'router', 'roupinhas', 'roubaram', 'roubando', 'rota', 'rodo', 'rodando', 'robô', 'robusta', 'riscada', 'risca', 'risada', 'rim', 'rihappy', 'ricardo', 'revoltada', 'revestida', 'reversa', 'reunião', 'retornou', 'retornariam', 'retorna', 'retirei', 'retiraram', 'reta', 'resumo', 'restaurante', 'ressarcido', 'ressaltar', 'responsáveis', 'respondi', 'respeitem', 'resolvermos', 'resolveriam', 'resolvendo', 'residencial', 'resgate', 'resgatar', 'resfriar', 'requisito', 'repica', 'repetir', 'repetidor', 'repensar', 'reparei', 'reparado', 'remédio', 'removível', 'remete', 'relato', 'relatei', 'relatados', 'relacao', 'regulável', 'regulador', 'regras', 'registrei', 'registrar', 'registrado', 'refere', 'reembolsar', 'reembolsado', 'redução', 'reduz', 'redor', 'recém', 'recusar', 'recusado', 'reconhecimento', 'reconheceu', 'recomendovou', 'recomendou', 'recomenda', 'recoloquei', 'reclameaqui', 'reclamaçoes', 'reclamaÇÃo', 'recipiente', 'receptor', 'recentemente', 'recebí', 'recebêlo', 'recebir', 'recebipor', 'recebiestou', 'recebendo', 'receba', 'recarregável', 'recarregar', 'recado', 'reborn', 'rebarbas', 'realizou', 'razer', 'raspar', 'rasga', 'raiz', 'rachado', 'racha', 'r35000', 'r15000', 'quê', 'quinto', 'quilômetros', 'qui', 'questões', 'questionar', 'questionamentos', 'questionamento', 'querido', 'quentes', 'queixa', 'queimar', 'queimada', 'queijo', 'quebrei', 'quebracabeça', 'quartos', 'quantidades', 'quantas', 'qualidadechegou', 'quais', 'quadrados', 'quadrado', 'pães', 'pás', 'puxadores', 'pura', 'pular', 'puff', 'publicidade', 'publicado', 'próximas', 'próprios', 'pré', 'práticos', 'prÁtico', 'prudente', 'proximidade', 'providenciar', 'provem', 'protetor', 'protegida', 'proteger', 'proporcionar', 'proporcional', 'propagandas', 'prometem', 'promessas', 'projeção', 'projetor', 'programada', 'profundo', 'profundamente', 'profissionalismo', 'professor', 'produzir', 'produzido', 'produtoé', 'produtopois', 'produtomas', 'produtogostei', 'produtoexcelente', 'processa', 'procedimentos', 'print', 'principio', 'princesa', 'primeiras', 'preÇos', 'pretendido', 'pretende', 'pretas', 'prestativo', 'prestar', 'presos', 'presilha', 'presentes', 'presenteei', 'preocupado', 'prendem', 'prende', 'prejudicado', 'prefeito', 'precisamos', 'preciosidade', 'prazotudo', 'prazorecomendo', 'prazofiquei', 'prato', 'praticar', 'pras', 'pranchas', 'pouquíssima', 'postura', 'posteriormente', 'postergaram', 'postal', 'possibilita', 'posições', 'positivas', 'porÉm', 'portando', 'população', 'pop', 'pontuação', 'pontualidade', 'ponteiros', 'ponteiras', 'política', 'poltronas', 'poblema', 'plásticos', 'plástica', 'plugue', 'planos', 'plano', 'place', 'placas', 'pires', 'piratas', 'pipocas', 'piorar', 'pin', 'pijama', 'piano', 'pessíma', 'pesquisar', 'pesquisado', 'pesei', 'pesar', 'permitir', 'permitido', 'perguntei', 'perguntar', 'perfumes', 'perfumado', 'perfis', 'perdera', 'perdas', 'perda', 'percebo', 'perceber', 'percebemos', 'percam', 'perante', 'pentes', 'pensava', 'pensarei', 'pensado', 'peludo', 'peito', 'pegue', 'pegava', 'pedras', 'pedida', 'pedaços', 'pecinha', 'país', 'pau', 'patinete', 'pasta', 'passos', 'passear', 'passaramse', 'passamos', 'passagem', 'passados', 'particularmente', 'particulares', 'pareceu', 'parceiras', 'paralelo', 'parabénsentrega', 'par', 'papelao', 'panel', 'paineis', 'pagamentos', 'pad', 'pack', 'pacientes', 'ouvi', 'otimos', 'otimamente', 'orientações', 'organizaÇÃo', 'organizar', 'orfanato', 'opçao', 'operar', 'operadoras', 'olhei', 'olhando', 'ola', 'ofertas', 'ofertadas', 'ofereçam', 'oferecendo', 'of', 'octacore', 'ocorrência', 'ocorreram', 'ocorrendo', 'oco', 'ocasional', 'obtendo', 'observei', 'observando', 'obrigatória', 'objetivos', 'nº', 'nuvem', 'noção', 'novidade', 'noticiado', 'normais', 'nobreaks', 'nnnnnnnnnnnn', 'nitida', 'nisso', 'nintendo', 'neve', 'netinho', 'netinha', 'nescau', 'negou', 'negando', 'necessários', 'necessária', 'necessitando', 'navios', 'nativos', 'naquela', 'napa', 'músicas', 'móbile', 'mídia', 'método', 'mÃo', 'mÁquinas', 'muuuuuito', 'muto', 'musica', 'music', 'multiplus', 'muitooo', 'muiiito', 'mui', 'mudanças', 'mudança', 'mudado', 'mtu', 'movimenta', 'motorzinho', 'motivos', 'mostruário', 'morno', 'moreira', 'monte', 'monitores', 'monitoramento', 'molho', 'molhadinhos', 'molha', 'mola', 'modernos', 'modeladores', 'mochilas', 'mobilidade', 'minusculas', 'milagres', 'migrando', 'midea', 'microscópio', 'mexe', 'metálico', 'metro', 'messes', 'mesmas', 'mesas', 'mental', 'menina', 'memory', 'melhormas', 'melhorada', 'mel', 'meias', 'medição', 'mediante', 'mediana', 'media', 'meados', 'mdf', 'max', 'mastertronic', 'massinha', 'março', 'martins', 'marketing', 'marcou', 'marco', 'maquininha', 'maquinas', 'manuais', 'mantive', 'mantem', 'manivela', 'manipular', 'manifestar', 'manifestam', 'mania', 'manequim', 'manejar', 'mando', 'mande', 'mandaro', 'mandado', 'manchado', 'manchada', 'mah', 'madeiras', 'mada', 'macia', 'mac', 'ma', 'lâmpadas', 'luxo', 'luthier', 'lupo', 'luminária', 'luiza', 'luiz', 'louvor', 'loucos', 'lojasfascina', 'loira', 'logistica', 'localização', 'loas', 'litros', 'litro', 'listras', 'liss', 'lisos', 'ling', 'lindoooo', 'lindinha', 'limpando', 'limites', 'limitação', 'ligaÇÃo', 'lido', 'licença', 'liberado', 'levinha', 'levemente', 'levaram', 'levam', 'levada', 'lenta', 'lembro', 'lembrar', 'legislação', 'legendas', 'legendado', 'lcd', 'lavagens', 'lavadas', 'lavada', 'latia', 'lascados', 'largas', 'lançar', 'lança', 'lamentavelmente', 'kmseg', 'kkkkk', 'ki', 'k10', 'justificativa', 'justificaram', 'jogava', 'jogam', 'jogada', 'joelho', 'jackson', 'j1', 'irritar', 'irregular', 'ira', 'ipad', 'ios', 'inútil', 'intermediária', 'interessei', 'interessar', 'interessantes', 'interessado', 'intensidade', 'inteligente', 'intel', 'inteiramente', 'intacta', 'instrução', 'instantâneo', 'insiste', 'insastifeita', 'inovador', 'inoar', 'inmetro', 'iniciou', 'iniciei', 'iniciativa', 'iniciar', 'inicialmente', 'inicial', 'informática', 'informe', 'informatica', 'informadas', 'inferno', 'infelismente', 'induzido', 'indicadora', 'independente', 'incorreto', 'incomodam', 'incomoda', 'incluso', 'inclinação', 'inchou', 'impresso', 'impressionante', 'impressa', 'imprescindível', 'impossibilitou', 'impossibilidade', 'importância', 'impasse', 'imitando', 'imbatível', 'imagino', 'imaginem', 'imagemsom', 'ilustrativas', 'iluminaçao', 'iluminado', 'ilimiti', 'ilha', 'igualzinho', 'idêntico', 'idosos', 'identificar', 'i7', 'i', 'hz', 'httpwwwalfatrackingcombrtracker07122017fm2ccpc8mj', 'hrs', 'houvesse', 'hospital', 'horror', 'horizonte', 'honestidade', 'hoje030118', 'histórico', 'histórias', 'hidratar', 'helicóptero', 'headphones', 'haja', 'hahaha', 'haha', 'h', 'gusto', 'guitarra', 'guidão', 'guardado', 'gta', 'grupo', 'grudam', 'gril', 'graves', 'grave', 'gratis', 'gramas', 'gourmet', 'gostava', 'gostariam', 'gostado', 'golden', 'gol', 'global', 'girar', 'gilete', 'gigante', 'ghz', 'gerar', 'gerando', 'gerais', 'gerada', 'gera', 'gentileza', 'gelado', 'geladinha', 'gaveteiro', 'gasta', 'gasolina', 'gas', 'garoto', 'garfos', 'garfo', 'garagem', 'gamo', 'gamers', 'galhos', 'galera', 'fé', 'futebol', 'furo', 'furar', 'fundos', 'funcionaram', 'funcionais', 'frustado', 'frustada', 'frouxo', 'frigideiras', 'friburgo', 'freqüência', 'frequentemente', 'frequencias', 'frases', 'fragil', 'fotografias', 'fornecer', 'fornecedora', 'fornece', 'formulário', 'formol', 'formidável', 'formatar', 'forem', 'ford', 'folhas', 'folga', 'fogao', 'fofinho', 'focus', 'foca', 'fm', 'fluído', 'fluorescente', 'fluido', 'fluidez', 'floresta', 'flexível', 'flanela', 'fl', 'fizer', 'fixas', 'fixada', 'fivelas', 'fitness', 'fisicas', 'fisicamente', 'finos', 'finalização', 'filtrada', 'filmando', 'filhinha', 'filete', 'fifa', 'fielmente', 'ficava', 'ficará', 'fiapos', 'fevereiro', 'fervedor', 'ferrugem', 'ferrei', 'felpudo', 'feia', 'fecho', 'fechando', 'fecham', 'fechada', 'faxina', 'favorável', 'fatos', 'fator', 'fase', 'fascinante', 'fará', 'farmácia', 'farinha', 'faria', 'fantasma', 'faltantes', 'falsas', 'falei', 'fake', 'facebook', 'face', 'facas', 'facafaca', 'fabricado', 'fabricacao', 'extraviado', 'extraviada', 'extrator', 'extras', 'externos', 'externamente', 'extensão', 'expressa', 'express', 'exposto', 'explorar', 'explicam', 'expansão', 'expandir', 'executar', 'excesso', 'excessivo', 'excelentesuper', 'excelenteatendeu', 'excelencia', 'exato', 'exagerado', 'evita', 'estágios', 'estÃo', 'estudantes', 'estresse', 'estragaram', 'estraga', 'estourou', 'estoura', 'estojo', 'estiverem', 'estimada', 'esteira', 'estarem', 'estante', 'estalar', 'estabelecida', 'esquentando', 'esqueci', 'esqueceu', 'esquecer', 'esportes', 'espirrando', 'espinhas', 'espetáculo', 'espertos', 'esperamos', 'especificação', 'especifica', 'especializadas', 'escuros', 'escrevendo', 'escorrer', 'escorregar', 'escorrega', 'escola', 'escelente', 'esbranquiçada', 'errar', 'errados', 'equívoco', 'equivale', 'equilíbrio', 'epoca', 'envolvidas', 'envolver', 'envolve', 'enviem', 'enviarem', 'enviam', 'enunciado', 'entretida', 'entreguem', 'entreguei', 'entregas', 'entregarão', 'entregae', 'entregado', 'entram', 'entraga', 'entende', 'ensinar', 'enrola', 'engraçado', 'engenheiro', 'enganação', 'enganar', 'engana', 'enferrujou', 'encostar', 'encontro', 'encontrava', 'encontraram', 'encontrando', 'enche', 'encarte', 'encaixados', 'emitido', 'emissão', 'embrulho', 'embaladas', 'emais', 'elásticos', 'elvis', 'eliminar', 'elgin', 'elefante', 'elastico', 'eis', 'eficácia', 'eficientemente', 'efetuarem', 'efeitos', 'educação', 'edições', 'editora', 'edge', 'ed', 'economica', 'eata', 'década', 'débito', 'dÃo', 'dÁ', 'duvidando', 'durex', 'durava', 'duram', 'duradouras', 'durado', 'duplo', 'dose', 'dormitórios', 'dona', 'domestico', 'dolce', 'documentos', 'documentação', 'dlc', 'dividido', 'divertindo', 'diverte', 'diversificar', 'dita', 'distribuído', 'distancia', 'dispõe', 'disposição', 'dispositivos', 'disponibiliza', 'disponibilidade', 'dispensável', 'dirigir', 'dinossauros', 'dimensão', 'digno', 'digitar', 'digamos', 'dificilmente', 'diariamente', 'diamantes', 'diaadia', 'devolvam', 'devoluçãotroca', 'devoluçao', 'devemos', 'detalhado', 'detalhada', 'destruída', 'destinado', 'destaques', 'destacar', 'desperta', 'despacho', 'desorganizados', 'desodorante', 'desmontava', 'desmontando', 'desmontado', 'desmontada', 'desisti', 'desing', 'desfiando', 'desfiada', 'desfavor', 'descubro', 'descritos', 'descritivo', 'descritas', 'descosturou', 'descontente', 'descontentamento', 'desconfortáveis', 'desconforto', 'desconfigurava', 'desconfiei', 'desconecta', 'descolaram', 'descascar', 'descascando', 'descascador', 'descarregado', 'desbloquear', 'desapontado', 'desafio', 'desabona', 'dermatologista', 'der', 'depósito', 'depender', 'deparo', 'deparei', 'denunciar', 'dentre', 'demorava', 'demanda', 'deliciosas', 'delicado', 'deixo', 'deitado', 'deformado', 'defesa', 'dedicação', 'dedicada', 'decoração', 'decoraÇÕes', 'decorativo', 'declarar', 'deck', 'debaixo', 'dardos', 'daquilo', 'dano', 'danificações', 'cônsul', 'cômodo', 'cômoda', 'cópias', 'cão', 'cápsula', 'cá', 'cÓdigo', 'custura', 'custou', 'custos', 'custar', 'curtir', 'curte', 'cupcake', 'cunhada', 'cumpriram', 'cumprindo', 'cultura', 'cuidar', 'cuidando', 'cueca', 'cromada', 'cristal', 'crise', 'crime', 'criei', 'criativo', 'criatividade', 'cria', 'crescimento', 'crepe', 'creme', 'cravos', 'cpf', 'cozinhas', 'cotidiano', 'costuras', 'costume', 'costumava', 'cortador', 'corrigida', 'corrida', 'correria', 'correntes', 'corra', 'coroa', 'convidativo', 'contrato', 'contratempo', 'contrapartida', 'continuem', 'contenção', 'consumo', 'consumidora', 'consultei', 'consulte', 'consul', 'construção', 'constatei', 'constatar', 'constantemente', 'constante', 'constando', 'consiga', 'consideravelmente', 'considerar', 'consertos', 'conserto', 'conseguia', 'conseguem', 'confusão', 'conformes', 'confirmei', 'confirmado', 'confiavel', 'confiabilidade', 'confeccionado', 'conector', 'conecto', 'conectividade', 'conectando', 'cone', 'condiçoes', 'condiÇÕes', 'condiÇÃo', 'condizente', 'concursos', 'concorrente', 'concluído', 'conclusões', 'concluir', 'concerteza', 'comércio', 'comuniquei', 'comprálo', 'compraentrega', 'comprados', 'compradas', 'comporta', 'complica', 'complemente', 'complementar', 'compensar', 'compensam', 'comida', 'começando', 'comeÇar', 'comercializados', 'comer', 'combo', 'combinou', 'combate', 'colorir', 'colorida', 'coloração', 'colocação', 'colocarei', 'colocados', 'colocadas', 'colocada', 'colher', 'coletânea', 'coletor', 'colado', 'colada', 'coerente', 'codigo', 'cocô', 'coceira', 'cobrar', 'cobram', 'coberto', 'co', 'clássico', 'clientesentrega', 'claudio', 'claros', 'citado', 'cintura', 'cilada', 'ciamob', 'chÃo', 'chuveiro', 'chutar', 'chora', 'chique', 'chinês', 'cheios', 'chegue', 'chaveiro', 'chateou', 'chance', 'chamas', 'chamar', 'cetim', 'certinha', 'certificado', 'cera', 'cental', 'cell', 'cedo', 'cebola', 'cddvd', 'causando', 'catraca', 'case', 'casas', 'casamento', 'carvão', 'cartões', 'cartÃo', 'carrego', 'carregado', 'caroço', 'card', 'característica', 'caracteristicas', 'captação', 'capricho', 'capas', 'capacetes', 'cansado', 'canon', 'canecas', 'cancelarão', 'cancela', 'camping', 'caminhão', 'camelô', 'camara', 'caloi', 'calda', 'caixinhas', 'cadeado', 'cacheados', 'cabíveis', 'cabides', 'cabeceira', 'buy', 'buscava', 'buracos', 'bumbum', 'bugado', 'brincou', 'brincarem', 'brincadeiras', 'brilhando', 'brilham', 'brilha', 'brevidade', 'brancas', 'boxer', 'botar', 'borboletas', 'bonitoleve', 'bonitinha', 'bomsó', 'bomm', 'bomba', 'bolsos', 'bolsas', 'bolos', 'boletim', 'bolas', 'bocado', 'bloqueio', 'blackout', 'blackfriday', 'bizarro', 'bicos', 'bica', 'biblia', 'bh', 'benefícios', 'ben', 'bege', 'bauleto', 'batom', 'batimentos', 'bateu', 'batem', 'batedor', 'bastasse', 'basico', 'basicamente', 'barulhenta', 'barra', 'baratos', 'banco', 'banana', 'bambo', 'balcão', 'baixíssima', 'baixou', 'baixinha', 'baixas', 'bagatela', 'avisou', 'avisaram', 'aventura', 'avaliei', 'avaliaçao', 'avaliaÇÃo', 'avalialos', 'avaliado', 'av', 'auxílio', 'autor', 'autoajuda', 'aumentou', 'atualizações', 'atualizam', 'atualidade', 'atuais', 'atrasos', 'atrapalhou', 'atrapalhe', 'atrapalhando', 'atingir', 'atenÇÃo', 'atentei', 'atendidas', 'atenciosas', 'at', 'assisto', 'assiste', 'assista', 'assinatura', 'assinar', 'assentos', 'asa', 'artigo', 'arrumar', 'arrojado', 'arriscar', 'arrancar', 'aroma', 'armazenagem', 'armazenado', 'armazena', 'armas', 'armario', 'aquém', 'aquila', 'aquecedor', 'aproveito', 'aproveitem', 'aproveita', 'aprovadíssimo', 'aprovadíssima', 'aprovada', 'apresentaram', 'aprendizado', 'aprendeu', 'aprendem', 'apreensiva', 'apoiado', 'aplicações', 'apk', 'apetite', 'apertar', 'apertadas', 'aperta', 'apareceram', 'aparar', 'aparador', 'apagar', 'anúncios', 'anunciada', 'anuncia', 'antigamente', 'aninho', 'animada', 'ando', 'andares', 'andando', 'anda', 'anatel', 'analise', 'américanas', 'amplificador', 'ampla', 'amperes', 'amortecedor', 'amoled', 'amigas', 'americanascombr', 'ameiii', 'ameii', 'amassam', 'amassados', 'amarelado', 'amar', 'amantes', 'am', 'alças', 'alÉm', 'altos', 'alternando', 'alterado', 'altera', 'altas', 'almofadas', 'all', 'alivio', 'alisadoras', 'alimentação', 'alimenta', 'aliado', 'algodÃo', 'alerta', 'alegre', 'ajustar', 'ajudado', 'ahhh', 'aguentava', 'aguentar', 'aguado', 'agradecido', 'agradece', 'agr', 'agilizar', 'agiliza', 'agendada', 'agencia', 'agasalho', 'agarrada', 'agarra', 'afim', 'aff', 'adrenalina', 'adquiro', 'adorouficou', 'adicionar', 'adianto', 'adiante', 'adega', 'adaptei', 'adaptado', 'acumula', 'acrilico', 'acrescentar', 'acreditei', 'acorda', 'aconteça', 'acondicionada', 'acompanhei', 'acompanham', 'achamos', 'acham', 'acha', 'aceitável', 'aceito', 'academia', 'acabo', 'acabe', 'acabava', 'acabando', 'acabamentoproduto', 'acabam', 'acabada', 'ac', 'abuso', 'abrimos', 'abaixando', 'aa', 'a7', '900', '88h', '74', '71', '700w', '700', '6990', '601', '600', '58', '57', '52', '4s', '4gb', '48hs', '42', '412', '4000', '3ºc', '3x', '3l', '3d', '365', '35ºc', '350', '33', '31', '30ml', '2ª', '2x', '2a', '291217', '2511', '23122017', '220w', '21mp', '21122017', '211217', '2014', '1º', '1tb', '199420', '19', '189900', '1801', '16mp', '15122017', '1512', '14h', '13mp', '13122017', '129900', '127667', '1112', '110v', '10x', '1080', '101', '1001', '0xx65', '081217', '0800', '06122017', '061217', '060118', '050118', '041217', '0412', '0101', '❤️', '❤', '♥', '•', '“salvados', '“processador”', '“pelinhos”', '“cotocos”fazendo', '“bem”', 'ė', 'útilsendo', 'úteispois', 'únicos', 'ótimomais', 'ótimofggggtvvvdvvvvvvvvvvvvvvvvvvsf', 'ótimoe', 'ótimobarato', 'ótimoagora', 'ótimadura', 'ótimachegou', 'órgãos', 'óptica', 'óleos', 'óbvio', 'òtimo', 'íntegro', 'ínfima', 'índigo', 'índico', 'ícone', 'éso', 'épocavai', 'éfa', 'çççççççççççççççççççççççççççççççççççççççççççççççççççççççççççççççççççççççççççççççççç', 'ççççççççççççççççç', 'çççççççççççççççç', 'ççççççç', 'ão', 'ânimo', 'ângulos', 'áudios', 'áspero', 'áspera', 'ás', 'árvores', 'árvoremaravilhosadelicada', 'árabe', 'álcool', 'álbuns', 'águafacil', 'ágeis', 'ácido', 'Útil', 'Último', 'Ótimorecomendo', 'Óculos', 'Òtimo', 'Ñão', 'Ñ', 'Ç', 'Áaaaaaaaaaaaaaaaaa', 'Á', '´sobrando´', '´entrega', '¨original¨', 'zé', 'zwillingpelo', 'zplay', 'zona', 'zipper', 'ziplock', 'zerei', 'zerado', 'zenui', 'zenbag', 'zen', 'ze552kl', 'zapata', 'zap', 'zagueiro', 'zac', 'yyp2p', 'yourself', 'yoosee', 'y', 'xxxxxxxxxxxxxxxxxxxxxxxxxxxxxxxxxxxxxxxxxxxxxxxxxxxxxxxxxxxxxxxxxxxxxxxxxxxxxxxxxxxxxxxxxxxxxxxxxxxxxxxxxxxxxxxxxxxxxxxxxxxxxxxxxxxxxxxxxxxxxxxxxxxxxxxxxxxxxxxxx', 'xxxxxxxxxxxxxxxxxxxxxxxxxxxxxxxxxxxxxxxxxxxxxxxxxxxxxxxxxxxxxxxxxxxxxxxxxxxxxxxxxxxxxxxxxxxxxxxxxxxxxxxxxxxxxxxxxxxxxxxxxxxxxxxxxxxxxxxxxxxxx', 'xxxxxxxxxxxxxxxxxxxxxxxxxxxxxxxxxxxxxxxxxxxxxxxxxxxxxxxxxxxxxxxxxxxxxxxxxxxxxxxxxxxxxxxxxxxxxxxx', 'xxxxxxxxxxxxxxxxxxxxxxxxxxxxxxxxxxxxxxxxxxxxxxxxxxxxxxxxxxxxxxxxxxxxxxxxxx', 'xxxxxxxxxxxxxxxxxxxxxxxxxxxxxxxxxxxx', 'xxxxxxxxxxxxxxxxxxxxxxxxxxxcxxxxxxxxxxxxxxxxxzzzzzzzzzzzzzzzzzzz', 'xxxxxxxxxxxxxxxxxxxxxxxxxxx', 'xxxxxxxxxxxxxxxxxxxxxxxx', 'xxxxxxxxxxccccccccccccc', 'xxxxxxxx', 'xxxx', 'xxxcccc', 'xx', 'xv', 'xre300', 'xperia', 'xodó', 'xixis', 'xing', 'xicara', 'xd', 'xa', 'wuahauh', 'world', 'wisky', 'windowns', 'wii', 'widescreem', 'wi', 'whatsap', 'website', 'weare', 'waterpik', 'wars', 'wards', 'war', 'want', 'walmart', 'wallita', 'waldir', 'waldete', 'wagem', 'vômito', 'vírus', 'ví', 'vêem', 'véspera', 'válvulas', 'vá', 'vÃo', 'vulnerável', 'vulgar', 'vozes', 'vosso', 'vossa', 'vooc', 'volts', 'voltei', 'voltaria', 'voltados', 'voltado', 'voltacomprei', 'voltaabsurdo', 'volks', 'vogga', 'vocés', 'voam', 'voa', 'vo', 'vizualizar', 'vizinha', 'vivo', 'viviane', 'vivemos', 'vivavoz', 'viva', 'vita', 'visível', 'visãoos', 'visualização', 'visualizaram', 'visivelmente', 'visite', 'visitarei', 'visitar', 'visconti', 'visando', 'visa', 'virá', 'virtualmercadoria', 'virtuais', 'viriam', 'virei', 'virando', 'virado', 'virada', 'violações', 'violação', 'violamento', 'vinte', 'vinhos', 'vinho', 'vincos', 'vilma', 'vietnã', 'viesse', 'vieramfalta', 'viera', 'vieira', 'vidros', 'vidor', 'vide', 'viciados', 'vicia', 'vicem', 'vibrações', 'vias', 'viajem', 'viajei', 'viajado', 'viage', 'veículos', 'vezesmandei', 'vezesfui', 'vezesdesisti', 'veuve', 'veterinária', 'vestiu', 'vestiria', 'vestir', 'vestido', 'verônica', 'verídico', 'verâo', 'verticais', 'versões', 'verso', 'versatilidade', 'vermelhidão', 'verm', 'verificação', 'verificassem', 'verificado', 'verifica', 'vergonhosa', 'verganha', 'veremos', 'verdinho', 'verdadeiras', 'verdadeira', 'verao', 'vera', 'venzo', 'ventosas', 'ventoinha', 'ventilação', 'ventilar', 'ventiladores', 'ventilado', 'ventasse', 'vendou', 'vendida', 'vendiam', 'vendessem', 'venderem', 'venderassim', 'vendecompra', 'vencida', 'vencerá', 'vencer', 'vencendo', 'vemos', 'vemcom', 'velas', 'vela', 'veioa', 'veiculoe', 'vei', 'vegan', 'vedaçãootima', 'vedado', 'vdc', 'vcada', 'vb28r', 'vazasse', 'vazamentos', 'vazamentoligo', 'vazada', 'vascular', 'variedades', 'variedade', 'variação', 'variar', 'variado', 'varejos', 'varejistas', 'varanda', 'varalzinho', 'vapormas', 'vao', 'valter', 'valorporém', 'valormuito', 'valorizar', 'valorizando', 'valoriza', 'validar', 'valiar', 'valia', 'valeuuso', 'valerá', 'valer', 'valendo', 'valencio', 'valdemiro', 'vaio', 'vade', 'uva', 'utrapassou', 'utilizável', 'utilizálo', 'utilizálas', 'utilizem', 'utilizaÇÃorecomendaÇÕes', 'utilizarlá', 'utilizarlo', 'utilizalo', 'utilizala', 'utilizacao', 'utensílios', 'usáveis', 'usuá', 'usuario', 'usualidade', 'usomas', 'usode', 'usem', 'useiliguei', 'use', 'usarteve', 'usarrápido', 'usarr', 'usarnota10', 'usarmos', 'usarlo', 'usaria', 'usandobastante', 'usados', 'usadopor', 'urso', 'urgênciasgrato', 'urgentes', 'urgencia', 'urbanos', 'ura', 'upsai', 'up', 'união', 'universo', 'universidade', 'universalestou', 'universais', 'unissex', 'unirem', 'unir', 'uniformes', 'uniformemente', 'unha', 'unca', 'un55es7000', 'umpouquinho', 'umnpreco', 'umidade', 'umemail', 'ultrapassou', 'ultrapassando', 'ultrapassada', 'ultrahd', 'ultragliss', 'ultimos', 'uhs1', 'uhf', 'ubuntu', 'ubsoft', 'túnel', 'tó', 'tícia', 'têm', 'técnicos', 'técnicamas', 'té', 'tábua', 'tÍtulo', 'tÉcnica', 'twitter', 'tvprecisa', 'tva', 'tutorias', 'tutoriais', 'turquesa', 'tupia', 'tudonão', 'tudofrustrante', 'tubos', 'tu', 'trânsitodesfruto', 'trÁs', 'truck', 'trrocar', 'trouxas', 'trote', 'troquem', 'trocou', 'troco', 'trocassem', 'trocarei', 'trocapois', 'trocando', 'trocamos', 'trocados', 'trocador', 'trocadevolução', 'trocaate', 'trlquei', 'trituração', 'tritura', 'triplicou', 'tripla', 'trincos', 'trincarquebrar', 'trincar', 'trincados', 'trincado', 'triliche', 'trilho', 'trilha', 'treta', 'trena', 'tremenda', 'trem', 'treinando', 'tração', 'traçados', 'trazer', 'trazendo', 'trazeira', 'travisseiros', 'travessas', 'travessa', 'traves', 'trave', 'travas', 'travadinha', 'travadas', 'travada', 'trato', 'tratativa', 'tratamentos', 'tratam', 'tratado', 'trastejar', 'trasportar', 'trash', 'traseiromelhor', 'transportes', 'transportarmanusear', 'transportadorasegundo', 'transportadoraestou', 'transparece', 'transmitir', 'transmitindo', 'translucido', 'transição', 'transito', 'transformou', 'transformação', 'transformador', 'transferir', 'transferidas', 'transferi', 'transfere', 'transborde', 'transborda', 'trambolho', 'tralha', 'trajano', 'traga', 'traduções', 'traduzindo', 'trabalhão', 'trabalhou', 'trabalhoso', 'trabalhosa', 'trabalhinho', 'trabalharrecomendo', 'trabalharam', 'trabalhador', 'trabalhado', 'trabalhada', 'tplink', 'totalmenteerrado', 'totalcomprei', 'toshiba', 'toscana', 'tortoetc', 'torre', 'torrado', 'torque', 'tornozelo', 'torneiro', 'tornarão', 'tornarse', 'tornara', 'tornar', 'top❤️', 'topázio', 'topsuper', 'topsem', 'tops', 'topporem', 'toppois', 'topografia', 'topo', 'tool', 'too', 'tony', 'tons', 'tonaliza', 'tonalidades', 'tomou', 'tommy', 'tombo', 'tombado”', 'tomba', 'tomate', 'tomassem', 'tomarem', 'tomarei', 'tomara', 'tomamos', 'tomado', 'tomadapedi', 'tom', 'tolerar', 'toledo', 'tok', 'todoum', 'todosou', 'todosem', 'todarecomendo', 'toch', 'tocando', 'toa', 'tmb', 'tlc', 'tivequando', 'tivenão', 'tivemois', 'tirava', 'tirarmas', 'tirado', 'tiradas', 'tio', 'tingidos', 'tigela', 'throtle', 'thrfhkh', 'think', 'theter', 'thermo', 'thayny', 'teto', 'testÁlo', 'testarmos', 'testam', 'testados', 'testadas', 'testa', 'terça', 'terrÍvel', 'terrivelmente', 'território', 'terra', 'terminou', 'terminei', 'teremos', 'tercerizar', 'terceirização', 'terceirizando', 'terca', 'tera', 'teoricamente', 'tentemos', 'tentavam', 'tentarmos', 'tentaram', 'tenta', 'tenistas', 'tenhi', 'tendenciou', 'tendem', 'ten', 'tempão', 'tempoai', 'tempinho', 'temperos', 'temperaturas', 'temperaturaa', 'temperar', 'tempao', 'temp', 'temer', 'tembém', 'telwfone', 'televisões', 'televisao', 'televendas', 'telefônico', 'telefones', 'telefonando', 'telaao', 'tel71992154412', 'tekna', 'tef', 'tecnologiainfinidade', 'tecnofóbicos', 'technos', 'tecebi', 'teacher', 'teach', 'tds', 'tdo', 'tcl', 'tbém', 'taças', 'taça', 'tatiana', 'tatames', 'tata', 'tarifado', 'tardeótimo', 'tardenoite', 'tardecomo', 'tarcisio', 'tapetes', 'tapetelindo', 'tapa', 'tantas', 'tansos', 'tampÃo', 'tampe', 'tampapermitindo', 'tamiya', 'tamanhodizem', 'tamanco', 'tam', 'talmas', 'talheres', 'taiff', 'tadinha', 'tabua', 'tabu', 'tabom', 'tabem', 'tabela', 't5', 'súper', 'sómente', 'síntese', 'sí', 'sérvio', 'sérios', 'sériamais', 'séria', 'século', 'sábadofácil', 'sylvia', 'switch', 'swarovski', 'suçerou', 'susto', 'sustituir', 'sustentável', 'sustentam', 'sustentabilidade', 'suspensa', 'suspeito', 'suspeita', 'sus', 'surround', 'surrada', 'surpriu', 'surpreendiera', 'surpreendido', 'surpreendida', 'surpreendeume', 'surpreenderam', 'surpreender', 'surpreendente', 'surper', 'surgiu', 'surgimento', 'surge', 'surf', 'surdez', 'suprido', 'supri', 'supresa', 'supreendido', 'supreendeu', 'suportável', 'suportes', 'suportam', 'supores', 'suplementos', 'suplementares', 'superrápida', 'superrecomendo', 'superouas', 'supernintendo', 'supergrandes', 'superfícies', 'superficiais', 'superfamicon', 'superaram', 'superaqueceu', 'superando', 'superadas', 'supef', 'sunsumg', 'sun', 'suma', 'sulficiente', 'sulcos', 'sujeitões', 'sujeiras', 'sujas', 'sujar', 'sujam', 'suite', 'sugeriu', 'sugerir', 'sugerida', 'sugerem', 'sugando', 'suga', 'sufocante', 'sufoca', 'suficientes', 'sucçao', 'sucedida', 'subwoofer', 'subtrair', 'substituíló', 'substituída', 'substituiÇÃo', 'substituiu', 'substituindo', 'substituida', 'subjetivo', 'subiu', 'subiram', 'suaves', 'strings', 'streaming', 'stou', 'stop', 'stihl', 'standart', 'standard', 'ssssssssssssssssssssssssssssssssssssssssssssssssssssssssssssssssssss', 'sssssssssdddddffgghhjjjkkkk', 'spen', 'speed', 'sparks', 'sozinhoum', 'soulsborne', 'souber', 'sorvetes', 'sorteveio', 'sopra', 'sopa', 'sonoridade', 'sonic', 'sonhos', 'sonecas', 'somado', 'soma', 'solucionou', 'solucionarem', 'solucionalo', 'solucionadas', 'soluciona', 'soltar', 'soltamenfim', 'sollus', 'solidários', 'solicitou', 'solicitaçao', 'solicitarão', 'solicitarei', 'solicitadoxxxxxxxxxxxxxxxxxxxxxxxxxxxxxxxxxxx', 'solicita', 'soldados', 'solar', 'solado', 'sogro', 'sograela', 'sofÀ', 'softwares', 'sofrimento', 'sofrer', 'sofrem', 'sofrece', 'sofisticação', 'sofia', 'socão', 'sociedade', 'social', 'socais', 'sobrinhoneto', 'sobressalentes', 'sobrepor', 'sobrepondo', 'sobreos', 'sobrenatural', 'sobremesa', 'sobreaquece', 'sobrava', 'sobrar', 'sobrancelha', 'sobem', 'sntr5egue', 'sniperbatedor', 'snape', 'snapdradon', 'smurfs', 'smp585m', 'smatphone', 'smartwatch', 'smartv', 'slow', 'sleep', 'situaÇÃo', 'situacao', 'sitio', 'siteq', 'siteminha', 'sisteminha', 'sirva', 'sirley', 'sio', 'sintético', 'sintonizavam', 'sintonizar', 'sintomatica', 'singular', 'sincronizar', 'sincronia', 'sincera', 'sinalização', 'sinalizar', 'simultaneamente', 'simulação', 'simulaçao', 'simula', 'sims', 'simplório', 'simplesmete', 'simone', 'simetria', 'sime', 'sima', 'silenciosos', 'silenciosohá', 'silenciosapratica', 'silencio', 'sigo', 'significativo', 'significar', 'significado', 'sie', 'sidney', 'si969300830br', 'short', 'shopkins', 'shopikns', 'ship', 'shied', 'shape', 'shakes', 'sexto', 'sexta', 'sexo', 'setup', 'setembro17', 'setembro', 'serviÇo', 'servirr', 'servidores', 'servido', 'servicos', 'servia', 'server', 'serva', 'sertesa', 'serrilhadas', 'serie', 'seriados', 'seriado', 'sergio', 'sereia', 'sequências', 'separação', 'separa', 'sentimentos', 'sentimento', 'sentidos', 'sensíveis', 'sensorial', 'sensores', 'semusoestarei', 'semiprofissional', 'semi', 'semestre', 'semelhança', 'semanaslevo', 'seletor', 'selection', 'selecionei', 'selecionar', 'selagem', 'seladora', 'seite', 'seiscentos', 'seguroadorei', 'segurava', 'segurapor', 'seguranÇa', 'seguramos', 'seguralo', 'segundafeira', 'seguiu', 'seguindo', 'seguido', 'seguem', 'segredo', 'sedutor', 'sedosos', 'sedan', 'secura', 'secrets', 'secos', 'secoisso', 'secava', 'secasdeu', 'secando', 'secadoras', 'secadora', 'sds', 'schiurfdthhhdwghiouretuobfdhktf', 'scanner', 'scalibur', 'sc', 'saísse', 'savoiardo', 'saudáveis', 'saudavel', 'saturadas', 'satsatisfeita', 'satisfeitíssima', 'satisfeitocomprei', 'satisfeitocom', 'satisfeitissimo', 'satisfeitissima', 'satisfaÇÃo', 'satisfazer', 'satisfazendo', 'satisfatórios', 'satisfatorio', 'satisfatoriamente', 'satelite', 'sateite', 'sastifeito', 'sardinha', 'saquinho', 'sapo', 'sapatos', 'sapatilhas', 'sapatenis', 'sansão', 'sanitário', 'sanfonado', 'sandisk', 'sandero', 'sandalia', 'samsungcelular', 'salvatore', 'salvar', 'salvamento', 'salutar', 'salivar', 'saliente', 'saldão', 'sairam', 'saio', 'saimos', 'sacolinha', 'sacanagemse', 'sabÃo', 'sabre', 'saborosasassim', 'saborosas', 'saborosa', 'sabonete', 'sabesp', 'saberia', 'sa', 's6', 's5', 'rústica', 'rótulos', 'rótulo', 'réplica', 'régua', 'ré', 'rápidos', 'rápidonao', 'rápidomas', 'rápidoespaço', 'rápidoe', 'rápidocom', 'rápido2', 'rápidasuper', 'rápidarecomendo', 'rápidaproduto', 'rápidabom', 'rápidaantes', 'ruídomas', 'rustica', 'ruino', 'ruimvou', 'ruimvc', 'ruimporém', 'ruimnao', 'ruimmmm', 'ruidoseu', 'ruidos', 'rui', 'rudimentar', 'ruas', 'rsrsrsrs', 'rsrsrrsrs', 'rsposta', 'rrrrrrrrrrrraaaaaaaaaaaaaaassssssssssdddddddddddddfffffffffffffggggggggggghhhhhhhhhhhhhhhhhh', 'rreclamar', 'rpm', 'rpgs', 'rp', 'roçadeira', 'roupiroupinhas', 'roupasinclusive', 'rouoas', 'roubado', 'rotular', 'roteiro', 'roteadores', 'rotação', 'rosé', 'rosinete', 'roscas', 'ropo', 'ropeiro', 'romântico', 'romualdo', 'romance', 'rolos', 'rolo', 'rolamentos', 'rolagem', 'roduto', 'rodrigo', 'rodou', 'rodeado', 'rodará', 'rodarmos', 'rodam', 'rockshot', 'rock', 'rocie', 'robustos', 'robustas', 'rjcafemaritagmailcom', 'rita', 'rising', 'riscas', 'riscar', 'riscam', 'riscados', 'riscadas', 'risadas', 'rir', 'riqueza', 'rins', 'ringi', 'ring', 'rigoroso', 'ridículas', 'ridícula', 'ridicula', 'rico', 'ricardoes', 'rfspokwtgpopk´k´pkl´pkgl´plkfg´pfeklg´p´gpfl´pglf´pglf´plgfg', 'rezem', 'rezar', 'revolta', 'revista', 'revisor', 'revisem', 'reverter', 'rever', 'revender', 'revendedora', 'revendedor', 'reveillon', 'reuniões', 'reunir', 'reunioes', 'retumbante', 'retráteis', 'retrovisor', 'retrolavagem', 'retro', 'retrato', 'retratam', 'retrata', 'retrabalho', 'retornoquero', 'retornonÃo', 'retornoinsatisfação', 'retornei', 'retornasse', 'retornaria', 'retornarem', 'retornado', 'retocar', 'retirálo', 'retirála', 'retirou', 'retirarmos', 'retirado', 'retenção', 'retardando', 'resíduos', 'resultdo', 'resultadocomprei', 'restá', 'restrita', 'restos', 'restomaravilhoso', 'restanteexcelente', 'restanta', 'restam', 'resta', 'ressecam', 'ressecados', 'ressarcir', 'respostatotal', 'respostasuporte', 'responsÁvel', 'responsabilizo', 'responsabilizar', 'responsabiliza', 'respondesem', 'respondendo', 'responda', 'respoderam', 'respiratórias', 'respirar', 'respirabilidade', 'respingos', 'respeitasse', 'respeitando', 'respeitada', 'respeita', 'respectivas', 'respectiva', 'resolvêssemos', 'resolvidoterei', 'resolvem', 'resolvelo', 'resoluçãopara', 'resolutivos', 'resolucao', 'resitente', 'resistências', 'resistir', 'resisti', 'resistentese', 'resiste', 'residÊncia', 'resido', 'resfriamento', 'reservatórios', 'rescindir', 'resalva', 'requisição', 'requintada', 'requerimentos', 'requeridas', 'requerendo', 'requer', 'requentado', 'repuxo', 'reprodução', 'reproduziu', 'reproduz', 'representa', 'reposto', 'reposta', 'reportei', 'reportagens', 'repor', 'reponde', 'replica', 'repito', 'repetitivo', 'repetimos', 'repetidores', 'repente', 'repartiçõesda', 'repartições', 'reparos', 'reparo', 'reparação', 'reparar', 'renome', 'renomadapossível', 'renomada', 'renite', 'rende', 'renato', 'removida', 'removeu', 'remotos', 'remota', 'remo', 'remissivo', 'remendado', 'remasterizado', 'remarcaram', 'remarcar', 'remanejo', 'relÓgio', 'religião', 'religava', 'relevo', 'relevei', 'releva', 'relaçao', 'relaxamento', 'relaxa', 'relatório', 'relatou', 'relatos', 'relatava', 'relatar', 'relacionamento', 'relaciona', 'reiterar', 'reis', 'reinstalando', 'reiniciar', 'reinicialo', 'reinicia', 'rei', 'regularizaçao', 'regulagens', 'regulagemnao', 'registrese', 'registraram', 'registrando', 'rege', 'refurar', 'refrigeração', 'refrigerador', 'refrescar', 'refrescando', 'refoçado', 'reforço', 'reforçar', 'reforçando', 'reforçadatomei', 'reflexões', 'refletores', 'refis', 'refiro', 'refinamento', 'refil', 'referências', 'referencia', 'refeição', 'refaço', 'ref', 'reenvio', 'reenvindicar', 'reembolsou', 'reembolsaram', 'reduções', 'reduzir', 'reduzindo', 'reduzido', 'reduzi', 'reduzem', 'redondo', 'redondasnão', 'redondas', 'redonda', 'recusou', 'recusei', 'recusasse', 'recusa', 'recursoscâmera', 'recuperar', 'recuperando', 'recuperado', 'recriada', 'recreação', 'recreativo', 'recortes', 'recorte', 'recorro', 'recorrentes', 'records', 'recordar', 'record', 'reconheçam', 'reconhecido', 'reconhecendo', 'reconfigurar', 'recondo', 'recompensa', 'recomentoótima', 'recomentdo', 'recomentado', 'recomendotrava', 'recomendosem', 'recomendopois', 'recomendoparecia', 'recomendooooo', 'recomendooo', 'recomendonão', 'recomendomuito', 'recomendofoi', 'recomendoatendeu', 'recomendoatende', 'recomendoapesar', 'recomendoamericanas', 'recomendeicomprei', 'recomendei', 'recomendase', 'recomendam', 'recomendadÍssimo', 'recomendadissimo', 'recomendadas', 'recomendadaentrega', 'recomedei', 'recolocar', 'recolhimento', 'recolhido', 'recolheu', 'recolher', 'recolhe', 'recmomendei', 'reclamou', 'reclamem', 'reclamaçao', 'reclamam', 'reclamado', 'reclamacoes', 'reclama', 'reciclável', 'recibo', 'recibido', 'recesso', 'recentes', 'recemente', 'received', 'receitado', 'receita', 'receca', 'recebÉlo', 'recebinem', 'recebinao', 'recebifaz', 'recebidos', 'recebidata', 'recebia', 'receberá', 'receberam', 'recebem', 'recebedor', 'recarregando', 'recarregado', 'recargas', 'rebite', 'rebimento', 'rebaixar', 'rebaixamento', 'reações', 'reação', 'reaver', 'realmenteminha', 'realizo', 'realizações', 'realizarem', 'realizara', 'realizando', 'realizamos', 'realizadaquanto', 'realismo', 'realidadexxxxxxxxxxxxxxxxxxxxxxxx', 'rcomendo', 'razoavelmuito', 'rateio', 'rastreei', 'rasgoucomprei', 'rasgo', 'rasgar', 'rasgando', 'rasa', 'raquete', 'rapunzel', 'raposo', 'rapidsmente', 'rapidos', 'rapidobonita', 'rapidezpraticidademobilidadeeficiência', 'rapides', 'rapidarecomendo', 'rapidapreço', 'rapidamentecomprei', 'rapdio', 'rapazes', 'ramo', 'ramais', 'ralo', 'ralas', 'ralar', 'ralador', 'ralado', 'rala', 'raio', 'rachadura', 'rachadas', 'rachada', 'rabo', 'rabino', 'r99', 'r80000', 'r7000', 'r600', 'r50150', 'r469', 'r360', 'r35990', 'r30', 'r199420eu', 'r15', 'r140', 'r1250', 'r1190', 'r1080', 'r1', 'químicos', 'química', 'qur', 'qulidade', 'quizer', 'quiz', 'quisesse', 'quisermos', 'quiserem', 'quinzena', 'quinas', 'quimiometria', 'quilos', 'quilo', 'queveio', 'questiono', 'questao', 'queríamos', 'queriaproduto', 'queriam', 'queriaadorei', 'queren', 'quereclamar', 'quentinhas', 'quentetem', 'quen', 'quemerrou', 'queiroz', 'queiram', 'queimaduras', 'quebrava', 'quebratenho', 'quebrasse', 'quebrare', 'quebram', 'quebragalho', 'quebrados', 'quebradomando', 'quebradiço', 'quartinho', 'quarenta', 'quarda', 'quantum', 'quantidadedura', 'quantia', 'quanta', 'qualildade', 'qualificado', 'qualidadetempo', 'qualidadesuperou', 'qualidadequero', 'qualidadepontualidade', 'qualidadepodem', 'qualidadeparabens', 'qualidadeo', 'qualidademuito', 'qualidadeliguei', 'qualidadegostei', 'qualidadefácil', 'qualidadeeu', 'qualidadeestou', 'qualidadeentrega', 'qualidadee', 'qualidadeassim', 'qualidadeadorei', 'qualidade4entrega', 'qualiadde', 'quadros', 'quadrimais', 'quadra', 'quad', 'qu', 'qse', 'qqr', 'qq', 'qndo', 'qnd', 'qlq', 'qie', 'qiamdo', 'q6', 'públicos', 'põe', 'pôs', 'póé', 'péssimodecepção', 'pérolas', 'péme', 'páscoa', 'pára', 'pá', 'pÓscompra', 'pÓs', 'pÓ', 'pÉtreo', 'pvisitas', 'puxou', 'purificada', 'pulga', 'pulava', 'pulando', 'pula', 'pugli', 'pug', 'pudessem', 'puderem', 'puderam', 'pucos', 'puco', 'publiquei', 'publico', 'publicações', 'publicada', 'pubg', 'pt', 'pssoes', 'psicologia', 'psicanalise', 'psg', 'próprias', 'príncipe', 'préinstalados', 'précozidos', 'práticoleve', 'prÓximos', 'prÓprio', 'prudutoamanheci', 'pruduto', 'prudentesp', 'prroduto', 'prreto', 'prpduto', 'prozo', 'proximo', 'proximas', 'proxima', 'província', 'provocava', 'provoca', 'providenciei', 'providenciarem', 'providenciando', 'proveniente', 'proveito', 'provas', 'proucura', 'protocolos', 'protocolarei', 'proteções', 'proteÇÃo', 'protestos', 'proteja', 'protegeram', 'protegendo', 'protect', 'protecao', 'prosseguir', 'prosseguido', 'prorrogado', 'propõem', 'propôsgostei', 'propôs', 'propósitos', 'propÕem', 'propÕe', 'propus', 'propunha', 'proprietÁrio', 'proprias', 'propostos', 'proposito', 'propositalmente', 'proporcionam', 'pronúncia', 'pronunciamento', 'promoçõeskits', 'promoÇÃo', 'prometidos', 'prometidoeu', 'prometemuito', 'prometegostei', 'prometam', 'prolongar', 'projetar', 'projetada', 'proibir', 'proibido', 'proibi', 'programções', 'programações', 'programação', 'programar', 'programados', 'profundas', 'proforme', 'profissionalmente', 'profissionais', 'professores', 'profa', 'produziu', 'produzidas', 'produzem', 'produz', 'produyo', 'produtoótima', 'produtoágua', 'produtoveste', 'produtotem', 'produtosupriu', 'produtosolicitei', 'produtorecomendo', 'produtorapidez', 'produtor', 'produtoquero', 'produtopéssima', 'produtopés', 'produtopedido', 'produtooooooooooooooooooooooooooooooooooooooooooooooo', 'produtooooooooooooooooooooooooooooo', 'produtoo', 'produtonÃo', 'produtonormaljá', 'produtono', 'produtomantém', 'produtoimagem', 'produtofácil', 'produtofora', 'produtoeu', 'produtoenfim', 'produtodinheiro', 'produtocomprem', 'produtocomprado', 'produtocom', 'produtoatendeu', 'produtoainda', 'produtoa', 'produtivo', 'produro', 'produ', 'procuto', 'procurávamos', 'procure', 'procuramos', 'procuram', 'procurado', 'proconsaco', 'procom', 'processado', 'procedendo', 'problemático', 'probleminha', 'problemasquarto', 'problemasporém', 'problemaou', 'problemaj7', 'privada', 'privacidade', 'priv', 'priorizou', 'prioriza', 'priori', 'prints', 'printei', 'primero', 'primeironem', 'primeiroe', 'primario', 'prim', 'price', 'preçopassa', 'preçoestou', 'prezo', 'prezado', 'previstorecomendo', 'previstomuito', 'previstoestou', 'previstocontinuem', 'previstoa', 'previstaveio', 'previstatodas', 'previstao', 'previstagostei', 'previstaexcelente', 'previstaeu', 'previstaestou', 'previstacomprarei', 'previso', 'previne', 'pretendia', 'pretendem', 'pretapropaganda', 'prestígio', 'prestessa', 'prestes', 'prestativa', 'prestanão', 'prestam', 'prestados', 'prestadoras', 'prestada', 'pressionando', 'pressiona', 'pressa', 'preso', 'presley', 'presiso', 'presionar', 'presilhas', 'presidencial', 'presença', 'presentresuper', 'presenteÓtima', 'presentetirando', 'presenteio', 'presentei', 'presentealo', 'presenteada', 'presentar', 'presencial', 'prescrita', 'presario', 'prepotente', 'preparese', 'preparação', 'preparada', 'preocupou', 'preocupar', 'preocupando', 'preocupam', 'prensar', 'prendeé', 'prender', 'premiumrecomendo', 'premiere', 'prejuizoestou', 'prejudicando', 'pregos', 'preferiu', 'preferir', 'preferimos', 'preferidos', 'preferido', 'preferida', 'preferia', 'preferem', 'prefere', 'prefeitas', 'preencheu', 'preencher', 'predomina', 'precária', 'preconizae', 'precisão', 'precisou', 'precisos', 'precisemos', 'precisem', 'precise', 'precisavaa', 'precisas', 'precisará', 'precisarem', 'precisarei', 'precisanos', 'prazoveio', 'prazovaleu', 'prazorecomendadissimo', 'prazorapidinho', 'prazor', 'prazoqd', 'prazoporém', 'prazoo', 'prazomto', 'prazomeu', 'prazolojas', 'prazofaltando', 'prazoeu', 'prazoentrou', 'prazoem', 'prazoe', 'prazocomo', 'prazobem', 'prazoatendimento', 'prazoatendeu', 'prazoacjei', 'prazerosa', 'pratinhos', 'praticorecomendo', 'praticobom', 'praticas', 'praticao', 'praticados', 'prateleira', 'pragas', 'pqao', 'pp151336134br', 'pp', 'poxipol', 'powerpoint', 'pouquissimas', 'pouquinhos', 'potinhos', 'potentes', 'potenteme', 'potenciômetro', 'potencialmente', 'potenciais', 'pot', 'posto', 'postiços', 'posteriores', 'postergam', 'postergado', 'postaram', 'postadas', 'posta', 'possúem', 'possuía', 'possuia', 'possue', 'possibita', 'possibilitam', 'possibilidades', 'posiçao', 'posiÇÃo', 'positron', 'positivosem', 'positivamente', 'positiva', 'posicao', 'porções', 'porção', 'porÉeeeem', 'portuguÊs', 'portugues', 'porto', 'portinhola', 'porteiro', 'porte', 'portal', 'porser', 'porrra', 'porquê', 'poroso', 'porche', 'porcento', 'porcelana', 'porca', 'poquinho', 'popularização', 'popular', 'pontuo', 'pontuais', 'pontinhas', 'pontinha', 'pontiagudo', 'pondo', 'ponderável', 'pomares', 'pomada', 'polÍcia', 'polos', 'polo', 'politriz', 'polegada', 'polarizado', 'polar', 'poeta', 'podiam', 'podi', 'podese', 'poderoso', 'poderosa', 'podermos', 'pobres', 'po', 'png', 'plÁgio', 'plmae', 'pligg', 'plenammente', 'players', 'player', 'plausível', 'platinum', 'plasticas', 'plastica', 'plantão', 'plantas', 'planilhas', 'planetaria', 'planejamento', 'plaina', 'pl55134643br', 'pl', 'pixelizadas', 'pistas', 'pisou', 'piso', 'piscava', 'piscando', 'pisca', 'pisaram', 'piratinha', 'pirataria', 'piraram', 'piora', 'pionner', 'pioneira', 'pioneer', 'pinturas', 'pintarlá', 'pintado', 'pintadinha', 'pintadas', 'pintada', 'pink', 'pingando', 'pincel', 'pinceis', 'pinador', 'piloto', 'pileque', 'pigmentação', 'pifar', 'pidido', 'picotando', 'piccadilly', 'picar', 'picante', 'picador', 'picado', 'pianos', 'piabsdgpiuhjbasdgpiubasgpiubhaspgiubnasgpd', 'photoshop', 'phonestation', 'phantom', 'ph900', 'ph3700', 'ph', 'peçasna', 'peçasitens', 'peçascom', 'peçanha', 'peÇas', 'pe´ssimo', 'pezinhos', 'peteleco', 'peste', 'pestana', 'pessÍma', 'pessoais', 'pessimonão', 'pessimas', 'pesquisem', 'pesomas', 'pesinho', 'pesentes', 'pescimo', 'pesca', 'pesagem', 'pes', 'perço', 'perÍodo', 'pertinentes', 'perti', 'pertence', 'perspectiva', 'personalização', 'personagem', 'persiste', 'perplexa', 'perninha', 'permitiram', 'permissionados', 'permaneço', 'permaneceram', 'permanecem', 'perigoso', 'perigo', 'periféricas', 'pergunto', 'perguntarem', 'perguntam', 'perfórmace', 'perfuração', 'perfurar', 'perfurada', 'performace', 'perfil', 'perfeiçãoparabéns', 'perfeitoooo', 'perfeitofunciona', 'perfeitoentrega', 'perfeitoa', 'perfeitasuper', 'perfeitassó', 'perfeitao', 'perfeitamenteuma', 'perfeitamaterial', 'pereira', 'perede', 'perdida', 'perderam', 'perdeperdi', 'perdem', 'percy', 'percome', 'perco', 'percepção', 'percebe', 'perca', 'pera', 'pequeo', 'pequenosapertados', 'pequenopropagando', 'pequeninos', 'pequenative', 'pequenassó', 'peoduto', 'penteados', 'penteado', 'penteadeira', 'pensou', 'penso', 'pensamos', 'penfeitar', 'pendurar', 'pendurado', 'penduradas', 'pendentes', 'pendente', 'penaproduto', 'penao', 'penaminha', 'penacusto', 'pelúcia', 'pelotas', 'pelosescorega', 'pelinhos', 'peixe', 'peitinho', 'pego', 'pegajoso', 'pegado', 'pegadinha', 'pedí', 'peditudo', 'pediriam', 'pedimos', 'pedidovdia', 'pedidonao', 'pedidas', 'pediatra', 'pedaço', 'pedal', 'pedacos', 'pedacinhos', 'pedacinho', 'peculiar', 'pecou', 'pecinhas', 'pea', 'pdf', 'pde', 'pbkids', 'payne', 'pay', 'patrícia', 'patrulha', 'patrocino', 'patrocinador', 'patologia', 'patins', 'pastas', 'passinhos', 'passem', 'passeio', 'passarão', 'passaria', 'passamuita', 'pasaram', 'parts', 'parto', 'partições', 'partida', 'particular', 'partemas', 'paro', 'parlavras', 'pareça', 'parenteses', 'parente', 'parelho', 'paredes', 'parecidasmas', 'parecidas', 'parecida', 'pareci', 'parecerem', 'pareceme', 'parear', 'pareado', 'parcelar', 'parcelamento', 'parceirodeixa', 'paralisando', 'paraguai', 'parafusorsrs', 'parafusar', 'parafusados', 'parafernálias', 'paraece', 'parace', 'parabénsótimo', 'parabénso', 'parabén', 'parabÉnss', 'papinhas', 'papinha', 'panoe', 'pani', 'panettones', 'palácio', 'palmo', 'palm', 'palhoça', 'palheta', 'palhaço', 'palha', 'palacio', 'paiva', 'paisagem', 'paineisporem', 'pagou', 'pagos', 'pagooooooooooooooooooooooooooooo', 'paginas', 'pagina', 'pagava', 'pagasse', 'pagas', 'pagaria', 'pagalo', 'pagado', 'padrÃo', 'padronizados', 'padroes', 'padrasto', 'padrao', 'padaria', 'pacotinhos', 'paciente', 'pacasainda', 'pacadas', 'paar', 'pa21g', 'p35', 'p10', 'oxigênio', 'oxidado', 'oxida', 'ovo', 'ouça', 'ouvidoria', 'ouvese', 'ouve', 'outubro', 'outrossuperior', 'outrora', 'outropois', 'outropaguei', 'outromuito', 'outrasendo', 'ottimo', 'ott', 'otomo', 'otmo', 'otimto', 'otimotam', 'otimorecomendo', 'otimoooo', 'otimomicro', 'otimizadas', 'otimiza', 'otimas', 'otia', 'ostentar', 'oscila', 'orçamento', 'ortopédicose', 'ortopédico', 'ortopédica', 'ortobom', 'orrivel', 'origins', 'originalrecomendo', 'originalpois', 'originalmuito', 'originalcheiro', 'origens', 'origem', 'orientaÇÃo', 'orientaram', 'orientando', 'orientada', 'oriduto', 'orgulho', 'organizados', 'organizador', 'organismo', 'orelhas', 'orange', 'orando', 'oral', 'opçãomeu', 'opÇÃo', 'optando', 'optamos', 'optam', 'oportunista', 'oportunidades', 'oponente', 'opiniões', 'opiniãoas', 'opiniao', 'operações', 'operando', 'operacionais', 'opcoes', 'opcional', 'opcionais', 'opcao', 'opaco', 'oooooooooooooooooooooooooooooooooooooooooooooooooooooooooooooooooooooooooooooooooooooooooooo', 'ooooooooooo', 'ontemantes', 'onix', 'oneplus', 'onedrive', 'oneblade', 'ondulação', 'omron', 'omotog5', 'omnia', 'omesmo', 'omarcadoe', 'om', 'oliva', 'olist', 'olhomêtro', 'olhinhos', 'olheo', 'olheiras', 'olhado', 'olhada', 'oleosidade', 'oleosa', 'oleo', 'olao', 'olaf', 'okporem', 'ois', 'oh', 'oficina', 'ofertado', 'oferecida', 'ofereceu', 'ofereceram', 'oferecem', 'ofderece', 'ofato', 'odores', 'odaban', 'ocupasse', 'ocupar', 'ocultados', 'oculpa', 'oculos', 'ocular', 'ocorrências', 'ocorrÊncia', 'ocorridos', 'ocorrer', 'ocorrem', 'oceano', 'ocean', 'ocasionando', 'obtenho', 'obsquando', 'obsoleto', 'obsoletas', 'obsolescência', 'observações', 'observamos', 'observado', 'obrigações', 'obrigatório', 'obrigando', 'obriga', 'obrg', 'obpriduto', 'objetivovideo', 'obgda', 'obedecer', 'oa', 'o0', 'núcleo', 'nó', 'nítidorecomendo', 'ném', 'nãoalisa', 'nâo', 'nÚmeros', 'n°', 'nyee', 'nutrição', 'nutrida', 'nutre', 'numeros', 'numeral', 'nuance', 'ntsc', 'nte', 'nso', 'nr4', 'nr', 'novíssima', 'novose', 'noves', 'novembro2017', 'novembro17', 'novela', 'nove', 'novasnão', 'novae', 'nougat', 'notícias', 'notável', 'noturno', 'noturnas', 'notte', 'nots', 'notifiquei', 'notificação', 'notificados', 'notificada', 'noticias', 'notebooks', 'notebooke', 'notbook', 'notar', 'not', 'normalidade', 'nordestina', 'nomesmo', 'nomes', 'nom', 'nojeira', 'noivo', 'noivado', 'noites', 'nocao', 'noa', 'nnnnnnnnnnnnnnnnnnnnnnnnnnnnnnnnnnnnnnnnnnnnnnnnnnnnnnnnnnnnnnnnnnnnnnnnnnnnnnnnnnnnnnnnnnnnnnnnnnnnnnnnnnnnnnnnnnnnnnnnnnnnnnnnnnnnnnnnnnnnnnnnnnnnnnnnnnnnnnnnnnnnnnnnnnnnnnnnnnnnnnnnnnnnnnnnnnnnnnnnnnnnnnnnnnnnnnnnnnn', 'nnnnnnnnnnnnnnnnnnnnn', 'nmer', 'nmax', 'nivel', 'niquem', 'nilson', 'nilo', 'niguem', 'nicholas', 'ngm', 'nfe', 'neçessidade', 'neymar', 'newsmktamericanascom', 'netshoes', 'netrio', 'netos', 'netdecor', 'netas', 'ness', 'nespresso', 'nescesida', 'nerf', 'ner', 'nepomuceno', 'neo', 'nenhumlixo', 'nenen', 'nen', 'nemusei', 'nemhum', 'neles', 'neleexcelente', 'nelas', 'nehuma', 'neh', 'negócios', 'neguem', 'negociações', 'negociação', 'negociar', 'negociando', 'negativas', 'negaramsuper', 'negaram', 'need', 'necks', 'necessitem', 'necessite', 'necessitar', 'necessidaes', 'necessidadesuas', 'necessidadessem', 'necessidadesfacil', 'necessidadesera', 'necessidaderapido', 'necessariamente', 'navio', 'navegador', 'navegabilidade', 'nave', 'naturalmente', 'natação', 'natalveio', 'natalpéssimo', 'natalinosveio', 'natalina', 'natalabsurdo', 'nascidos', 'nascerá', 'naoconter', 'namorando', 'namoram', 'nadapor', 'nadanão', 'nadafalta', 'nadae', 'nadadecepcionado', 'nadacomo', 'nadaapenas', 'nadaabre', 'nacionalamericano', 'mói', 'módulo', 'mínimos', 'mínima', 'mêsquando', 'métrica', 'més', 'mérito', 'médico', 'médica', 'mãozinhas', 'mãocarregar', 'máscaras', 'mário', 'márcia', 'máquita', 'máquinas', 'mágicos', 'mágico', 'mágica', 'mÃe', 'mÁximo', 'myutio', 'mylink', 'muuuuito', 'muuuuita', 'muuuito', 'mutio', 'musiquinhas', 'musiquinha', 'musicsam', 'musicas', 'musicais', 'muro', 'murcha', 'muota', 'munhas', 'multiuso', 'multitarefa', 'multiprocessador', 'multiplayer', 'multigroom', 'multicolorido', 'multi', 'multas', 'mulheres', 'muitosó', 'muitosuperou', 'muitoresolvi', 'muitoooooooo', 'muitoooooo', 'muitoooo', 'muitoo', 'muitonão', 'muitonpara', 'muitomostrei', 'muitoexcelente', 'muitoentrega', 'muitobateria', 'muitoa', 'muitissimo', 'muitaaaaaaaaa', 'muiito', 'mugo', 'mudava', 'mudam', 'mucho', 'mrda', 'mp', 'moça', 'movimeento', 'moveis', 'mouses', 'mousepads', 'mousepad', 'mountain', 'motox4', 'motox', 'motosserra', 'motores', 'motorela', 'motora', 'motoqueiro', 'motog5', 'motog3', 'motoca', 'motoboy', 'motivar', 'motivadas', 'motagem', 'mostrem', 'mostraram', 'mostrados', 'mostrada', 'mosquitos', 'mosquito', 'mortos', 'morta', 'morra', 'mormaii', 'morena', 'more', 'morder', 'mordedor', 'morasse', 'morando', 'morais', 'moraes', 'montou', 'monteiro', 'montarem', 'montando', 'montamos', 'montagens', 'monomotor', 'mono', 'monitoriamento', 'monitorar', 'monetariamente', 'molinho', 'molinete', 'molhou', 'molhar', 'molhando', 'molhadas', 'moles', 'moleque', 'molenga', 'moleca', 'moldável', 'moldura', 'moldes', 'moldem', 'moldar', 'mofo', 'mofados', 'mofado', 'modulo', 'modernomais', 'modernidade', 'moderadamente', 'modem', 'modelagem', 'modelados', 'modelado', 'modela', 'moda', 'mobiliário', 'mobile', 'mob', 'mizuno', 'mix', 'mitologia', 'miséria', 'mistérios', 'misturar', 'misturando', 'misturam', 'mistura', 'missões', 'missão', 'mis', 'mira', 'minúsculo', 'minusculo', 'minrecomendo', 'miniusbusbmacho', 'minimonde', 'minimalista', 'minima', 'minhaopnião', 'mine', 'mime', 'milímetro', 'milk', 'militec', 'milhos', 'milheiro', 'mikrosombolcombr', 'migrado', 'migo', 'migalhas', 'microsoft®', 'microorganismos', 'microirrigacão', 'microfones', 'microfibra', 'mickey', 'michel', 'michael', 'mhas', 'mexi', 'mexermas', 'mexem', 'mexa', 'meuse', 'meue', 'metropolitana', 'metodologia', 'meticuloso', 'metalico', 'metalfrio', 'metais', 'metabolismo', 'mestres', 'messenger', 'mesmíssima', 'mesmousei', 'mesmouma', 'mesmoproduto', 'mesmoonde', 'mesmofora', 'mesmoexcelenteespero', 'mesmi', 'mesmapossui', 'merlin', 'mergulhando', 'mereço', 'merecia', 'merecer', 'mercurio', 'mercedez', 'mercadotoppp', 'meramente', 'mer', 'menção', 'menus', 'menu', 'mentiu', 'mentirinha', 'mentindo', 'mente', 'mentais', 'mensalidades', 'meno', 'meninos', 'meninada', 'mencionaram', 'mencionando', 'memóriaou', 'memorial', 'membros', 'membrana', 'mello', 'melhorrsrsr', 'melhormais', 'melhorinclusive', 'melhoriasqto', 'melhorcusto', 'melhorarei', 'melhorando', 'melhorado', 'melhoradas', 'meizu', 'meios', 'meiodia', 'megazord', 'megas', 'megapage', 'medoperfume', 'medições', 'medio', 'medieval', 'medico', 'medicamentos', 'mede', 'mecânico', 'mecânicas', 'mecum', 'meche', 'mecanismo', 'maú', 'maçã', 'maça', 'maá', 'maÇarico', 'maxx', 'maximo', 'maxima', 'maxcio', 'matérias', 'mattoso', 'mato', 'materuak', 'materno', 'materialmuito', 'materia', 'matemática', 'matando', 'master', 'masssss', 'masss', 'massinhas', 'massagem', 'massageador', 'masha', 'maselogiou', 'masdessa', 'masculino', 'masculina', 'mascostura', 'mascara', 'marxann', 'marvel', 'marquei', 'marli', 'marlene', 'market', 'marita', 'marise', 'mario', 'marinete', 'maridão', 'mariah', 'maria', 'marcos', 'marcha', 'marcaram', 'marcantes', 'marcando', 'marcador', 'maravycherry', 'maravilinda', 'maravilhosoÁgua', 'maravilhososuper', 'maravilhosoooooo', 'maravilhosoentrega', 'maravilhosoa', 'maravilhosapedi', 'maravilhosamente', 'maraca', 'mar', 'maquiagem', 'maq', 'mao', 'mantêm', 'mantén', 'mantivessem', 'manteve', 'manta', 'manipulado', 'manifestava', 'manifesta', 'manha', 'mangueiras', 'mangos', 'manga', 'manejo', 'mandarão', 'mandariam', 'mandaria', 'mandarem', 'mandaramum', 'mandalo', 'manchou', 'manchando', 'manaus', 'mamães', 'mamado', 'mamadeirarecomendo', 'malvado', 'malte', 'maleável', 'makis', 'maisnão', 'maisfora', 'maiseu', 'maisblush', 'mair', 'maiot', 'maiorentregaram', 'mails', 'mai', 'magro', 'magrinha', 'magra', 'magníficos', 'magnífica', 'magazinemas', 'madrugada', 'madelein', 'madeirinhas', 'made', 'maciopara', 'maciarecomendo', 'machucou', 'macha', 'macchiato', 'macarrão', 'macarrao', 'macando', 'm3rd4', 'lúdico', 'lúcia', 'lógica', 'líquidos', 'língua', 'lêlo', 'lésbico', 'lápis', 'lÂmpada', 'lÂminas', 'lyor', 'luzmas', 'luzinhas', 'luvas', 'lutam', 'luminosa', 'lumens', 'lume', 'luis', 'lucro', 'lucrar', 'luchino', 'lttwgr', 'loucura', 'lote', 'lotados', 'lotada', 'lost', 'look', 'longevidade', 'longas', 'long', 'lojista', 'lojaprimeira', 'lojanão', 'loiros', 'loiro', 'lohrayne', 'logístico', 'logitec', 'login', 'logicamente', 'logado', 'log', 'localizei', 'localizaram', 'localizando', 'localizados', 'localizado', 'localizada', 'localidade', 'loca', 'loa', 'ljk', 'lixeira', 'lixar', 'lixando', 'lixa', 'livrosé', 'livres', 'livraria', 'livrar', 'livra', 'litoral', 'literatura', 'listar', 'lisinho', 'lisa', 'liquido', 'lipidium', 'lipava', 'linhas', 'linguicas', 'linguica', 'lindíssimos', 'lindosotima', 'lindoo', 'lindomodernidade', 'lindoleve', 'lindoera', 'lindasem', 'lindalene', 'lindaatendendo', 'limpava', 'limpas', 'limpam', 'limitações', 'limitado', 'limita', 'lilás', 'lilly', 'lilian', 'liguem', 'lightning', 'ligara', 'liganete', 'lidos', 'lida', 'licenças', 'licenca', 'library', 'liberação', 'liberar', 'liberados', 'libera', 'liber', 'lhasa', 'leão', 'lezado', 'levinho', 'levem', 'levecontrole', 'leveatendeu', 'levasse', 'levarmos', 'levantar', 'levantando', 'levanta', 'levandose', 'levalo', 'leu', 'letura', 'letra', 'lesões', 'leroy', 'lerdo', 'lenço', 'lentes', 'lentamente', 'lembrese', 'lembrei', 'lembranças', 'lembrança', 'lembrancinha', 'lembra', 'leis', 'leigos', 'legume', 'legends', 'legalzinho', 'legalmuito', 'legalminha', 'lee', 'leds', 'lede', 'leave', 'leartam', 'league', 'le', 'laço', 'layout', 'lawrence', 'laválo', 'lavação', 'lavavel', 'lavando', 'lavadoura', 'latte', 'latir', 'latinhas', 'latidos', 'lastima', 'lasquei', 'lascado', 'lascada', 'lasca', 'largura', 'largos', 'largarem', 'largar', 'largagrande', 'laranjas', 'lara', 'lapiseira', 'lançados', 'lançadas', 'lançada', 'lanchonete', 'lanches', 'lanche', 'laminas', 'lamentÁvel', 'lamentavel', 'laje', 'lai', 'lag', 'ladybug', 'ladrões', 'lacres', 'labrador', 'labirinto', 'l6614', 'l', 'ky', 'kpm0005', 'kombi', 'knup', 'kn', 'kmh', 'kkkkkkkkkkkkkkkkkkkkkkkkkkkkkkkkkkkkkkkkkkkkkkkkkkkkkkkkkkkkkkkkkkkkkkkkkkkkkkkkkkkkkkkkkkkkkkkkkkk', 'kkkkkkkkkkkkkkkkk', 'kkkkkkkkk', 'kkk', 'kk', 'kits', 'king203', 'king', 'kilos', 'keyla', 'kelsen', 'kelly', 'keila', 'kefir', 'kde', 'kbçanão', 'kameramera', 'ka', 'k8', 'k', 'jà', 'jw', 'justificaria', 'justificar', 'justifica', 'justa', 'juro', 'juridicamente', 'juntando', 'juntamente', 'junior', 'junho', 'julguei', 'julgarem', 'juizado', 'judiciario', 'judicialmente', 'judiciais', 'jpg', 'jp', 'joystick', 'jovem', 'joval', 'josé', 'jornalista', 'jornal', 'jornais', 'jorge', 'jolie', 'joias', 'johanna', 'jogão', 'jogou', 'jogador', 'jogadas', 'jmmnbffcv', 'jl', 'jhghggjhhjjhggfgfgvg', 'jhgfgbvh', 'jeyptooutlookcom', 'jerusalém', 'jeitosa', 'jarvis', 'jarro', 'japoneses', 'japonesa', 'jantar', 'janeiro2018', 'janeiro18', 'jan2018', 'jan', 'jair', 'jadlog', 'j7já', 'j2', 'j', 'itensn', 'italiana', 'issomesmo', 'isqueirosfunciona', 'isqueiro', 'iso', 'isentam', 'irÁ', 'irritações', 'irritação', 'irritado', 'irritada', 'irrita', 'irrisório', 'irresponsáveis', 'irresponsavel', 'irresponsabilidades', 'irregulares', 'irmãzinha', 'irmao', 'iris', 'irar', 'ipuabsdpiuabspiuabspub', 'ipr', 'ip', 'inútilnão', 'inércia', 'inÍcio', 'invisível', 'inviabialisa', 'investiria', 'investimentoa', 'investi', 'invertido', 'inventor', 'inventaram', 'invalidez', 'invalida', 'invadir', 'inutilizou', 'inutilizavel', 'inumeras', 'intácto', 'intuitiva', 'intregar', 'intimista', 'intervenção', 'interrompimento', 'interrompendo', 'interpretei', 'interpelar', 'interntet', 'internetem', 'internete', 'internas', 'internamente', 'internacional', 'internacionais', 'intermédiaria', 'intermediários', 'intermediação', 'interisse', 'interfiram', 'interferisse', 'interferir', 'interesses', 'interessariam', 'interessaria', 'interessantíssimo', 'interessam', 'interessadoas', 'interessa', 'interesante', 'interdisciplinar', 'interação', 'interatividade', 'interativa', 'interagirem', 'interagir', 'interagindo', 'intensa', 'intencionada', 'intelbras', 'integridade', 'integralmente', 'integrado', 'integrada', 'intalei', 'insuficiente', 'instável', 'instruÇÃo', 'instrutivo', 'instrumentos', 'instalção', 'instalá', 'instalem', 'instalaçao', 'instalaÇÃo', 'instalarrecomendo', 'instalamos', 'instalalo', 'instalalação', 'instalada', 'instagram', 'instabilizador', 'instabilidade', 'inspira', 'insosso', 'insistência', 'inscrição', 'inscritos', 'insatisfações', 'insastifeito', 'inrresponsabilidade', 'inquisição', 'input', 'inoxa', 'inovação', 'inivialmente', 'inigualáveis', 'iniciouestou', 'iniciante', 'inicialização', 'inicializado', 'iniciais', 'inibir', 'inglêsporém', 'inglês', 'inglÊs', 'inglescolecao', 'ingles', 'inglaterra', 'infromaram', 'inforçao', 'informaçõesdescrição', 'informaÇÃo', 'informativo', 'informara', 'informamos', 'informam', 'informados', 'info', 'inflável', 'influênciou', 'inflar', 'infirmando', 'infestação', 'inferiorele', 'infelizmenteo', 'infelicidade', 'infantis', 'inexistenteaí', 'inexistente', 'inesquecivel1', 'inegável', 'ineditamente', 'indícios', 'industrial', 'industria', 'individualizadas', 'individual', 'indisponibilidade', 'indispensável', 'indiretamente', 'indique', 'indigo', 'indiferentemente', 'indiferente', 'indicoproduto', 'indicobjs', 'indicações', 'indicava', 'indicamos', 'indicados', 'indicador', 'indesejável', 'indesejados', 'indepedente', 'indentificar', 'incógnita', 'incríveisdetalhe', 'incoviniente', 'incorretosou', 'incorretamente', 'incorreta', 'incorporada', 'inconveniências', 'inconveniência', 'inconvenientes', 'inconpatibilidade', 'incompetência', 'incompetentes', 'incompententes', 'incompatíveis', 'incomodo', 'incomode', 'incomodação', 'incomodava', 'incomodarpq', 'incomodaria', 'incluído', 'incluída', 'inclusas', 'incluir', 'incluindo', 'inclinada', 'inclina', 'inchado', 'incentivo', 'incentivar', 'incentivando', 'inadmissível', 'inadequado', 'inacreditavelmente', 'imóvel', 'império', 'improvisar', 'imprimindo', 'imprimi', 'imprime', 'imprevistos', 'imprevisto', 'imprestável', 'imprestÁvel', 'impressões', 'impressorascanner', 'impressoras', 'impressionou', 'impressionantes', 'impressiona', 'impressao', 'impresa', 'imprensa', 'impregnada', 'imprecisão', 'imprecisa', 'impostos', 'impossÍvel', 'impossibilitando', 'impossibilitada', 'impossibilita', 'importo', 'importantes', 'importados', 'importadolembro', 'impessoal', 'imperfeição', 'imperdível', 'imperdivel', 'impecávelmas', 'impactos', 'imobiliÁrio', 'imitação', 'imetro', 'imensos', 'imensamente', 'imediata', 'imcompleta', 'imbecil', 'imail', 'imaginávamos', 'imagine', 'imaginar', 'imaginam', 'imagemsuper', 'imagempor', 'imagemfora', 'imagemenfim', 'ilustraçao', 'ilustrado', 'ilustrada', 'iluda', 'iii', 'ii', 'igualmente', 'igualcompra', 'igualar', 'ignorância', 'ignoram', 'ignora', 'if', 'idôneos', 'idérito', 'idéia', 'idoso', 'idoneidade', 'identifiquei', 'identificando', 'identidade', 'idades', 'ida', 'ica', 'ibbl', 'iam', 'i9', 'húmida', 'híbrida', 'hélices', 'hxhchcvh', 'humor', 'hummmm', 'humilhado', 'humilhada', 'humana', 'hulk', 'huhhu', 'hub', 'httpwahlglobalcombrazilhairstylingwahllegalhtml', 'httpswwwyoutubecomwatchvzu9r24sjm6y', 'httpswwwredefacilbrasilcombr', 'httpswwwreclameaquicombr', 'hrv', 'hospitalares', 'hospedam', 'horários', 'hortas', 'horrívelhá', 'horroroso', 'horrores', 'horaso', 'honestamente', 'honesta', 'hojesuper', 'hojerobusto', 'hojepedi', 'hojea', 'hk115', 'históricos', 'históriamuito', 'historinha', 'historias', 'hipótese', 'hipoalergênico', 'hiperfocal', 'hiper', 'higienização', 'higienizar', 'higiene', 'hidráulica', 'hidratados', 'hidratadoperfeita', 'hidratada', 'hidrata', 'hhhhhhhhhhhhhhhhhh', 'hhhhhhhhhhhhhhhh', 'hhhhhh', 'heróis', 'heroínas', 'hermético', 'hepa', 'henckelsproduto', 'hen', 'hemorroidas', 'helicoptero', 'heleno', 'heleni', 'heinnn', 'hehe', 'hebraico', 'headshot', 'he', 'hcgk', 'hawk', 'hatch', 'hastes', 'haste', 'hardware', 'handset', 'hamburguês', 'hair', 'hahahahaha', 'hahahaha', 'habito', 'habitantes', 'habil', 'h61', 'gênero', 'gxkgfksktfulclktspvluzihfkkvtkxufxlyzrclucufclh', 'guirlanda', 'guia', 'guaru', 'guardála', 'guardei', 'guardasol', 'guardaroupa', 'guardaria', 'guardachuva', 'guando', 'guairapr', 'gt', 'grudou', 'grudenta', 'gruda', 'grrrrr', 'grotesco', 'grossura', 'grossas', 'grill', 'grid', 'grelhas', 'grela', 'grega', 'great', 'graçafunciona', 'gravidade', 'gravei', 'gravações', 'gravaçao', 'gravaÇÃo', 'gravalo', 'gravador', 'gravadas', 'grauacho', 'grau', 'gratuitos', 'gratuitamente', 'gratificante', 'granulação', 'grandebateria', 'granada', 'grampeador', 'grafite', 'graficos', 'grafico', 'gradinhas', 'grades', 'gracinha', 'gostinho', 'gosteiruim', 'gosteipreco', 'gosteio', 'gosteimeu', 'gosteiiiii', 'gosteifoi', 'gosteido', 'gostandoaida', 'gordurinhas', 'gordo', 'gora', 'good', 'gonçalves', 'gomes', 'golpes', 'golpenão', 'golpee', 'gnt', 'glória', 'glaucia', 'givi', 'gis', 'girafa', 'gillete', 'giannini', 'ghkklljgffvhki5w1135uucdbkrrjfjehrohbafrkfhfeurha', 'gesto', 'gesso', 'gerou', 'gerenciamento', 'geralmente', 'geralfacil', 'gerado', 'geracao', 'geodésia', 'genéricos', 'genérico', 'gentiliza', 'genteque', 'genildo', 'gengivas', 'gelosa', 'gelavaai', 'gelava', 'gelatina', 'gelando', 'geladeiraagua', 'geladas', 'geladaproduto', 'gel', 'geito', 'geek', 'gears', 'gear', 'gbacessa', 'gazin', 'gavetakd', 'gatinhos', 'gatilho', 'gatarecomendo', 'gastem', 'gasilina', 'garrafinhas', 'garrafas', 'garotinhaminha', 'garmin', 'gargalo', 'garantiram', 'garantindo', 'garantidapara', 'garantem', 'garante', 'ganks', 'ganhos', 'ganhei', 'ganhe', 'ganhando', 'ganham', 'ganhador', 'ganhado', 'gancho', 'ganchinhos', 'games4', 'gaita', 'gaga', 'gadgets', 'gabinete', 'g29', 'g2', 'fórmula', 'físicomas', 'fênix', 'férias', 'fãs', 'fácilmanuseioimagens', 'fz', 'fuuncionar', 'futuro', 'futuramente', 'futfanatics', 'fusível', 'fustrada', 'furioso', 'furiosa', 'furação', 'furaÇÃo', 'furalo', 'furado', 'furada', 'fura', 'fundamentado', 'funcionário', 'funcionoumas', 'funciono', 'funcionasse', 'funcionalmente', 'funcionalfácil', 'funcionafoi', 'funcionabilidade', 'funciomando', 'funciobar', 'fumando', 'fullhda', 'fullhd', 'fujam', 'fuja', 'fugindo', 'fugia', 'fu41', 'frágilusamos', 'frágile', 'frÁgil', 'fry', 'fruteira', 'fruta', 'frustrou', 'frustração', 'frustrado', 'frustação', 'frustante', 'frustadafora', 'frustacao', 'frouxas', 'frouxa', 'fronta', 'froma', 'frituras', 'fritos', 'fritar', 'fritalos', 'frita', 'friso', 'frios', 'frigobar', 'frigideira', 'fridaye', 'fretesem', 'fretes', 'fretebrasil', 'fresquinho', 'fresca', 'frequências', 'frequência', 'frequente', 'frequentar', 'frequencímetros', 'frequencia', 'freezer', 'free', 'fratura', 'frasquinhos', 'frase', 'fraquissima', 'fraquinhasesperava', 'frangancia', 'francisco', 'francesa', 'frame', 'fralde', 'fraida', 'fragmentos', 'fragmentadora', 'fragilnem', 'fragilencaixes', 'fragancia', 'fracoe', 'fracasso', 'fracas', 'fracapassa', 'frabricante', 'fotoproduto', 'fotoo', 'fotográfica', 'fotocópia', 'fossilizante', 'fosca', 'forçar', 'forçamuito', 'forçado', 'foruns', 'forthouse', 'forró', 'forro', 'forramentos', 'forrado', 'forninho', 'fornecemos', 'fornecedormas', 'forncedor', 'formigas', 'formidáveis', 'forme', 'formatado', 'formando', 'formalizadaalguém', 'formalizada', 'formada', 'foranao', 'folmer', 'folia', 'folheto', 'folguei', 'folgado', 'foimuito', 'fogÃoestou', 'fogem', 'foge', 'fofinha', 'fodaaa', 'flyer', 'flores', 'flix', 'flip', 'flete', 'flavio', 'flashes', 'flagil', 'fixaçao', 'fixava', 'fixaram', 'fixar', 'fitas', 'fit', 'fisica', 'fisher', 'fiscalizem', 'fiscale', 'firmou', 'firmeza', 'fiquie', 'fiofaturado', 'finomas', 'fineza', 'findará', 'finanças', 'financeiro', 'finalmente', 'finalizo', 'finalizada', 'finaliza', 'filtroassim', 'filtrado', 'filmoa', 'filminho', 'filmada', 'filma', 'filias', 'filhaficou', 'filhaela', 'fiho', 'figurinos', 'figurinhas', 'fiesta', 'fidback', 'ficsação', 'ficasse', 'ficarem', 'ficarei', 'ficara', 'ficado', 'fiat', 'fi', 'ferrugemdentro', 'ferrinho', 'ferrari', 'ferrando', 'ferrada', 'ferpas', 'fernando', 'fentativa', 'femea', 'feltro', 'felizmente', 'felizes', 'felix', 'felipe', 'feixo', 'feixes', 'feitoadorei', 'feitarealmente', 'feitacom', 'fedorenta', 'fedendo', 'fechos', 'feche', 'febre', 'fe', 'fdc', 'faíscas', 'façomas', 'fazêla', 'fazse', 'faziam', 'fazerobrigado', 'fazerem', 'fazenda', 'favorito', 'faturou', 'fatiar', 'fatia', 'fastio', 'fases', 'farão', 'farsanao', 'farsa', 'farpas', 'fariam', 'faremos', 'farelo', 'faqueiro', 'fanáticos', 'fantásticos', 'fantÁstico', 'famílias', 'famosas', 'famosa', 'familiarizar', 'faltavam', 'faltado', 'falsooo', 'falsoo', 'falsificou', 'falsificação', 'falra', 'falhar', 'falhando', 'falham', 'falhado', 'fale', 'falcatrua', 'falas', 'falarpor', 'falarem', 'faixas', 'facilitadoras', 'facilidades', 'fabricantevendedor', 'fabricantes', 'fabricada', 'fabiane', 'f4556', 'e´poder', 'ezconet', 'extremo', 'extremidade', 'extraviou', 'extrapolou', 'extraordinária', 'extorsão', 'extorno', 'extorna', 'extintor', 'extermínio', 'exterior', 'extenso', 'extender', 'expressar', 'expostas', 'exposta', 'exportação', 'expor', 'exploração', 'exploradora', 'explorador', 'explodiu', 'explodir', 'explodido', 'explodem', 'exploda', 'expliquei', 'explique', 'explicaÇÃo', 'explicativos', 'explicativa', 'explicando', 'explicadoera', 'explicado', 'explica', 'expirava', 'expirar', 'experts', 'experimentei', 'experimentar', 'experiencias', 'expedição', 'expectivas', 'expectativasótimo', 'expectativasvaleu', 'expectativassatisfeita', 'expectativasproduto', 'expectativasotima', 'expectativaslinda', 'expectativaschegou', 'expectativasbom', 'expectativasatende', 'expectativanecessidade', 'expectativaesperava', 'expecional', 'expandiu', 'exp', 'existência', 'existiram', 'existir', 'existam', 'exija', 'exigências', 'exigo', 'exigiram', 'exigindo', 'exigencias', 'exibidos', 'exibido', 'exercícios', 'exercitar', 'exerce', 'exemplar', 'exelenteera', 'executando', 'executada', 'execelnte', 'exclusiva', 'excessiva', 'excepcionalmente', 'excepcionalfeita', 'excente', 'excelentevai', 'excelenterecomendo', 'excelenteprático', 'excelentepra', 'excelentepois', 'excelenteo', 'excelenteeu', 'excelenteentrega', 'excelentee', 'excelentede', 'excelentecorresponde', 'excelentechegou', 'excelentebonito', 'excele', 'excel', 'excedeu', 'excederam', 'excedente', 'exaustão', 'exatas', 'exatamento', 'exaamente', 'evoluççao', 'evoluiu', 'evoluir', 'evo', 'evitando', 'evitamos', 'evidenciando', 'eventualmente', 'eventos', 'evento', 'evaporaos', 'eva', 'euphoria', 'euler', 'euas', 'eua', 'etária', 'eterno', 'eternidade', 'etco', 'etaria', 'etapas', 'etapa', 'esypu', 'esvai', 'estágiosconforme', 'estufamento', 'estufada', 'estudar', 'estudante', 'estuda', 'estrume', 'estressando', 'estressada', 'estrelinha', 'estrelao', 'estrela10combr', 'estraviado', 'estragálo', 'estraguem', 'estrago', 'estragadas', 'estragada', 'estourava', 'estourando', 'estouram', 'estornaram', 'estornar', 'estornando', 'estoquedetalheee', 'estofado', 'estipularam', 'estipulada', 'estimulando', 'estimativa', 'estiloso', 'estilhaçada', 'esticando', 'esticada', 'estica', 'esteve', 'esterelizemos', 'estensor', 'estendi', 'estendeu', 'estelionato', 'estejam', 'estação', 'estatura', 'estato', 'estaríamos', 'estande', 'estampadas', 'estampada', 'estalação', 'estagiário', 'estagiar', 'estaduais', 'estadorecomendo', 'estadoe', 'estabilização', 'estabilizador', 'estabelecimento', 'estabelecidos', 'estabelecidas', 'essw', 'essse', 'esssa', 'essr', 'essed', 'essea', 'esqueçam', 'esqueça', 'esquerdo', 'esquerda', 'esquentam', 'esquema', 'esquecêla', 'esquecendo', 'espécie', 'espátula', 'espuminha', 'espulma', 'esporadicamente', 'espludi', 'esplicar', 'espião', 'espirro', 'espirra', 'espiritualismo', 'espira', 'esperávamos', 'esperto', 'espereva', 'esperendo', 'espere', 'esperavatalvez', 'esperavaobgcamera', 'esperavanão', 'esperavamos', 'esperavaestou', 'esperaria', 'esperançoso', 'esperandosem', 'esperadosuper', 'esperadorecomendo', 'esperadonão', 'esperadoe', 'esperadocelular', 'espelhamento', 'espectativafora', 'especificaçoes', 'especificaÇÕes', 'especificavam', 'especificativas', 'especificas', 'especificar', 'especificadas', 'especificada', 'especializar', 'especializada', 'especiais', 'espaçorecomendo', 'espaçadas', 'espaÇos', 'espatula', 'espantoso', 'espanto', 'espantar', 'espanhol', 'espanado', 'espaco', 'espacial', 'esopor', 'esguinchar', 'esguicho', 'esguichar', 'esgotado', 'esfriar', 'esfregão', 'esfoliador', 'esempre', 'ese', 'esdrúxula', 'escuto', 'escutar', 'escutam', 'escuropreta', 'escuridaovou', 'escuras', 'escuranao', 'escrivaninha', 'escrituroÁgua', 'escritoresgatando', 'escritora', 'escritor', 'escrevo', 'escrevi', 'escreeeever', 'escovados', 'escorrida', 'escorrendo', 'escorregadio', 'escorre', 'escondido', 'esconder', 'escoltilhas', 'escolheu', 'escolhendo', 'escolares', 'escolar', 'esclarecerem', 'esclarecer', 'esclarecedorrecomendo', 'esclarecedora', 'escasso', 'escape', 'escapar', 'escapamento', 'escamou', 'escamosas', 'escalas', 'escala', 'esbarra', 'esbanjar', 'erótico', 'errou', 'errotentei', 'errofiz', 'errei', 'erraram', 'erradovai', 'erradas', 'erra', 'ergonômico', 'ergonomico', 'erahoje', 'equivalem', 'equito', 'equipei', 'equipara', 'equipamentos', 'equipam', 'equipadora', 'equilibrar', 'equalização', 'epsonrecomendo', 'enxerto', 'enxergo', 'enxergar', 'enxe', 'envolvente', 'envolvendo', 'envolto', 'enviopois', 'enviarme', 'enviariam', 'enviamos', 'enviados', 'enviadas', 'envernizados', 'envernizada', 'envergonhar', 'envergado', 'envelope', 'entÃo', 'enttrega', 'entrregue', 'entrga', 'entretenimento', 'entres', 'entreque', 'entrementes', 'entregálo', 'entrego', 'entrega❤', 'entregatô', 'entregatudo', 'entregasó', 'entregasuper', 'entregaria', 'entregarecomendo', 'entregaras', 'entregao', 'entregame', 'entregamas', 'entregalogistica', 'entregafoi', 'entregafiquei', 'entregaeu', 'entregadeicharam', 'entregacomprei', 'entregacom', 'entregabkbdksaikddhbigdiwqdbvdabdasdvavdadsbadbasbdb', 'entrava', 'entratanto', 'entrassem', 'entranho', 'entrado', 'entortemtem', 'entortam', 'entereçar', 'entereça', 'enteressei', 'entendido', 'entenderprecisei', 'entenderam', 'entendam', 'entegue', 'entegaram', 'entega', 'entediada', 'enteado', 'ente', 'entaõ', 'ensinalo', 'enrolaram', 'enrolar', 'enrolam', 'enrolada', 'enregue', 'enredo', 'enqto', 'enormes', 'enjoo', 'enjoativo', 'enjoativas', 'enjoa', 'enjambraÇÃo', 'enigmática', 'engrenagens', 'engraçadas', 'engolir', 'engodo', 'engloba', 'engates', 'engasgar', 'enganosarecebi', 'enganem', 'engando', 'enganaÇÃo', 'enganase', 'enganarão', 'enganando', 'engage', 'enformarão', 'enferrujouimagina', 'enferrujar', 'enferrujam', 'enferrujadoquero', 'enfermeira', 'enfeites', 'enfeite', 'energética', 'endeusam', 'endereÇo', 'encurtar', 'encurta', 'encostando', 'encostam', 'encostado', 'encostada', 'encordoamento', 'encontrála', 'encontros', 'encontre', 'encontravam', 'encontrase', 'encontramos', 'encontrados', 'encomendeivieram', 'encomendas', 'encomendados', 'enchi', 'enchendo', 'enchem', 'encerraram', 'encaroçado', 'encantamento', 'encantados', 'encantador', 'encantado', 'encantadaÉ', 'encandecente', 'encaminhasse', 'encaminhar', 'encaminhado', 'encaixadinho', 'encaixada', 'encadernação', 'enaltecendo', 'emuito', 'emtrega', 'empurrando', 'empurramos', 'empurra', 'empunhadura', 'empréstimo', 'emprevisto', 'emprestava', 'emprestado', 'empresaadorei', 'empresaa', 'empregar', 'empolgado', 'empolgada', 'emperram', 'empenhou', 'empenar', 'empenadas', 'empanado', 'empacotar', 'empacotado', 'emocionante', 'emitir', 'emitindo', 'emiti', 'emissÃo', 'emendas', 'emendada', 'emcamelôs', 'embutir', 'embutido', 'embutida', 'embrulhada', 'embolar', 'embeleza', 'embassa', 'embasamento', 'embaralhar', 'embaralhador', 'embalegem', 'embaladora', 'embaladocom', 'embaladoaparellho', 'emanuseio', 'emagreça', 'emagrecimento', 'emagrecerÉ', 'emagrecer', 'emagrecendo', 'emagrece', 'elíptico', 'elétricos', 'elétricas', 'elétricadesfiz', 'elÉtricas', 'elogio', 'elogiaram', 'elogiar', 'elogiando', 'eloe', 'elixir', 'eliminei', 'eliminando', 'eliminado', 'elice', 'eliana', 'eleve', 'elevado', 'eletrônicos', 'eletrônico', 'eletrónica', 'eletronicos', 'eletronico', 'eletrodomesticos', 'eletrico', 'eletricista', 'eleteobest', 'elencos', 'elegância', 'electronic', 'elcio', 'elasticidade', 'eknha', 'eixo', 'einteresse', 'egito', 'efiram', 'eficacia', 'efhiwifshifhwhoagfugwhwebhffffffffffffffffffffffffffffffffffffffffffffffffffffffffffffffffffffffffffffffffffffffffffffffffffffhhhhhhhhhhhhhhhhhhh', 'efetuava', 'efetuasse', 'efetuaram', 'efetuando', 'efetiva', 'eetc', 'educativo', 'educativa', 'educados', 'educado', 'eduardo', 'edtou', 'edson', 'edredon', 'editáveis', 'editores', 'economizo', 'economizado', 'economiza', 'eco', 'ebomdecomprar', 'ea', 'e3', 'dúzia', 'dês', 'dz09', 'dw', 'dvr', 'dvi', 'duvidosos', 'dutty', 'dutra', 'duto', 'duráveis', 'durotorcicolo', 'duros', 'duraÇÃo', 'duralivro', 'duradora', 'durabilidadecom', 'duque', 'duplor', 'duplicidade', 'duohswtopmbcawhljh', 'dunas', 'duchas', 'dublagem', 'dublados', 'dubia', 'duais', 'dsrl', 'drone', 'drives', 'drenam', 'drena', 'dragão', 'dq77mk', 'dps', 'dpi', 'download', 'dourados', 'dosadora', 'dormirdas', 'don´t', 'donos', 'dono', 'domésticas', 'doméstica', 'domÉstico', 'domino', 'domicílio', 'domiciliaratende', 'domiciliar', 'domesticoamei', 'doloridohorrivel', 'doidão', 'doidos', 'doidera', 'dogtag', 'dog', 'doer', 'doei', 'doda', 'documento', 'documentaçao', 'documentaÇÃo', 'doces', 'doc', 'dobrar', 'dobradiça', 'dobra', 'doa', 'diária', 'diálogo', 'diÁrias', 'dizz', 'dizerem', 'divulgação', 'divulgando', 'divulgada', 'divisão', 'divisoria', 'divino', 'dividir', 'dividem', 'divide', 'divertemse', 'divertem', 'diversificação', 'divergências', 'divergência', 'divergentes', 'divergente', 'diva', 'distribuídos', 'distribuidos', 'distribuidores', 'distribuidas', 'distraído', 'distorce', 'disto', 'distinguir', 'dissoquando', 'dissolver', 'dissolve', 'dissesse', 'dispõem', 'dispôs', 'disposto', 'disposta', 'disponÍveis', 'disponibilizaram', 'disponibilizar', 'disponibilizam', 'dispondo', 'dispenser', 'dispensar', 'disparidade', 'disfarçar', 'disfarçando', 'discrição', 'discreta', 'discosexcelente', 'disane', 'diria', 'diretos', 'direitinhosuperou', 'directprimeiro', 'direcionar', 'dira', 'dinto', 'dinheirão', 'dinheirovou', 'dinamico', 'diminuição', 'diminuir', 'diminuindoe', 'diminui', 'diminuem', 'dimais', 'digna', 'digitando', 'digita', 'diga', 'difÍcil', 'dificultam', 'dificudade', 'diferençasimples', 'diferentessentidose', 'diferenteentão', 'diferenciação', 'diferenciais', 'diferenciadas', 'diferencia', 'difere', 'diasamei', 'diarréia', 'diario', 'diarecomendaria', 'dianao', 'diagostei', 'diagnóstico', 'diadia', 'dia2212', 'dhsyafskevdjdgsiagstbsisvsydoflrkvjchvovhsvdifjdhxudgausiwywgsidhfichdvsidkdjcycysgwuwofjfjcosnwkdofncuvtsgwgdifkdbdishsgshsixodbcofjdjdosndgwgsisjfjcofmgjvocosg', 'dgua', 'dezembro2017', 'devolverão', 'devolveriam', 'devolveria', 'devolverem', 'devolvemos', 'devoluções', 'devoluçãoe', 'devoluÇÃo', 'devidos', 'devidas', 'deverá', 'deveres', 'deverei', 'dever', 'devaneios', 'devagar', 'detre', 'detox', 'detonado', 'detestou', 'determina', 'deteriorando', 'detergente', 'detectado', 'detecta', 'detalhar', 'detalhados', 'detalhadas', 'desvendar', 'desvaloriza', 'destruído', 'destravado', 'destiny', 'destaque', 'destacável', 'destacou', 'destaco', 'destacam', 'destaca', 'dessanilização', 'desregulados', 'desprotegida', 'desproporcional', 'desprezo', 'despretencioso', 'despretenciosa', 'despreparadas', 'despreocupa', 'desprenderem', 'desperdiça', 'despencando', 'despejado', 'despache', 'despacharam', 'despachamento', 'despachado', 'desonestidade', 'desonesta', 'desníveis', 'desnecessário', 'desmontaram', 'deslocar', 'deslocamos', 'deslocamentos', 'deslizando', 'desliguei', 'desligo', 'desligarpor', 'desligada', 'desktop', 'desista', 'desinstalar', 'desilusão', 'desgruda', 'desgraças', 'desgraçada', 'desgostomas', 'desgosto', 'desgostei', 'desgastante', 'desgastam', 'desfocar', 'desfocadas', 'desfocada', 'desfoca', 'desfiz', 'desfiar', 'desfiado', 'desfia', 'desferir', 'desfecho', 'desfavoráveis', 'desestimula', 'desespero', 'desesperada', 'desenvolvidos', 'desenvolver', 'desenvolvedor', 'desenvoltura', 'desenhoa', 'desengordura', 'desencrustante', 'desencorajado', 'desencontros', 'desencaixou', 'desencaixam', 'desempregada', 'desempenhando', 'desempenha', 'desembaraça', 'desembalar', 'desejos', 'desejava', 'desejaro', 'desejarinclusive', 'desejarcabe', 'desejam', 'desejada', 'descumprimento', 'desculpe', 'descuido', 'descriÇÃo', 'descritorecomendo', 'descripcoes', 'descricao', 'descrevoo', 'descreveram', 'descrever', 'descosturando', 'descostura', 'descontos', 'descontei', 'descontaram', 'descontar', 'descontao', 'descontando', 'desconfortavel', 'desconfiada', 'desconectar', 'desconectado', 'descomplicado', 'descolorante', 'descolando', 'descobrir', 'descobrique', 'descobrindo', 'descobria', 'descem', 'descascou', 'descascados', 'descascado', 'descasca', 'descartaveis', 'descartado', 'descartadas', 'descarregou', 'descarga', 'descaradamente', 'descarada', 'descansar', 'descansa', 'desbruga', 'desbotadas', 'desbotada', 'desbota', 'desbloqueio', 'desbancar', 'desatualizados', 'desatualizado', 'desativálas', 'desatendeu', 'desastre', 'desapontamento', 'desapontados', 'desaparecido', 'desapareceu', 'desaparece', 'desanimou', 'desalinhada', 'desaine', 'desagradável', 'desagradou', 'desagradavel', 'desagradaram', 'desafios', 'desaclopar', 'desabafo', 'derão', 'derrubada', 'derretido', 'derretida', 'derretelos', 'derrete', 'derramasse', 'dermaroller', 'depositei', 'deposita', 'deposis', 'depilar', 'depilador', 'depila', 'departamento', 'denunciando', 'dentroestranhogostaria', 'dentroestava', 'dentra', 'dentista', 'dente', 'denso', 'denovo', 'denigrem', 'demuito', 'demostrativa', 'demos', 'demoroul', 'demore', 'demoraria', 'demonstrou', 'demonstração', 'demonstrando', 'demonstrados', 'demaissss', 'demaisnas', 'delíciasuper', 'deliciosos', 'delicatta', 'delicados', 'delicadeza', 'delicadas', 'deleseles', 'deleporém', 'deixoa', 'deixe', 'deixava', 'deixaria', 'deixarei', 'deixandoos', 'deito', 'deitel', 'deis', 'degraus', 'degradado', 'degejar', 'defwito', 'definitivo', 'definidos', 'definidomuito', 'definem', 'define', 'deficiência', 'deficitário', 'defendendo', 'defeituoso', 'defeitoseguindo', 'defeitoporém', 'defasado', 'dedo', 'decência', 'decorrentes', 'decorações', 'decorativa', 'decorar', 'decorado', 'decolar', 'decks', 'decisivos', 'decidido', 'decidem', 'decepções', 'decepçãonão', 'decepçãoela', 'decepsiono', 'decepcionaram', 'decepcionar', 'decepcionanteo', 'decepcionando', 'decepcionadaespero', 'decepciona', 'decepcao', 'deceocionada', 'decaso', 'decaiu', 'debitar', 'debita', 'deberia', 'deadline', 'dead', 'ddr3', 'ddr', 'days', 'daydream', 'day', 'davam', 'datagostei', 'datado', 'darei', 'dardo', 'daquela', 'danificação', 'danificados', 'danificadofora', 'danificadacomo', 'dane', 'dandome', 'damos', 'dama', 'daltônico', 'dalila', 'daguanão', 'daguamas', 'dadas', 'cúpula', 'cônico', 'córtex', 'cópia', 'códex', 'cód20395096', 'cód', 'cível', 'círculos', 'células', 'cédulas', 'cães', 'câmbio', 'câmaras', 'cálculo', 'cv', 'cuva', 'custoxbenefício', 'customizável', 'custobenefíciopara', 'custava', 'curtos', 'curti', 'curtas', 'cursos', 'curso', 'curiosidde', 'curiosa', 'curativo', 'cupus', 'cupulade', 'cupim', 'cupcakes', 'cumprissem', 'cumple', 'culinário', 'culinária', 'culinÁria', 'cuido', 'cuidem', 'cuidava', 'cuidarão', 'cuidade', 'cucas', 'ct85a', 'ct285', 'csgo', 'críticos', 'crítico', 'crítica', 'crÉdito', 'cruzsp', 'cruze', 'cruz', 'cru', 'cromado', 'crm', 'critico', 'criticas', 'criticadas', 'criterios', 'cristhianvale', 'cristalino', 'cristaleira', 'criousse', 'crientes', 'criativos', 'criar', 'criançada', 'crianÇas', 'crianaça', 'criados', 'criado', 'crg', 'crespo', 'crescendo', 'crepom', 'cremoso', 'cremosa', 'creditado', 'credibilidades', 'credibilidadenão', 'credenciado', 'cravejado', 'cq360', 'cpu', 'cp38', 'cp', 'coçar', 'cozinhou', 'cozinho', 'cozinhava', 'cozinham', 'cozinhaisso', 'cozinhacom', 'cozinhaatendeu', 'cozer', 'cowboy', 'courino', 'coubea', 'cotação', 'cota', 'costurava', 'costurar', 'costurado', 'costumeira', 'costumam', 'costela', 'cosméticos', 'cortrariando', 'cortininha', 'cortes', 'cortei', 'cortante', 'cortando', 'cortana', 'cortam', 'cortalas', 'cortado', 'corrêa', 'corrosão', 'corrompido', 'corro', 'corrigiu', 'corridos', 'corrido', 'corridacafé', 'correção', 'correu', 'corretos', 'corretivo', 'corretaente', 'corresse', 'correspondida', 'correspondendo', 'correspondencia', 'correse', 'corremos', 'correiros', 'correiosmais', 'coro', 'corisaalergia', 'coreto', 'coresponsável', 'coreografia', 'corda', 'corações', 'coragem', 'copomas', 'copinhos', 'copinho', 'copiadora', 'copia', 'copag', 'coordenação', 'cookie', 'conzinha', 'convém', 'conviven', 'convidar', 'conversei', 'conversa', 'conveniente', 'convencido', 'convence', 'contínuas', 'contínua', 'contto', 'contrÁrio', 'controvérsias', 'controlar', 'controlando', 'contribuir', 'contratado', 'contrastebrilhocornitidez', 'contraio', 'contou', 'contornado', 'conto', 'continuação', 'continuarmos', 'continuaram', 'contia', 'conteudo', 'contesto', 'conter', 'contentar', 'contenta', 'contempla', 'contatoamericanas', 'contaminantes', 'contado', 'contactar', 'contabilizou', 'contabilidade', 'consumidos', 'consumidorfeliz', 'consumidoras', 'consumidorainda', 'consumido', 'consumidas', 'consumdores', 'consultório', 'consulto', 'consultando', 'consultado', 'consulta', 'construída', 'construlção', 'construir', 'constrangedor', 'constituiÇÃo', 'constatou', 'constatamos', 'constantementeestarei', 'conssegue', 'consorciada', 'consome', 'consolidada', 'consiste', 'considerem', 'considere', 'conservaçãouso', 'conservação', 'conservar', 'conservantes', 'conservado', 'conserva', 'consertálo', 'consertalo', 'consertado', 'conserta', 'consequentemente', 'conselho', 'conseguisse', 'conseguirão', 'conseguiremos', 'conseguiram', 'conseguido', 'consegues', 'consecutiva', 'cons', 'conquistar', 'conquista', 'conprei', 'connect', 'conlsumidor', 'conhecíamos', 'conhecidas', 'conheceram', 'congelar', 'congelando', 'congeladas', 'congela', 'confusos', 'confusas', 'confusao', 'confusa', 'confundindo', 'confundia', 'confotavel', 'confortorecomendo', 'conforte', 'confortavelmontagem', 'confortaveladorei', 'conflito', 'confiáveis', 'confirmações', 'confirmaram', 'configurá', 'configuraÇÃo', 'configurado', 'configuracões', 'configura', 'confianca', 'confiado', 'conferirdepois', 'conferi', 'confeiteiro', 'confdções', 'conf', 'conexões', 'conexÃo', 'conectala', 'conectada', 'conduziu', 'conduzir', 'condiçõesparabéns', 'condiçõesadorei', 'condicionador', 'condensação', 'conct', 'concretizaram', 'concretizar', 'concorrencia', 'concordo', 'concordar', 'concomitantemente', 'conclusiva', 'concierge', 'concessionária', 'concerte', 'con', 'com´prar', 'comvcs', 'comunicou', 'comunico', 'comunicassem', 'comunicar', 'comunicando', 'comunicacao', 'computadores', 'comprála', 'comprovante', 'comprova', 'comprometo', 'comprometido', 'comprometida', 'comprometesse', 'comprometendo', 'compriu', 'compriram', 'comprimidos', 'comprimido', 'compridos', 'compricom', 'compressor', 'compreisó', 'compreicom', 'compreichegou', 'compreensor', 'compraxembalagemxentrega', 'comprasendo', 'comprarsem', 'comprareu', 'compraremédio', 'comprarecomendo', 'compranunca', 'compranao', 'compram', 'compralo', 'comprala', 'compraaproveite', 'compr', 'composição', 'complicação', 'complicadoas', 'complexa', 'completasse', 'completas', 'competiivo', 'compenso', 'compensador', 'compatíveis', 'comparou', 'compareceu', 'comparações', 'comparativo', 'comparados', 'compara', 'compar', 'compaq', 'companheira', 'companhar', 'compactoa', 'comorar', 'comodo', 'comodidade', 'commander', 'comigopra', 'comforme', 'cometários', 'cometer', 'comercializando', 'comente', 'comentario', 'comentado', 'comendo', 'comemoratovas', 'comemorativa', 'comecou', 'comeco', 'come', 'combustível', 'combram', 'combinam', 'combinadas', 'combates', 'combatendo', 'comanda', 'coma', 'colágeno', 'colossal', 'coloridos', 'coloridamaterial', 'color', 'colocaçao', 'colocasse', 'colocacao', 'coloar', 'coloando', 'coleÇÃo', 'coletores', 'coletado', 'coleira', 'colega', 'colecionadormuito', 'colecionador', 'colchões', 'colchÃo', 'colchonetes', 'colchonete', 'colchao', 'colateral', 'colas', 'coladas', 'coisapro', 'coincidia', 'coias', 'cogente', 'codigoo', 'codificação', 'cochees', 'cobsegui', 'cobrou', 'cobrir', 'cobria', 'cobreleito', 'cobraram', 'cobrança', 'cobra', 'cobinado', 'coando', 'cmprado', 'cláudia', 'clássicos', 'cliques', 'clima', 'clientesfiz', 'clicquot', 'click', 'clica', 'claw', 'classifiquei', 'classe', 'class', 'clarorecomendo', 'clareia', 'ckm', 'ciência', 'civil', 'citar', 'citam', 'cita', 'cirurgias', 'circunferência', 'circulam', 'circula', 'ciquenta', 'cintia', 'cinquenta', 'cinira', 'cinematográfico', 'cimamas', 'cilindro', 'científico', 'ciente', 'cidades', 'ciclo', 'cia', 'chãoo', 'chás', 'chá', 'churrasqueira', 'chumbo', 'chromecast', 'chriro', 'chover', 'chovendo', 'choro', 'chorando', 'choquei', 'choque', 'chomecast', 'chocolatto', 'chococinos', 'chocante', 'chocalho', 'chipe', 'ching', 'chinesinho', 'chineses', 'chinesas', 'chinesa', 'chines', 'chinelo', 'chiclete', 'chicara', 'chicago', 'chiados', 'cheirosoindico', 'cheirinho', 'cheirar', 'cheira', 'chegouu', 'chegouliguei', 'chegouacho', 'chegoi', 'chegasse', 'chegas', 'chegarminha', 'chegarkkkkk', 'chegarcomo', 'chegara', 'checarem', 'checaram', 'checar', 'chaves', 'chaveado', 'chatinhaprefiro', 'chatiado', 'chateação', 'chata', 'chat', 'charmosas', 'chapéu', 'chapas', 'chao', 'chantilly', 'chances', 'chamei', 'chamativas', 'chalfan', 'chaleira', 'chairs', 'cestos', 'cerâmicas', 'cerâmica', 'cervejeira', 'certíssimo', 'certoentregou', 'certoe', 'certinhoeu', 'certinhoadorei', 'certin', 'certifiquese', 'certificar', 'certezachegou', 'certaum', 'certas', 'certaestamos', 'cer', 'centrifugações', 'centrifugadora', 'centrifuga', 'centralizar', 'centrada', 'center', 'centauro', 'cena', 'cem', 'celurares', 'celularótimo', 'celularsendo', 'celularparabéns', 'celularmesmo', 'celo', 'cellular', 'celia11', 'celencadas', 'cehgou', 'cego', 'cederam', 'cecilia', 'ce', 'cddrives', 'cdc', 'cd12982543', 'caŕregador', 'caí', 'caxias', 'cavernas', 'caverna', 'cavalo', 'cautelosamente', 'cautela', 'causavam', 'causassem', 'causado', 'catÁlogo', 'catapulta', 'casual', 'cast', 'cassete', 'casio', 'caseira', 'cascudo', 'casar', 'casamentosuper', 'casamentoentrega', 'casais', 'casados', 'casada', 'caríssimo', 'caríssima', 'cartuchos', 'cartinha', 'cartilha', 'carteiro', 'carteirafone', 'cartas', 'carta', 'carroça', 'carregavel', 'carregarem', 'carregardor', 'carregadao', 'carpetes', 'carode', 'carne', 'carnaval', 'carmo', 'carlos', 'carinha', 'cargueiranão', 'carey', 'carecidamente', 'cardíacos', 'carburador', 'caramuru', 'caramello', 'característico', 'caraaa', 'capítulos', 'capuccino', 'captura', 'capsúlas', 'capsulas', 'capsula', 'caps', 'caprichado', 'caprichada', 'capitulos', 'capitulo', 'capitação', 'capital', 'capazes', 'capaestojo', 'canções', 'cantoneira', 'canseira', 'cansaço', 'cansativo', 'cansativa', 'cansar', 'cansada', 'canos', 'cano', 'canivete', 'canina', 'canela', 'candelabro', 'cancele', 'cancelando', 'cancelamos', 'cancelamentorecebi', 'cancelamentoafetando', 'cancaelaram', 'canaise', 'campanhaembora', 'camisetas', 'caminhao', 'caminham', 'caminha', 'camelo', 'cambio', 'camarada', 'camaminhas', 'calças', 'caloteiro', 'calota', 'calibrar', 'calendário', 'calcular', 'calcadoresestou', 'caixaminha', 'cairbater', 'caimento', 'caido', 'caiaou', 'caiamos', 'caiam', 'cagando', 'cafezinhos', 'cafezinho', 'cafeteria', 'cafeteiras', 'cafeiteira', 'cafeina', 'cadê', 'cadÊ', 'cado', 'cadente', 'cadense', 'cadence', 'cadelinhas', 'cadela', 'cadeirapois', 'cade', 'cadastros', 'cadastrar', 'cadastrado', 'cadastrada', 'cacos', 'cachosondas', 'cachoseles', 'cachorros', 'cachorrinha', 'cacho', 'cacheado', 'cabulosa', 'cabiveis', 'cabide', 'caber', 'cabendo', 'cabeludo', 'cabedal', 'cabeamento', 'cabala', 'bônus', 'buzina', 'buuuuuu', 'bussulado', 'business', 'buscou', 'busco', 'buscaria', 'buscarei', 'buscapé', 'buscando', 'buscalo', 'burronão', 'burro', 'burrice', 'burra', 'buroclacia', 'burn', 'buraco', 'bunda', 'bullcat', 'bugs', 'buddemeyer', 'buddemayer', 'btus', 'bte', 'bruta', 'bruscos', 'bruna', 'brumas', 'bronzeado', 'britânia', 'briquedo', 'brinquedonão', 'brinquedinhos', 'brincandoo', 'brincamos', 'brilhosos', 'brilhoso', 'brilhosa', 'brigar', 'bretain', 'braçadeiras', 'braçadeira', 'brazilpc', 'bravo', 'brancose', 'brancos', 'br', 'boxware', 'bow', 'botÕes', 'botox', 'boto', 'botijão', 'botas', 'botao', 'boss', 'bos', 'borrões', 'borrachinha', 'borra', 'boreal', 'bordinhas', 'bordam', 'bordado', 'borda', 'borboleta', 'booooooooooooooooóooóo', 'bonzão', 'bonsexceto', 'bonitoporem', 'bonitoo', 'bonitoestou', 'bonitoboa', 'bonitinhodeve', 'bonitinhas', 'boniteza', 'bonitastirando', 'boni', 'bonequinho', 'bonequinhas', 'bonecs', 'bonecos', 'bonecaou', 'bonecamanual', 'bonder', 'bomvamos', 'bomtudo', 'bomsuperou', 'bomseu', 'bomsem', 'bomresolvi', 'bomrecomendo', 'bomq', 'bomproduto', 'bomporém', 'bomperfeitoempresa', 'bompena', 'bompaguei', 'bomos', 'bomo', 'bomnão', 'bommmmmmmmmmmmmmmmmmmmmmmmmmmmmmmmmmmmmmmmmmmmmmmmmmmmmmmmmmmmmmmmmmmmmmmmmmmmmmmmmmmmmmmmmmmmmmm', 'bommmmmmmmmmmmmmmmmmmmmmmmmmmmmmmmmmmmmmmmmmmmmmmmmmmmmmmmmmmmmmmmmmmmmmmmmmmmmmmmmmmm', 'bommmmmmmmmmmmmmmmmmmmmmmmmmmmmmmmmmmmmmmmmm', 'bommeu', 'bommas', 'bommais', 'bomfuncionatem', 'bomficou', 'bomexcelente', 'bomem', 'bombonito', 'bombombombombombombombombombombombombombombombombombombombombombombombombombombombombombombombombombombombombombombombombombombombombombombombombombombombombombombombombombombombombombombombombombombombombombombombombombombombombombombombombombombombombom', 'bombom', 'bomboa', 'bombastico', 'bomas', 'bomagora', 'bomacredito', 'bolão', 'bolsoroda', 'bolsoe', 'bolinhos', 'bolinha', 'bolhas', 'boletos', 'bolaótimo', 'bolada', 'bolaapple', 'boicotar', 'boiando', 'boi', 'body', 'bochecha', 'bocal', 'bocais', 'bocadinho', 'bobo', 'boatamanho', 'boaq', 'boaotima', 'boanão', 'boameu', 'boamemoria', 'boame', 'boamas', 'boajogo', 'boafé', 'boaeu', 'boaeficiente', 'boadesignimagem', 'boacom', 'boaas', 'boaamei', 'bo2', 'bmw', 'bláblá', 'blz', 'bluray', 'blueetooth', 'blue', 'bloqueia', 'blooleth', 'blocos', 'blindado', 'blau', 'blackdecker', 'blackberry', 'blablablablablablab', 'bizonha', 'biz', 'bixo', 'bits', 'bitcoins', 'bisturi', 'biquínicaiu', 'biometria', 'binóculo', 'bilhão', 'bikes', 'bikejá', 'bife', 'bicicletas', 'bichinho', 'bia', 'bg1025', 'bf4', 'beterraba', 'beteria', 'besway', 'besteria', 'besta', 'berçorecomento', 'berco', 'benéficosuperou', 'benéfico', 'benéficio', 'benz', 'bens', 'benjamim', 'benefícioé', 'benefíciocâmera', 'beneficios', 'beneficiorecomendo', 'benditas', 'bemventilação', 'bemtem', 'bemsó', 'bempor', 'bemos', 'bemgostei', 'bementrega', 'beliche', 'belezinha', 'belas', 'beem', 'beeem', 'beeeeeeeemmm', 'bebêla', 'bebo', 'beauvoir', 'be11b', 'be', 'bcaa', 'bbbbbbbbbbbbbbbbb', 'bbbbbbbbbbbbbbb', 'bbbbbbbbbbbbbb', 'bauru', 'batidas', 'bati', 'bateram', 'bateira', 'batedeiraestou', 'batatas', 'batalhas', 'bastão', 'bastou', 'bastaria', 'bastantes', 'bastanteele', 'basquete', 'basford', 'bases', 'baseado', 'basculante', 'barzinho', 'barulhentofica', 'barrinhas', 'barriguinha', 'barracas', 'barbieminha', 'barbeiros', 'barbear', 'barbar', 'baratoentrega', 'baratoa', 'baratinho', 'bar', 'baquetas', 'bao', 'banqueta', 'banida', 'banhão', 'banheiro', 'banhada', 'banetones', 'bando', 'bandidos', 'bandejinha', 'bandejas', 'bancos', 'bancario', 'bancadas', 'bancada', 'bananafot', 'baleia', 'baldinho', 'balançando', 'balançam', 'balançadas', 'balanceamento', 'balanceadas', 'baladinha', 'bakana', 'baixÍssima', 'baixodificil', 'baixe', 'baixaria', 'baixamos', 'baixadoso', 'baixaaaaaaaa', 'bairro', 'bahia', 'bagconforme', 'bactérias', 'backupsincronização', 'backups', 'backup', 'bacião', 'bacanaamei', 'babolat', 'babilônia', 'babai', 'aéreo', 'açúcar', 'aÇÃo', 'azus', 'azulejado', 'azar', 'avô', 'avulso', 'avulsa', 'avslio', 'avraham', 'avião', 'avizoa', 'avisarem', 'avisarao', 'avisar', 'avia', 'avi', 'averiguar', 'aventuras', 'avent', 'avelã', 'avariase', 'avariada', 'avançar', 'avançadinha', 'avançada', 'avalição', 'avaliála', 'avaliou', 'avaliem', 'avaliaÇao', 'avaliassem', 'avaliaria', 'avaliarei', 'avaliador', 'avaliada', 'avalanche', 'avalaiaçao', 'auxilio', 'auxiliares', 'auxilia', 'autorizaÇÃo', 'autorizar', 'autorizando', 'autorizados', 'autorizado', 'autores', 'autoprograma', 'automáticos', 'automático', 'automáticas', 'automaticas', 'automatica', 'autofalante', 'autoclavável', 'autenticidade', 'aunda', 'aumentando', 'aumentado', 'aula', 'augusto', 'aue', 'audível', 'audição', 'atá', 'atualnatural', 'atualizaçao', 'atualizaÇÃo', 'atualizaram', 'atualizadas', 'atualizada', 'attreinaldo', 'atte', 'atráz', 'atrito', 'atritanto', 'atribui', 'atrazado', 'atravÉs', 'atrativa', 'atrasoocorre', 'atrasarem', 'atrasar', 'atrasam', 'atrasadoo', 'atrasa', 'atrapalharam', 'atrairia', 'atrai', 'atores', 'atoe', 'atoa', 'atmosfera', 'atlas', 'ativo', 'ativar', 'ativamos', 'ativado', 'atitudes', 'atingindo', 'atingido', 'ates', 'ater', 'atençâo', 'atento', 'atente', 'atentar', 'atentado', 'atendimentosuperou', 'atendimentoentrega', 'atendimentoamei', 'atendia', 'atendetes', 'atendesse', 'atenderem', 'atendelo', 'atendei', 'atendea', 'ateliê', 'atela', 'ateh', 'atedimentoentregue', 'atedimento', 'atebdimento', 'atebdeu', 'atalhos', 'atacá', 'astes', 'assídua', 'assvaldemir', 'assustou', 'assustei', 'assustar', 'assustadoramente', 'assustado', 'assolam', 'associada', 'assitencia', 'assistÊncia', 'assistirmos', 'assistido', 'assisti', 'assis', 'assino', 'assinei', 'assinalasse', 'assin', 'assimamericanas', 'assegura', 'assassins', 'assando', 'assaltos', 'assaduras', 'assadeira', 'ass', 'aspiradores', 'aspersores', 'asperosa', 'aspero', 'asinha', 'asfalto', 'ascrecentar', 'ascendeu', 'ascendendo', 'asas', 'artístico', 'artística', 'artpop', 'artista', 'artigos', 'articulável', 'articulação', 'arterial', 'arte', 'arrumem', 'arruma', 'arruelas', 'arrogante', 'arrependoagora', 'arrependerão', 'arrependerá', 'arrependeram', 'arredondadas', 'arrebites', 'arrebentou', 'arrebentado', 'arrebenta', 'arrasada', 'arranhou', 'arranhoes', 'arranharam', 'arranhadas', 'arranhada', 'arranha', 'arrancando', 'arranca', 'arquivo', 'armação', 'armazenada', 'armadura', 'arke', 'arisco', 'argumentação', 'areia', 'area', 'ardor', 'ardil', 'ardente', 'ardeeee', 'arde', 'arco', 'arc', 'araújo', 'aranhou', 'aranhar', 'aranhados', 'arandela', 'aquário', 'aquisições', 'aquisitivo', 'aquiprovavelmente', 'aquento', 'aquecido', 'aquecida', 'aquecia', 'aqueceu', 'aquecendo', 'aquarius', 'aq230ga9bmq', 'apurada', 'aptoide', 'aproximamos', 'aprox', 'aproveitou', 'aproveitarem', 'aproveitadas', 'aprovar', 'aprovamos', 'aprovadolindos', 'aprova', 'apropriou', 'apropriados', 'aprimorar', 'aprimoramento', 'aprimorados', 'apresentável', 'apresente', 'apresentações', 'apresentavel', 'apresentam', 'apresentada', 'aprende', 'apreensivaacho', 'aprecio', 'apreciaram', 'aprecia', 'applenão', 'aposto', 'apostila', 'aposentei', 'aposentar', 'aposentado', 'apontualidade', 'apontar', 'apontando', 'apoiar', 'apoiando', 'apoiada', 'apoia', 'apliquei', 'aplicativosnão', 'aplicados', 'aplicacao', 'apitando', 'apita', 'apetrechos', 'apertou', 'aperto', 'aperece', 'apelidado', 'apelando', 'apartamentos', 'apartada', 'aparentimente', 'aparente', 'aparentando', 'aparelhoprincipalmente', 'aparelhograto', 'aparelhofotos', 'aparelhocom', 'apareciam', 'aparecendo', 'apararelho', 'apaixonei', 'apagoutenho', 'aoenos', 'aoc', 'anúncioelas', 'anÚncios', 'anunciofunciona', 'anunciando', 'anunciadosastifeita', 'anunciadaplaca', 'anulado', 'anuidades', 'anuidade', 'antiético', 'antivírus', 'antipulgas', 'antiguinho', 'antigoresumindo', 'antigas', 'antiderrapante', 'antiaderentes', 'antessó', 'anteriordevido', 'anteontem', 'antecipação', 'antecipadonota', 'antecipado', 'anteciosamente', 'antea', 'ante', 'antares', 'ansiosa', 'ansiedade', 'anotou', 'anotar', 'anormal', 'anono', 'anjos', 'aniversario', 'animalzinho', 'animados', 'anilhapresilha', 'angulares', 'angelina', 'anexo', 'anexa', 'anericanascom', 'androidiphone', 'andriod', 'andrade', 'andei', 'andamento', 'andado', 'anatômico', 'analógicodigital', 'analógico', 'analógica', 'analogicos', 'analogica', 'analizarei', 'analisando', 'analisado', 'américascom', 'amricans', 'amreicanas', 'amplo', 'amplificadores', 'amplificado', 'ampliada', 'amplia', 'amousem', 'amorzinho', 'amortecido', 'amorosa', 'amores', 'amoooo', 'amolecedor', 'amolador', 'amoladas', 'amiguinho', 'amiguinhas', 'amigoscontinue', 'amigoa', 'amigavelmente', 'amiganão', 'americas', 'americano', 'americanasvendida', 'americanasquero', 'americanaspreço', 'americanasnão', 'americanasnota', 'americanasnem', 'americanasmuito', 'americanasisthebest', 'americanasinfelizmente', 'americanasfaleu', 'americanasestou', 'americanascompois', 'americanascaso', 'americaascom', 'america', 'amerianas', 'amercianas', 'ameisão', 'ameirecomendo', 'ameilinda', 'ameiindico', 'ameiiiiiiii', 'ameiiiiii', 'ameifacil', 'ameicanas', 'ameiacho', 'ameei', 'ameeei', 'amaçam', 'amaçadas', 'amaçada', 'amazônica', 'amassou', 'amassar', 'amarrotada', 'amarração', 'amaro', 'amaricanas', 'amargamente', 'amareladinha', 'amarela', 'amanhâ', 'amanha', 'amamnha', 'amadorismo', 'amadores', 'amada', 'amaciante', 'alívio', 'alérgico', 'alérgicas', 'alérgica', 'alÇas', 'alvorada', 'alvenaria', 'aluno', 'alucinações', 'alucinantes', 'alucinando', 'altíssimo', 'altofalante', 'alterou', 'alternância', 'alternava', 'alternativamente', 'alterações', 'alterar', 'altamente', 'alquimia', 'alongada', 'alo', 'allen', 'alivia', 'alive', 'alisar', 'alisados', 'alinhamento', 'alinhados', 'aline', 'alimento', 'alimentar', 'alimentando', 'alimentador', 'ali', 'alho', 'algums', 'algodãofinafacil', 'alfredo', 'alfomada', 'alfabeto', 'alexandre', 'alerto', 'alertado', 'alemão', 'alemento', 'alegrou', 'alegou', 'alegação', 'alegado', 'alega', 'alcool', 'alcatel', 'alcançálas', 'alcançou', 'alcançar', 'alcançados', 'alcancei', 'albina', 'alberto', 'aki', 'ajustes', 'ajustados', 'ajustado', 'ajudem', 'ajudava', 'ajudasse', 'ajudaria', 'ajudandome', 'ajudam', 'aisdbapibaspigubasdpbiujasdg', 'ais', 'aipujhdpiausdbpiausgb', 'aindanão', 'aindaaaaaaaaaaaaaaa', 'ain', 'ailonbittencoirthotmailcom', 'aida', 'ahhhhhhhhhhhhhhhhhhhhhhhhhhhhhhhhhhhhhhhhhhhhhhhhhhhhhhhhhh', 'aguá', 'agulha', 'aguentou', 'aguento', 'agudo', 'aguarde', 'aguardava', 'aguardassem', 'aguardandoeh', 'aguaprecisei', 'agressiva', 'agradoume', 'agradecendo', 'agradavel', 'agradavam', 'agradar', 'agorapagar', 'agoraesperamos', 'aglomeradomas', 'agir', 'agimos', 'agilidades', 'agendou', 'agendei', 'age', 'agarrou', 'agarrar', 'agarrando', 'agarram', 'agarradinho', 'afundo', 'afunda', 'afronta', 'afrodisíaco', 'afora', 'afirmo', 'afirmavam', 'afirmar', 'afirmando', 'afirmam', 'afins', 'afinado', 'afiada', 'affsocorro', 'afetado', 'afastado', 'aeroporto', 'aecagem', 'adéqua', 'advinha', 'advertência', 'advertido', 'adultosdepois', 'adues', 'adubos', 'aduana', 'adriana', 'adquirindo', 'adquiridos', 'adquiram', 'adpsfiojadsófinjasdpoiunasfdibnaspdfibasdiuhbnfdisuahbnfdisuabpiusaybsdofiubuofadsbfsdaubfsdaiybsfibsafdiubsdfaiuhbsdafiuhbndsafiujbndsafpiubpsdahiupsiubsgpujbsdagipujbsdgipujbsdgai', 'adorouusamos', 'adoroua', 'adoreiiiiiiiiiiiiiiiiiiiiiiiiiiiiiiiiiiiiiiiiiiiiiiiiiiiiiiiiiiiiiiiiiiiiii', 'adoreiiiiii', 'adoreiiiii', 'adoreii', 'adorado', 'adolescente', 'admitem', 'admirador', 'administrados', 'administradora', 'adm', 'adivinha', 'adicionou', 'adicioneme', 'adiantava', 'adiantaria', 'adiado', 'adeus', 'adesão', 'adesivi', 'aderentes', 'aderencia', 'adequou', 'adequam', 'adequados', 'adaptável', 'adaptação', 'adaptarem', 'adaptadores', 'adapta', 'adamantio', 'ad', 'acústico', 'acústica', 'acúmulo', 'acusando', 'acupuntura', 'acumulou', 'acumulo', 'acreditem', 'acrediteipois', 'acreditar', 'acreditando', 'acostumando', 'acostumados', 'acordeão', 'acordava', 'acordar', 'acoplável', 'acoplada', 'acontecia', 'aconselhável', 'acondiciona', 'acompanho', 'acompanhe', 'acompanhava', 'acompanhamos', 'acomodo', 'acomodação', 'acomodar', 'acomodado', 'acomoda', 'acolchoados', 'acolchoada', 'acionado', 'acionada', 'aciona', 'acidua', 'acido', 'acidentalmente', 'achatado', 'achado', 'acfeteira', 'acessóriosporem', 'acessíveis', 'acessos', 'acessorios', 'acessorio', 'acessoria', 'acessivel', 'acessibilidade', 'acessei', 'acessava', 'acessartem', 'acessamos', 'acessa', 'acertei', 'acerolas', 'acendimento', 'acendendo', 'acendem', 'acenda', 'acelerado', 'aceitávelserve', 'aceitação', 'aceitaram', 'acebamento', 'acaso', 'acaixa', 'academiaalém', 'acabaramse', 'abóbora', 'abusivo', 'abusando', 'absurdooooo', 'absurdamente', 'absurda', 'absterá', 'absorção', 'absorvido', 'absorver', 'abririam', 'abriam', 'abrem', 'abraçadinha', 'abrange', 'abra', 'aborreço', 'aborrecida', 'abordando', 'abnt2', 'abertoas', 'abertasrápida', 'abertas', 'abecedÁrio', 'abec', 'abc', 'abateria', 'abastecimento', 'abastecendo', 'abandonando', 'abaixouamei', 'abaixamos', 'abaixado', 'abaixa', 'abafar', 'abafador', 'ab', 'aaparece', 'aaaaaaaagr', 'aaaaaaaaaaaaaaaaaaaa', 'a5', 'a1', '9999', '999000', '999', '99860', '998517835', '997', '996039592', '995904956', '99382937', '9900', '984559755', '98', '968861025', '964184081', '963818246', '9553', '931482966', '91217', '911', '910', '900w', '8”', '8x', '891', '859000', '85', '84', '81392432', '81217', '812', '8078', '7w', '799', '79', '78721', '7872', '750', '75', '72h', '7200', '720', '72', '7122017', '71217', '6s', '6kg', '6h', '6893', '66', '655373078', '650w', '65', '64', '635', '61999837930', '61217', '60hz', '60dias', '60000', '5º', '5ª', '5x100', '5t', '5mp', '5mb', '5cm', '56', '55cm', '5400rpm', '51217', '51', '50ml', '500gb', '5000', '4º', '4°', '4x100', '4x', '4h', '4gbcontrole', '49lj5500', '4990', '4989', '49', '48h', '48600', '4658119011998872660', '463863565', '460', '450w', '4500', '450', '425', '4122017', '40”', '401', '40031000todas', '3ª', '3o', '3gb', '3g', '3fileiras', '3cm', '39900', '390', '38190', '3819', '37', '35kg', '349', '348904', '34', '3300mah', '32g', '324', '31924591', '31122017', '310ghz', '30min', '3090', '3040', '301217', '3012', '30112017', '3011', '300rms', '300mbps', '300', '2º', '2mts', '2mil', '2meses', '2l', '2gera', '2gb', '2d', '290118', '281217', '28112017', '280ml', '2801', '2711', '270118', '261218', '261217', '261116', '2600', '25ms', '25kl', '2549', '2518010807413', '2517122997586', '2517122735467', '25122017', '2512', '250ccperfeita', '25000', '2500', '250', '24h', '2490', '243', '24112017', '241117', '240hz', '24012018', '2401', '2400', '23h', '23cm', '232x192', '231217', '2311', '230', '22988143587', '221117', '219900', '20cm', '2019', '2017122601789', '2015', '20122017comprei', '20118', '201117', '2011', '200x', '200ml', '200km', '2000', '1um', '1tera', '1mês', '1hora', '1h', '1comprei', '1cm', '1ano', '199900', '199400', '1990', '1980', '1970', '19560r15', '1950', '195', '19112017', '19022018', '1901', '1900', '188', '18560r15', '181217hoje', '1812', '18012018', '1800', '179534631', '176500', '174cm', '1730hs', '1730', '1720', '171117', '171', '170º', '170m', '1700', '169900', '166800', '165', '1627h', '15m', '15anos', '15997777957', '1528', '15022018', '15000km', '15000', '1500', '14bis', '1416', '14112017', '1407', '1400w', '14000btus', '1330', '132204', '1313', '13124972899', '1312', '130218', '1300', '12x', '12kg', '12hs', '129990', '128gb', '127w', '127v', '1212', '120hz', '120gb', '12032018', '12012018', '1201', '1200w', '11kg', '11983077329', '11947571975', '116000', '112', '111217', '110', '10m', '10kl', '10bits', '10600', '106', '10122017', '10100mbps', '100km', '10000', '092', '09122017', '091217', '09012018', '0901', '0900h', '09', '088', '0712', '0612', '060', '0518', '05112017', '05012017', '04112017', '0402', '040118', '0401', '0400', '031217', '0312', '02658673268', '02657323779', '02657282127', '02657015848', '02656925964', '02656868357', '02656815864', '02656563669', '02656462254', '02655906418', '02655803699', '02655653514', '021217', '021', '0202', '02012018so', '0112foi', '011', '01022018', '00']\n"
          ]
        }
      ]
    },
    {
      "cell_type": "code",
      "source": [
        "len(vectorized_train_data[0])"
      ],
      "metadata": {
        "colab": {
          "base_uri": "https://localhost:8080/"
        },
        "id": "EKAqTaXBNowu",
        "outputId": "c91f19c2-94fe-4c69-f58d-32e4e57b53f0"
      },
      "execution_count": 20,
      "outputs": [
        {
          "output_type": "execute_result",
          "data": {
            "text/plain": [
              "354"
            ]
          },
          "metadata": {},
          "execution_count": 20
        }
      ]
    },
    {
      "cell_type": "code",
      "source": [
        "# Codificar rótulos de teste no formato one-hot\n",
        "# Subtraindo 1 dos rótulos para ajustar a indexação\n",
        "# A função to_categorical espera que os rótulos sejam inteiros começando de 0 até num_classes - 1.\n",
        "num_classes = b2wCorpus[\"overall_rating\"].nunique()\n",
        "y_train_encoded = to_categorical(y_train - 1, num_classes=num_classes)\n",
        "y_test_encoded = to_categorical(y_test - 1, num_classes=num_classes)\n",
        "\n",
        "# Ajustar ou truncar as sequências nos dados de treinamento e teste para validação\n",
        "vectorized_train_data = vectorizer(x_train).numpy()\n",
        "vectorized_test_data = vectorizer(x_test).numpy()\n",
        "\n",
        "input_len = len(vectorized_train_data[0])\n",
        "vectorized_train_data_padded = pad_sequences(vectorized_train_data, maxlen=input_len, padding='post')\n",
        "vectorized_test_data_padded = pad_sequences(vectorized_test_data, maxlen=input_len, padding='post')"
      ],
      "metadata": {
        "id": "WG0l8y_Qddtt"
      },
      "execution_count": 21,
      "outputs": []
    },
    {
      "cell_type": "markdown",
      "source": [
        "# Models"
      ],
      "metadata": {
        "id": "2D_QFILlSHlS"
      }
    },
    {
      "cell_type": "code",
      "source": [
        "%%time\n",
        "\n",
        "# Criar o modelo\n",
        "input_dim = len(vocab) + 2  # Adicionar 2 para <OOV> e <PAD>\n",
        "input_len = len(vectorized_train_data[0])\n",
        "embedding_dim = 50\n",
        "output_dim = 10\n",
        "num_classes = b2wCorpus[\"overall_rating\"].nunique()\n",
        "\n",
        "optimizer = 'adam'\n",
        "loss = 'categorical_crossentropy'\n",
        "epochs = 20\n",
        "metrics = ['AUC']\n",
        "epochs=30\n",
        "batch_size=50"
      ],
      "metadata": {
        "colab": {
          "base_uri": "https://localhost:8080/"
        },
        "id": "Ut6ddIfHNozE",
        "outputId": "0230a999-566e-43f0-f3e3-bf4f8f109303"
      },
      "execution_count": 22,
      "outputs": [
        {
          "output_type": "stream",
          "name": "stdout",
          "text": [
            "CPU times: user 896 µs, sys: 0 ns, total: 896 µs\n",
            "Wall time: 762 µs\n"
          ]
        }
      ]
    },
    {
      "cell_type": "code",
      "source": [
        "%%time\n",
        "\n",
        "lstm_uni_model = Sequential()\n",
        "lstm_uni_model.add(Embedding(input_dim=input_dim, output_dim=output_dim, input_length=input_len))\n",
        "\n",
        "lstm_uni_model.add(LSTM(64, return_sequences=True))  # Use return_sequences=True para conectar camadas LSTM em sequência\n",
        "lstm_uni_model.add(Dropout(0.5))\n",
        "lstm_uni_model.add(LSTM(64, return_sequences=True))\n",
        "lstm_uni_model.add(Dropout(0.5))\n",
        "lstm_uni_model.add(LSTM(64))\n",
        "lstm_uni_model.add(Dropout(0.5))\n",
        "\n",
        "lstm_uni_model.add(Dense(64, activation='relu', input_dim=input_dim))\n",
        "lstm_uni_model.add(Dense(num_classes, activation='softmax'))  # Camada de saída com softmax para problemas multiclasse\n",
        "lstm_uni_model.compile(optimizer=optimizer, loss=loss, metrics=metrics) # Compilar o modelo\n",
        "lstm_uni_model.fit(vectorized_train_data_padded, y_train_encoded, epochs=epochs, batch_size=batch_size) # treina"
      ],
      "metadata": {
        "colab": {
          "base_uri": "https://localhost:8080/"
        },
        "id": "u21v6SGZXaxs",
        "outputId": "26f3f487-5e2d-4255-d57d-6728872fa18e"
      },
      "execution_count": 23,
      "outputs": [
        {
          "output_type": "stream",
          "name": "stdout",
          "text": [
            "Epoch 1/30\n",
            "150/150 [==============================] - 35s 172ms/step - loss: 1.4840 - auc: 0.6775\n",
            "Epoch 2/30\n",
            "150/150 [==============================] - 17s 113ms/step - loss: 1.4710 - auc: 0.6848\n",
            "Epoch 3/30\n",
            "150/150 [==============================] - 11s 73ms/step - loss: 1.4693 - auc: 0.6856\n",
            "Epoch 4/30\n",
            "150/150 [==============================] - 9s 59ms/step - loss: 1.4684 - auc: 0.6850\n",
            "Epoch 5/30\n",
            "150/150 [==============================] - 8s 56ms/step - loss: 1.4686 - auc: 0.6848\n",
            "Epoch 6/30\n",
            "150/150 [==============================] - 7s 48ms/step - loss: 1.4673 - auc: 0.6849\n",
            "Epoch 7/30\n",
            "150/150 [==============================] - 8s 51ms/step - loss: 1.4659 - auc: 0.6858\n",
            "Epoch 8/30\n",
            "150/150 [==============================] - 7s 49ms/step - loss: 1.4665 - auc: 0.6861\n",
            "Epoch 9/30\n",
            "150/150 [==============================] - 6s 40ms/step - loss: 1.4661 - auc: 0.6854\n",
            "Epoch 10/30\n",
            "150/150 [==============================] - 6s 39ms/step - loss: 1.4663 - auc: 0.6844\n",
            "Epoch 11/30\n",
            "150/150 [==============================] - 6s 42ms/step - loss: 1.4662 - auc: 0.6841\n",
            "Epoch 12/30\n",
            "150/150 [==============================] - 7s 47ms/step - loss: 1.4656 - auc: 0.6846\n",
            "Epoch 13/30\n",
            "150/150 [==============================] - 7s 42ms/step - loss: 1.4653 - auc: 0.6845\n",
            "Epoch 14/30\n",
            "150/150 [==============================] - 7s 48ms/step - loss: 1.4644 - auc: 0.6864\n",
            "Epoch 15/30\n",
            "150/150 [==============================] - 6s 40ms/step - loss: 1.4651 - auc: 0.6847\n",
            "Epoch 16/30\n",
            "150/150 [==============================] - 5s 36ms/step - loss: 1.4645 - auc: 0.6861\n",
            "Epoch 17/30\n",
            "150/150 [==============================] - 7s 47ms/step - loss: 1.4657 - auc: 0.6837\n",
            "Epoch 18/30\n",
            "150/150 [==============================] - 5s 35ms/step - loss: 1.4649 - auc: 0.6850\n",
            "Epoch 19/30\n",
            "150/150 [==============================] - 7s 48ms/step - loss: 1.4647 - auc: 0.6856\n",
            "Epoch 20/30\n",
            "150/150 [==============================] - 6s 38ms/step - loss: 1.4648 - auc: 0.6848\n",
            "Epoch 21/30\n",
            "150/150 [==============================] - 6s 42ms/step - loss: 1.4650 - auc: 0.6836\n",
            "Epoch 22/30\n",
            "150/150 [==============================] - 6s 37ms/step - loss: 1.4646 - auc: 0.6853\n",
            "Epoch 23/30\n",
            "150/150 [==============================] - 7s 46ms/step - loss: 1.4650 - auc: 0.6837\n",
            "Epoch 24/30\n",
            "150/150 [==============================] - 5s 34ms/step - loss: 1.4645 - auc: 0.6854\n",
            "Epoch 25/30\n",
            "150/150 [==============================] - 6s 37ms/step - loss: 1.4649 - auc: 0.6835\n",
            "Epoch 26/30\n",
            "150/150 [==============================] - 6s 42ms/step - loss: 1.4647 - auc: 0.6847\n",
            "Epoch 27/30\n",
            "150/150 [==============================] - 5s 35ms/step - loss: 1.4644 - auc: 0.6840\n",
            "Epoch 28/30\n",
            "150/150 [==============================] - 6s 42ms/step - loss: 1.4645 - auc: 0.6847\n",
            "Epoch 29/30\n",
            "150/150 [==============================] - 5s 36ms/step - loss: 1.4639 - auc: 0.6854\n",
            "Epoch 30/30\n",
            "150/150 [==============================] - 6s 42ms/step - loss: 1.4649 - auc: 0.6837\n",
            "CPU times: user 3min 38s, sys: 6.4 s, total: 3min 44s\n",
            "Wall time: 4min 28s\n"
          ]
        },
        {
          "output_type": "execute_result",
          "data": {
            "text/plain": [
              "<keras.src.callbacks.History at 0x7c7807f9b880>"
            ]
          },
          "metadata": {},
          "execution_count": 23
        }
      ]
    },
    {
      "cell_type": "code",
      "source": [
        "%%time\n",
        "\n",
        "gru_uni_model = Sequential()\n",
        "gru_uni_model.add(Embedding(input_dim=input_dim, output_dim=output_dim, input_length=input_len))\n",
        "\n",
        "gru_uni_model.add(GRU(64, return_sequences=True))\n",
        "gru_uni_model.add(Dropout(0.5))\n",
        "gru_uni_model.add(GRU(64, return_sequences=True))\n",
        "gru_uni_model.add(Dropout(0.5))\n",
        "gru_uni_model.add(GRU(64))\n",
        "gru_uni_model.add(Dropout(0.5))\n",
        "\n",
        "gru_uni_model.add(Dense(64, activation='relu'))\n",
        "gru_uni_model.add(Dense(num_classes, activation='softmax')) # camada de saída\n",
        "gru_uni_model.compile(optimizer=optimizer, loss=loss, metrics=metrics)\n",
        "gru_uni_model.fit(vectorized_train_data_padded, y_train_encoded, epochs=epochs, batch_size=batch_size)"
      ],
      "metadata": {
        "colab": {
          "base_uri": "https://localhost:8080/"
        },
        "id": "BRAPTtICNo1O",
        "outputId": "1a8e2020-d56b-454e-8e37-b22c99fd9cae"
      },
      "execution_count": 24,
      "outputs": [
        {
          "output_type": "stream",
          "name": "stdout",
          "text": [
            "Epoch 1/30\n",
            "150/150 [==============================] - 24s 114ms/step - loss: 1.4821 - auc: 0.6783\n",
            "Epoch 2/30\n",
            "150/150 [==============================] - 12s 82ms/step - loss: 1.4691 - auc: 0.6850\n",
            "Epoch 3/30\n",
            "150/150 [==============================] - 10s 67ms/step - loss: 1.4700 - auc: 0.6852\n",
            "Epoch 4/30\n",
            "150/150 [==============================] - 7s 46ms/step - loss: 1.4692 - auc: 0.6839\n",
            "Epoch 5/30\n",
            "150/150 [==============================] - 8s 57ms/step - loss: 1.4680 - auc: 0.6849\n",
            "Epoch 6/30\n",
            "150/150 [==============================] - 7s 44ms/step - loss: 1.4661 - auc: 0.6860\n",
            "Epoch 7/30\n",
            "150/150 [==============================] - 7s 48ms/step - loss: 1.4658 - auc: 0.6854\n",
            "Epoch 8/30\n",
            "150/150 [==============================] - 6s 39ms/step - loss: 1.4663 - auc: 0.6843\n",
            "Epoch 9/30\n",
            "150/150 [==============================] - 7s 48ms/step - loss: 1.4662 - auc: 0.6838\n",
            "Epoch 10/30\n",
            "150/150 [==============================] - 6s 38ms/step - loss: 1.4662 - auc: 0.6848\n",
            "Epoch 11/30\n",
            "150/150 [==============================] - 7s 44ms/step - loss: 1.4662 - auc: 0.6834\n",
            "Epoch 12/30\n",
            "150/150 [==============================] - 6s 42ms/step - loss: 1.4656 - auc: 0.6850\n",
            "Epoch 13/30\n",
            "150/150 [==============================] - 6s 43ms/step - loss: 1.4645 - auc: 0.6852\n",
            "Epoch 14/30\n",
            "150/150 [==============================] - 5s 35ms/step - loss: 1.4658 - auc: 0.6843\n",
            "Epoch 15/30\n",
            "150/150 [==============================] - 6s 42ms/step - loss: 1.4646 - auc: 0.6858\n",
            "Epoch 16/30\n",
            "150/150 [==============================] - 6s 37ms/step - loss: 1.4645 - auc: 0.6853\n",
            "Epoch 17/30\n",
            "150/150 [==============================] - 5s 35ms/step - loss: 1.4650 - auc: 0.6851\n",
            "Epoch 18/30\n",
            "150/150 [==============================] - 7s 44ms/step - loss: 1.4650 - auc: 0.6858\n",
            "Epoch 19/30\n",
            "150/150 [==============================] - 5s 36ms/step - loss: 1.4644 - auc: 0.6862\n",
            "Epoch 20/30\n",
            "150/150 [==============================] - 7s 44ms/step - loss: 1.4645 - auc: 0.6853\n",
            "Epoch 21/30\n",
            "150/150 [==============================] - 6s 39ms/step - loss: 1.4654 - auc: 0.6843\n",
            "Epoch 22/30\n",
            "150/150 [==============================] - 7s 46ms/step - loss: 1.4645 - auc: 0.6854\n",
            "Epoch 23/30\n",
            "150/150 [==============================] - 6s 39ms/step - loss: 1.4648 - auc: 0.6843\n",
            "Epoch 24/30\n",
            "150/150 [==============================] - 7s 46ms/step - loss: 1.4650 - auc: 0.6837\n",
            "Epoch 25/30\n",
            "150/150 [==============================] - 5s 36ms/step - loss: 1.4642 - auc: 0.6858\n",
            "Epoch 26/30\n",
            "150/150 [==============================] - 6s 41ms/step - loss: 1.4652 - auc: 0.6842\n",
            "Epoch 27/30\n",
            "150/150 [==============================] - 6s 39ms/step - loss: 1.4648 - auc: 0.6843\n",
            "Epoch 28/30\n",
            "150/150 [==============================] - 6s 38ms/step - loss: 1.4644 - auc: 0.6842\n",
            "Epoch 29/30\n",
            "150/150 [==============================] - 6s 43ms/step - loss: 1.4646 - auc: 0.6840\n",
            "Epoch 30/30\n",
            "150/150 [==============================] - 6s 37ms/step - loss: 1.4646 - auc: 0.6843\n",
            "CPU times: user 3min 38s, sys: 5.6 s, total: 3min 44s\n",
            "Wall time: 3min 35s\n"
          ]
        },
        {
          "output_type": "execute_result",
          "data": {
            "text/plain": [
              "<keras.src.callbacks.History at 0x7c780b766980>"
            ]
          },
          "metadata": {},
          "execution_count": 24
        }
      ]
    },
    {
      "cell_type": "code",
      "source": [
        "%%time\n",
        "\n",
        "lstm_bi_model = Sequential()\n",
        "lstm_bi_model.add(Embedding(input_dim=input_dim, output_dim=output_dim, input_length=input_len))\n",
        "\n",
        "lstm_bi_model.add(Bidirectional(LSTM(64, return_sequences=True)))\n",
        "lstm_bi_model.add(Dropout(0.5))\n",
        "lstm_bi_model.add(Bidirectional(LSTM(64, return_sequences=True)))\n",
        "lstm_bi_model.add(Dropout(0.5))\n",
        "lstm_bi_model.add(Bidirectional(LSTM(64)))\n",
        "lstm_bi_model.add(Dropout(0.5))\n",
        "\n",
        "lstm_bi_model.add(Dense(64, activation='relu'))\n",
        "lstm_bi_model.add(Dense(num_classes, activation='softmax')) # camada de saída\n",
        "lstm_bi_model.compile(optimizer=optimizer, loss=loss, metrics=metrics)\n",
        "lstm_bi_model.fit(vectorized_train_data_padded, y_train_encoded, epochs=5, batch_size=batch_size)"
      ],
      "metadata": {
        "colab": {
          "base_uri": "https://localhost:8080/"
        },
        "id": "YL8dgSimXlwv",
        "outputId": "afb32b2a-08ab-4638-e662-734b752b8317"
      },
      "execution_count": 25,
      "outputs": [
        {
          "output_type": "stream",
          "name": "stdout",
          "text": [
            "Epoch 1/5\n",
            "150/150 [==============================] - 33s 148ms/step - loss: 1.2984 - auc: 0.7712\n",
            "Epoch 2/5\n",
            "150/150 [==============================] - 17s 115ms/step - loss: 1.0277 - auc: 0.8616\n",
            "Epoch 3/5\n",
            "150/150 [==============================] - 14s 94ms/step - loss: 0.9168 - auc: 0.8883\n",
            "Epoch 4/5\n",
            "150/150 [==============================] - 13s 88ms/step - loss: 0.8380 - auc: 0.9069\n",
            "Epoch 5/5\n",
            "150/150 [==============================] - 12s 83ms/step - loss: 0.7514 - auc: 0.9249\n",
            "CPU times: user 1min 34s, sys: 2.57 s, total: 1min 36s\n",
            "Wall time: 1min 31s\n"
          ]
        },
        {
          "output_type": "execute_result",
          "data": {
            "text/plain": [
              "<keras.src.callbacks.History at 0x7c7809973100>"
            ]
          },
          "metadata": {},
          "execution_count": 25
        }
      ]
    },
    {
      "cell_type": "code",
      "source": [
        "%%time\n",
        "\n",
        "gru_bi_model = Sequential()\n",
        "gru_bi_model.add(Embedding(input_dim=input_dim, output_dim=output_dim, input_length=input_len))\n",
        "\n",
        "gru_bi_model.add(Bidirectional(GRU(64, return_sequences=True)))\n",
        "gru_bi_model.add(Dropout(0.5))\n",
        "gru_bi_model.add(Bidirectional(GRU(64, return_sequences=True)))\n",
        "gru_bi_model.add(Dropout(0.5))\n",
        "gru_bi_model.add(Bidirectional(GRU(64)))\n",
        "gru_bi_model.add(Dropout(0.5))\n",
        "\n",
        "gru_bi_model.add(Dense(64, activation='relu')) # camada dense\n",
        "gru_bi_model.add(Dense(num_classes, activation='softmax')) # camada de saída\n",
        "\n",
        "gru_bi_model.compile(optimizer=optimizer, loss=loss, metrics=metrics)\n",
        "gru_bi_model.fit(vectorized_train_data_padded, y_train_encoded, epochs=5, batch_size=batch_size)"
      ],
      "metadata": {
        "colab": {
          "base_uri": "https://localhost:8080/"
        },
        "id": "3YGyC8HeNo3e",
        "outputId": "295ed370-25e7-4f81-e389-cd47182c77e9"
      },
      "execution_count": 26,
      "outputs": [
        {
          "output_type": "stream",
          "name": "stdout",
          "text": [
            "Epoch 1/5\n",
            "150/150 [==============================] - 34s 159ms/step - loss: 1.3440 - auc: 0.7498\n",
            "Epoch 2/5\n",
            "150/150 [==============================] - 16s 108ms/step - loss: 1.0416 - auc: 0.8582\n",
            "Epoch 3/5\n",
            "150/150 [==============================] - 14s 96ms/step - loss: 0.8864 - auc: 0.8966\n",
            "Epoch 4/5\n",
            "150/150 [==============================] - 12s 83ms/step - loss: 0.7837 - auc: 0.9190\n",
            "Epoch 5/5\n",
            "150/150 [==============================] - 12s 80ms/step - loss: 0.6748 - auc: 0.9402\n",
            "CPU times: user 1min 32s, sys: 2.39 s, total: 1min 35s\n",
            "Wall time: 1min 31s\n"
          ]
        },
        {
          "output_type": "execute_result",
          "data": {
            "text/plain": [
              "<keras.src.callbacks.History at 0x7c78085fd840>"
            ]
          },
          "metadata": {},
          "execution_count": 26
        }
      ]
    },
    {
      "cell_type": "markdown",
      "source": [
        "# Summaries"
      ],
      "metadata": {
        "id": "MNwKqX8fqcjm"
      }
    },
    {
      "cell_type": "code",
      "source": [
        "lstm_uni_model.summary()"
      ],
      "metadata": {
        "colab": {
          "base_uri": "https://localhost:8080/"
        },
        "id": "6N6SNrkDqeVW",
        "outputId": "d873513e-5a4e-4be7-d799-5fcd3db1cfc7"
      },
      "execution_count": 27,
      "outputs": [
        {
          "output_type": "stream",
          "name": "stdout",
          "text": [
            "Model: \"sequential\"\n",
            "_________________________________________________________________\n",
            " Layer (type)                Output Shape              Param #   \n",
            "=================================================================\n",
            " embedding (Embedding)       (None, 354, 10)           127580    \n",
            "                                                                 \n",
            " lstm (LSTM)                 (None, 354, 64)           19200     \n",
            "                                                                 \n",
            " dropout (Dropout)           (None, 354, 64)           0         \n",
            "                                                                 \n",
            " lstm_1 (LSTM)               (None, 354, 64)           33024     \n",
            "                                                                 \n",
            " dropout_1 (Dropout)         (None, 354, 64)           0         \n",
            "                                                                 \n",
            " lstm_2 (LSTM)               (None, 64)                33024     \n",
            "                                                                 \n",
            " dropout_2 (Dropout)         (None, 64)                0         \n",
            "                                                                 \n",
            " dense (Dense)               (None, 64)                4160      \n",
            "                                                                 \n",
            " dense_1 (Dense)             (None, 5)                 325       \n",
            "                                                                 \n",
            "=================================================================\n",
            "Total params: 217313 (848.88 KB)\n",
            "Trainable params: 217313 (848.88 KB)\n",
            "Non-trainable params: 0 (0.00 Byte)\n",
            "_________________________________________________________________\n"
          ]
        }
      ]
    },
    {
      "cell_type": "code",
      "source": [
        "lstm_bi_model.summary()"
      ],
      "metadata": {
        "colab": {
          "base_uri": "https://localhost:8080/"
        },
        "id": "1zsTCx2aqgNa",
        "outputId": "b354de86-f542-4af5-8e55-fde243495aa9"
      },
      "execution_count": 28,
      "outputs": [
        {
          "output_type": "stream",
          "name": "stdout",
          "text": [
            "Model: \"sequential_2\"\n",
            "_________________________________________________________________\n",
            " Layer (type)                Output Shape              Param #   \n",
            "=================================================================\n",
            " embedding_2 (Embedding)     (None, 354, 10)           127580    \n",
            "                                                                 \n",
            " bidirectional (Bidirection  (None, 354, 128)          38400     \n",
            " al)                                                             \n",
            "                                                                 \n",
            " dropout_6 (Dropout)         (None, 354, 128)          0         \n",
            "                                                                 \n",
            " bidirectional_1 (Bidirecti  (None, 354, 128)          98816     \n",
            " onal)                                                           \n",
            "                                                                 \n",
            " dropout_7 (Dropout)         (None, 354, 128)          0         \n",
            "                                                                 \n",
            " bidirectional_2 (Bidirecti  (None, 128)               98816     \n",
            " onal)                                                           \n",
            "                                                                 \n",
            " dropout_8 (Dropout)         (None, 128)               0         \n",
            "                                                                 \n",
            " dense_4 (Dense)             (None, 64)                8256      \n",
            "                                                                 \n",
            " dense_5 (Dense)             (None, 5)                 325       \n",
            "                                                                 \n",
            "=================================================================\n",
            "Total params: 372193 (1.42 MB)\n",
            "Trainable params: 372193 (1.42 MB)\n",
            "Non-trainable params: 0 (0.00 Byte)\n",
            "_________________________________________________________________\n"
          ]
        }
      ]
    },
    {
      "cell_type": "code",
      "source": [
        "gru_uni_model.summary()"
      ],
      "metadata": {
        "colab": {
          "base_uri": "https://localhost:8080/"
        },
        "id": "WL247BIFqhZr",
        "outputId": "4578d5b4-f018-40b8-b768-250de0bc3893"
      },
      "execution_count": 29,
      "outputs": [
        {
          "output_type": "stream",
          "name": "stdout",
          "text": [
            "Model: \"sequential_1\"\n",
            "_________________________________________________________________\n",
            " Layer (type)                Output Shape              Param #   \n",
            "=================================================================\n",
            " embedding_1 (Embedding)     (None, 354, 10)           127580    \n",
            "                                                                 \n",
            " gru (GRU)                   (None, 354, 64)           14592     \n",
            "                                                                 \n",
            " dropout_3 (Dropout)         (None, 354, 64)           0         \n",
            "                                                                 \n",
            " gru_1 (GRU)                 (None, 354, 64)           24960     \n",
            "                                                                 \n",
            " dropout_4 (Dropout)         (None, 354, 64)           0         \n",
            "                                                                 \n",
            " gru_2 (GRU)                 (None, 64)                24960     \n",
            "                                                                 \n",
            " dropout_5 (Dropout)         (None, 64)                0         \n",
            "                                                                 \n",
            " dense_2 (Dense)             (None, 64)                4160      \n",
            "                                                                 \n",
            " dense_3 (Dense)             (None, 5)                 325       \n",
            "                                                                 \n",
            "=================================================================\n",
            "Total params: 196577 (767.88 KB)\n",
            "Trainable params: 196577 (767.88 KB)\n",
            "Non-trainable params: 0 (0.00 Byte)\n",
            "_________________________________________________________________\n"
          ]
        }
      ]
    },
    {
      "cell_type": "code",
      "source": [
        "gru_bi_model.summary()"
      ],
      "metadata": {
        "colab": {
          "base_uri": "https://localhost:8080/"
        },
        "id": "BCMWNmz-qhGI",
        "outputId": "1ef2acf5-9139-490c-9f3c-baa892c64d87"
      },
      "execution_count": 30,
      "outputs": [
        {
          "output_type": "stream",
          "name": "stdout",
          "text": [
            "Model: \"sequential_3\"\n",
            "_________________________________________________________________\n",
            " Layer (type)                Output Shape              Param #   \n",
            "=================================================================\n",
            " embedding_3 (Embedding)     (None, 354, 10)           127580    \n",
            "                                                                 \n",
            " bidirectional_3 (Bidirecti  (None, 354, 128)          29184     \n",
            " onal)                                                           \n",
            "                                                                 \n",
            " dropout_9 (Dropout)         (None, 354, 128)          0         \n",
            "                                                                 \n",
            " bidirectional_4 (Bidirecti  (None, 354, 128)          74496     \n",
            " onal)                                                           \n",
            "                                                                 \n",
            " dropout_10 (Dropout)        (None, 354, 128)          0         \n",
            "                                                                 \n",
            " bidirectional_5 (Bidirecti  (None, 128)               74496     \n",
            " onal)                                                           \n",
            "                                                                 \n",
            " dropout_11 (Dropout)        (None, 128)               0         \n",
            "                                                                 \n",
            " dense_6 (Dense)             (None, 64)                8256      \n",
            "                                                                 \n",
            " dense_7 (Dense)             (None, 5)                 325       \n",
            "                                                                 \n",
            "=================================================================\n",
            "Total params: 314337 (1.20 MB)\n",
            "Trainable params: 314337 (1.20 MB)\n",
            "Non-trainable params: 0 (0.00 Byte)\n",
            "_________________________________________________________________\n"
          ]
        }
      ]
    },
    {
      "cell_type": "markdown",
      "source": [
        "# Validation"
      ],
      "metadata": {
        "id": "dk05tzIIX1tF"
      }
    },
    {
      "cell_type": "code",
      "source": [
        "lstm_uni_model_loss, lstm_uni_model_accuracy = lstm_uni_model.evaluate(vectorized_test_data_padded, y_test_encoded)\n",
        "lstm_bi_model_loss, lstm_bi_model_accuracy = lstm_bi_model.evaluate(vectorized_test_data_padded, y_test_encoded)\n",
        "gru_uni_model_loss, gru_uni_model_accuracy = gru_uni_model.evaluate(vectorized_test_data_padded, y_test_encoded)\n",
        "gru_bi_model_loss, gru_bi_model_accuracy = gru_bi_model.evaluate(vectorized_test_data_padded, y_test_encoded)\n",
        "\n",
        "print(f\"Perda e Acurácia do modelo LSTM unidirecional nos dados de teste: {lstm_uni_model_loss}, {lstm_uni_model_accuracy}\")\n",
        "print(f\"Perda e Acurácia do modelo LSTM bidirecional nos dados de teste: {lstm_bi_model_loss}, {lstm_bi_model_accuracy}\")\n",
        "print(f\"Perda e Acurácia do modelo GRU unidirecional nos dados de teste: {gru_uni_model_loss}, {gru_uni_model_accuracy}\")\n",
        "print(f\"Perda e Acurácia do modelo GRU bidirecional nos dados de teste: {gru_bi_model_loss}, {gru_bi_model_accuracy}\")"
      ],
      "metadata": {
        "colab": {
          "base_uri": "https://localhost:8080/"
        },
        "id": "6xk7A0aSNo8O",
        "outputId": "305379e3-58b1-474d-d2c5-4217a3aaa39a"
      },
      "execution_count": 33,
      "outputs": [
        {
          "output_type": "stream",
          "name": "stdout",
          "text": [
            "79/79 [==============================] - 1s 18ms/step - loss: 1.4481 - auc: 0.6972\n",
            "79/79 [==============================] - 2s 30ms/step - loss: 1.1722 - auc: 0.8391\n",
            "79/79 [==============================] - 2s 23ms/step - loss: 1.4481 - auc: 0.6972\n",
            "79/79 [==============================] - 3s 36ms/step - loss: 1.2331 - auc: 0.8401\n",
            "Perda e Acurácia do modelo LSTM unidirecional nos dados de teste: 1.4481182098388672, 0.6972000002861023\n",
            "Perda e Acurácia do modelo LSTM bidirecional nos dados de teste: 1.172155499458313, 0.8390766978263855\n",
            "Perda e Acurácia do modelo GRU unidirecional nos dados de teste: 1.4480605125427246, 0.6972000002861023\n",
            "Perda e Acurácia do modelo GRU bidirecional nos dados de teste: 1.2331181764602661, 0.8401130437850952\n"
          ]
        }
      ]
    },
    {
      "cell_type": "code",
      "source": [
        "# agrupando resultados no df\n",
        "dict_results = {}\n",
        "dict_results[\"Método\"] = [\"LSTM Unidirecional\", \"LSTM Bidirecional\", \"GRU Unidirecional\", \"GRU Bidirecional\"]\n",
        "dict_results[\"Acurácia\"] = [lstm_uni_model_accuracy, lstm_bi_model_accuracy, gru_uni_model_accuracy, gru_bi_model_accuracy]\n",
        "\n",
        "df_results = pd.DataFrame(dict_results)\n",
        "\n",
        "# Adicionar a coluna \"Melhor (S/N)\" com base na maior acurácia\n",
        "df_results[\"Melhor (S/N)\"] = [\"S\" if acc == df_results[\"Acurácia\"].max() else \"N\" for acc in df_results[\"Acurácia\"]]\n",
        "df_results = df_results.sort_values(by=\"Acurácia\", ascending=False)\n",
        "df_results"
      ],
      "metadata": {
        "colab": {
          "base_uri": "https://localhost:8080/",
          "height": 175
        },
        "id": "Ky421_moqpaX",
        "outputId": "f3f17f69-717c-4ad3-e291-0dc009170843"
      },
      "execution_count": 42,
      "outputs": [
        {
          "output_type": "execute_result",
          "data": {
            "text/plain": [
              "               Método  Acurácia Melhor (S/N)\n",
              "3    GRU Bidirecional  0.840113            S\n",
              "1   LSTM Bidirecional  0.839077            N\n",
              "0  LSTM Unidirecional  0.697200            N\n",
              "2   GRU Unidirecional  0.697200            N"
            ],
            "text/html": [
              "\n",
              "  <div id=\"df-abf8c89c-3c76-430f-862b-c2fa06c86654\" class=\"colab-df-container\">\n",
              "    <div>\n",
              "<style scoped>\n",
              "    .dataframe tbody tr th:only-of-type {\n",
              "        vertical-align: middle;\n",
              "    }\n",
              "\n",
              "    .dataframe tbody tr th {\n",
              "        vertical-align: top;\n",
              "    }\n",
              "\n",
              "    .dataframe thead th {\n",
              "        text-align: right;\n",
              "    }\n",
              "</style>\n",
              "<table border=\"1\" class=\"dataframe\">\n",
              "  <thead>\n",
              "    <tr style=\"text-align: right;\">\n",
              "      <th></th>\n",
              "      <th>Método</th>\n",
              "      <th>Acurácia</th>\n",
              "      <th>Melhor (S/N)</th>\n",
              "    </tr>\n",
              "  </thead>\n",
              "  <tbody>\n",
              "    <tr>\n",
              "      <th>3</th>\n",
              "      <td>GRU Bidirecional</td>\n",
              "      <td>0.840113</td>\n",
              "      <td>S</td>\n",
              "    </tr>\n",
              "    <tr>\n",
              "      <th>1</th>\n",
              "      <td>LSTM Bidirecional</td>\n",
              "      <td>0.839077</td>\n",
              "      <td>N</td>\n",
              "    </tr>\n",
              "    <tr>\n",
              "      <th>0</th>\n",
              "      <td>LSTM Unidirecional</td>\n",
              "      <td>0.697200</td>\n",
              "      <td>N</td>\n",
              "    </tr>\n",
              "    <tr>\n",
              "      <th>2</th>\n",
              "      <td>GRU Unidirecional</td>\n",
              "      <td>0.697200</td>\n",
              "      <td>N</td>\n",
              "    </tr>\n",
              "  </tbody>\n",
              "</table>\n",
              "</div>\n",
              "    <div class=\"colab-df-buttons\">\n",
              "\n",
              "  <div class=\"colab-df-container\">\n",
              "    <button class=\"colab-df-convert\" onclick=\"convertToInteractive('df-abf8c89c-3c76-430f-862b-c2fa06c86654')\"\n",
              "            title=\"Convert this dataframe to an interactive table.\"\n",
              "            style=\"display:none;\">\n",
              "\n",
              "  <svg xmlns=\"http://www.w3.org/2000/svg\" height=\"24px\" viewBox=\"0 -960 960 960\">\n",
              "    <path d=\"M120-120v-720h720v720H120Zm60-500h600v-160H180v160Zm220 220h160v-160H400v160Zm0 220h160v-160H400v160ZM180-400h160v-160H180v160Zm440 0h160v-160H620v160ZM180-180h160v-160H180v160Zm440 0h160v-160H620v160Z\"/>\n",
              "  </svg>\n",
              "    </button>\n",
              "\n",
              "  <style>\n",
              "    .colab-df-container {\n",
              "      display:flex;\n",
              "      gap: 12px;\n",
              "    }\n",
              "\n",
              "    .colab-df-convert {\n",
              "      background-color: #E8F0FE;\n",
              "      border: none;\n",
              "      border-radius: 50%;\n",
              "      cursor: pointer;\n",
              "      display: none;\n",
              "      fill: #1967D2;\n",
              "      height: 32px;\n",
              "      padding: 0 0 0 0;\n",
              "      width: 32px;\n",
              "    }\n",
              "\n",
              "    .colab-df-convert:hover {\n",
              "      background-color: #E2EBFA;\n",
              "      box-shadow: 0px 1px 2px rgba(60, 64, 67, 0.3), 0px 1px 3px 1px rgba(60, 64, 67, 0.15);\n",
              "      fill: #174EA6;\n",
              "    }\n",
              "\n",
              "    .colab-df-buttons div {\n",
              "      margin-bottom: 4px;\n",
              "    }\n",
              "\n",
              "    [theme=dark] .colab-df-convert {\n",
              "      background-color: #3B4455;\n",
              "      fill: #D2E3FC;\n",
              "    }\n",
              "\n",
              "    [theme=dark] .colab-df-convert:hover {\n",
              "      background-color: #434B5C;\n",
              "      box-shadow: 0px 1px 3px 1px rgba(0, 0, 0, 0.15);\n",
              "      filter: drop-shadow(0px 1px 2px rgba(0, 0, 0, 0.3));\n",
              "      fill: #FFFFFF;\n",
              "    }\n",
              "  </style>\n",
              "\n",
              "    <script>\n",
              "      const buttonEl =\n",
              "        document.querySelector('#df-abf8c89c-3c76-430f-862b-c2fa06c86654 button.colab-df-convert');\n",
              "      buttonEl.style.display =\n",
              "        google.colab.kernel.accessAllowed ? 'block' : 'none';\n",
              "\n",
              "      async function convertToInteractive(key) {\n",
              "        const element = document.querySelector('#df-abf8c89c-3c76-430f-862b-c2fa06c86654');\n",
              "        const dataTable =\n",
              "          await google.colab.kernel.invokeFunction('convertToInteractive',\n",
              "                                                    [key], {});\n",
              "        if (!dataTable) return;\n",
              "\n",
              "        const docLinkHtml = 'Like what you see? Visit the ' +\n",
              "          '<a target=\"_blank\" href=https://colab.research.google.com/notebooks/data_table.ipynb>data table notebook</a>'\n",
              "          + ' to learn more about interactive tables.';\n",
              "        element.innerHTML = '';\n",
              "        dataTable['output_type'] = 'display_data';\n",
              "        await google.colab.output.renderOutput(dataTable, element);\n",
              "        const docLink = document.createElement('div');\n",
              "        docLink.innerHTML = docLinkHtml;\n",
              "        element.appendChild(docLink);\n",
              "      }\n",
              "    </script>\n",
              "  </div>\n",
              "\n",
              "\n",
              "<div id=\"df-ebb20fd1-510e-4ae8-9e15-3963f3c33fa5\">\n",
              "  <button class=\"colab-df-quickchart\" onclick=\"quickchart('df-ebb20fd1-510e-4ae8-9e15-3963f3c33fa5')\"\n",
              "            title=\"Suggest charts\"\n",
              "            style=\"display:none;\">\n",
              "\n",
              "<svg xmlns=\"http://www.w3.org/2000/svg\" height=\"24px\"viewBox=\"0 0 24 24\"\n",
              "     width=\"24px\">\n",
              "    <g>\n",
              "        <path d=\"M19 3H5c-1.1 0-2 .9-2 2v14c0 1.1.9 2 2 2h14c1.1 0 2-.9 2-2V5c0-1.1-.9-2-2-2zM9 17H7v-7h2v7zm4 0h-2V7h2v10zm4 0h-2v-4h2v4z\"/>\n",
              "    </g>\n",
              "</svg>\n",
              "  </button>\n",
              "\n",
              "<style>\n",
              "  .colab-df-quickchart {\n",
              "      --bg-color: #E8F0FE;\n",
              "      --fill-color: #1967D2;\n",
              "      --hover-bg-color: #E2EBFA;\n",
              "      --hover-fill-color: #174EA6;\n",
              "      --disabled-fill-color: #AAA;\n",
              "      --disabled-bg-color: #DDD;\n",
              "  }\n",
              "\n",
              "  [theme=dark] .colab-df-quickchart {\n",
              "      --bg-color: #3B4455;\n",
              "      --fill-color: #D2E3FC;\n",
              "      --hover-bg-color: #434B5C;\n",
              "      --hover-fill-color: #FFFFFF;\n",
              "      --disabled-bg-color: #3B4455;\n",
              "      --disabled-fill-color: #666;\n",
              "  }\n",
              "\n",
              "  .colab-df-quickchart {\n",
              "    background-color: var(--bg-color);\n",
              "    border: none;\n",
              "    border-radius: 50%;\n",
              "    cursor: pointer;\n",
              "    display: none;\n",
              "    fill: var(--fill-color);\n",
              "    height: 32px;\n",
              "    padding: 0;\n",
              "    width: 32px;\n",
              "  }\n",
              "\n",
              "  .colab-df-quickchart:hover {\n",
              "    background-color: var(--hover-bg-color);\n",
              "    box-shadow: 0 1px 2px rgba(60, 64, 67, 0.3), 0 1px 3px 1px rgba(60, 64, 67, 0.15);\n",
              "    fill: var(--button-hover-fill-color);\n",
              "  }\n",
              "\n",
              "  .colab-df-quickchart-complete:disabled,\n",
              "  .colab-df-quickchart-complete:disabled:hover {\n",
              "    background-color: var(--disabled-bg-color);\n",
              "    fill: var(--disabled-fill-color);\n",
              "    box-shadow: none;\n",
              "  }\n",
              "\n",
              "  .colab-df-spinner {\n",
              "    border: 2px solid var(--fill-color);\n",
              "    border-color: transparent;\n",
              "    border-bottom-color: var(--fill-color);\n",
              "    animation:\n",
              "      spin 1s steps(1) infinite;\n",
              "  }\n",
              "\n",
              "  @keyframes spin {\n",
              "    0% {\n",
              "      border-color: transparent;\n",
              "      border-bottom-color: var(--fill-color);\n",
              "      border-left-color: var(--fill-color);\n",
              "    }\n",
              "    20% {\n",
              "      border-color: transparent;\n",
              "      border-left-color: var(--fill-color);\n",
              "      border-top-color: var(--fill-color);\n",
              "    }\n",
              "    30% {\n",
              "      border-color: transparent;\n",
              "      border-left-color: var(--fill-color);\n",
              "      border-top-color: var(--fill-color);\n",
              "      border-right-color: var(--fill-color);\n",
              "    }\n",
              "    40% {\n",
              "      border-color: transparent;\n",
              "      border-right-color: var(--fill-color);\n",
              "      border-top-color: var(--fill-color);\n",
              "    }\n",
              "    60% {\n",
              "      border-color: transparent;\n",
              "      border-right-color: var(--fill-color);\n",
              "    }\n",
              "    80% {\n",
              "      border-color: transparent;\n",
              "      border-right-color: var(--fill-color);\n",
              "      border-bottom-color: var(--fill-color);\n",
              "    }\n",
              "    90% {\n",
              "      border-color: transparent;\n",
              "      border-bottom-color: var(--fill-color);\n",
              "    }\n",
              "  }\n",
              "</style>\n",
              "\n",
              "  <script>\n",
              "    async function quickchart(key) {\n",
              "      const quickchartButtonEl =\n",
              "        document.querySelector('#' + key + ' button');\n",
              "      quickchartButtonEl.disabled = true;  // To prevent multiple clicks.\n",
              "      quickchartButtonEl.classList.add('colab-df-spinner');\n",
              "      try {\n",
              "        const charts = await google.colab.kernel.invokeFunction(\n",
              "            'suggestCharts', [key], {});\n",
              "      } catch (error) {\n",
              "        console.error('Error during call to suggestCharts:', error);\n",
              "      }\n",
              "      quickchartButtonEl.classList.remove('colab-df-spinner');\n",
              "      quickchartButtonEl.classList.add('colab-df-quickchart-complete');\n",
              "    }\n",
              "    (() => {\n",
              "      let quickchartButtonEl =\n",
              "        document.querySelector('#df-ebb20fd1-510e-4ae8-9e15-3963f3c33fa5 button');\n",
              "      quickchartButtonEl.style.display =\n",
              "        google.colab.kernel.accessAllowed ? 'block' : 'none';\n",
              "    })();\n",
              "  </script>\n",
              "</div>\n",
              "\n",
              "  <div id=\"id_7f7ba3a6-1afe-4822-a20b-b5ae91f0650e\">\n",
              "    <style>\n",
              "      .colab-df-generate {\n",
              "        background-color: #E8F0FE;\n",
              "        border: none;\n",
              "        border-radius: 50%;\n",
              "        cursor: pointer;\n",
              "        display: none;\n",
              "        fill: #1967D2;\n",
              "        height: 32px;\n",
              "        padding: 0 0 0 0;\n",
              "        width: 32px;\n",
              "      }\n",
              "\n",
              "      .colab-df-generate:hover {\n",
              "        background-color: #E2EBFA;\n",
              "        box-shadow: 0px 1px 2px rgba(60, 64, 67, 0.3), 0px 1px 3px 1px rgba(60, 64, 67, 0.15);\n",
              "        fill: #174EA6;\n",
              "      }\n",
              "\n",
              "      [theme=dark] .colab-df-generate {\n",
              "        background-color: #3B4455;\n",
              "        fill: #D2E3FC;\n",
              "      }\n",
              "\n",
              "      [theme=dark] .colab-df-generate:hover {\n",
              "        background-color: #434B5C;\n",
              "        box-shadow: 0px 1px 3px 1px rgba(0, 0, 0, 0.15);\n",
              "        filter: drop-shadow(0px 1px 2px rgba(0, 0, 0, 0.3));\n",
              "        fill: #FFFFFF;\n",
              "      }\n",
              "    </style>\n",
              "    <button class=\"colab-df-generate\" onclick=\"generateWithVariable('df_results')\"\n",
              "            title=\"Generate code using this dataframe.\"\n",
              "            style=\"display:none;\">\n",
              "\n",
              "  <svg xmlns=\"http://www.w3.org/2000/svg\" height=\"24px\"viewBox=\"0 0 24 24\"\n",
              "       width=\"24px\">\n",
              "    <path d=\"M7,19H8.4L18.45,9,17,7.55,7,17.6ZM5,21V16.75L18.45,3.32a2,2,0,0,1,2.83,0l1.4,1.43a1.91,1.91,0,0,1,.58,1.4,1.91,1.91,0,0,1-.58,1.4L9.25,21ZM18.45,9,17,7.55Zm-12,3A5.31,5.31,0,0,0,4.9,8.1,5.31,5.31,0,0,0,1,6.5,5.31,5.31,0,0,0,4.9,4.9,5.31,5.31,0,0,0,6.5,1,5.31,5.31,0,0,0,8.1,4.9,5.31,5.31,0,0,0,12,6.5,5.46,5.46,0,0,0,6.5,12Z\"/>\n",
              "  </svg>\n",
              "    </button>\n",
              "    <script>\n",
              "      (() => {\n",
              "      const buttonEl =\n",
              "        document.querySelector('#id_7f7ba3a6-1afe-4822-a20b-b5ae91f0650e button.colab-df-generate');\n",
              "      buttonEl.style.display =\n",
              "        google.colab.kernel.accessAllowed ? 'block' : 'none';\n",
              "\n",
              "      buttonEl.onclick = () => {\n",
              "        google.colab.notebook.generateWithVariable('df_results');\n",
              "      }\n",
              "      })();\n",
              "    </script>\n",
              "  </div>\n",
              "\n",
              "    </div>\n",
              "  </div>\n"
            ]
          },
          "metadata": {},
          "execution_count": 42
        }
      ]
    },
    {
      "cell_type": "code",
      "source": [
        "df_results.to_csv(\"./data/df_results.csv\")"
      ],
      "metadata": {
        "id": "hEH31cCVxDnl"
      },
      "execution_count": 43,
      "outputs": []
    }
  ]
}