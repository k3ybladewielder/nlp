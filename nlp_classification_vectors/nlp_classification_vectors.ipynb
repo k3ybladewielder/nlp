{
 "cells": [
  {
   "cell_type": "markdown",
   "id": "9c72e402",
   "metadata": {},
   "source": [
    "# Natural Language Processing with Classification and Vector Spaces\n",
    "\n",
    "Notas sobre o curso Natural Language Processing with Classification and Vector Spaces da DeeplearninigAI. O notebook é composto majoritariamente de material original, mas também possui material da **Deep Learning AI**, como figuras e algumas explicações \"Readings\" das Lectures."
   ]
  },
  {
   "cell_type": "markdown",
   "id": "2930820e",
   "metadata": {},
   "source": [
    "# Week 1 - Sentiment Analysis With Logistic Regression"
   ]
  },
  {
   "cell_type": "markdown",
   "id": "770aa7d1",
   "metadata": {},
   "source": [
    "## Objetivos de aprendizagem\n",
    "- Sentiment analysis\n",
    "- Logistic regression\n",
    "- Data pre-processing\n",
    "- Calculating word frequencies\n",
    "- Feature extraction\n",
    "- Vocabulary creation\n",
    "- Supervised learning"
   ]
  },
  {
   "cell_type": "markdown",
   "id": "9f6efeeb",
   "metadata": {},
   "source": [
    "## Supervised ML and Sentiment Analysis"
   ]
  },
  {
   "cell_type": "markdown",
   "id": "3017f1f7",
   "metadata": {},
   "source": [
    "Os algoritmos de **Machine Learning (ML)** supervisionados são um tipo de algoritmo que aprende a partir de dados rotulados, ou seja, dados que já possuem um rótulo ou uma classificação pré-definida. Esses algoritmos usam esses dados rotulados para aprender a fazer previsões ou classificações em novos dados.\n",
    "\n",
    "Na área de Processamento de Linguagem Natural (NLP), os algoritmos de ML supervisionados são usados para uma variedade de tarefas, como classificação de sentimentos, identificação de entidades nomeadas, análise de tópicos, tradução automática, entre outras.\n",
    "\n",
    "Um exemplo de como esses algoritmos são usados em NLP é na classificação de sentimentos em textos. Nesse caso, um modelo de ML supervisionado seria **treinado em um conjunto de dados rotulados** que contém textos e suas respectivas classificações de sentimento (por exemplo, positivo, negativo ou neutro). O algoritmo usaria esses dados para **aprender a reconhecer padrões nos textos** e, em seguida, aplicaria esses padrões para **classificar o sentimento em novos textos**.\n",
    "\n",
    "Outro exemplo é na identificação de **entidades nomeadas (NER)**, que é uma tarefa que envolve a identificação de nomes de pessoas, locais, organizações e outras entidades em um texto. Nesse caso, um modelo de ML supervisionado seria treinado em um conjunto de dados rotulados que contém textos e suas respectivas entidades nomeadas. O algoritmo usaria esses dados para aprender a reconhecer os padrões de palavras e contextos que indicam a presença de uma entidade nomeada em um texto, e, em seguida, aplicaria esses padrões para identificar entidades em novos textos.\n",
    "\n",
    "Em resumo, os algoritmos de ML supervisionados são uma técnica poderosa para resolver problemas em NLP, permitindo que modelos aprendam com dados rotulados e possam fazer previsões ou classificações em novos dados com base no que foi aprendido."
   ]
  },
  {
   "cell_type": "markdown",
   "id": "672944a6",
   "metadata": {},
   "source": [
    "<img src=\"./imgs/supervised_ml.png\">"
   ]
  },
  {
   "cell_type": "markdown",
   "id": "c221f7e0",
   "metadata": {},
   "source": [
    "Um pipeline básico para a _task_ de análise de sentimento (classificação) geralmente envolve as etapas de:\n",
    "- **Pré-processamento de texto**: Esta etapa envolve a limpeza e preparação dos dados. O texto é normalmente convertido em minúsculas, removidos caracteres especiais, removidos números e pontuações, e realizada a tokenização do texto para obter as palavras individuais.\n",
    "- **Criação de features**: Nesta etapa, são criadas as features que serão usadas pelo modelo de classificação. As features podem incluir a contagem de palavras, a frequência de palavras, o tipo de palavras, o uso de negação, entre outras.\n",
    "- **Treinamento do modelo**: O modelo de classificação é treinado em um conjunto de dados rotulados que contêm exemplos de texto e suas respectivas classificações de sentimento. Existem vários algoritmos de aprendizado de máquina que podem ser usados para treinar um modelo, como Árvores de Decisão, Naive Bayes, Regressão Logística, SVM, Redes Neurais, etc.\n",
    "- **Avaliação do modelo**: Após o treinamento, o modelo é avaliado em um conjunto de dados de teste para verificar sua precisão. É comum dividir o conjunto de dados em conjunto de treinamento, validação e teste.\n",
    "- **Implantação**: Finalmente, o modelo treinado é usado para classificar o sentimento de novos textos. Novos textos passam pelas mesmas etapas de pré-processamento e criação de features, e o modelo treinado é usado para prever a classificação de sentimento do texto."
   ]
  },
  {
   "cell_type": "markdown",
   "id": "5699891c",
   "metadata": {},
   "source": [
    "## Vocabulary and Feature Extraction"
   ]
  },
  {
   "cell_type": "markdown",
   "id": "3ff5ee47",
   "metadata": {},
   "source": [
    "Para representar textos de forma numérica, primeiro precisamos construir um vocabulário, com eles poderemos _encodar_ qualquer texto como um array de números. Um Vocabulário é uma lista com palavras únicas, não repetidas.\n",
    "\n",
    "Uma forma simples de extrair features do texto é usando o vocabulário, verificando cada palavra do vocabulário que aparece no texto. Caso as palavras no texto que estamos extraindo a feature tenham apareca no vocabulário, atribuímos o valor 1 para ela, e zero para as palavras que do vocabulário que não aparecem no texto. Assim, estamos representando o texto usando [**one-hot encoding**](https://k3ybladewielder.medium.com/introdu%C3%A7%C3%A3o-%C3%A0-nlp-4d7d98b9a36a) ou representação esparsa. Mas esse método pode ser problemático porquê o número de features é igual ao número de palavras no vocabulário e a grande maioria das features serão zero, aumentando excessivamente o tempo de treino e predição dos modelos."
   ]
  },
  {
   "cell_type": "markdown",
   "id": "bb08d346",
   "metadata": {},
   "source": [
    "<img src=\"./imgs/vocabulary_and_feature_extraction.png\">"
   ]
  },
  {
   "cell_type": "markdown",
   "id": "ce2edbfc",
   "metadata": {},
   "source": [
    "Existem diversas técnicas para representar textos como vetores, sendo as mais comuns a Bag of Words (BoW) e a Representação Distribuída de Palavras (Word Embeddings). Vou explicar brevemente cada uma delas:\n",
    "- **Bag of Words (BoW)**: Nessa técnica, o texto é representado como um vetor contendo a contagem de ocorrências de cada palavra presente no texto. Cada palavra é considerada como uma dimensão do vetor. Dessa forma, quanto mais vezes uma palavra aparecer no texto, maior será o valor correspondente na dimensão correspondente no vetor. Por exemplo, se um texto contém as palavras \"gato\", \"cão\" e \"casa\", a representação BoW seria um vetor com três dimensões, com valores correspondentes à contagem de ocorrências de cada palavra no texto.\n",
    "- **Word Embeddings**: Essa técnica é baseada em modelos de linguagem neural, que mapeiam cada palavra em um espaço vetorial de alta dimensão, onde palavras semelhantes têm representações próximas. A ideia é que cada palavra seja representada por um vetor de números reais que captura seu significado semântico. Esses vetores podem ser aprendidos a partir de grandes quantidades de textos usando técnicas de aprendizado de máquina, como Word2Vec, GloVe ou FastText. Os vetores resultantes podem ser usados para representar cada palavra em um texto como um vetor numérico. A representação distribuída de palavras pode capturar relações semânticas entre palavras, como sinonímia e antonímia, e pode ser usada para tarefas mais complexas, como análise de sentimento ou classificação de texto.\n",
    "\n",
    "Ambas as técnicas são amplamente utilizadas em NLP, dependendo do objetivo e do contexto da tarefa em questão. A escolha da técnica de representação de texto pode influenciar significativamente o desempenho do modelo de aprendizado de máquina, e é importante escolher a técnica mais adequada para a tarefa específica.\n",
    "\n",
    "Tanto a técnica de Bag of Words (BoW) quanto a Word Embeddings têm seus **pontos fortes e fracos**, e a escolha de qual usar depende do contexto e do objetivo da tarefa em questão.\n",
    "\n",
    "A representação **BoW** pode ser uma escolha adequada para **tarefas simples de classificação de texto**, como classificação de spam ou análise de sentimento, onde a presença ou ausência de palavras específicas pode ser um indicador importante para a classificação. Além disso, a representação **BoW é computacionalmente eficiente e fácil de interpretar**, o que pode ser uma vantagem para problemas onde a transparência do modelo é importante. No entanto, a representação **BoW não leva em consideração a ordem das palavras no texto, o que pode limitar sua capacidade de capturar nuances semânticas.**\n",
    "\n",
    "Já Word Embedding é mais adequada para **tarefas que envolvem análise semântica**, como tradução automática, classificação de tópicos ou análise de sentimento baseada em frases complexas. A representação Word Embedding **leva em consideração a ordem e o contexto das palavras**, e **pode capturar a similaridade semântica entre palavras que não aparecem juntas com frequência**. Além disso, a representação distribuída de palavras **pode ser usada para inicializar redes neurais em tarefas de aprendizado profundo**, melhorando o desempenho do modelo. No entanto, Word Embedding **pode ser computacionalmente intensiva e requer grandes quantidades de dados de treinamento para obter bons resultados**."
   ]
  },
  {
   "cell_type": "markdown",
   "id": "7062d552",
   "metadata": {},
   "source": [
    "## Feature Extraction with Frequencies"
   ]
  },
  {
   "cell_type": "markdown",
   "id": "d68b3700",
   "metadata": {},
   "source": [
    "Numa task de classificação de sentimentos, podemos identificar as palavras positivas e negativas a partir da frequencia de ocorrencia em que elas ocorrem nos textos positivos e negativos. Usando essa contagem, podemos extrair features e usá-las no modelo de classificação, como a **regressão logística**. \n",
    "\n",
    "<img src=\"./imgs/tweet_corpus.png\">\n",
    "\n",
    "A partir da contagem da frequencia das palavras em cada classe, chegamos a essa tabela. Na prática, essa tabela será um dicionário que mapeia a classe da palavra e sua frequência de ocorrência.\n",
    "\n",
    "<img src=\"./imgs/word_freq_tweets.png\">\n",
    "\n",
    "Podemos representar essa tabela de frequencia com um array com 3 features, aumentando a velocidade na implementação, porquê em vez de termos v features, teremos apenas 3 para que o modelo aprenda. \n",
    "\n",
    "Aqui, a primeira feature é um bias, depois o somatório das palavras da label positiva e o somatório das palavras da label negativa. Assim, teremos o novo vetor com 3 features.\n",
    "\n",
    "<img src=\"./imgs/vector_3.png\">"
   ]
  },
  {
   "cell_type": "markdown",
   "id": "6e660575",
   "metadata": {},
   "source": [
    "<img src=\"./imgs/feature_extraction.png\">"
   ]
  },
  {
   "cell_type": "markdown",
   "id": "6cfe62eb",
   "metadata": {},
   "source": [
    "Essa abordagem apesar de ser bem simples é genial, e tem as seguintes vantagens:\n",
    "\n",
    "1. **Simplicidade e Interpretabilidade:**\n",
    "   * A técnica é relativamente simples de implementar e entender, mesmo para aqueles sem profundo conhecimento em machine learning.\n",
    "   * A utilização de frequências de palavras como características facilita a interpretação dos resultados, pois permite identificar quais palavras positivas e negativas contribuem mais para a classificação de um tweet.\n",
    "\n",
    "2. **Eficiência:**\n",
    "   * A extração de frequências de palavras é computacionalmente eficiente, especialmente quando comparada a métodos mais complexos de representação textual, como modelos neurais.\n",
    "   * Isso torna a abordagem adequada para datasets grandes e para implementações em tempo real.\n",
    "\n",
    "3. **Robustez:**\n",
    "   * A abordagem é robusta a ruídos e faltas de dados, pois se baseia na contagem de palavras, que é menos sensível a pequenas alterações no texto do que outros métodos.\n",
    "   * Isso a torna útil para lidar com tweets curtos ou com erros ortográficos.\n",
    "\n",
    "4. **Flexibilidade:**\n",
    "   * A técnica pode ser facilmente adaptada para outras tarefas de classificação binária de texto, como detecção de spam ou análise de opiniões.\n",
    "   * Basta ajustar o conjunto de palavras positivas e negativas de acordo com o contexto da tarefa.\n",
    "\n",
    "5. **Desempenho:**\n",
    "   * Apesar da simplicidade, a modelagem com frequências de palavras pode alcançar resultados competitivos em comparação com métodos mais complexos, especialmente para datasets com boa distribuição de classes.\n",
    "\n",
    "Mas ela também possui suas limitações, como:\n",
    "1. **Falta de Consideração da Ordem das Palavras:** A abordagem não leva em conta a ordem das palavras no tweet, o que pode ser importante para capturar o sentimento.\n",
    "2. **Sensibilidade a Sinônimos e Sarcasmo:** A técnica pode não capturar bem o sentimento de tweets que utilizam sinônimos para expressar sentimentos positivos ou negativos, ou que empregam sarcasmo.\n",
    "3. **Desempenho Inferior em Textos Complexos:** Para textos longos e complexos, a simples contagem de palavras pode não ser suficiente para capturar nuances do sentimento.\n",
    "\n",
    "Ainda assim, é um ótimo baseline, e caso seja necessário, podemos escalar para abordagens mais complexas."
   ]
  },
  {
   "cell_type": "code",
   "execution_count": 1,
   "id": "7200ec47",
   "metadata": {
    "ExecuteTime": {
     "end_time": "2024-04-13T12:37:24.217577Z",
     "start_time": "2024-04-13T12:37:23.546326Z"
    }
   },
   "outputs": [],
   "source": [
    "import pandas as pd\n",
    "\n",
    "# Exemplo de tweets e seus respectivos sentimentos\n",
    "tweets = [\n",
    "    (\"Eu amo o meu cachorro\", \"positivo\"),\n",
    "    (\"Eu odeio acordar cedo\", \"negativo\"),\n",
    "    (\"A comida deste restaurante é incrível\", \"positivo\"),\n",
    "    (\"Estou cansado de estudar\", \"negativo\"),\n",
    "    (\"Que dia lindo para passear no parque\", \"positivo\"),\n",
    "    (\"O filme que vi ontem foi excelente\", \"positivo\"),\n",
    "    (\"Não vejo a hora de encontrar meus amigos\", \"positivo\"),\n",
    "    (\"Estou muito feliz com os resultados\", \"positivo\"),\n",
    "    (\"Que tristeza ver essa notícia\", \"negativo\"),\n",
    "    (\"Estou decepcionado com o serviço dessa empresa\", \"negativo\"),\n",
    "    (\"A chuva estragou meu dia\", \"negativo\"),\n",
    "    (\"Fiquei surpreso com o presente que recebi\", \"positivo\"),\n",
    "    (\"Esse livro é incrível, não consigo parar de ler\", \"positivo\"),\n",
    "    (\"Estou preocupado com o futuro do país\", \"negativo\"),\n",
    "    (\"Adorei o novo restaurante que experimentei\", \"positivo\"),\n",
    "    (\"O trânsito está terrível hoje\", \"negativo\"),\n",
    "    (\"Essa música me faz sentir feliz\", \"positivo\"),\n",
    "    (\"Perdi o ônibus e vou me atrasar para o trabalho\", \"negativo\"),\n",
    "    (\"Estou ansioso para o feriado chegar\", \"positivo\"),\n",
    "    (\"Que vergonha, esqueci meu aniversário de casamento\", \"negativo\"),\n",
    "    (\"Fui promovido no trabalho, estou radiante\", \"positivo\"),\n",
    "    (\"Não suporto essa pessoa, ela é muito arrogante\", \"negativo\"),\n",
    "    (\"O jantar que preparei ficou delicioso\", \"positivo\"),\n",
    "    (\"Meu time perdeu o jogo, estou arrasado\", \"negativo\"),\n",
    "    (\"Que saudade de casa\", \"negativo\"),\n",
    "    (\"Estou animado para o final de semana\", \"positivo\"),\n",
    "    (\"Esse filme é terrível, não recomendo\", \"negativo\"),\n",
    "    (\"A festa de aniversário foi um sucesso\", \"positivo\"),\n",
    "    (\"Estou cansado de tanto trabalhar\", \"negativo\"),\n",
    "    (\"Que alívio, finalmente terminei meu projeto\", \"positivo\"),\n",
    "    (\"Esse lugar é incrível, preciso voltar mais vezes\", \"positivo\"),\n",
    "    (\"Perdi meu voo e agora estou preso no aeroporto\", \"negativo\"),\n",
    "    (\"Estou feliz por ter encontrado um novo emprego\", \"positivo\"),\n",
    "    (\"Não aguento mais essa situação\", \"negativo\"),\n",
    "    (\"O passeio de barco foi maravilhoso\", \"positivo\"),\n",
    "    (\"Estou preocupado com a saúde dos meus pais\", \"negativo\"),\n",
    "    (\"Adorei a nova série que comecei a assistir\", \"positivo\"),\n",
    "    (\"Não vejo a hora de começar minhas férias\", \"positivo\"),\n",
    "    (\"Estou chateado com o cancelamento do evento\", \"negativo\"),\n",
    "    (\"Ganhei um prêmio, estou emocionado\", \"positivo\"),\n",
    "    (\"Esse restaurante não vale o preço que cobram\", \"negativo\"),\n",
    "    (\"Estou apaixonado por essa música\", \"positivo\"),\n",
    "    (\"Não gostei do atendimento dessa loja\", \"negativo\"),\n",
    "    (\"Meu cachorro está doente, estou preocupado\", \"negativo\"),\n",
    "    (\"Adorei o presente que ganhei de aniversário\", \"positivo\"),\n",
    "    (\"Estou cansado de tanto estudar para as provas\", \"negativo\"),\n",
    "    (\"Que alegria, hoje é meu aniversário\", \"positivo\"),\n",
    "    (\"Não vejo a hora de conhecer meu sobrinho que está a caminho\", \"positivo\"),\n",
    "    (\"Estou frustrado com o atraso no projeto\", \"negativo\"),\n",
    "    (\"Que bom ver meus amigos depois de tanto tempo\", \"positivo\"),\n",
    "    (\"Não aguento mais essa dor de cabeça\", \"negativo\"),\n",
    "    (\"O pôr do sol na praia é magnífico\", \"positivo\"),\n",
    "    (\"Estou triste com a perda do meu animal de estimação\", \"negativo\"),\n",
    "    (\"Que maravilha, vou me formar na faculdade\", \"positivo\"),\n",
    "    (\"Estou desanimado com o futuro da economia\", \"negativo\"),\n",
    "    (\"O concerto de música clássica foi incrível\", \"positivo\"),\n",
    "    (\"Não suporto mais essa discussão\", \"negativo\"),\n",
    "    (\"Estou feliz por ter começado a fazer exercícios\", \"positivo\"),\n",
    "    (\"O tráfego está caótico hoje\", \"negativo\"),\n",
    "    (\"Estou radiante com a notícia do meu amigo\", \"positivo\"),\n",
    "    (\"Esse filme me deixou emocionado\", \"positivo\"),\n",
    "    (\"Estou decepcionado com o resultado da eleição\", \"negativo\"),\n",
    "    (\"Que bom encontrar você aqui\", \"positivo\"),\n",
    "    (\"Não gostei do sabor desse prato\", \"negativo\"),\n",
    "    (\"Estou contente por ter conhecido novas pessoas\", \"positivo\"),\n",
    "    (\"Estou estressado com o excesso de trabalho\", \"negativo\"),\n",
    "    (\"Essa viagem foi incrível, quero repetir\", \"positivo\"),\n",
    "    (\"Não aguento mais a rotina cansativa\", \"negativo\"),\n",
    "    (\"Estou preocupado com a segurança da minha cidade\", \"negativo\"),\n",
    "    (\"Que felicidade, consegui uma promoção no trabalho\", \"positivo\"),\n",
    "    (\"Não gosto desse clima frio\", \"negativo\"),\n",
    "    (\"Estou maravilhado com a beleza desse lugar\", \"positivo\"),\n",
    "    (\"Estou triste com a partida do meu amigo\", \"negativo\"),\n",
    "    (\"Adorei o show que fui ontem à noite\", \"positivo\"),\n",
    "    (\"Estou irritado com o comportamento dessa pessoa\", \"negativo\"),\n",
    "    (\"Que alegria, vou passar as férias na praia\", \"positivo\"),\n",
    "    (\"Não consigo parar de pensar naquela situação\", \"negativo\"),\n",
    "    (\"Estou ansioso para o lançamento do novo filme\", \"positivo\"),\n",
    "    (\"Não gostei do resultado do jogo\", \"negativo\"),\n",
    "    (\"Estou encantado com a cultura desse país\", \"positivo\"),\n",
    "    (\"Estou cansado de tantas brigas\", \"negativo\"),\n",
    "    (\"Que bom estar de volta em casa\", \"positivo\"),\n",
    "    (\"Não suporto mais esse barulho\", \"negativo\"),\n",
    "    (\"Estou empolgado para a festa de aniversário\", \"positivo\"),\n",
    "    (\"Estou preocupado com o meio ambiente\", \"negativo\"),\n",
    "    (\"Adorei o presente que ganhei de Natal\", \"positivo\"),\n",
    "    (\"Estou frustrado com a demora no atendimento\", \"negativo\"),\n",
    "    (\"Que alívio, consegui resolver o problema\", \"positivo\"),\n",
    "    (\"Não vejo a hora de voltar para casa\", \"negativo\"),\n",
    "    (\"Estou emocionado com o nascimento do meu sobrinho\", \"positivo\"),\n",
    "    (\"Esse lugar é incrível, não vejo a hora de voltar\", \"positivo\"),\n",
    "    (\"Estou triste por não ter conseguido o emprego\", \"negativo\"),\n",
    "    (\"Estou radiante com a notícia do casamento do meu amigo\", \"positivo\"),\n",
    "    (\"Não aguento mais essa situação difícil\", \"negativo\"),\n",
    "    (\"Que bom te ver depois de tanto tempo\", \"positivo\"),\n",
    "    (\"Estou preocupado com a saúde da minha família\", \"negativo\"),\n",
    "    (\"Adorei a comida desse restaurante\", \"positivo\"),\n",
    "    (\"Estou irritado com o barulho constante\", \"negativo\"),\n",
    "    (\"Estou feliz por ter terminado meus estudos\", \"positivo\"),\n",
    "    (\"Não gostei do final desse livro\", \"negativo\"),\n",
    "    (\"Estou contente por ter conseguido resolver o problema\", \"positivo\"),\n",
    "    (\"Estou estressado com os prazos do trabalho\", \"negativo\"),\n",
    "    (\"Que alegria, vou passar o final de semana na praia\", \"positivo\"),\n",
    "    (\"Não vejo a hora de viajar para o exterior\", \"positivo\"),\n",
    "    (\"Estou triste com a notícia da doença de um amigo\", \"negativo\"),\n",
    "    (\"Adorei o filme que assisti ontem à noite\", \"positivo\"),\n",
    "    (\"Estou frustrado com a falta de oportunidades\", \"negativo\"),\n",
    "    (\"Que alívio, consegui encontrar minhas chaves perdidas\", \"positivo\"),\n",
    "    (\"Não suporto mais essa situação complicada\", \"negativo\"),\n",
    "    (\"Estou emocionado com o nascimento do meu sobrinho\", \"positivo\"),\n",
    "    (\"Estou irritado com o comportamento dessa pessoa\", \"negativo\"),\n",
    "    (\"Estou feliz por ter encontrado um novo emprego\", \"positivo\"),\n",
    "    (\"Não gostei do atendimento dessa loja\", \"negativo\"),\n",
    "    (\"Que bom te ver depois de tanto tempo\", \"positivo\"),\n",
    "    (\"Estou chateado com o cancelamento do evento\", \"negativo\"),\n",
    "    (\"Estou empolgado para a festa de aniversário\", \"positivo\"),\n",
    "    (\"Não aguento mais essa dor de cabeça\", \"negativo\"),\n",
    "    (\"Estou ansioso para o lançamento do novo filme\", \"positivo\"),\n",
    "    (\"Estou preocupado com o meio ambiente\", \"negativo\"),\n",
    "    (\"Estou maravilhado com a beleza desse lugar\", \"positivo\"),\n",
    "    (\"Não consigo parar de pensar naquela situação\", \"negativo\"),\n",
    "    (\"Estou radiante com a notícia do casamento do meu amigo\", \"positivo\"),\n",
    "    (\"Não gostei do final desse livro\", \"negativo\"),\n",
    "    (\"Estou feliz por ter terminado meus estudos\", \"positivo\"),\n",
    "    (\"Estou irritado com o barulho constante\", \"negativo\"),\n",
    "    (\"Adorei a comida desse restaurante\", \"positivo\"),\n",
    "    (\"Estou preocupado com a saúde da minha família\", \"negativo\"),\n",
    "    (\"Que bom te ver depois de tanto tempo\", \"positivo\"),\n",
    "    (\"Estou cansado de tantas brigas\", \"negativo\"),\n",
    "    (\"Estou encantado com a cultura desse país\", \"positivo\"),\n",
    "    (\"Não gostei do resultado do jogo\", \"negativo\"),\n",
    "    (\"Estou ansioso para o final de semana\", \"positivo\"),\n",
    "    (\"Estou empolgado para a festa de aniversário\", \"positivo\"),\n",
    "    (\"Que bom encontrar você aqui\", \"positivo\"),\n",
    "    (\"Estou decepcionado com o resultado da eleição\", \"negativo\"),\n",
    "    (\"Esse filme me deixou emocionado\", \"positivo\"),\n",
    "    (\"Estou frustrado com o atraso no projeto\", \"negativo\"),\n",
    "    (\"Não vejo a hora de conhecer meu sobrinho que está a caminho\", \"positivo\"),\n",
    "    (\"Estou feliz por ter encontrado um novo emprego\", \"positivo\"),\n",
    "    (\"Estou radiante com a notícia do meu amigo\", \"positivo\"),\n",
    "    (\"O tráfego está caótico hoje\", \"negativo\"),\n",
    "    (\"Estou feliz por ter começado a fazer exercícios\", \"positivo\"),\n",
    "    (\"Não suporto mais essa discussão\", \"negativo\"),\n",
    "    (\"O concerto de música clássica foi incrível\", \"positivo\"),\n",
    "    (\"Estou desanimado com o futuro da economia\", \"negativo\"),\n",
    "    (\"Que maravilha, vou me formar na faculdade\", \"positivo\"),\n",
    "    (\"Estou triste com a perda do meu animal de estimação\", \"negativo\"),\n",
    "    (\"O pôr do sol na praia é magnífico\", \"positivo\"),\n",
    "    (\"Estou irritado com o comportamento dessa pessoa\", \"negativo\"),\n",
    "    (\"Adorei o show que fui ontem à noite\", \"positivo\"),\n",
    "    (\"Estou feliz por ter encontrado um novo emprego\", \"positivo\"),\n",
    "    (\"Que bom te ver depois de tanto tempo\", \"positivo\"),\n",
    "    (\"Estou cansado de tantas brigas\", \"negativo\"),\n",
    "    (\"Estou radiante com a notícia do meu amigo\", \"positivo\"),\n",
    "    (\"Não gostei do resultado do jogo\", \"negativo\"),\n",
    "    (\"Que alegria, vou passar o final de semana na praia\", \"positivo\"),\n",
    "    (\"Estou irritado com o barulho constante\", \"negativo\"),\n",
    "    (\"Estou feliz por ter terminado meus estudos\", \"positivo\"),\n",
    "    (\"Estou preocupado com a saúde da minha família\", \"negativo\"),\n",
    "    (\"Estou encantado com a cultura desse país\", \"positivo\"),\n",
    "    (\"Não consigo parar de pensar naquela situação\", \"negativo\"),\n",
    "    (\"Estou maravilhado com a beleza desse lugar\", \"positivo\"),\n",
    "    (\"Não suporto mais essa situação complicada\", \"negativo\"),\n",
    "    (\"Estou emocionado com o nascimento do meu sobrinho\", \"positivo\"),\n",
    "    (\"Estou irritado com o comportamento dessa pessoa\", \"negativo\"),\n",
    "    (\"Estou feliz por ter encontrado um novo emprego\", \"positivo\"),\n",
    "    (\"Não gostei do atendimento dessa loja\", \"negativo\"),\n",
    "    (\"Que bom te ver depois de tanto tempo\", \"positivo\"),\n",
    "    (\"Estou chateado com o cancelamento do evento\", \"negativo\"),\n",
    "    (\"Estou empolgado para a festa de aniversário\", \"positivo\"),\n",
    "    (\"Não aguento mais essa dor de cabeça\", \"negativo\"),\n",
    "    (\"Estou ansioso para o lançamento do novo filme\", \"positivo\"),\n",
    "]\n",
    "\n",
    "# Cria o DataFrame\n",
    "data = pd.DataFrame(tweets, columns=['tweet', 'label'])\n",
    "data[\"label\"] = data[\"label\"].map({\"positivo\": 0, \"negativo\": 1})\n",
    "df = data.copy()"
   ]
  },
  {
   "cell_type": "code",
   "execution_count": 2,
   "id": "ee6594b5",
   "metadata": {
    "ExecuteTime": {
     "end_time": "2024-04-13T12:37:24.238176Z",
     "start_time": "2024-04-13T12:37:24.220001Z"
    }
   },
   "outputs": [
    {
     "data": {
      "text/html": [
       "<div>\n",
       "<style scoped>\n",
       "    .dataframe tbody tr th:only-of-type {\n",
       "        vertical-align: middle;\n",
       "    }\n",
       "\n",
       "    .dataframe tbody tr th {\n",
       "        vertical-align: top;\n",
       "    }\n",
       "\n",
       "    .dataframe thead th {\n",
       "        text-align: right;\n",
       "    }\n",
       "</style>\n",
       "<table border=\"1\" class=\"dataframe\">\n",
       "  <thead>\n",
       "    <tr style=\"text-align: right;\">\n",
       "      <th></th>\n",
       "      <th>tweet</th>\n",
       "      <th>label</th>\n",
       "    </tr>\n",
       "  </thead>\n",
       "  <tbody>\n",
       "    <tr>\n",
       "      <th>0</th>\n",
       "      <td>Eu amo o meu cachorro</td>\n",
       "      <td>0</td>\n",
       "    </tr>\n",
       "    <tr>\n",
       "      <th>1</th>\n",
       "      <td>Eu odeio acordar cedo</td>\n",
       "      <td>1</td>\n",
       "    </tr>\n",
       "    <tr>\n",
       "      <th>2</th>\n",
       "      <td>A comida deste restaurante é incrível</td>\n",
       "      <td>0</td>\n",
       "    </tr>\n",
       "    <tr>\n",
       "      <th>3</th>\n",
       "      <td>Estou cansado de estudar</td>\n",
       "      <td>1</td>\n",
       "    </tr>\n",
       "    <tr>\n",
       "      <th>4</th>\n",
       "      <td>Que dia lindo para passear no parque</td>\n",
       "      <td>0</td>\n",
       "    </tr>\n",
       "  </tbody>\n",
       "</table>\n",
       "</div>"
      ],
      "text/plain": [
       "                                   tweet  label\n",
       "0                  Eu amo o meu cachorro      0\n",
       "1                  Eu odeio acordar cedo      1\n",
       "2  A comida deste restaurante é incrível      0\n",
       "3               Estou cansado de estudar      1\n",
       "4   Que dia lindo para passear no parque      0"
      ]
     },
     "execution_count": 2,
     "metadata": {},
     "output_type": "execute_result"
    }
   ],
   "source": [
    "df.head()"
   ]
  },
  {
   "cell_type": "code",
   "execution_count": 3,
   "id": "e63aac9f",
   "metadata": {
    "ExecuteTime": {
     "end_time": "2024-04-13T12:37:25.251601Z",
     "start_time": "2024-04-13T12:37:24.240796Z"
    },
    "scrolled": false
   },
   "outputs": [
    {
     "data": {
      "text/html": [
       "<div>\n",
       "<style scoped>\n",
       "    .dataframe tbody tr th:only-of-type {\n",
       "        vertical-align: middle;\n",
       "    }\n",
       "\n",
       "    .dataframe tbody tr th {\n",
       "        vertical-align: top;\n",
       "    }\n",
       "\n",
       "    .dataframe thead th {\n",
       "        text-align: right;\n",
       "    }\n",
       "</style>\n",
       "<table border=\"1\" class=\"dataframe\">\n",
       "  <thead>\n",
       "    <tr style=\"text-align: right;\">\n",
       "      <th></th>\n",
       "      <th>tweet</th>\n",
       "      <th>label</th>\n",
       "      <th>bias</th>\n",
       "      <th>pos_freq</th>\n",
       "      <th>neg_freq</th>\n",
       "    </tr>\n",
       "  </thead>\n",
       "  <tbody>\n",
       "    <tr>\n",
       "      <th>0</th>\n",
       "      <td>Eu amo o meu cachorro</td>\n",
       "      <td>0</td>\n",
       "      <td>1</td>\n",
       "      <td>37</td>\n",
       "      <td>33</td>\n",
       "    </tr>\n",
       "    <tr>\n",
       "      <th>1</th>\n",
       "      <td>Eu odeio acordar cedo</td>\n",
       "      <td>1</td>\n",
       "      <td>1</td>\n",
       "      <td>0</td>\n",
       "      <td>3</td>\n",
       "    </tr>\n",
       "    <tr>\n",
       "      <th>2</th>\n",
       "      <td>A comida deste restaurante é incrível</td>\n",
       "      <td>0</td>\n",
       "      <td>1</td>\n",
       "      <td>51</td>\n",
       "      <td>16</td>\n",
       "    </tr>\n",
       "    <tr>\n",
       "      <th>3</th>\n",
       "      <td>Estou cansado de estudar</td>\n",
       "      <td>1</td>\n",
       "      <td>1</td>\n",
       "      <td>30</td>\n",
       "      <td>31</td>\n",
       "    </tr>\n",
       "    <tr>\n",
       "      <th>4</th>\n",
       "      <td>Que dia lindo para passear no parque</td>\n",
       "      <td>0</td>\n",
       "      <td>1</td>\n",
       "      <td>31</td>\n",
       "      <td>9</td>\n",
       "    </tr>\n",
       "    <tr>\n",
       "      <th>5</th>\n",
       "      <td>O filme que vi ontem foi excelente</td>\n",
       "      <td>0</td>\n",
       "      <td>1</td>\n",
       "      <td>53</td>\n",
       "      <td>28</td>\n",
       "    </tr>\n",
       "    <tr>\n",
       "      <th>6</th>\n",
       "      <td>Não vejo a hora de encontrar meus amigos</td>\n",
       "      <td>0</td>\n",
       "      <td>1</td>\n",
       "      <td>82</td>\n",
       "      <td>39</td>\n",
       "    </tr>\n",
       "    <tr>\n",
       "      <th>7</th>\n",
       "      <td>Estou muito feliz com os resultados</td>\n",
       "      <td>0</td>\n",
       "      <td>1</td>\n",
       "      <td>33</td>\n",
       "      <td>38</td>\n",
       "    </tr>\n",
       "    <tr>\n",
       "      <th>8</th>\n",
       "      <td>Que tristeza ver essa notícia</td>\n",
       "      <td>1</td>\n",
       "      <td>1</td>\n",
       "      <td>24</td>\n",
       "      <td>16</td>\n",
       "    </tr>\n",
       "    <tr>\n",
       "      <th>9</th>\n",
       "      <td>Estou decepcionado com o serviço dessa empresa</td>\n",
       "      <td>1</td>\n",
       "      <td>1</td>\n",
       "      <td>40</td>\n",
       "      <td>75</td>\n",
       "    </tr>\n",
       "    <tr>\n",
       "      <th>10</th>\n",
       "      <td>A chuva estragou meu dia</td>\n",
       "      <td>1</td>\n",
       "      <td>1</td>\n",
       "      <td>43</td>\n",
       "      <td>22</td>\n",
       "    </tr>\n",
       "    <tr>\n",
       "      <th>11</th>\n",
       "      <td>Fiquei surpreso com o presente que recebi</td>\n",
       "      <td>0</td>\n",
       "      <td>1</td>\n",
       "      <td>55</td>\n",
       "      <td>60</td>\n",
       "    </tr>\n",
       "    <tr>\n",
       "      <th>12</th>\n",
       "      <td>Esse livro é incrível, não consigo parar de ler</td>\n",
       "      <td>0</td>\n",
       "      <td>1</td>\n",
       "      <td>64</td>\n",
       "      <td>39</td>\n",
       "    </tr>\n",
       "    <tr>\n",
       "      <th>13</th>\n",
       "      <td>Estou preocupado com o futuro do país</td>\n",
       "      <td>1</td>\n",
       "      <td>1</td>\n",
       "      <td>58</td>\n",
       "      <td>95</td>\n",
       "    </tr>\n",
       "    <tr>\n",
       "      <th>14</th>\n",
       "      <td>Adorei o novo restaurante que experimentei</td>\n",
       "      <td>0</td>\n",
       "      <td>1</td>\n",
       "      <td>48</td>\n",
       "      <td>28</td>\n",
       "    </tr>\n",
       "    <tr>\n",
       "      <th>15</th>\n",
       "      <td>O trânsito está terrível hoje</td>\n",
       "      <td>1</td>\n",
       "      <td>1</td>\n",
       "      <td>25</td>\n",
       "      <td>36</td>\n",
       "    </tr>\n",
       "    <tr>\n",
       "      <th>16</th>\n",
       "      <td>Essa música me faz sentir feliz</td>\n",
       "      <td>0</td>\n",
       "      <td>1</td>\n",
       "      <td>24</td>\n",
       "      <td>12</td>\n",
       "    </tr>\n",
       "    <tr>\n",
       "      <th>17</th>\n",
       "      <td>Perdi o ônibus e vou me atrasar para o trabalho</td>\n",
       "      <td>1</td>\n",
       "      <td>1</td>\n",
       "      <td>68</td>\n",
       "      <td>64</td>\n",
       "    </tr>\n",
       "    <tr>\n",
       "      <th>18</th>\n",
       "      <td>Estou ansioso para o feriado chegar</td>\n",
       "      <td>0</td>\n",
       "      <td>1</td>\n",
       "      <td>43</td>\n",
       "      <td>32</td>\n",
       "    </tr>\n",
       "    <tr>\n",
       "      <th>19</th>\n",
       "      <td>Que vergonha, esqueci meu aniversário de casam...</td>\n",
       "      <td>1</td>\n",
       "      <td>1</td>\n",
       "      <td>78</td>\n",
       "      <td>36</td>\n",
       "    </tr>\n",
       "  </tbody>\n",
       "</table>\n",
       "</div>"
      ],
      "text/plain": [
       "                                                tweet  label  bias  pos_freq  \\\n",
       "0                               Eu amo o meu cachorro      0     1        37   \n",
       "1                               Eu odeio acordar cedo      1     1         0   \n",
       "2               A comida deste restaurante é incrível      0     1        51   \n",
       "3                            Estou cansado de estudar      1     1        30   \n",
       "4                Que dia lindo para passear no parque      0     1        31   \n",
       "5                  O filme que vi ontem foi excelente      0     1        53   \n",
       "6            Não vejo a hora de encontrar meus amigos      0     1        82   \n",
       "7                 Estou muito feliz com os resultados      0     1        33   \n",
       "8                       Que tristeza ver essa notícia      1     1        24   \n",
       "9      Estou decepcionado com o serviço dessa empresa      1     1        40   \n",
       "10                           A chuva estragou meu dia      1     1        43   \n",
       "11          Fiquei surpreso com o presente que recebi      0     1        55   \n",
       "12    Esse livro é incrível, não consigo parar de ler      0     1        64   \n",
       "13              Estou preocupado com o futuro do país      1     1        58   \n",
       "14         Adorei o novo restaurante que experimentei      0     1        48   \n",
       "15                      O trânsito está terrível hoje      1     1        25   \n",
       "16                    Essa música me faz sentir feliz      0     1        24   \n",
       "17    Perdi o ônibus e vou me atrasar para o trabalho      1     1        68   \n",
       "18                Estou ansioso para o feriado chegar      0     1        43   \n",
       "19  Que vergonha, esqueci meu aniversário de casam...      1     1        78   \n",
       "\n",
       "    neg_freq  \n",
       "0         33  \n",
       "1          3  \n",
       "2         16  \n",
       "3         31  \n",
       "4          9  \n",
       "5         28  \n",
       "6         39  \n",
       "7         38  \n",
       "8         16  \n",
       "9         75  \n",
       "10        22  \n",
       "11        60  \n",
       "12        39  \n",
       "13        95  \n",
       "14        28  \n",
       "15        36  \n",
       "16        12  \n",
       "17        64  \n",
       "18        32  \n",
       "19        36  "
      ]
     },
     "execution_count": 3,
     "metadata": {},
     "output_type": "execute_result"
    }
   ],
   "source": [
    "import pandas as pd\n",
    "import nltk\n",
    "from nltk.tokenize import word_tokenize\n",
    "from nltk.probability import FreqDist\n",
    "\n",
    "# Exemplo de dataframe de tweets\n",
    "# data = {'tweet': ['Este é um tweet não tóxico', \n",
    "#                   'Este é um tweet tóxico com palavras negativas',\n",
    "#                   'Outro tweet não tóxico com palavras positivas'],\n",
    "#         'label': [0, 1, 0]}\n",
    "\n",
    "# df = pd.DataFrame(data)\n",
    "positive_words = df[df[\"label\"] == 0][\"tweet\"].to_list() # Lista de palavras positivas\n",
    "positive_words = word_tokenize(' '.join(positive_words))\n",
    "\n",
    "negative_words = df[df[\"label\"] == 1][\"tweet\"].to_list()# Lista de palavras negativas\n",
    "negative_words = word_tokenize(' '.join(negative_words))\n",
    "\n",
    "# Função para mapear a frequência das palavras do subconjunto de palavras positivas (label = 0)\n",
    "def positive_words_frequency(tweet):\n",
    "    tokens = word_tokenize(tweet.lower())  # Tokenização e conversão para minúsculas\n",
    "    freq = FreqDist(tokens)\n",
    "    positive_freq = sum([freq[word] for word in positive_words])\n",
    "    return positive_freq\n",
    "\n",
    "# Função para mapear a frequência das palavras do subconjunto de palavras negativas (label = 1)\n",
    "def negative_words_frequency(tweet):\n",
    "    tokens = word_tokenize(tweet.lower())  # Tokenização e conversão para minúsculas\n",
    "    freq = FreqDist(tokens)\n",
    "    negative_freq = sum([freq[word] for word in negative_words])\n",
    "    return negative_freq\n",
    "\n",
    "# Aplicar as funções aos tweets e adicionar os resultados ao dataframe\n",
    "df['bias'] = 1  # Coluna de bias com valor 1\n",
    "df['pos_freq'] = df['tweet'].apply(positive_words_frequency)\n",
    "df['neg_freq'] = df['tweet'].apply(negative_words_frequency)\n",
    "df.head(20)"
   ]
  },
  {
   "cell_type": "markdown",
   "id": "2352020b",
   "metadata": {},
   "source": [
    "## Preprocessing"
   ]
  },
  {
   "cell_type": "markdown",
   "id": "9b84643a",
   "metadata": {},
   "source": [
    "O pré-processamento geralmente envolve as etapas de limpeza e preparação dos dados. O texto é normalmente convertido em minúsculas, removidos caracteres especiais, removidos números e pontuações, e realizada a tokenização do texto para obter as palavras individuais.\n",
    "\n",
    "Exemplo em python:"
   ]
  },
  {
   "cell_type": "code",
   "execution_count": 4,
   "id": "eb873564",
   "metadata": {
    "ExecuteTime": {
     "end_time": "2024-04-13T12:37:26.173403Z",
     "start_time": "2024-04-13T12:37:25.253769Z"
    }
   },
   "outputs": [
    {
     "name": "stdout",
     "output_type": "stream",
     "text": [
      "['exemplo', 'texto', 'limpo', 'tokenizado']\n"
     ]
    },
    {
     "name": "stderr",
     "output_type": "stream",
     "text": [
      "[nltk_data] Downloading package stopwords to /home/joaoag/nltk_data...\n",
      "[nltk_data]   Package stopwords is already up-to-date!\n"
     ]
    }
   ],
   "source": [
    "import nltk\n",
    "from nltk.corpus import stopwords\n",
    "import string\n",
    "\n",
    "nltk.download('stopwords')\n",
    "\n",
    "def text_cleaning(text):\n",
    "    # Extrai as stopwords em português\n",
    "    stopwords_list = stopwords.words('portuguese')\n",
    "    \n",
    "    # Remove caracteres especiais\n",
    "    text = text.translate(str.maketrans('', '', string.punctuation))\n",
    "    \n",
    "    # Remove números e minimiza\n",
    "    text = ''.join(word for word in text if not word.isdigit()).lower()\n",
    "    \n",
    "    # Converte para minúsculo e tokeniza as palavras\n",
    "    tokens = nltk.word_tokenize(text.lower())\n",
    "    \n",
    "    # Remove as stopwords\n",
    "    tokens = [word for word in tokens if word not in stopwords_list]\n",
    "    \n",
    "    return tokens\n",
    "\n",
    "# Exemplo de uso\n",
    "text = \"Este é um exemplo de texto que será limpo e tokenizado!\"\n",
    "tokens = text_cleaning(text)\n",
    "print(tokens)"
   ]
  },
  {
   "cell_type": "code",
   "execution_count": 5,
   "id": "f6d819d9",
   "metadata": {
    "ExecuteTime": {
     "end_time": "2024-04-13T12:37:26.349789Z",
     "start_time": "2024-04-13T12:37:26.175409Z"
    }
   },
   "outputs": [
    {
     "data": {
      "text/html": [
       "<div>\n",
       "<style scoped>\n",
       "    .dataframe tbody tr th:only-of-type {\n",
       "        vertical-align: middle;\n",
       "    }\n",
       "\n",
       "    .dataframe tbody tr th {\n",
       "        vertical-align: top;\n",
       "    }\n",
       "\n",
       "    .dataframe thead th {\n",
       "        text-align: right;\n",
       "    }\n",
       "</style>\n",
       "<table border=\"1\" class=\"dataframe\">\n",
       "  <thead>\n",
       "    <tr style=\"text-align: right;\">\n",
       "      <th></th>\n",
       "      <th>tweet</th>\n",
       "      <th>label</th>\n",
       "      <th>bias</th>\n",
       "      <th>pos_freq</th>\n",
       "      <th>neg_freq</th>\n",
       "      <th>ttweet</th>\n",
       "    </tr>\n",
       "  </thead>\n",
       "  <tbody>\n",
       "    <tr>\n",
       "      <th>0</th>\n",
       "      <td>Eu amo o meu cachorro</td>\n",
       "      <td>0</td>\n",
       "      <td>1</td>\n",
       "      <td>2</td>\n",
       "      <td>1</td>\n",
       "      <td>amo cachorro</td>\n",
       "    </tr>\n",
       "    <tr>\n",
       "      <th>1</th>\n",
       "      <td>Eu odeio acordar cedo</td>\n",
       "      <td>1</td>\n",
       "      <td>1</td>\n",
       "      <td>0</td>\n",
       "      <td>3</td>\n",
       "      <td>odeio acordar cedo</td>\n",
       "    </tr>\n",
       "    <tr>\n",
       "      <th>2</th>\n",
       "      <td>A comida deste restaurante é incrível</td>\n",
       "      <td>0</td>\n",
       "      <td>1</td>\n",
       "      <td>15</td>\n",
       "      <td>1</td>\n",
       "      <td>comida deste restaurante incrível</td>\n",
       "    </tr>\n",
       "    <tr>\n",
       "      <th>3</th>\n",
       "      <td>Estou cansado de estudar</td>\n",
       "      <td>1</td>\n",
       "      <td>1</td>\n",
       "      <td>0</td>\n",
       "      <td>8</td>\n",
       "      <td>cansado estudar</td>\n",
       "    </tr>\n",
       "    <tr>\n",
       "      <th>4</th>\n",
       "      <td>Que dia lindo para passear no parque</td>\n",
       "      <td>0</td>\n",
       "      <td>1</td>\n",
       "      <td>4</td>\n",
       "      <td>1</td>\n",
       "      <td>dia lindo passear parque</td>\n",
       "    </tr>\n",
       "    <tr>\n",
       "      <th>5</th>\n",
       "      <td>O filme que vi ontem foi excelente</td>\n",
       "      <td>0</td>\n",
       "      <td>1</td>\n",
       "      <td>13</td>\n",
       "      <td>1</td>\n",
       "      <td>filme vi ontem excelente</td>\n",
       "    </tr>\n",
       "    <tr>\n",
       "      <th>6</th>\n",
       "      <td>Não vejo a hora de encontrar meus amigos</td>\n",
       "      <td>0</td>\n",
       "      <td>1</td>\n",
       "      <td>18</td>\n",
       "      <td>2</td>\n",
       "      <td>vejo hora encontrar amigos</td>\n",
       "    </tr>\n",
       "    <tr>\n",
       "      <th>7</th>\n",
       "      <td>Estou muito feliz com os resultados</td>\n",
       "      <td>0</td>\n",
       "      <td>1</td>\n",
       "      <td>13</td>\n",
       "      <td>0</td>\n",
       "      <td>feliz resultados</td>\n",
       "    </tr>\n",
       "    <tr>\n",
       "      <th>8</th>\n",
       "      <td>Que tristeza ver essa notícia</td>\n",
       "      <td>1</td>\n",
       "      <td>1</td>\n",
       "      <td>11</td>\n",
       "      <td>4</td>\n",
       "      <td>tristeza ver notícia</td>\n",
       "    </tr>\n",
       "    <tr>\n",
       "      <th>9</th>\n",
       "      <td>Estou decepcionado com o serviço dessa empresa</td>\n",
       "      <td>1</td>\n",
       "      <td>1</td>\n",
       "      <td>0</td>\n",
       "      <td>13</td>\n",
       "      <td>decepcionado serviço dessa empresa</td>\n",
       "    </tr>\n",
       "    <tr>\n",
       "      <th>10</th>\n",
       "      <td>A chuva estragou meu dia</td>\n",
       "      <td>1</td>\n",
       "      <td>1</td>\n",
       "      <td>1</td>\n",
       "      <td>3</td>\n",
       "      <td>chuva estragou dia</td>\n",
       "    </tr>\n",
       "    <tr>\n",
       "      <th>11</th>\n",
       "      <td>Fiquei surpreso com o presente que recebi</td>\n",
       "      <td>0</td>\n",
       "      <td>1</td>\n",
       "      <td>6</td>\n",
       "      <td>0</td>\n",
       "      <td>fiquei surpreso presente recebi</td>\n",
       "    </tr>\n",
       "    <tr>\n",
       "      <th>12</th>\n",
       "      <td>Esse livro é incrível, não consigo parar de ler</td>\n",
       "      <td>0</td>\n",
       "      <td>1</td>\n",
       "      <td>11</td>\n",
       "      <td>8</td>\n",
       "      <td>livro incrível consigo parar ler</td>\n",
       "    </tr>\n",
       "    <tr>\n",
       "      <th>13</th>\n",
       "      <td>Estou preocupado com o futuro do país</td>\n",
       "      <td>1</td>\n",
       "      <td>1</td>\n",
       "      <td>3</td>\n",
       "      <td>13</td>\n",
       "      <td>preocupado futuro país</td>\n",
       "    </tr>\n",
       "    <tr>\n",
       "      <th>14</th>\n",
       "      <td>Adorei o novo restaurante que experimentei</td>\n",
       "      <td>0</td>\n",
       "      <td>1</td>\n",
       "      <td>23</td>\n",
       "      <td>1</td>\n",
       "      <td>adorei novo restaurante experimentei</td>\n",
       "    </tr>\n",
       "    <tr>\n",
       "      <th>15</th>\n",
       "      <td>O trânsito está terrível hoje</td>\n",
       "      <td>1</td>\n",
       "      <td>1</td>\n",
       "      <td>1</td>\n",
       "      <td>6</td>\n",
       "      <td>trânsito terrível hoje</td>\n",
       "    </tr>\n",
       "    <tr>\n",
       "      <th>16</th>\n",
       "      <td>Essa música me faz sentir feliz</td>\n",
       "      <td>0</td>\n",
       "      <td>1</td>\n",
       "      <td>18</td>\n",
       "      <td>0</td>\n",
       "      <td>música faz sentir feliz</td>\n",
       "    </tr>\n",
       "    <tr>\n",
       "      <th>17</th>\n",
       "      <td>Perdi o ônibus e vou me atrasar para o trabalho</td>\n",
       "      <td>1</td>\n",
       "      <td>1</td>\n",
       "      <td>7</td>\n",
       "      <td>8</td>\n",
       "      <td>perdi ônibus vou atrasar trabalho</td>\n",
       "    </tr>\n",
       "    <tr>\n",
       "      <th>18</th>\n",
       "      <td>Estou ansioso para o feriado chegar</td>\n",
       "      <td>0</td>\n",
       "      <td>1</td>\n",
       "      <td>7</td>\n",
       "      <td>0</td>\n",
       "      <td>ansioso feriado chegar</td>\n",
       "    </tr>\n",
       "    <tr>\n",
       "      <th>19</th>\n",
       "      <td>Que vergonha, esqueci meu aniversário de casam...</td>\n",
       "      <td>1</td>\n",
       "      <td>1</td>\n",
       "      <td>9</td>\n",
       "      <td>4</td>\n",
       "      <td>vergonha esqueci aniversário casamento</td>\n",
       "    </tr>\n",
       "  </tbody>\n",
       "</table>\n",
       "</div>"
      ],
      "text/plain": [
       "                                                tweet  label  bias  pos_freq  \\\n",
       "0                               Eu amo o meu cachorro      0     1         2   \n",
       "1                               Eu odeio acordar cedo      1     1         0   \n",
       "2               A comida deste restaurante é incrível      0     1        15   \n",
       "3                            Estou cansado de estudar      1     1         0   \n",
       "4                Que dia lindo para passear no parque      0     1         4   \n",
       "5                  O filme que vi ontem foi excelente      0     1        13   \n",
       "6            Não vejo a hora de encontrar meus amigos      0     1        18   \n",
       "7                 Estou muito feliz com os resultados      0     1        13   \n",
       "8                       Que tristeza ver essa notícia      1     1        11   \n",
       "9      Estou decepcionado com o serviço dessa empresa      1     1         0   \n",
       "10                           A chuva estragou meu dia      1     1         1   \n",
       "11          Fiquei surpreso com o presente que recebi      0     1         6   \n",
       "12    Esse livro é incrível, não consigo parar de ler      0     1        11   \n",
       "13              Estou preocupado com o futuro do país      1     1         3   \n",
       "14         Adorei o novo restaurante que experimentei      0     1        23   \n",
       "15                      O trânsito está terrível hoje      1     1         1   \n",
       "16                    Essa música me faz sentir feliz      0     1        18   \n",
       "17    Perdi o ônibus e vou me atrasar para o trabalho      1     1         7   \n",
       "18                Estou ansioso para o feriado chegar      0     1         7   \n",
       "19  Que vergonha, esqueci meu aniversário de casam...      1     1         9   \n",
       "\n",
       "    neg_freq                                  ttweet  \n",
       "0          1                            amo cachorro  \n",
       "1          3                      odeio acordar cedo  \n",
       "2          1       comida deste restaurante incrível  \n",
       "3          8                         cansado estudar  \n",
       "4          1                dia lindo passear parque  \n",
       "5          1                filme vi ontem excelente  \n",
       "6          2              vejo hora encontrar amigos  \n",
       "7          0                        feliz resultados  \n",
       "8          4                    tristeza ver notícia  \n",
       "9         13      decepcionado serviço dessa empresa  \n",
       "10         3                      chuva estragou dia  \n",
       "11         0         fiquei surpreso presente recebi  \n",
       "12         8        livro incrível consigo parar ler  \n",
       "13        13                  preocupado futuro país  \n",
       "14         1    adorei novo restaurante experimentei  \n",
       "15         6                  trânsito terrível hoje  \n",
       "16         0                 música faz sentir feliz  \n",
       "17         8       perdi ônibus vou atrasar trabalho  \n",
       "18         0                  ansioso feriado chegar  \n",
       "19         4  vergonha esqueci aniversário casamento  "
      ]
     },
     "execution_count": 5,
     "metadata": {},
     "output_type": "execute_result"
    }
   ],
   "source": [
    "# preprocessando o texto\n",
    "df[\"ttweet\"] = df[\"tweet\"].apply(text_cleaning)\n",
    "df[\"ttweet\"] = df[\"ttweet\"].apply(lambda x: \" \".join(x)) # retornando a lista como string\n",
    "\n",
    "# novo conjunto de palavras\n",
    "positive_words = df[df[\"label\"] == 0][\"ttweet\"].to_list() # Lista de palavras positivas\n",
    "positive_words = word_tokenize(' '.join(positive_words))\n",
    "\n",
    "negative_words = df[df[\"label\"] == 1][\"ttweet\"].to_list()# Lista de palavras negativas\n",
    "negative_words = word_tokenize(' '.join(negative_words))\n",
    "\n",
    "# Função para mapear a frequência das palavras do subconjunto de palavras positivas (label = 0)\n",
    "def positive_words_frequency(tweet):\n",
    "    tokens = word_tokenize(tweet.lower())  # Tokenização e conversão para minúsculas\n",
    "    freq = FreqDist(tokens)\n",
    "    positive_freq = sum([freq[word] for word in positive_words])\n",
    "    return positive_freq\n",
    "\n",
    "# Função para mapear a frequência das palavras do subconjunto de palavras negativas (label = 1)\n",
    "def negative_words_frequency(tweet):\n",
    "    tokens = word_tokenize(tweet.lower())  # Tokenização e conversão para minúsculas\n",
    "    freq = FreqDist(tokens)\n",
    "    negative_freq = sum([freq[word] for word in negative_words])\n",
    "    return negative_freq\n",
    "\n",
    "# Aplicar as funções aos tweets e adicionar os resultados ao dataframe\n",
    "df['bias'] = 1  # Coluna de bias com valor 1\n",
    "df['pos_freq'] = df['ttweet'].apply(positive_words_frequency)\n",
    "df['neg_freq'] = df['ttweet'].apply(negative_words_frequency)\n",
    "df.head(20)"
   ]
  },
  {
   "cell_type": "markdown",
   "id": "53fbdded",
   "metadata": {},
   "source": [
    "Mas além disso também podemos fazer **Stemming** e **lematização**. Elas são técnicas de pré-processamento de texto com o objetivo de reduzir as palavras em sua forma base ou raiz, simplificando o processo de análise de texto.\n",
    "\n",
    "**Stemming** é um processo mais simples e rápido de normalização de palavras, que envolve a remoção de sufixos com o objetivo de transformar uma palavra em sua raiz, ou seja, em sua forma básica. Um exemplo de algoritmo de stemming é o Porter Stemmer, que é amplamente utilizado em NLP. O ponto positivo do stemming é sua simplicidade e velocidade de processamento, o que pode ser útil em projetos com grandes volumes de dados. No entanto, o stemming pode produzir algumas palavras raiz que não são facilmente reconhecidas, o que pode ser um problema em alguns casos.\n",
    "\n",
    "Já a **lematização** é um processo mais complexo de normalização de palavras, que envolve a análise do contexto da palavra para determinar sua forma básica. A lematização utiliza um dicionário de palavras ou um algoritmo para mapear a palavra para sua forma base. O ponto positivo da lematização é que ela produz palavras que são facilmente reconhecíveis, o que pode ser importante em projetos que exigem maior precisão na análise de texto. No entanto, a lematização é um processo mais lento e computacionalmente mais caro do que o stemming, o que pode ser um problema em projetos com grandes volumes de dados."
   ]
  },
  {
   "cell_type": "code",
   "execution_count": 6,
   "id": "e6116403",
   "metadata": {
    "ExecuteTime": {
     "end_time": "2024-04-13T12:37:26.360195Z",
     "start_time": "2024-04-13T12:37:26.352257Z"
    }
   },
   "outputs": [
    {
     "name": "stdout",
     "output_type": "stream",
     "text": [
      "['exempl', 'text', 'limp', 'tokeniz', 'stemmed']\n"
     ]
    }
   ],
   "source": [
    "import nltk\n",
    "from nltk.corpus import stopwords\n",
    "from nltk.stem import SnowballStemmer\n",
    "import string\n",
    "\n",
    "def text_cleaning_s(text):\n",
    "    # Extrai as stopwords em português\n",
    "    stopwords_list = stopwords.words('portuguese')\n",
    "    \n",
    "    # Remove caracteres especiais\n",
    "    text = text.translate(str.maketrans('', '', string.punctuation))\n",
    "    \n",
    "    # Remove números e minimiza\n",
    "    text = ''.join(word for word in text if not word.isdigit()).lower()\n",
    "    \n",
    "    # Converte para minúsculo e tokeniza as palavras\n",
    "    tokens = nltk.word_tokenize(text.lower())\n",
    "    \n",
    "    # Remove as stopwords\n",
    "    tokens = [word for word in tokens if word not in stopwords_list]\n",
    "    \n",
    "    # Realiza o stemming dos tokens\n",
    "    stemmer = SnowballStemmer('portuguese')\n",
    "    stemmed_tokens = [stemmer.stem(token) for token in tokens]\n",
    "    \n",
    "    return stemmed_tokens\n",
    "\n",
    "# Exemplo de uso\n",
    "text = \"Este é um exemplo de texto que será limpo, tokenizado e stemmed!\"\n",
    "tokens = text_cleaning_s(text)\n",
    "print(tokens)"
   ]
  },
  {
   "cell_type": "code",
   "execution_count": 7,
   "id": "8c9ea281",
   "metadata": {
    "ExecuteTime": {
     "end_time": "2024-04-13T12:37:28.250660Z",
     "start_time": "2024-04-13T12:37:26.361873Z"
    }
   },
   "outputs": [
    {
     "name": "stderr",
     "output_type": "stream",
     "text": [
      "[nltk_data] Downloading package wordnet to /home/joaoag/nltk_data...\n",
      "[nltk_data]   Package wordnet is already up-to-date!\n",
      "[nltk_data] Downloading package omw-1.4 to /home/joaoag/nltk_data...\n",
      "[nltk_data]   Package omw-1.4 is already up-to-date!\n"
     ]
    },
    {
     "name": "stdout",
     "output_type": "stream",
     "text": [
      "['este', 'é', 'um', 'exemplo', 'de', 'texto', 'que', 'será', 'limpo', 'tokenizado', 'e', 'stemmed']\n"
     ]
    }
   ],
   "source": [
    "import nltk\n",
    "from nltk.corpus import stopwords\n",
    "from nltk.stem import WordNetLemmatizer\n",
    "import string\n",
    "\n",
    "nltk.download('wordnet')\n",
    "nltk.download('omw-1.4')\n",
    "\n",
    "def text_cleaning_l(text):\n",
    "    # Extrai as stopwords em inglês\n",
    "    stopwords_list = stopwords.words('english')\n",
    "    \n",
    "    # Remove caracteres especiais\n",
    "    text = text.translate(str.maketrans('', '', string.punctuation))\n",
    "    \n",
    "    # Remove números e minimiza\n",
    "    text = ''.join(word for word in text if not word.isdigit()).lower()\n",
    "    \n",
    "    # Converte para minúsculo e tokeniza as palavras\n",
    "    tokens = nltk.word_tokenize(text.lower())\n",
    "    \n",
    "    # Remove as stopwords\n",
    "    tokens = [word for word in tokens if word not in stopwords_list]\n",
    "    \n",
    "    # Realiza a lematização dos tokens\n",
    "    lemmatizer = WordNetLemmatizer()\n",
    "    lemmatized_tokens = [lemmatizer.lemmatize(token) for token in tokens]\n",
    "    \n",
    "    return lemmatized_tokens\n",
    "\n",
    "# Exemplo de uso\n",
    "# text = \"This is an example of text that will be cleaned, tokenized, and lemmatized!\"\n",
    "text = \"Este é um exemplo de texto que será limpo, tokenizado e stemmed!\"\n",
    "tokens = text_cleaning_l(text)\n",
    "print(tokens)"
   ]
  },
  {
   "cell_type": "markdown",
   "id": "3c464aaf",
   "metadata": {},
   "source": [
    "## Logistic Regression Overview"
   ]
  },
  {
   "cell_type": "markdown",
   "id": "7fbde6b3",
   "metadata": {},
   "source": [
    "A **regressão logística** é frequentemente utilizada em análise de sentimento porque é um algoritmo de classificação simples, rápido e eficiente para problemas de classificação binária, ou seja, quando há apenas duas classes, como positivo e negativo. Além disso, a regressão logística é facilmente interpretável, o que significa que é possível entender como o modelo chegou a uma determinada previsão.\n",
    "\n",
    "Outra vantagem da regressão logística é que ela lida bem com problemas de dados desbalanceados, que é comum em análise de sentimento, onde muitas vezes há mais exemplos de uma classe do que outra. A regressão logística usa uma função sigmoide para calcular as probabilidades de cada classe, e essa função é bem adequada para casos de classes desbalanceadas.\n",
    "\n",
    "Outro motivo para a popularidade da regressão logística em análise de sentimento é que ela é relativamente fácil de implementar e ajustar. É possível utilizar diferentes técnicas de regularização, como a regularização L1 ou L2, para evitar overfitting e melhorar o desempenho do modelo.\n",
    "\n",
    "No entanto, é importante ressaltar que a regressão logística pode não ser adequada para problemas de classificação multiclasse, ou seja, quando há mais de duas classes, como em análise de tópicos. Nesses casos, outros algoritmos, como Árvores de Decisão, SVMs ou Redes Neurais, podem ser mais apropriados."
   ]
  },
  {
   "cell_type": "markdown",
   "id": "c24aa2a8",
   "metadata": {},
   "source": [
    "<img src=\"./imgs/logistic_regression.png\">"
   ]
  },
  {
   "cell_type": "markdown",
   "id": "6143e66d",
   "metadata": {},
   "source": [
    "O modelo é treinado usando um conjunto de dados rotulados, onde cada texto é rotulado como tendo um sentimento positivo ou negativo. O objetivo do treinamento é ajustar os parâmetros do modelo para que ele possa fazer previsões precisas em novos dados.\n",
    "\n",
    "Durante o treinamento, o modelo utiliza a função logística para calcular a probabilidade de um texto ter um sentimento positivo ou negativo com base em seus vetores de características. A função logística produz um valor entre 0 e 1, que representa a probabilidade de um texto ter um sentimento positivo. Se a probabilidade for maior que 0,5, o modelo classifica o texto como tendo um sentimento positivo. Caso contrário, o texto é classificado como tendo um sentimento negativo.\n",
    "\n",
    "Após o treinamento, o modelo pode ser usado para fazer previsões em novos dados. Para cada novo texto, o modelo converte-o em um vetor de características e utiliza a função logística para calcular a probabilidade de ter um sentimento positivo ou negativo. Em seguida, classifica o texto como tendo um sentimento positivo ou negativo com base no valor calculado."
   ]
  },
  {
   "cell_type": "markdown",
   "id": "13f5e201",
   "metadata": {},
   "source": [
    "Note que conforme $\\theta^T x^{(i)}$ se aproxima cada vez mais de $-\\infty$, o denominador da função sigmoidal fica cada vez maior e, como resultado, a sigmoidal se aproxima de $0$. Por outro lado, conforme $\\theta^T x^{(i)}$ se aproxima cada vez mais de $\\infty$, o denominador da função sigmoidal se aproxima de 1 e, como resultado, a sigmoidal também se aproxima de $1$.\n",
    "\n",
    "Dado um tweet, podemos transformá-lo em um vetor e passá-lo pela sua função sigmoidal para obter uma previsão da seguinte forma:"
   ]
  },
  {
   "cell_type": "markdown",
   "id": "f0467663",
   "metadata": {},
   "source": [
    "<img src=\"./imgs/logistic_regression2.png\">"
   ]
  },
  {
   "cell_type": "code",
   "execution_count": 8,
   "id": "43c619dd",
   "metadata": {
    "ExecuteTime": {
     "end_time": "2024-04-13T12:37:28.259394Z",
     "start_time": "2024-04-13T12:37:28.253032Z"
    }
   },
   "outputs": [],
   "source": [
    "def text_cleaning_l(text):\n",
    "    # Extrai as stopwords\n",
    "    stopwords_list = stopwords.words('portuguese')\n",
    "    \n",
    "    # Remove caracteres especiais\n",
    "    text = text.translate(str.maketrans('', '', string.punctuation))\n",
    "    \n",
    "    # Remove números e minimiza\n",
    "    text = ''.join(word for word in text if not word.isdigit()).lower()\n",
    "    \n",
    "    # Converte para minúsculo e tokeniza as palavras\n",
    "    tokens = nltk.word_tokenize(text.lower())\n",
    "    \n",
    "    # Remove as stopwords\n",
    "    tokens = [word for word in tokens if word not in stopwords_list]\n",
    "    \n",
    "    # Realiza a lematização dos tokens\n",
    "    lemmatizer = WordNetLemmatizer()\n",
    "    lemmatized_tokens = [lemmatizer.lemmatize(token) for token in tokens]\n",
    "    \n",
    "    return lemmatized_tokens"
   ]
  },
  {
   "cell_type": "code",
   "execution_count": 9,
   "id": "d113a1a5",
   "metadata": {
    "ExecuteTime": {
     "end_time": "2024-04-13T12:37:28.266634Z",
     "start_time": "2024-04-13T12:37:28.261862Z"
    }
   },
   "outputs": [],
   "source": [
    "# import pandas as pd\n",
    "# import numpy as np\n",
    "\n",
    "# # Criação das frases aleatórias\n",
    "# np.random.seed(42)\n",
    "# frases = np.random.choice(['Esta é uma frase positiva.',\n",
    "#                            'Esta é uma frase negativa.'], size=100000)\n",
    "\n",
    "# # Criação das labels aleatórias\n",
    "# labels = np.random.choice(['positivo', 'negativo'], size=100000)\n",
    "\n",
    "# # Criação do DataFrame\n",
    "# df = pd.DataFrame({'frase': frases, 'label': labels})\n",
    "\n",
    "# # Visualização das primeiras linhas\n",
    "# df.head()"
   ]
  },
  {
   "cell_type": "code",
   "execution_count": 10,
   "id": "bfa71ee0",
   "metadata": {
    "ExecuteTime": {
     "end_time": "2024-04-13T12:37:28.278570Z",
     "start_time": "2024-04-13T12:37:28.272630Z"
    }
   },
   "outputs": [
    {
     "data": {
      "text/plain": [
       "(172, 6)"
      ]
     },
     "execution_count": 10,
     "metadata": {},
     "output_type": "execute_result"
    }
   ],
   "source": [
    "df.shape"
   ]
  },
  {
   "cell_type": "code",
   "execution_count": 11,
   "id": "53de06cb",
   "metadata": {
    "ExecuteTime": {
     "end_time": "2024-04-13T12:37:29.279616Z",
     "start_time": "2024-04-13T12:37:28.281521Z"
    }
   },
   "outputs": [
    {
     "data": {
      "text/plain": [
       "<AxesSubplot:>"
      ]
     },
     "execution_count": 11,
     "metadata": {},
     "output_type": "execute_result"
    },
    {
     "data": {
      "image/png": "[encoded data removed]",
      "text/plain": [
       "<Figure size 432x288 with 1 Axes>"
      ]
     },
     "metadata": {
      "needs_background": "light"
     },
     "output_type": "display_data"
    }
   ],
   "source": [
    "df.groupby('label').agg({'tweet': 'count'}).reset_index(drop=True).plot(kind='bar')"
   ]
  },
  {
   "cell_type": "code",
   "execution_count": 12,
   "id": "82b1d12b",
   "metadata": {
    "ExecuteTime": {
     "end_time": "2024-04-13T12:37:29.308718Z",
     "start_time": "2024-04-13T12:37:29.281698Z"
    }
   },
   "outputs": [
    {
     "name": "stdout",
     "output_type": "stream",
     "text": [
      "Acurácia da classificação: 0.9807692307692307\n",
      "Precisão da classificação (Classe 0): 1.0\n",
      "Precisão da classificação (Classe 1): 0.9655172413793104\n"
     ]
    },
    {
     "name": "stderr",
     "output_type": "stream",
     "text": [
      "/home/joaoag/.local/lib/python3.10/site-packages/sklearn/utils/validation.py:623: FutureWarning: is_sparse is deprecated and will be removed in a future version. Check `isinstance(dtype, pd.SparseDtype)` instead.\n",
      "  if not hasattr(array, \"sparse\") and array.dtypes.apply(is_sparse).any():\n",
      "/home/joaoag/.local/lib/python3.10/site-packages/sklearn/utils/validation.py:623: FutureWarning: is_sparse is deprecated and will be removed in a future version. Check `isinstance(dtype, pd.SparseDtype)` instead.\n",
      "  if not hasattr(array, \"sparse\") and array.dtypes.apply(is_sparse).any():\n"
     ]
    }
   ],
   "source": [
    "from sklearn.linear_model import LogisticRegression\n",
    "from sklearn.model_selection import train_test_split\n",
    "\n",
    "# divisão em treino e teste\n",
    "X = df[['pos_freq', 'neg_freq']]\n",
    "y = df['label']\n",
    "X_train, X_test, y_train, y_test = train_test_split(X, y, test_size=0.3, random_state=42)\n",
    "\n",
    "# criação do modelo de regressão logística e treinamento\n",
    "lr = LogisticRegression()\n",
    "lr.fit(X_train, y_train)\n",
    "\n",
    "# avaliação do modelo nos dados de teste\n",
    "y_pred = lr.predict(X_test)\n",
    "\n",
    "# avaliando o modelo\n",
    "from sklearn.metrics import accuracy_score, precision_score\n",
    "print(\"Acurácia da classificação:\", accuracy_score(y_test, y_pred))\n",
    "print(\"Precisão da classificação (Classe 0):\", precision_score(y_test, y_pred, pos_label=0))\n",
    "print(\"Precisão da classificação (Classe 1):\", precision_score(y_test, y_pred, pos_label=1))"
   ]
  },
  {
   "cell_type": "code",
   "execution_count": 13,
   "id": "5fea5ae3",
   "metadata": {
    "ExecuteTime": {
     "end_time": "2024-04-13T12:37:29.423261Z",
     "start_time": "2024-04-13T12:37:29.310414Z"
    }
   },
   "outputs": [
    {
     "name": "stdout",
     "output_type": "stream",
     "text": [
      "Acurácia da classificação: 0.7692307692307693\n",
      "Precisão da classificação (Classe 0): 0.7142857142857143\n",
      "Precisão da classificação (Classe 1): 0.8333333333333334\n"
     ]
    }
   ],
   "source": [
    "from sklearn.feature_extraction.text import CountVectorizer\n",
    "from sklearn.linear_model import LogisticRegression\n",
    "from sklearn.model_selection import train_test_split\n",
    "\n",
    "# pré-processamento das frases\n",
    "# df['frase_processada'] = df['frase'].apply(text_cleaning_l)\n",
    "df['ttweet'] = df['tweet'].apply(text_cleaning_l)\n",
    "\n",
    "# vetorização das frases\n",
    "vectorizer = CountVectorizer(tokenizer=lambda text: text, lowercase=False)\n",
    "X = vectorizer.fit_transform(df['ttweet'].apply(lambda tokens: ' '.join(tokens)))\n",
    "\n",
    "# divisão em treino e teste\n",
    "X_train, X_test, y_train, y_test = train_test_split(X, df['label'], test_size=0.3, random_state=42)\n",
    "\n",
    "# criação do modelo de regressão logística e treinamento\n",
    "lr = LogisticRegression()\n",
    "lr.fit(X_train, y_train)\n",
    "\n",
    "# avaliação do modelo nos dados de teste\n",
    "y_pred = lr.predict(X_test)\n",
    "\n",
    "# avaliando o modelo\n",
    "from sklearn.metrics import accuracy_score, precision_score\n",
    "print(\"Acurácia da classificação:\", accuracy_score(y_test, y_pred))\n",
    "print(\"Precisão da classificação (Classe 0):\", precision_score(y_test, y_pred, pos_label=0))\n",
    "print(\"Precisão da classificação (Classe 1):\", precision_score(y_test, y_pred, pos_label=1))"
   ]
  },
  {
   "cell_type": "code",
   "execution_count": 14,
   "id": "a9e15ac8",
   "metadata": {
    "ExecuteTime": {
     "end_time": "2024-04-13T12:37:29.457649Z",
     "start_time": "2024-04-13T12:37:29.426277Z"
    }
   },
   "outputs": [
    {
     "name": "stdout",
     "output_type": "stream",
     "text": [
      "Acurácia da classificação: 0.7115384615384616\n",
      "Precisão da classificação (Classe 0): 0.6216216216216216\n",
      "Precisão da classificação (Classe 1): 0.9333333333333333\n"
     ]
    }
   ],
   "source": [
    "# Mesmo exemplo mas com o TF-IDF como vectorizer\n",
    "\n",
    "from sklearn.feature_extraction.text import TfidfVectorizer\n",
    "from sklearn.linear_model import LogisticRegression\n",
    "from sklearn.model_selection import train_test_split\n",
    "\n",
    "# pré-processamento das frases\n",
    "# df['frase_processada'] = df['frase'].apply(text_cleaning_l)\n",
    "\n",
    "# vetorização das frases\n",
    "vectorizer = TfidfVectorizer(tokenizer=lambda text: text, lowercase=False)\n",
    "X = vectorizer.fit_transform(df['ttweet'].apply(lambda tokens: ' '.join(tokens)))\n",
    "\n",
    "# divisão em treino e teste\n",
    "X_train, X_test, y_train, y_test = train_test_split(X, df['label'], test_size=0.3, random_state=42)\n",
    "\n",
    "# criação do modelo de regressão logística e treinamento\n",
    "lr = LogisticRegression()\n",
    "lr.fit(X_train, y_train)\n",
    "\n",
    "# avaliação do modelo nos dados de teste\n",
    "y_pred = lr.predict(X_test)\n",
    "\n",
    "# avaliando o modelo\n",
    "from sklearn.metrics import accuracy_score, precision_score\n",
    "print(\"Acurácia da classificação:\", accuracy_score(y_test, y_pred))\n",
    "print(\"Precisão da classificação (Classe 0):\", precision_score(y_test, y_pred, pos_label=0))\n",
    "print(\"Precisão da classificação (Classe 1):\", precision_score(y_test, y_pred, pos_label=1))"
   ]
  },
  {
   "cell_type": "markdown",
   "id": "5579bf0c",
   "metadata": {},
   "source": [
    "## Logistic Regression Cost Function"
   ]
  },
  {
   "cell_type": "markdown",
   "id": "258badda",
   "metadata": {},
   "source": [
    "A função de custo da regressão logística é usada para avaliar quão bem um modelo de regressão logística está performando em relação aos dados observados. Ela é frequentemente utilizada em problemas de classificação binária, onde o objetivo é prever se uma observação pertence a uma das duas classes possíveis. Aqui está uma explicação de cada etapa da função de custo da regressão logística:\n",
    "\n",
    "1. **Hipótese da Regressão Logística:**\n",
    "   A primeira etapa é a formulação da hipótese do modelo de regressão logística. A hipótese é uma função que mapeia as entradas para uma probabilidade estimada de pertencer a uma das classes. A função logística (também conhecida como função sigmoide) é comumente utilizada como a função de hipótese na regressão logística e é dada pela seguinte equação:\n",
    "\n",
    "   $$ h_{\\theta}(x) = \\frac{1}{1 + e^{-\\theta^Tx}}$$\n",
    "\n",
    "   Onde:\n",
    "   - $ h_{\\theta}(x) $ é a estimativa da probabilidade de \\( x \\) pertencer à classe positiva,\n",
    "   - $ \\theta $ são os parâmetros do modelo,\n",
    "   - $ x $ é o vetor de entrada,\n",
    "   - $ e $ é o número de Euler (aproximadamente 2.71828).\n",
    "\n",
    "\n",
    "2. **Função de Custo Logístico:**\n",
    "   A função de custo é uma medida de quão bem a hipótese do modelo se ajusta aos dados observados. Para a regressão logística, a função de custo (também conhecida como função de perda ou função de erro) é definida usando a técnica de máxima verossimilhança. A função de custo logístico para um único exemplo de treinamento é dada pela seguinte equação:\n",
    "\n",
    "   $$ J(\\theta) = -y \\log(h_{\\theta}(x)) - (1 - y) \\log(1 - h_{\\theta}(x)) $$\n",
    "\n",
    "   Onde:\n",
    "   - $ J(\\theta) $ é a função de custo,\n",
    "   - $ y $ é a classe verdadeira do exemplo (0 ou 1),\n",
    "   - $ h_{\\theta}(x) $ é a estimativa da probabilidade da classe positiva dada pela hipótese.\n",
    "\n",
    "\n",
    "3. **Função de Custo Médio (ou Função de Custo Regularizada):**\n",
    "   Para avaliar o desempenho do modelo em todo o conjunto de dados, a função de custo médio é calculada. Isso é feito tirando a média dos custos individuais de todos os exemplos de treinamento. Além disso, uma penalidade de regularização pode ser adicionada para evitar overfitting. A função de custo médio (ou função de custo regularizada) é dada pela seguinte equação:\n",
    "\n",
    "   $$ J(\\theta) = \\frac{1}{m} \\sum_{i=1}^{m}[-y^{(i)} \\log(h_{\\theta}(x^{(i)})) - (1 - y^{(i)}) \\log(1 - h_{\\theta}(x^{(i)}))] + \\frac{\\lambda}{2m} \\sum_{j=1}^{n} \\theta_j^2 $$\n",
    "\n",
    "   Onde:\n",
    "   - $ m $ é o número total de exemplos de treinamento,\n",
    "   - $ n $ é o número de características,\n",
    "   - $ \\lambda $ é o parâmetro de regularização,\n",
    "   - $ \\theta_j $ é o j-ésimo parâmetro do modelo."
   ]
  },
  {
   "cell_type": "markdown",
   "id": "86b49ed3",
   "metadata": {},
   "source": [
    "# Week 2 - Sentiment Analysis with Naive Bayes"
   ]
  },
  {
   "cell_type": "markdown",
   "id": "7cadd187",
   "metadata": {},
   "source": [
    "## Objetivos de aprendizagem\n",
    "- Error analysis\n",
    "- Naive Bayes inference\n",
    "- Log likelihood\n",
    "- Laplacian smoothing\n",
    "- conditional probabilities\n",
    "- Bayes rule\n",
    "- Sentiment analysis\n",
    "- Vocabulary creation\n",
    "- Supervised learning"
   ]
  },
  {
   "cell_type": "markdown",
   "id": "af4b4e35",
   "metadata": {},
   "source": [
    "## Recaptulando...\n",
    "\n",
    "1. **Probabilidade:**\n",
    "   A probabilidade é uma medida numérica que quantifica a incerteza associada a um evento. Em termos simples, é a chance de que algo aconteça. A probabilidade de um evento é sempre um número entre 0 e 1, onde 0 indica impossibilidade absoluta do evento ocorrer e 1 indica certeza absoluta de que o evento ocorrerá.\n",
    "   \n",
    "<img src=\"./imgs/prob_positive_tweet.png\">\n",
    "<img src=\"./imgs/prob_positive_tweet2.png\">\n",
    "\n",
    "2. **Probabilidade Condicional:**\n",
    "   A probabilidade condicional é a probabilidade de um evento ocorrer dado que outro evento já ocorreu. É denotada por $ P(A|B) $, que lê-se como \"a probabilidade de A dado B\". A fórmula para calcular a probabilidade condicional é:\n",
    "\n",
    "   $$ P(A|B) = \\frac{P(A \\cap B)}{P(B)} $$\n",
    "\n",
    "   Onde:\n",
    "   - $ P(A|B) $ é a probabilidade de A dado B,\n",
    "   - $ P(A \\cap B) $ é a probabilidade da interseção de A e B,\n",
    "   - $ P(B) $ é a probabilidade de B.\n",
    "\n",
    "   Em palavras simples, a probabilidade condicional é a proporção de vezes que o evento A ocorre quando o evento B ocorre.\n",
    "\n",
    "<img src=\"./imgs/conditional_prob_tweet.png\">\n",
    "\n",
    "\n",
    "3. **Regra de Bayes:**\n",
    "   A regra de Bayes é uma ferramenta fundamental na teoria das probabilidades que permite atualizar as probabilidades de uma hipótese à luz de novas evidências. Formalmente, a regra de Bayes é expressa como:\n",
    "\n",
    "   $ P(A|B) = \\frac{P(B|A) \\cdot P(A)}{P(B)} $\n",
    "\n",
    "   Onde:\n",
    "   - $ P(A|B) $ é a probabilidade de A dado B (posterior),\n",
    "   - $ P(B|A) $ é a probabilidade de B dado A (likelihood),\n",
    "   - $ P(A) $ é a probabilidade de A (prior),\n",
    "   - $ P(B) $ é a probabilidade de B.\n",
    "\n",
    "   A regra de Bayes nos permite calcular a probabilidade de uma hipótese (A) ser verdadeira dada uma evidência observada (B), usando a probabilidade da evidência dada a hipótese (likelihood), a probabilidade a priori da hipótese e a probabilidade marginal da evidência.A diferença principal entre a probabilidade condicional e a regra de Bayes é que a probabilidade condicional é uma medida da probabilidade de um evento ocorrer dado que outro evento já ocorreu, enquanto a regra de Bayes é uma ferramenta para atualizar a probabilidade de uma hipótese à luz de novas evidências. A regra de Bayes utiliza a probabilidade condicional como um de seus componentes para calcular a probabilidade posterior.\n",
    "\n",
    "<img src=\"./imgs/bayes_rule_tweet.png\">\n",
    "\n",
    "A probabilidade é a chance de um evento ocorrer, a probabilidade condicional é a probabilidade de um evento ocorrer dado que outro evento já ocorreu, e a regra de Bayes é uma ferramenta para atualizar a probabilidade de uma hipótese à luz de novas evidências."
   ]
  },
  {
   "cell_type": "markdown",
   "id": "94b7b386",
   "metadata": {},
   "source": [
    "## Naive Bayes\n",
    "\n",
    "O algoritmo Naive Bayes é um método de classificação probabilístico baseado no teorema de Bayes, com uma suposição \"ingênua\" de independência condicional entre os recursos.\n",
    "\n",
    "1. **Suposição de Independência Condicional:**\n",
    "   A primeira etapa do algoritmo Naive Bayes é a suposição de independência condicional entre os recursos. Isso significa que assumimos que os recursos são independentes entre si, dado o valor da variável de classe. Apesar de ser uma suposição forte e muitas vezes não ser verdadeira na prática, ela simplifica os cálculos e torna o algoritmo computacionalmente eficiente.\n",
    "\n",
    "2. **Construção do Modelo de Probabilidade:**\n",
    "   O próximo passo é construir o modelo de probabilidade. Isso envolve calcular a probabilidade de cada classe e a probabilidade de cada valor do recurso dado cada classe. Em outras palavras, para cada classe, calculamos a probabilidade a priori da classe ( $ P(C_k) $ ) e a probabilidade de cada recurso ( $ P(X_i | C_k) $ ).\n",
    "\n",
    "3. **Classificação:**\n",
    "   Depois que o modelo de probabilidade é construído, podemos usá-lo para fazer previsões sobre novos exemplos. Dada uma nova instância com valores de recursos $ x_1, x_2, ..., x_n $, queremos calcular a probabilidade de pertencer a cada classe e, em seguida, atribuir a classe com a maior probabilidade como a classe prevista para a instância. Isso é feito usando o teorema de Bayes:\n",
    "\n",
    "   $$ P(C_k | x_1, x_2, ..., x_n) = \\frac{P(C_k) \\cdot \\prod_{i=1}^{n} P(x_i | C_k)}{P(x_1, x_2, ..., x_n)} $$\n",
    "\n",
    "   Onde:\n",
    "   - $ P(C_k | x_1, x_2, ..., x_n) $ é a probabilidade da classe $ C_k $ dado os valores dos recursos,\n",
    "   - $ P(C_k) $ é a probabilidade a priori da classe $ C_k $,\n",
    "   - $ P(x_i | C_k) $ é a probabilidade de cada valor do recurso dado a classe $ C_k $,\n",
    "   - $ P(x_1, x_2, ..., x_n) $ é a probabilidade dos valores dos recursos.\n",
    "\n",
    "4. **Estimação de Parâmetros:**\n",
    "   Durante a etapa de construção do modelo, precisamos estimar os parâmetros do modelo, ou seja, as probabilidades a priori das classes e as probabilidades condicionais dos recursos para cada classe. Isso geralmente é feito usando técnicas como a frequência relativa de ocorrência dos dados de treinamento.\n",
    "\n",
    "5. **Suavização de Laplace (Opcional):**\n",
    "   Em alguns casos, para evitar probabilidades condicionais iguais a zero para recursos não observados em uma classe particular, pode ser aplicada a suavização de Laplace, adicionando uma pequena quantidade aos contadores de frequência de cada valor de recurso para cada classe durante a estimativa dos parâmetros.\n",
    "\n",
    "Essas são as etapas principais da função do algoritmo Naive Bayes, desde a suposição de independência condicional até a classificação de novas instâncias usando o teorema de Bayes."
   ]
  },
  {
   "cell_type": "markdown",
   "id": "6188f3a4",
   "metadata": {},
   "source": [
    "## Log Likelihood"
   ]
  },
  {
   "cell_type": "markdown",
   "id": "917266a3",
   "metadata": {},
   "source": [
    "Para construir um classificador, começaremos primeiro criando probabilidades condicionais, dada a tabela a seguir:\n",
    "\n",
    "<img src=\"./imgs/naive_bayes_intro1.png\">\n",
    "          \n",
    "Isso nos permite calcular a seguinte tabela de probabilidades:\n",
    "<img src=\"./imgs/naive_bayes_intro2.png\">\n",
    "\n",
    "Depois de ter as probabilidades, podemos calcular a pontuação de probabilidade da seguinte forma\n",
    "<img src=\"./imgs/naive_bayes_intro3.png\">\n",
    "\n",
    "Uma pontuação maior que 1 indica que a classe é positiva, caso contrário é negativa."
   ]
  },
  {
   "cell_type": "markdown",
   "id": "f30595f9",
   "metadata": {},
   "source": [
    "Costumamos calcular a probabilidade de uma palavra dada uma classe da seguinte forma:\n",
    "\n",
    "$$\n",
    "P(w_i \\mid \\text{classe}) = \\frac{\\text{freq}(w_i, \\text{classe})}{N_{\\text{classe}}}\n",
    "\\quad \\text{classe} \\in \\{\\text{Positivo}, \\text{Negativo}\\}\n",
    "$$\n",
    "\n",
    "No entanto, se uma palavra não aparecer no treinamento, ela automaticamente recebe uma probabilidade de 0. Para corrigir isso, adicionamos **suavização de laplace** da seguinte forma:\n",
    "\n",
    "$$\n",
    "P(w_i \\mid \\text{classe}) = \\frac{\\text{freq}(w_i, \\text{classe}) + 1}{N_{\\text{classe}} + V}\n",
    "$$\n",
    "\n",
    "Observe que adicionamos um 1 no numerador e, como há V palavras para normalizar, adicionamos V no denominador.\n",
    "\n",
    "Onde:\n",
    "- $N_{\\text{classe}}$: frequência de todas as palavras na classe.\n",
    "- $V$: número de palavras únicas no vocabulário.\n"
   ]
  },
  {
   "cell_type": "markdown",
   "id": "183fd509",
   "metadata": {},
   "source": [
    "Para calcular a log-verossimilhança (log likelihood), precisamos obter as razões e usá-las para calcular uma pontuação que nos permitirá decidir se um tweet é positivo ou negativo. Quanto maior a razão, mais positiva é a palavra:\n",
    "\n",
    "<img src=\"./imgs/log_likelihood1.png\">\n",
    "\n",
    "Para fazer inferência, você pode calcular o seguinte:\n",
    "\n",
    "$$\n",
    "\\log \\left( \\prod_{i=1}^{m} \\frac{P(w_i \\mid \\text{neg})}{P(w_i \\mid \\text{pos})} \\right) > \\frac{1}{P(\\text{neg}) P(\\text{pos})}\n",
    "$$\n",
    "\n",
    "A expressão acima começa com um logaritmo, $\\log$, que é aplicado a um produto de probabilidades condicionais. O produto é denotado pelo símbolo $\\prod$ e representa o produto de todas as probabilidades condicionais das palavras $w_i$ dadas as classes \"negativo\" e \"positivo\". Isso significa que estamos multiplicando a probabilidade de cada palavra $w_i$ ocorrer, dado que o tweet é negativo, e dividindo pelo mesmo para tweets positivos.\n",
    "\n",
    "A expressão é comparada com o inverso do produto das probabilidades das classes \"negativo\" e \"positivo\". Isso é feito usando o sinal $>$, indicando que queremos que a expressão à esquerda seja maior do que o inverso do produto das probabilidades das classes.\n",
    "\n",
    "Em termos de interpretação, isso significa que estamos comparando a probabilidade conjunta de todas as palavras em um tweet serem negativas (ou positivas) com a probabilidade de um tweet ser classificado como negativo (ou positivo), independente do conteúdo do tweet. Se a probabilidade conjunta de todas as palavras serem negativas (ou positivas) for maior do que a probabilidade do tweet ser classificado como negativo (ou positivo) independentemente do conteúdo, então a inferência seria que o tweet é mais provavelmente negativo (ou positivo).\n",
    "\n",
    "Essa expressão é uma maneira de inferir a polaridade (positiva ou negativa) de um tweet com base na probabilidade condicional de cada palavra em relação às classes \"negativo\" e \"positivo\", em comparação com a probabilidade marginal das classes. Se a probabilidade conjunta das palavras sendo negativas (ou positivas) for maior do que a probabilidade do tweet ser classificado como negativo (ou positivo) independentemente do conteúdo, então a inferência seria que o tweet é mais provavelmente negativo (ou positivo).\n",
    "\n",
    "Conforme o número de palavras do tweet (m) aumenta, podemos ter problemas numéricos, então introduzimos o logaritmo, que nos dá a seguinte equação:\n",
    "\n",
    "$$\n",
    "\\log \\left( \\prod_{i=1}^{m} \\frac{P(w_i \\mid \\text{neg})}{P(w_i \\mid \\text{pos})} \\right) \\Rightarrow \\log \\prod_{i=1}^{m} \\frac{P(w_i \\mid \\text{neg})}{P(w_i \\mid \\text{pos})} + \\sum_{i=1}^{m} \\log \\frac{P(w_i \\mid \\text{neg})}{P(w_i \\mid \\text{pos})}\n",
    "$$\n",
    "\n",
    "Utilizando a propriedade do logaritmo de um produto, podemos reescrever a expressão como a soma dos logaritmos dos fatores dentro do produto. Esta transformação nos permite calcular a log-verossimilhança de forma mais eficiente e robusta, evitando o custo computacional de calcular o logaritmo de um produtório. A expressão agora é uma soma de logaritmos individuais, o que é mais estável numericamente. A nova expressão nos permite calcular a log-verossimilhança somando os logaritmos das razões das probabilidades condicionais de cada palavra em relação às classes \"negativo\" e \"positivo\". Isso nos dá uma medida da probabilidade de observar as palavras em um tweet dado que ele é classificado como negativo, em comparação com a mesma probabilidade para tweets positivos. Essa transformação simplifica o cálculo da log-verossimilhança e reduz a chance de problemas numéricos, tornando a inferência mais eficiente e precisa.\n",
    "\n",
    "O primeiro componente é chamado de log prior e o segundo componente é a log-verossimilhança. Introduzimos ainda $\\lambda$ como segue:\n",
    "\n",
    "<img src=\"./imgs/log_likelihood2.png\">\n",
    "\n",
    "Ter o dicionário $\\lambda$ ajudará muito ao fazer inferência, mas uma vez que computemos o dicionário $\\lambda$, se torna simples fazer a inferência, simplesmente somando os lambdas e comparando com os thresholds de negativo, neutro e positivo.\n",
    "\n",
    "<img src=\"./imgs/log_likelihood3.png\">\n",
    "\n",
    "O resultado foi **3.3**, sendo > 0, classificaremos o documento como positivo. Se tivessemos um número negativo, classificaríamos como a classe negativa"
   ]
  },
  {
   "cell_type": "markdown",
   "id": "ab17d324",
   "metadata": {},
   "source": [
    "## Training Naïve Bayes"
   ]
  },
  {
   "cell_type": "code",
   "execution_count": 15,
   "id": "4004827b",
   "metadata": {
    "ExecuteTime": {
     "end_time": "2024-04-13T12:37:29.632630Z",
     "start_time": "2024-04-13T12:37:29.459569Z"
    }
   },
   "outputs": [
    {
     "name": "stdout",
     "output_type": "stream",
     "text": [
      "Acurácia do modelo: 0.9709302325581395\n",
      "Precisão da classificação (Classe 0): 0.6216216216216216\n",
      "Precisão da classificação (Classe 1): 0.9333333333333333\n"
     ]
    },
    {
     "name": "stderr",
     "output_type": "stream",
     "text": [
      "/home/joaoag/.local/lib/python3.10/site-packages/sklearn/utils/validation.py:623: FutureWarning: is_sparse is deprecated and will be removed in a future version. Check `isinstance(dtype, pd.SparseDtype)` instead.\n",
      "  if not hasattr(array, \"sparse\") and array.dtypes.apply(is_sparse).any():\n",
      "/home/joaoag/.local/lib/python3.10/site-packages/sklearn/utils/validation.py:623: FutureWarning: is_sparse is deprecated and will be removed in a future version. Check `isinstance(dtype, pd.SparseDtype)` instead.\n",
      "  if not hasattr(array, \"sparse\") and array.dtypes.apply(is_sparse).any():\n"
     ]
    }
   ],
   "source": [
    "import pandas as pd\n",
    "import nltk\n",
    "from nltk.tokenize import word_tokenize\n",
    "from nltk.probability import FreqDist\n",
    "\n",
    "# Pré-processamento\n",
    "df[\"ttweet\"] = df[\"tweet\"].apply(text_cleaning)\n",
    "df[\"ttweet\"] = df[\"ttweet\"].apply(lambda x: \" \".join(x))\n",
    "\n",
    "# Listas de palavras positivas e negativas\n",
    "positive_words = df[df[\"label\"] == 0][\"ttweet\"].to_list()\n",
    "positive_words = word_tokenize(' '.join(positive_words))\n",
    "\n",
    "negative_words = df[df[\"label\"] == 1][\"ttweet\"].to_list()\n",
    "negative_words = word_tokenize(' '.join(negative_words))\n",
    "\n",
    "# Funções para mapear frequências de palavras\n",
    "def positive_words_frequency(tweet):\n",
    "    tokens = word_tokenize(tweet.lower())\n",
    "    freq = FreqDist(tokens)\n",
    "    positive_freq = sum([freq[word] for word in positive_words])\n",
    "    return positive_freq\n",
    "\n",
    "def negative_words_frequency(tweet):\n",
    "    tokens = word_tokenize(tweet.lower())\n",
    "    freq = FreqDist(tokens)\n",
    "    negative_freq = sum([freq[word] for word in negative_words])\n",
    "    return negative_freq\n",
    "\n",
    "# Aplicando as funções e adicionando colunas ao dataframe\n",
    "df['bias'] = 1\n",
    "df['pos_freq'] = df['ttweet'].apply(positive_words_frequency)\n",
    "df['neg_freq'] = df['ttweet'].apply(negative_words_frequency)\n",
    "\n",
    "# Modelagem com Naive Bayes ou Regressão Logística\n",
    "from sklearn.naive_bayes import MultinomialNB\n",
    "from sklearn.linear_model import LogisticRegression\n",
    "\n",
    "# Criando e treinando o modelo\n",
    "model = MultinomialNB() # Exemplo: usando Naive Bayes\n",
    "model.fit(df[['bias', 'pos_freq', 'neg_freq']], df['label'])\n",
    "\n",
    "# Fazendo previsões\n",
    "predictions = model.predict(df[['bias', 'pos_freq', 'neg_freq']])\n",
    "\n",
    "# Avaliando o desempenho do modelo\n",
    "from sklearn.metrics import accuracy_score\n",
    "\n",
    "accuracy = accuracy_score(df['label'], predictions)\n",
    "print(f\"Acurácia do modelo: {accuracy}\")\n",
    "print(\"Precisão da classificação (Classe 0):\", precision_score(y_test, y_pred, pos_label=0))\n",
    "print(\"Precisão da classificação (Classe 1):\", precision_score(y_test, y_pred, pos_label=1))"
   ]
  },
  {
   "cell_type": "code",
   "execution_count": 16,
   "id": "4a13b10e",
   "metadata": {
    "ExecuteTime": {
     "end_time": "2024-04-13T12:37:29.649776Z",
     "start_time": "2024-04-13T12:37:29.634424Z"
    }
   },
   "outputs": [
    {
     "name": "stdout",
     "output_type": "stream",
     "text": [
      "Acurácia do modelo: 0.8857142857142857\n"
     ]
    }
   ],
   "source": [
    "import numpy as np\n",
    "from sklearn.model_selection import train_test_split\n",
    "from sklearn.feature_extraction.text import CountVectorizer\n",
    "from sklearn.naive_bayes import MultinomialNB\n",
    "from sklearn.metrics import accuracy_score\n",
    "\n",
    "# Separando os tweets e seus sentimentos\n",
    "X = [tweet[0] for tweet in tweets]\n",
    "y = [sentimento for _, sentimento in tweets]\n",
    "\n",
    "# Dividindo os dados em conjuntos de treinamento e teste\n",
    "X_train, X_test, y_train, y_test = train_test_split(X, y, test_size=0.2, random_state=42)\n",
    "\n",
    "# Criando uma matriz de frequência de palavras\n",
    "vectorizer = CountVectorizer()\n",
    "X_train_counts = vectorizer.fit_transform(X_train)\n",
    "X_test_counts = vectorizer.transform(X_test)\n",
    "\n",
    "# Treinando o classificador Naive Bayes\n",
    "clf = MultinomialNB()\n",
    "clf.fit(X_train_counts, y_train)\n",
    "\n",
    "# Fazendo previsões\n",
    "predictions = clf.predict(X_test_counts)\n",
    "\n",
    "# Calculando a acurácia do modelo\n",
    "accuracy = accuracy_score(y_test, predictions)\n",
    "print(\"Acurácia do modelo:\", accuracy)\n",
    "# print(\"Precisão da classificação (Classe 0):\", precision_score(y_test, y_pred, pos_label=0))\n",
    "# print(\"Precisão da classificação (Classe 1):\", precision_score(y_test, y_pred, pos_label=1))"
   ]
  },
  {
   "cell_type": "markdown",
   "id": "3e2b8871",
   "metadata": {},
   "source": [
    "Visão geral de como o algoritmo funciona:\n",
    "\n",
    "- Treinamento: Durante a fase de treinamento, o algoritmo calcula a probabilidade de cada classe (por exemplo, positivo, negativo) ocorrer, bem como as probabilidades condicionais de cada feature (palavra) dado cada classe. Essas probabilidades são estimadas a partir dos dados de treinamento.\n",
    "\n",
    "- Previsão: Durante a fase de previsão, o algoritmo utiliza o Teorema de Bayes para calcular a probabilidade de cada classe dado um conjunto de features (no caso, as palavras em um tweet). A classe com a maior probabilidade posterior é então atribuída como a classe prevista para a instância.\n",
    "\n",
    "- Suavização de Laplace: Para evitar problemas quando uma palavra não aparece no conjunto de treinamento para uma determinada classe, é comum aplicar uma técnica de suavização chamada Suavização de Laplace, que adiciona uma contagem pseudocount para todas as features durante o cálculo das probabilidades condicionais.\n",
    "\n",
    "- Vantagens e Desvantagens: O Naive Bayes é fácil de implementar, eficiente em termos de tempo de treinamento e pode funcionar bem mesmo com conjuntos de dados pequenos. No entanto, sua suposição de independência entre as features pode não ser realista em muitos casos, o que pode levar a resultados subótimos em certas situações."
   ]
  },
  {
   "cell_type": "markdown",
   "id": "68967e26",
   "metadata": {},
   "source": [
    "## Testing Naïve Bayes"
   ]
  },
  {
   "cell_type": "markdown",
   "id": "c0de7b9f",
   "metadata": {},
   "source": [
    "<img src=\"./imgs/naive_bayes_test.png\">"
   ]
  },
  {
   "cell_type": "markdown",
   "id": "ed05828c",
   "metadata": {},
   "source": [
    "## Applications of Naïve Bayes"
   ]
  },
  {
   "cell_type": "markdown",
   "id": "112c710d",
   "metadata": {},
   "source": [
    "O algoritmo Naive Bayes é amplamente utilizado em uma variedade de aplicações em Data Science e Machine Learning devido à sua simplicidade, eficiência computacional e bom desempenho em muitos cenários. Como em:\n",
    "\n",
    "1. **Classificação de Texto:** Naive Bayes é frequentemente usado para classificar documentos de texto em categorias, como spam vs. não spam em e-mails, classificação de sentimentos em redes sociais, detecção de tópicos em artigos de notícias, entre outros.\n",
    "\n",
    "2. **Filtragem de Spam:** É um uso clássico de Naive Bayes, onde o algoritmo é treinado com uma base de dados de e-mails rotulados como spam ou não spam, e então usado para prever se novos e-mails são spam ou não.\n",
    "\n",
    "3. **Análise de Sentimento:** Naive Bayes é eficaz na análise de sentimentos em dados textuais, como comentários de clientes, análise de feedbacks de produtos e análise de redes sociais, ajudando a determinar se um texto é positivo, negativo ou neutro.\n",
    "\n",
    "4. **Classificação de Documentos:** Além de filtragem de spam, Naive Bayes é usado para categorizar documentos em diferentes classes, como classificar notícias em categorias como política, esportes, entretenimento, etc.\n",
    "\n",
    "5. **Sistemas de Recomendação:** Pode ser utilizado em sistemas de recomendação para classificar e sugerir itens com base no histórico de interações do usuário, como classificar produtos em sites de compras ou recomendar filmes ou músicas em plataformas de streaming.\n",
    "\n",
    "6. **Diagnóstico Médico:** Na área médica, o Naive Bayes pode ser aplicado para auxiliar no diagnóstico de doenças, utilizando características dos pacientes para prever a presença ou ausência de certas condições médicas.\n",
    "\n",
    "7. **Análise de Risco Financeiro:** Naive Bayes é utilizado em análises de risco financeiro para prever riscos de crédito, detectar fraudes em transações financeiras e realizar análises de mercado.\n",
    "\n",
    "8. **Previsão de Churn:** Na área de negócios, o Naive Bayes pode ser usado para prever a probabilidade de um cliente cancelar um serviço (churn), com base em dados históricos de comportamento do cliente.\n",
    "\n",
    "Sua simplicidade e eficiência o tornam uma escolha popular em uma variedade de cenários."
   ]
  },
  {
   "cell_type": "markdown",
   "id": "3f07acdb",
   "metadata": {},
   "source": [
    "## Naïve Bayes Assumptions"
   ]
  },
  {
   "cell_type": "markdown",
   "id": "855c9a5c",
   "metadata": {},
   "source": [
    "O algoritmo Naive Bayes é baseado em algumas premissas importantes, que são fundamentais para o seu funcionamento. Como:\n",
    "\n",
    "1. **Independência Condicional:** Esta é a premissa mais crucial e é de onde o \"Naive\" em \"Naive Bayes\" vem. O algoritmo assume que as features (ou atributos) usadas para a classificação são independentes entre si, dadas as classes. Em outras palavras, ele assume que a presença ou ausência de uma característica não está relacionada à presença ou ausência de outras features, dado o resultado da classe. Embora esta premissa raramente seja verdadeira na prática, o Naive Bayes muitas vezes funciona bem mesmo quando ela é violada, tornando-o muito eficaz em muitos casos.\n",
    "\n",
    "2. **Presença de Dados de Treinamento:** O Naive Bayes requer um conjunto de dados de treinamento que inclua exemplos rotulados. Ou seja, para cada exemplo, deve-se saber a que classe ele pertence. Esses exemplos de treinamento são essenciais para estimar as probabilidades necessárias para a classificação.\n",
    "\n",
    "3. **Distribuição de Features:** O Naive Bayes assume uma distribuição específica para as features. Embora seja comum assumir uma distribuição de Bernoulli para features binárias, o Naive Bayes também pode ser aplicado com **distribuições multinomiais** (para features categóricas) e distribuições gaussianas (para features contínuas).\n",
    "\n",
    "4. **Probabilidades Condicionais:** O algoritmo Naive Bayes usa a teoria das probabilidades para calcular a probabilidade de uma instância pertencer a cada classe com base nas features observadas. Ele assume que as probabilidades condicionais de cada classe dado o conjunto de features podem ser calculadas facilmente.\n",
    "\n",
    "Essas premissas são simplificações significativas da realidade, e é por isso que o algoritmo é chamado de \"Naive\" (ingênuo). No entanto, apesar de suas simplificações, o Naive Bayes muitas vezes funciona surpreendentemente bem em uma variedade de problemas de classificação, desde que as premissas sejam razoavelmente satisfeitas."
   ]
  },
  {
   "cell_type": "markdown",
   "id": "1b7bfd05",
   "metadata": {},
   "source": [
    "# Week 3 - Vector Space Models"
   ]
  },
  {
   "cell_type": "markdown",
   "id": "d6d9a2d6",
   "metadata": {
    "ExecuteTime": {
     "end_time": "2024-04-12T22:22:55.561680Z",
     "start_time": "2024-04-12T22:22:55.556434Z"
    }
   },
   "source": [
    "## Objetivos de aprendizagem\n",
    "- Covariance matrices\n",
    "- Dimensionality reduction\n",
    "- Principal component analysis\n",
    "- Cosine similarity\n",
    "- Euclidean distance\n",
    "- Co-occurrence matrices\n",
    "- Vector representations\n",
    "- Vector space models"
   ]
  },
  {
   "cell_type": "markdown",
   "id": "576d2459",
   "metadata": {},
   "source": [
    "## Introduction to Vector Space Models"
   ]
  },
  {
   "cell_type": "markdown",
   "id": "5c80008f",
   "metadata": {},
   "source": [
    "Os modelos de espaço vetorial (VSMs) são uma técnica fundamental em processamento de linguagem natural (PLN) para representar o significado de palavras e documentos em um espaço matemático contínuo. Eles são usados para capturar e representar semanticamente o contexto e a similaridade entre palavras e documentos. Os VSMs representam palavras como **vetores** matemáticos em um **espaço de alta dimensionalidade**. Cada dimensão do vetor **pode representar um aspecto diferente da palavra**, como seu contexto, uso ou significado. Essas dimensões são geralmente aprendidas automaticamente a partir de grandes conjuntos de dados textuais usando técnicas como word embeddings. Ou seja, **é codificado uma representação numérica de palavras que captura o significado relativo de forma contextual**. Exemplo:\n",
    "- A palavra \"gato\" pode ser representada por um vetor como [0.2, -0.1, 0.5, ...], onde cada valor numérico representa um aspecto diferente da palavra.\n",
    "\n",
    "Além de representar palavras, os VSMs também podem representar documentos inteiros. Nesse caso, cada documento é representado como um vetor onde cada dimensão pode representar a frequência ou importância de uma palavra ou conceito dentro desse documento. Exemplo:\n",
    "- Um artigo de notícias sobre tecnologia pode ser representado por um vetor onde a dimensão correspondente à palavra \"tecnologia\" tem um valor alto, enquanto as dimensões correspondentes a palavras irrelevantes têm valores baixos.\n",
    "\n",
    "Os VSMs são úteis para **medir a similaridade semântica entre palavras e documentos**. Isso é feito **calculando a proximidade entre os vetores no espaço vetorial**. Palavras ou documentos semanticamente semelhantes estarão mais próximos no espaço vetorial. Exemplo:\n",
    "- Os vetores das palavras \"cachorro\" e \"animal\" provavelmente estarão mais próximos no espaço vetorial do que os vetores das palavras \"cachorro\" e \"carro\".\n",
    "\n",
    "Eles são amplamente utilizados em tarefas de PLN, como recuperação de informações, classificação de texto, agrupamento de documentos, tradução automática e muito mais. Eles formam a base para muitas técnicas e algoritmos modernos de PLN. Exemplo:\n",
    "- Um sistema de recomendação de filmes pode usar VSMs para encontrar filmes semelhantes com base nas sinopses dos filmes já assistidos pelo usuário.\n"
   ]
  },
  {
   "cell_type": "markdown",
   "id": "9ed20a10",
   "metadata": {},
   "source": [
    "## Word by Word and Word by Doc"
   ]
  },
  {
   "cell_type": "markdown",
   "id": "065b202b",
   "metadata": {},
   "source": [
    "Construir vetores usando uma matriz de coocorrência com um design de word by word é uma abordagem para criar representações vetoriais de palavras com base em sua coocorrência em um corpus de texto. Aqui está uma explicação detalhada:\n",
    "\n",
    "**Construção da Matriz de Coocorrência**:\n",
    "   - **Definição do Contexto**: Para cada palavra no vocabulário, é necessário definir um contexto em torno dela. Por exemplo, para uma palavra \"cachorro\", o contexto pode ser os N tokens à esquerda e à direita da palavra em um texto.\n",
    "   - **Contagem de Coocorrências**: Para cada palavra no vocabulário, conte quantas vezes ela ocorre no contexto de outras palavras. Isso resulta em uma matriz de coocorrência, onde cada célula (i, j) representa quantas vezes a palavra i ocorre no contexto da palavra j.\n",
    "\n",
    "**Construção dos Vetores**:\n",
    "   - **Normalização**: Antes de construir os vetores, a matriz de coocorrência pode ser normalizada para considerar fatores como a frequência geral das palavras no corpus e a frequência dos próprios contextos.\n",
    "   - **Construção dos Vetores**: Cada linha ou coluna na matriz de coocorrência representa um vetor para uma palavra específica. Isso pode ser feito tratando cada linha ou coluna como um vetor.\n",
    "\n",
    "Suponha que temos o seguinte texto como nosso corpus:\n",
    "\n",
    "```\n",
    "O cachorro correu no parque.\n",
    "O gato dormiu no sofá.\n",
    "O cachorro e o gato são amigos.\n",
    "```\n",
    "\n",
    "Para construir a matriz de coocorrência para um contexto de duas palavras à esquerda e à direita, teríamos algo assim (excluindo palavras de parada como \"o\", \"e\", etc.):\n",
    "\n",
    "```\n",
    "          cachorro correu gato dormiu são amigos\n",
    "cachorro     0       1     1      0     0     1\n",
    "correu       1       0     0      1     0     0\n",
    "gato         1       0     0      0     1     1\n",
    "dormiu       0       1     0      0     1     0\n",
    "são          0       0     1      1     0     1\n",
    "amigos       1       0     1      0     1     0\n",
    "```\n",
    "\n",
    "Para construir vetores para cada palavra, normalizamos esta matriz e tratamos cada linha ou coluna como um vetor.\n",
    "\n",
    "**Uso dos Vetores**:\n",
    "   - Uma vez que os vetores tenham sido construídos, eles podem ser usados para várias tarefas em PLN, como encontrar palavras semanticamente semelhantes, calcular distâncias entre palavras, etc.\n",
    "\n",
    "Essa abordagem é uma maneira simples e eficaz de construir representações vetoriais de palavras usando a coocorrência em um corpus de texto. No entanto, ela pode ser limitada em capturar nuances semânticas mais complexas, especialmente em corpora muito grandes ou com vocabulários extensos."
   ]
  },
  {
   "cell_type": "markdown",
   "id": "51daeecf",
   "metadata": {},
   "source": [
    "Construir vetores usando uma matriz de coocorrência com um design de word by document é uma abordagem para criar representações vetoriais de palavras com base em sua coocorrência com documentos inteiros em um corpus de texto. Aqui está uma explicação detalhada:\n",
    "\n",
    "**Construção da Matriz de Coocorrência**:\n",
    "   - **Definição do Contexto**: Neste caso, o contexto é o documento inteiro em que uma palavra ocorre. Cada documento é tratado como uma \"janela\" em torno das palavras.\n",
    "   - **Contagem de Coocorrências**: Para cada palavra no vocabulário, conte quantas vezes ela ocorre em cada documento. Isso resulta em uma matriz de coocorrência, onde cada linha representa uma palavra e cada coluna representa um documento.\n",
    "\n",
    "**Construção dos Vetores**:\n",
    "   - **Normalização**: Assim como na abordagem word by word, a matriz de coocorrência pode ser normalizada para considerar fatores como a frequência geral das palavras no corpus e a frequência dos próprios documentos.\n",
    "   - **Construção dos Vetores**: Neste caso, cada linha na matriz de coocorrência representa um vetor para uma palavra específica. Cada elemento do vetor pode representar a frequência ou a importância relativa da palavra em cada documento.\n",
    "\n",
    "Suponha que temos o seguinte corpus de três documentos:\n",
    "\n",
    "1. Documento 1: \"O cachorro correu no parque.\"\n",
    "2. Documento 2: \"O gato dormiu no sofá.\"\n",
    "3. Documento 3: \"O cachorro e o gato são amigos.\"\n",
    "\n",
    "A matriz de coocorrência seria algo como:\n",
    "\n",
    "```\n",
    "          Documento 1 Documento 2 Documento 3\n",
    "cachorro      1            0           1\n",
    "correu        1            0           0\n",
    "gato          0            1           1\n",
    "dormiu        0            1           0\n",
    "são           0            0           1\n",
    "amigos        0            0           1\n",
    "```\n",
    "\n",
    "Para construir vetores para cada palavra, normalizamos esta matriz e tratamos cada linha como um vetor. Uma vez que os vetores tenham sido construídos, eles podem ser usados para várias tarefas em PLN, como encontrar palavras semanticamente semelhantes, calcular distâncias entre palavras, classificação de texto, entre outros.\n",
    "\n",
    "Esta abordagem é útil quando estamos mais interessados nas **relações entre palavras e documentos** do que nas relações entre palavras individuais. Ela pode capturar a essência de como palavras diferentes estão distribuídas em diferentes contextos de documentos."
   ]
  },
  {
   "cell_type": "markdown",
   "id": "c7e2b0a3",
   "metadata": {},
   "source": [
    "No exemplo abaixo, podemos verificar a relação entre palavras e documentos, e temos que as palavras \"data\" estão mais relacionadas a Economy e ML do que Entertainment. Assim como a palavra \"film\" está mais relacionada à Entertainment que aos demais documentos. Aqui, a categoria Entertainment pode ser representada como um vetor v = [500, 700], assim como Economy como um vetor v = [6620, 4000] e ML como um vetor v = [9320, 1000]\n",
    "\n",
    "<img src=\"./imgs/vsm_corpus.png\">\n",
    "<img src=\"./imgs/vsm_vector.png\">"
   ]
  },
  {
   "cell_type": "markdown",
   "id": "ff1a270c",
   "metadata": {},
   "source": [
    "## Euclidean Distance"
   ]
  },
  {
   "cell_type": "markdown",
   "id": "0c65e113",
   "metadata": {},
   "source": [
    "A Distância Euclidiana é uma medida de distância entre dois pontos em um espaço euclidiano. É derivada do teorema de Pitágoras e é frequentemente usada em diversas áreas, como geometria, análise de dados, reconhecimento de padrões e aprendizado de máquina. Aqui está uma explicação detalhada:\n",
    "\n",
    "A fórmula para calcular a distância euclidiana entre dois pontos $ P $ e $ Q $ em um espaço $ n $-dimensional é dada por:\n",
    "\n",
    "$ \\text{EuclideanDistance}(P, Q) = \\sqrt{\\sum_{i=1}^{n} (q_i - p_i)^2} $\n",
    "\n",
    "Onde:\n",
    "- $ P = (p_1, p_2, ..., p_n) $ e $ Q = (q_1, q_2, ..., q_n) $ são os pontos no espaço $ n $-dimensional.\n",
    "- $ p_i $ e $ q_i $ são as coordenadas dos pontos $ P $ e $ Q $ ao longo da dimensão $ i $.\n",
    "\n",
    "**Características**:\n",
    "- **Positividade**: A distância euclidiana é sempre não negativa, ou seja, $ \\text{EuclideanDistance}(P, Q) \\geq 0 $.\n",
    "- **Identidade de Indiscerníveis**: A distância entre dois pontos é zero se e somente se os pontos são idênticos.\n",
    "- **Simetria**: A distância entre dois pontos $ P $ e $ Q $ é a mesma que a distância entre $ Q $ e $ P $.\n",
    "- **Desigualdade Triangular**: A distância de um ponto a outro ponto é sempre menor do que ou igual à soma das distâncias de um ponto a um terceiro ponto intermediário.\n",
    "\n",
    "\n",
    "Suponha que tenhamos dois pontos no plano 2D: $ P(2, 3) $ e $ Q(5, 7) $. Para calcular a distância euclidiana entre esses dois pontos, usamos a fórmula:\n",
    "\n",
    "$$ \\text{Euclidean Distance}(P, Q) = \\sqrt{(5-2)^2 + (7-3)^2} = \\sqrt{3^2 + 4^2} = \\sqrt{9 + 16} = \\sqrt{25} = 5 $$\n",
    "\n",
    "Portanto, a distância euclidiana entre $ P $ e $ Q $ é 5 unidades.\n",
    "\n",
    "A distância euclidiana é amplamente utilizada em algoritmos de agrupamento (como k-means), classificação (como k-NN), redução de dimensionalidade (como PCA), reconhecimento de padrões, entre outros. É uma métrica fundamental em muitos problemas de otimização, onde minimizar ou maximizar a distância entre pontos é um objetivo. Ela é é uma medida intuitiva e útil para quantificar a distância entre pontos em um espaço multidimensional, com aplicações em várias áreas da ciência e da engenharia."
   ]
  },
  {
   "cell_type": "markdown",
   "id": "717dbd11",
   "metadata": {
    "ExecuteTime": {
     "end_time": "2024-04-13T11:41:29.254147Z",
     "start_time": "2024-04-13T11:41:29.249421Z"
    }
   },
   "source": [
    "<img src=\"./imgs/euclidean_distance.png\">"
   ]
  },
  {
   "cell_type": "markdown",
   "id": "fa20e9f8",
   "metadata": {},
   "source": [
    "Podemos generalizar a encontrar a distância entre dois pontos $(x_1, y_1)$ e $(x_2, y_2)$ para a distância entre um vetor $\\mathbf{v}$ de $n$ dimensões da seguinte forma:\n",
    "\n",
    "$$\n",
    "d(\\mathbf{v}, \\mathbf{w}) = \\sqrt{\\sum_{i=1}^{n} (v_i - w_i)^2}\n",
    "$$"
   ]
  },
  {
   "cell_type": "markdown",
   "id": "0569ec4d",
   "metadata": {
    "ExecuteTime": {
     "end_time": "2024-04-13T11:44:03.471039Z",
     "start_time": "2024-04-13T11:44:03.465662Z"
    }
   },
   "source": [
    "<img src=\"./imgs/euclidean_distance_n.png\">"
   ]
  },
  {
   "cell_type": "markdown",
   "id": "c00bed52",
   "metadata": {},
   "source": [
    "Para calcular a distância euclidiana entre dois vetores n-dimensionais em Python, podemos usar a biblioteca NumPy, que fornece funções eficientes para operações matemáticas em vetores e matrizes"
   ]
  },
  {
   "cell_type": "code",
   "execution_count": 17,
   "id": "c782a0df",
   "metadata": {
    "ExecuteTime": {
     "end_time": "2024-04-13T12:37:29.660451Z",
     "start_time": "2024-04-13T12:37:29.651948Z"
    }
   },
   "outputs": [
    {
     "name": "stdout",
     "output_type": "stream",
     "text": [
      "A distância euclidiana entre os vetores é: 6.4031242374328485\n"
     ]
    }
   ],
   "source": [
    "import numpy as np\n",
    "\n",
    "def euclidean_distance(vector1, vector2):\n",
    "    \"\"\"\n",
    "    Calcula a distância euclidiana entre dois vetores n-dimensionais.\n",
    "\n",
    "    Argumentos:\n",
    "    vector1 (np.array): O primeiro vetor.\n",
    "    vector2 (np.array): O segundo vetor.\n",
    "\n",
    "    Retorna:\n",
    "    float: A distância euclidiana entre os dois vetores.\n",
    "    \"\"\"\n",
    "    if len(vector1) != len(vector2):\n",
    "        raise ValueError(\"Os vetores devem ter o mesmo número de dimensões.\")\n",
    "\n",
    "    # Converte as listas em arrays do NumPy para cálculos eficientes\n",
    "    vector1 = np.array(vector1)\n",
    "    vector2 = np.array(vector2)\n",
    "\n",
    "    # Calcula a diferença entre os dois vetores\n",
    "    difference = vector2 - vector1\n",
    "\n",
    "    # Calcula a soma dos quadrados das diferenças\n",
    "    squared_difference = np.sum(difference ** 2)\n",
    "\n",
    "    # Calcula a raiz quadrada da soma dos quadrados\n",
    "    euclidean_distance = np.sqrt(squared_difference)\n",
    "\n",
    "    return euclidean_distance\n",
    "\n",
    "# Exemplo de uso\n",
    "vector1 = [2, 3, 5]\n",
    "vector2 = [5, 7, 1]\n",
    "\n",
    "distance = euclidean_distance(vector1, vector2)\n",
    "print(\"A distância euclidiana entre os vetores é:\", distance)"
   ]
  },
  {
   "cell_type": "code",
   "execution_count": 18,
   "id": "a2cd7023",
   "metadata": {
    "ExecuteTime": {
     "end_time": "2024-04-13T12:37:29.668311Z",
     "start_time": "2024-04-13T12:37:29.662960Z"
    }
   },
   "outputs": [
    {
     "name": "stdout",
     "output_type": "stream",
     "text": [
      "A distância euclidiana entre os vetores é: 6.4031242374328485\n"
     ]
    }
   ],
   "source": [
    "# Ou podemos simplesmente\n",
    "\n",
    "distance = np.linalg.norm(np.array(vector1) - np.array(vector2))\n",
    "print(\"A distância euclidiana entre os vetores é:\", distance)"
   ]
  },
  {
   "cell_type": "markdown",
   "id": "74dfb90e",
   "metadata": {},
   "source": [
    "## Cosine Similarity"
   ]
  },
  {
   "cell_type": "markdown",
   "id": "6b3aaf05",
   "metadata": {},
   "source": [
    "A similaridade do cosseno é uma medida de similaridade entre dois vetores em um espaço vetorial, frequentemente usado em mineração de texto, recuperação de informação e aprendizado de máquina. A medida é baseada no ângulo formado entre os dois vetores no espaço vetorial e não na distância euclidiana entre eles. A similaridade do cosseno entre dois vetores $ \\mathbf{A} $ e $ \\mathbf{B} $ é dada pela fórmula:\n",
    "\n",
    "$$ \\text{CosineSimilarity}(\\mathbf{A}, \\mathbf{B}) = \\frac{\\mathbf{A} \\cdot \\mathbf{B}}{\\|\\mathbf{A}\\| \\|\\mathbf{B}\\|} $$\n",
    "\n",
    "Onde:\n",
    "- $ \\mathbf{A} \\cdot \\mathbf{B} $ é o produto interno (ou escalar) entre os vetores $ \\mathbf{A} $ e $ \\mathbf{B} $.\n",
    "- $ \\| \\mathbf{A} \\| $ e $ \\| \\mathbf{B} \\| $ são as normas (ou magnitudes) dos vetores $ \\mathbf{A} $ e $ \\mathbf{B} $, respectivamente.\n",
    "\n",
    "**Características**:\n",
    "- **Intervalo de Valores**: A similaridade do cosseno varia de -1 a 1, onde 1 indica que os vetores têm a mesma direção, 0 indica que os vetores são ortogonais (semelhantes de forma nula) e -1 indica que os vetores têm direções opostas.\n",
    "- **Independência de Escala**: A similaridade do cosseno é independente da escala dos vetores. Isso significa que os vetores podem ser normalizados antes do cálculo sem afetar o resultado.\n",
    "- **Eficiência Computacional**: O cálculo da similaridade do cosseno é computacionalmente eficiente, especialmente para vetores de alta dimensionalidade.\n",
    "- **Apropriado para Texto**: É amplamente utilizado em PLN, pois lida bem com vetores de alta dimensão, como vetores de termos de documentos.\n",
    "\n",
    "Suponha que temos dois vetores $ \\mathbf{A} = [2, 1] $ e $ \\mathbf{B} = [3, 4] $. Para calcular a similaridade do cosseno entre esses dois vetores, usamos a fórmula:\n",
    "\n",
    "$$ \\text{CosineSimilarity}(\\mathbf{A}, \\mathbf{B}) = \\frac{(2 \\times 3) + (1 \\times 4)}{\\sqrt{2^2 + 1^2} \\times \\sqrt{3^2 + 4^2}} = \\frac{6 + 4}{\\sqrt{5} \\times \\sqrt{25}} = \\frac{10}{5 \\times 5} = \\frac{10}{25} = 0.4 $$\n",
    "\n",
    "Portanto, a similaridade do cosseno entre $ \\mathbf{A} $ e $ \\mathbf{B} $ é 0.4.\n",
    "\n",
    "A similaridade do cosseno é amplamente utilizada em tarefas de recuperação de informação, onde é usada para encontrar documentos semelhantes com base em vetores de termos de documentos. Também é usado em **sistemas de recomendação** para calcular a similaridade entre perfis de usuários e itens. Além disso, é usado em classificação de texto e agrupamento de documentos. A similaridade do cosseno é uma medida eficaz de similaridade entre vetores que é amplamente utilizada em várias aplicações, especialmente em processamento de linguagem natural e mineração de texto.\n",
    "\n",
    "Se os documentos tiverem tamanhos diferentes, a métrica de **Euclidean Distance** não é a ideal. **Cosine Similarity** não é enviesada pelo pelo tamanho da diferença entre os vetores."
   ]
  },
  {
   "cell_type": "markdown",
   "id": "b68d9ddc",
   "metadata": {
    "ExecuteTime": {
     "end_time": "2024-04-13T11:54:48.685615Z",
     "start_time": "2024-04-13T11:54:48.680427Z"
    }
   },
   "source": [
    "<img src=\"./imgs/cosine_sim.png\">"
   ]
  },
  {
   "cell_type": "markdown",
   "id": "ae43abb4",
   "metadata": {},
   "source": [
    "Para calcular a similaridade de cosseno entre dois vetores em Python, você pode usar a biblioteca NumPy para facilitar os cálculos vetoriais"
   ]
  },
  {
   "cell_type": "code",
   "execution_count": 28,
   "id": "8aa63b8e",
   "metadata": {
    "ExecuteTime": {
     "end_time": "2024-04-13T14:34:13.631682Z",
     "start_time": "2024-04-13T14:34:13.624244Z"
    }
   },
   "outputs": [
    {
     "name": "stdout",
     "output_type": "stream",
     "text": [
      "A similaridade de cosseno entre os vetores é: 0.8944271909999159\n"
     ]
    }
   ],
   "source": [
    "import numpy as np\n",
    "\n",
    "def cosine_similarity(vector1, vector2):\n",
    "    \"\"\"\n",
    "    Calcula a similaridade de cosseno entre dois vetores.\n",
    "\n",
    "    Argumentos:\n",
    "    vector1 (np.array): O primeiro vetor.\n",
    "    vector2 (np.array): O segundo vetor.\n",
    "\n",
    "    Retorna:\n",
    "    float: A similaridade de cosseno entre os dois vetores.\n",
    "    \"\"\"\n",
    "    dot_product = np.dot(vector1, vector2)\n",
    "    norm_vector1 = np.linalg.norm(vector1)\n",
    "    norm_vector2 = np.linalg.norm(vector2)\n",
    "    similarity = dot_product / (norm_vector1 * norm_vector2)\n",
    "    return similarity\n",
    "\n",
    "# Exemplo de uso\n",
    "vector1 = np.array([2, 1])\n",
    "vector2 = np.array([3, 4])\n",
    "\n",
    "similarity = cosine_similarity(vector1, vector2)\n",
    "print(\"A similaridade de cosseno entre os vetores é:\", similarity)"
   ]
  },
  {
   "cell_type": "markdown",
   "id": "746f8e55",
   "metadata": {},
   "source": [
    "## Manipulating Words in Vector Spaces"
   ]
  },
  {
   "cell_type": "markdown",
   "id": "21b65e97",
   "metadata": {},
   "source": [
    "Manipular vetores usando aritmética para prever países e suas capitais é uma aplicação interessante de vetores em aprendizado de máquina e processamento de linguagem natural. Aqui está uma explicação passo a passo de como isso pode ser feito:\n",
    "\n",
    "**Representação de Palavras como Vetores:**\n",
    "Primeiro, você precisa de uma representação vetorial para as palavras envolvidas - neste caso, países e suas capitais. Uma maneira comum de fazer isso é usar embeddings de palavras pré-treinados, como os disponíveis em modelos como Word2Vec, GloVe ou FastText. Esses embeddings atribuem a cada palavra um vetor numérico denso em um espaço vetorial, onde palavras semanticamente semelhantes estão próximas umas das outras. Mas podemos usar os embeddings que criamos também.\n",
    "\n",
    "**Vetores de Países e Capitais**\n",
    "Para cada país e capital, você precisa de seus respectivos vetores. Se estiver usando embeddings de palavras pré-treinados, você pode simplesmente pegar os vetores correspondentes às palavras \"país\" e \"capital\" e somá-los aos vetores de palavras correspondentes ao país e à capital real. Por exemplo, para prever a capital do Brasil, você somaria o vetor correspondente a \"Brasil\" ao vetor correspondente a \"capital\", obtendo assim um vetor que representa a capital prevista.\n",
    "\n",
    "**Operações Vetoriais:**\n",
    "Agora que você tem vetores para países e capitais, você pode usar operações vetoriais para fazer previsões. Por exemplo, para prever a capital de um país, você pode calcular a diferença entre o vetor do país de interesse e o vetor de outro país conhecido com sua capital conhecida. Em seguida, você adiciona esse vetor de diferença ao vetor da capital conhecida para obter a capital prevista.\n",
    "\n",
    "**Exemplo:**\n",
    "Por exemplo, suponha que você tenha embeddings de palavras onde \"Brasil\" é representado pelo vetor $ \\mathbf{v}_{Brasil} $ e \"capital\" pelo vetor $ \\mathbf{v}_{capital} $. Se você quiser prever a capital do Brasil, você faria o seguinte:\n",
    "$$ \\text{Capital prevista} = \\mathbf{v}_{Brasil} - \\mathbf{v}_{Outro\\ país} + \\mathbf{v}_{Capital\\ conhecida} $$\n",
    "\n",
    "Outra forma de prever tokens usando as relações vetoriais, é usar as representações conhecidas. Sabendo que a capital dos USA é Washington, podemos ver a distância entre os dois vetores e somar ao vetor que representa Russia para descobrir sua capital, Como:\n",
    "\n",
    "<img scr=\"./imgs/manipulating_words.png\">\n",
    "\n",
    "**Avaliação e Ajuste:**\n",
    "Depois de fazer as previsões, podemos avaliar a precisão do seu modelo usando um conjunto de dados de teste que contenha pares de países e suas capitais reais. Se a precisão não for satisfatória, você pode ajustar os vetores ou usar técnicas mais avançadas de aprendizado de máquina para melhorar o desempenho do modelo. Manipular vetores usando aritmética para prever países e suas capitais (ou qualquer relacionamento parecido) envolve representar países e capitais como vetores, realizar operações vetoriais para fazer previsões e avaliar o desempenho do modelo. É uma aplicação interessante de vetores em processamento de linguagem natural e aprendizado de máquina."
   ]
  },
  {
   "cell_type": "markdown",
   "id": "4a5404fe",
   "metadata": {},
   "source": [
    "## Principal Component Analysis"
   ]
  },
  {
   "cell_type": "markdown",
   "id": "3bb5fba6",
   "metadata": {},
   "source": [
    "A Análise de Componentes Principais (PCA) é um algoritmo não superisionado, uma técnica de redução de dimensionalidade amplamente utilizada para simplificar conjuntos de dados complexos, mantendo as informações mais importantes. Funciona encontrando as direções (ou componentes) de maior variância nos dados e projetando os dados nesses novos eixos, chamados de componentes principais. Ele funciona da seguinte forma:\n",
    "\n",
    "<img src=\"./imgs/pca1.png\">\n",
    "\n",
    "<img src=\"./imgs/pca2.png\">\n",
    "\n",
    "**Centralização dos Dados:**\n",
    "Antes de aplicar o PCA, os dados são geralmente centralizados subtraindo a média de cada variável. Isso garante que o centro dos dados esteja na origem do espaço de características.\n",
    "\n",
    "**Cálculo da Matriz de Covariância**:\n",
    "Em seguida, é calculada a matriz de covariância dos dados centralizados. A covariância entre duas variáveis mede como elas variam juntas. A matriz de covariância captura as relações lineares entre as variáveis originais.\n",
    "\n",
    "**Decomposição da Matriz de Covariância**:\n",
    "A seguir, a matriz de covariância é decomposta em seus autovetores e autovalores. Os autovetores representam as direções dos eixos principais (ou componentes principais) dos dados, enquanto os autovalores representam a quantidade de variância explicada por cada componente principal.\n",
    "\n",
    "**Seleção dos Componentes Principais**:\n",
    "Os autovetores são ordenados de acordo com seus autovalores associados, do maior para o menor. Os autovetores com os maiores autovalores capturam a maior parte da variância nos dados e são selecionados como os componentes principais mais importantes.\n",
    "\n",
    "**Projeção dos Dados**:\n",
    "Finalmente, os dados são projetados nos novos eixos definidos pelos componentes principais selecionados. Isso reduz a dimensionalidade dos dados, substituindo as variáveis originais por uma combinação linear dos componentes principais.\n",
    "\n",
    "**Exemplo**:\n",
    "Vamos considerar um conjunto de dados bidimensional com duas variáveis, como altura e peso de uma população. O PCA encontrará a direção ao longo da qual a variabilidade dos dados é máxima. Suponha que a direção seja dada pelo autovetor \\( [0.8, 0.6] \\), com um autovalor associado de 10. Isso significa que 80% da variabilidade dos dados está ao longo dessa direção. Os dados podem ser projetados nessa direção, reduzindo-os de duas dimensões para uma dimensão.\n",
    "\n",
    "**Uso**:\n",
    "- Redução de dimensionalidade: PCA é usado para reduzir a dimensionalidade de dados complexos, preservando o máximo de informação possível.\n",
    "- Visualização de dados: PCA pode ser usado para visualizar dados de alta dimensionalidade em um espaço de menor dimensão.\n",
    "- Pré-processamento de dados: PCA é frequentemente usado como uma etapa de pré-processamento antes de aplicar algoritmos de aprendizado de máquina, para reduzir o tempo de treinamento e evitar a maldição da dimensionalidade.\n",
    "\n",
    "O PCA é uma técnica poderosa e amplamente utilizada para redução de dimensionalidade e análise exploratória de dados, que ajuda a simplificar conjuntos de dados complexos, mantendo as informações mais importantes."
   ]
  },
  {
   "cell_type": "markdown",
   "id": "7c37f6da",
   "metadata": {},
   "source": [
    "Para reduzir vetores de alta dimensionalidade para visualizá-los em duas dimensões usando Principal Component Analysis (PCA) em Python, podemos seguir estas etapas:\n",
    "\n",
    "- Passo 1: Importe as bibliotecas necessárias, incluindo NumPy e sklearn para PCA.\n",
    "- Passo 2: Gere um conjunto de dados de exemplo com vetores de alta dimensão.\n",
    "- Passo 3: Aplique o PCA para reduzir a dimensionalidade dos vetores para 2 dimensões.\n",
    "- Passo 4: Plote os vetores reduzidos em um gráfico de dispersão para visualização."
   ]
  },
  {
   "cell_type": "code",
   "execution_count": 20,
   "id": "729a7afd",
   "metadata": {
    "ExecuteTime": {
     "end_time": "2024-04-13T14:14:13.010671Z",
     "start_time": "2024-04-13T14:14:12.679586Z"
    }
   },
   "outputs": [
    {
     "data": {
      "image/png": "[encoded data removed]",
      "text/plain": [
       "<Figure size 576x432 with 1 Axes>"
      ]
     },
     "metadata": {
      "needs_background": "light"
     },
     "output_type": "display_data"
    }
   ],
   "source": [
    "import numpy as np\n",
    "import matplotlib.pyplot as plt\n",
    "from sklearn.decomposition import PCA\n",
    "\n",
    "# Passo 2: Gere um conjunto de dados de exemplo com vetores de alta dimensão (d = 10)\n",
    "np.random.seed(42)\n",
    "n_samples = 1000\n",
    "d = 10\n",
    "X = np.random.randn(n_samples, d)  # Gera 1000 vetores de dimensão 10 com distribuição normal\n",
    "\n",
    "# Passo 3: Aplique o PCA para reduzir a dimensionalidade dos vetores para 2 dimensões\n",
    "pca = PCA(n_components=2)\n",
    "X_2d = pca.fit_transform(X)\n",
    "\n",
    "# Passo 4: Plote os vetores reduzidos em um gráfico de dispersão para visualização\n",
    "plt.figure(figsize=(8, 6))\n",
    "plt.scatter(X_2d[:, 0], X_2d[:, 1], alpha=0.5)\n",
    "plt.title('Visualização dos Vetores Reduzidos com PCA em 2 Dimensões')\n",
    "plt.xlabel('Componente Principal 1')\n",
    "plt.ylabel('Componente Principal 2')\n",
    "plt.grid(True)\n",
    "plt.show()"
   ]
  },
  {
   "cell_type": "code",
   "execution_count": 22,
   "id": "8795cdad",
   "metadata": {
    "ExecuteTime": {
     "end_time": "2024-04-13T14:14:30.442192Z",
     "start_time": "2024-04-13T14:14:30.436599Z"
    }
   },
   "outputs": [
    {
     "data": {
      "text/plain": [
       "array([[ 0.49671415, -0.1382643 ,  0.64768854, ...,  0.76743473,\n",
       "        -0.46947439,  0.54256004],\n",
       "       [-0.46341769, -0.46572975,  0.24196227, ...,  0.31424733,\n",
       "        -0.90802408, -1.4123037 ],\n",
       "       [ 1.46564877, -0.2257763 ,  0.0675282 , ...,  0.37569802,\n",
       "        -0.60063869, -0.29169375],\n",
       "       ...,\n",
       "       [-0.9125882 ,  0.70138989,  0.8452733 , ..., -0.90092112,\n",
       "        -1.01268556, -1.75995888],\n",
       "       [-0.44579531, -0.50372234,  0.52593728, ..., -1.77598225,\n",
       "        -0.98094673, -0.77081363],\n",
       "       [ 1.43362502,  0.19145072,  0.66216875, ..., -0.70531672,\n",
       "         0.49576557,  0.64438845]])"
      ]
     },
     "execution_count": 22,
     "metadata": {},
     "output_type": "execute_result"
    }
   ],
   "source": [
    "X"
   ]
  },
  {
   "cell_type": "code",
   "execution_count": 23,
   "id": "b67c8408",
   "metadata": {
    "ExecuteTime": {
     "end_time": "2024-04-13T14:14:37.856033Z",
     "start_time": "2024-04-13T14:14:37.850268Z"
    }
   },
   "outputs": [
    {
     "data": {
      "text/plain": [
       "array([[-0.70732576,  0.4316153 ],\n",
       "       [-0.32794935, -0.78891239],\n",
       "       [ 0.24338461, -0.62239709],\n",
       "       ...,\n",
       "       [-1.77556364,  0.31805985],\n",
       "       [-1.10572299, -1.44331578],\n",
       "       [ 1.38589389, -1.07308135]])"
      ]
     },
     "execution_count": 23,
     "metadata": {},
     "output_type": "execute_result"
    }
   ],
   "source": [
    "X_2d"
   ]
  },
  {
   "cell_type": "markdown",
   "id": "a30a96db",
   "metadata": {},
   "source": [
    "PCA é comumente usada para reduzir a dimensão dos seus dados. Intuitivamente, o modelo colapsa os dados através dos componentes principais. Você pode pensar no primeiro componente principal (em um conjunto de dados 2D) como a linha onde há a maior quantidade de variância. Você pode então colapsar os pontos de dados nessa linha. Portanto, você passou de 2D para 1D. Você pode generalizar essa intuição para várias dimensões.\n",
    "\n",
    "<img src=\"./imgs/pca3.png\">\n",
    "\n",
    "**Eigenvectors**: os vetores resultantes, também conhecidos como características não correlacionadas dos seus dados.\n",
    "\n",
    "**Eigenvalues**: a quantidade de informação retida por cada nova característica. Você pode pensar nisso como a variância no vetor próprio.\n",
    "\n",
    "Além disso, cada autovalor tem um vetor próprio correspondente. O autovalor informa quanto variância há no vetor próprio. Aqui estão os passos necessários para calcular a PCA:\n",
    "\n",
    "Passos para Calcular a PCA:\n",
    "\n",
    "<img src=\"./imgs/pca4.png\">\n",
    "\n",
    "1. Normalizar a média dos seus dados.\n",
    "2. Calcular a matriz de covariância.\n",
    "3. Calcular SVD na sua matriz de covariância. Isso retorna $[USV] = \\text{svd}(\\Sigma)$. As três matrizes U, S, V são desenhadas acima. U é rotulado com os vetores próprios, e S é rotulado com os autovalores.\n",
    "\n",
    "Você pode então usar as primeiras n colunas do vetor $U$, para obter seus novos dados multiplicando $XU[:,0:n]$."
   ]
  },
  {
   "cell_type": "markdown",
   "id": "d59f4b90",
   "metadata": {},
   "source": [
    "# Week 4 - Machine Translation"
   ]
  },
  {
   "cell_type": "markdown",
   "id": "44766d5f",
   "metadata": {},
   "source": [
    "## Objetivos de aprendizagem\n",
    "- Gradient descent\n",
    "- Approximate nearest neighbors\n",
    "- Locality sensitive hashing\n",
    "- Hash functions\n",
    "- Hash tables\n",
    "- K nearest neighbors\n",
    "- Document search\n",
    "- Machine translation\n",
    "- Frobenius norm"
   ]
  },
  {
   "cell_type": "markdown",
   "id": "47d50b9b",
   "metadata": {},
   "source": [
    "## Transforming word vectors"
   ]
  },
  {
   "cell_type": "markdown",
   "id": "8e89c124",
   "metadata": {},
   "source": [
    "Para transformar vetores de palavras de uma língua para outra na task de machine translation, precisamos obter uma matriz $R$, que para identificar os valores similares do idioma que queremos traduzir.\n",
    "\n",
    "No exemplo abaixo, a palavra \"chat\" representa \"cat\" em francês, e podemos identificar o seu vetor após multiplicar a matriz do subconjunto de palavras em inglês pela matriz $R$ e identificar a matriz mais próxima utilizando similaridade de cosseno entre o resultado e todos os vetores em francês.\n",
    "\n",
    "Observe que $X$ corresponde à matriz de vetores de palavras em inglês e $Y$ corresponde à matriz de vetores de palavras em francês. $R$ é a matriz de mapeamento.\n",
    "\n",
    "Passos necessários para aprender $R$:\n",
    "\n",
    "1. Inicialize $R$.\n",
    "2. Para cada iteração:\n",
    "\n",
    "    a. Calcule a perda $Loss = \\lVert XR - Y \\rVert_F$.\n",
    "    \n",
    "    b. Calcule o gradiente $g = \\frac{dLoss}{dR}$.\n",
    "    \n",
    "    c. Atualize $R$: $R = R - \\alpha * g$.\n",
    "\n",
    "Aqui está um exemplo para mostrar como a norma de Frobenius funciona:\n",
    "\n",
    "$\\lVert A \\rVert_F = \\sqrt{(\\sum_{i=1}^{m} \\sum_{j=1}^{n} |a_{ij}|^2)}$\n",
    "\n",
    "Em resumo, você está fazendo uso do seguinte:\n",
    "\n",
    "- $XR \\approx Y$\n",
    "- Minimizar $\\lVert XR - Y \\rVert_F^2$\n",
    "\n",
    "<img src=\"./imgs/transforming_vectors1.png\">\n",
    "\n",
    "<img src=\"./imgs/transforming_vectors2.png\">"
   ]
  },
  {
   "cell_type": "markdown",
   "id": "43d4009c",
   "metadata": {},
   "source": [
    "## K-nearest neighbors"
   ]
  },
  {
   "cell_type": "markdown",
   "id": "77f5cae7",
   "metadata": {},
   "source": [
    "Após computar o output de $XR$, teremos um novo vetor transformado. Precisamos encontrar quais os vetores do idioma francês estão mais próximos do novo vetor transformado. E podemos fazer isso utilizando K-nearest neighbors\n",
    "\n",
    "<img src=\"./imgs/knn.png\">"
   ]
  },
  {
   "cell_type": "markdown",
   "id": "464daa9d",
   "metadata": {},
   "source": [
    "O K-nearest neighbors (K-NN) é um algoritmo de aprendizado supervisionado utilizado para classificação e regressão. No contexto da identificação de vetores mais próximos, o K-NN é empregado como um algoritmo de **recuperação de informação (information retrieval)**, onde os \"vizinhos mais próximos\" referem-se aos vetores mais semelhantes aos vetores de consulta com base em alguma medida de distância. \n",
    "\n",
    "**Funcionamento do K-NN:**\n",
    "1. **Treinamento**:\n",
    "   - No treinamento do K-NN, os vetores de treinamento são armazenados sem nenhum processamento adicional. Cada vetor de treinamento é associado a uma classe ou rótulo no caso da classificação, ou a um valor no caso da regressão.\n",
    "\n",
    "2. **Cálculo da Distância**:\n",
    "   - Durante a fase de teste ou consulta, o K-NN calcula a distância entre o vetor de consulta e todos os vetores de treinamento. As distâncias mais comuns usadas incluem a distância euclidiana, a distância de Manhattan, a distância de Minkowski, entre outras.\n",
    "\n",
    "3. **Seleção dos K-vizinhos mais próximos**:\n",
    "   - Após o cálculo das distâncias, o K-NN seleciona os K vetores de treinamento mais próximos do vetor de consulta com base na medida de distância escolhida.\n",
    "\n",
    "4. **Classificação ou Regressão**:\n",
    "   - Para a classificação, o K-NN atribui a classe mais frequente entre os K vizinhos mais próximos ao vetor de consulta. No caso de regressão, o K-NN pode calcular a média ou a mediana dos valores associados aos K vizinhos mais próximos e atribuí-lo ao vetor de consulta.\n",
    "\n",
    "**Utilização para Identificação de Vetores Mais Próximos:**\n",
    "- **Recuperação de Informação**:\n",
    "  - No contexto de identificar vetores mais próximos, o K-NN pode ser utilizado como um algoritmo de recuperação de informação. Dados um vetor de consulta e uma coleção de vetores, o K-NN pode encontrar os vetores mais semelhantes ao vetor de consulta com base na distância escolhida.\n",
    "\n",
    "- **Sistemas de Recomendação**:\n",
    "  - Em sistemas de recomendação, o K-NN pode ser usado para encontrar os itens mais semelhantes a um item de interesse com base em avaliações de usuários ou características dos itens.\n",
    "\n",
    "- **Agrupamento de Dados**:\n",
    "  - No agrupamento de dados, o K-NN pode ser utilizado para encontrar grupos de vetores que são próximos uns dos outros em termos de suas características.\n",
    "\n",
    "**Exemplo:**\n",
    "Suponha que temos um conjunto de dados de vetores de features que representam produtos em um site de compras online. Cada vetor contém informações como preço, categoria, avaliação dos usuários, etc. Para identificar os produtos mais similares a um produto de consulta, podemos usar o K-NN da seguinte forma:\n",
    "\n",
    "- Calculamos a distância entre o vetor de consulta (representando o produto de interesse) e todos os vetores de produtos no conjunto de dados.\n",
    "- Selecionamos os K produtos mais próximos com base na distância.\n",
    "- Podemos então recomendar esses produtos ao usuário como itens similares ao produto de consulta.\n",
    "\n",
    "O K-NN é uma técnica simples e poderosa que pode ser utilizada em diversas aplicações para identificar vetores mais próximos com base em alguma medida de distância, facilitando a recuperação de informação e a análise de dados."
   ]
  },
  {
   "cell_type": "markdown",
   "id": "bab51c50",
   "metadata": {},
   "source": [
    "## Hash tables and hash functions"
   ]
  },
  {
   "cell_type": "markdown",
   "id": "e28c6d21",
   "metadata": {},
   "source": [
    "Hash tables e hash functions são conceitos fundamentais em ciência da computação, utilizados para armazenar e acessar dados de forma eficiente.\n",
    "\n",
    "**Hash Functions:**\n",
    "\n",
    "Uma função de hash é uma função que mapeia dados de tamanho arbitrário para valores de tamanho fixo, geralmente uma sequência de números ou letras. O objetivo principal de uma função de hash é espalhar os dados de forma uniforme ao longo de um espaço de hash, minimizando colisões, ou seja, o mapeamento de diferentes dados para o mesmo valor de hash. Boas funções de hash têm as seguintes propriedades:\n",
    "\n",
    "1. **Determinismo**: Para o mesmo dado de entrada, a função de hash sempre produz o mesmo valor de hash.\n",
    "2. **Eficiência**: A função de hash deve ser rápida de calcular.\n",
    "3. **Espalhamento Uniforme**: A função de hash deve distribuir os dados uniformemente pelo espaço de hash, minimizando colisões.\n",
    "\n",
    "**Exemplo de Função de Hash:**\n",
    "\n",
    "```python\n",
    "def hash_function(data, size):\n",
    "    # Exemplo simples de função de hash: soma dos códigos ASCII dos caracteres\n",
    "    hash_value = sum(ord(char) for char in data) % size\n",
    "    return hash_value\n",
    "```\n",
    "\n",
    "Neste exemplo, a função de hash calcula a soma dos códigos ASCII dos caracteres de uma string e, em seguida, aplica o módulo do tamanho da tabela hash para obter um valor de hash dentro do intervalo desejado.\n",
    "\n",
    "**Hash Tables:**\n",
    "\n",
    "Uma tabela hash (ou hash table) é uma estrutura de dados que utiliza funções de hash para armazenar e recuperar dados de forma eficiente. Consiste em um array (ou vetor) de \"buckets\" (ou \"slots\"), onde cada bucket é indexado por um valor de hash único. Os dados são armazenados na tabela hash usando seus valores de hash como chaves de acesso.\n",
    "\n",
    "**Exemplo de Hash Table:**\n",
    "\n",
    "```python\n",
    "class HashTable:\n",
    "    def __init__(self, size):\n",
    "        self.size = size\n",
    "        self.table = [None] * size\n",
    "    \n",
    "    def put(self, key, value):\n",
    "        index = hash_function(key, self.size)\n",
    "        self.table[index] = value\n",
    "    \n",
    "    def get(self, key):\n",
    "        index = hash_function(key, self.size)\n",
    "        return self.table[index]\n",
    "\n",
    "# Exemplo de uso\n",
    "hash_table = HashTable(10)\n",
    "hash_table.put(\"apple\", 5)\n",
    "hash_table.put(\"banana\", 8)\n",
    "\n",
    "print(hash_table.get(\"apple\"))  # Saída: 5\n",
    "print(hash_table.get(\"banana\"))  # Saída: 8\n",
    "```\n",
    "\n",
    "Neste exemplo, implementamos uma tabela hash simples em Python usando uma lista como o array de buckets. A função `put` insere um par chave-valor na tabela hash, calculando o índice usando a função de hash. A função `get` recupera o valor associado a uma chave específica, novamente usando a função de hash para encontrar o índice correto na tabela.\n",
    "\n",
    "As tabelas hash são amplamente utilizadas em diversas aplicações, incluindo bancos de dados, caches, tabelas de espalhamento e muito mais, devido à sua eficiência na busca e inserção de dados."
   ]
  },
  {
   "cell_type": "markdown",
   "id": "08b51187",
   "metadata": {},
   "source": [
    "No contexto de tradução automática (machine translation), as hash tables e hash functions podem ser utilizadas para diversos fins, como armazenamento de vocabulário, mapeamento de palavras ou frases para índices, gerenciamento de alinhamentos de palavras, entre outros. \n",
    "\n",
    "**Armazenamento de Vocabulário:**\n",
    "\n",
    "**Hash Table**: Uma hash table pode ser usada para armazenar o vocabulário de um idioma. Cada palavra é mapeada para um índice único na hash table, que pode ser usado para referenciar a palavra em outras estruturas de dados.\n",
    "\n",
    "**Hash Function**: A função de hash pode ser usada para mapear as palavras do vocabulário para índices na hash table. Idealmente, a função de hash distribuirá as palavras de forma uniforme na hash table.\n",
    "\n",
    "**Exemplo**:\n",
    "```python\n",
    "# Criação de uma hash table para armazenar o vocabulário\n",
    "vocab_hash = {}\n",
    "\n",
    "# Adiciona palavras ao vocabulário com um índice único usando uma função de hash\n",
    "def add_word_to_vocab(word):\n",
    "    index = hash(word)  # Exemplo simples de função de hash\n",
    "    vocab_hash[index] = word\n",
    "\n",
    "# Adiciona algumas palavras ao vocabulário\n",
    "add_word_to_vocab(\"hello\")\n",
    "add_word_to_vocab(\"world\")\n",
    "\n",
    "print(vocab_hash)\n",
    "# Saída: {126423: 'hello', 168706908251269437: 'world'}\n",
    "```\n",
    "\n",
    "**Mapeamento de Palavras ou Frases para Índices:**\n",
    "\n",
    "**Hash Table**: Uma hash table pode ser usada para mapear palavras ou frases para índices em um modelo de tradução automática. Isso pode ser útil para armazenar embeddings de palavras, probabilidades de tradução, ou outros dados relacionados à tradução.\n",
    "\n",
    "**Hash Function**: A função de hash pode ser usada para mapear palavras ou frases para índices únicos na hash table.\n",
    "\n",
    "**Exemplo**:\n",
    "```python\n",
    "# Criação de uma hash table para mapear palavras para índices\n",
    "word_index_hash = {}\n",
    "\n",
    "# Adiciona palavras ao mapeamento usando uma função de hash\n",
    "def map_word_to_index(word):\n",
    "    index = hash(word)  # Exemplo simples de função de hash\n",
    "    word_index_hash[word] = index\n",
    "\n",
    "# Mapeia algumas palavras para índices\n",
    "map_word_to_index(\"hello\")\n",
    "map_word_to_index(\"world\")\n",
    "\n",
    "print(word_index_hash)\n",
    "# Saída: {'hello': 126423, 'world': 168706908251269437}\n",
    "```\n",
    "\n",
    "**Gerenciamento de Alinhamentos de Palavras:**\n",
    "\n",
    "**Hash Table**: Uma hash table pode ser usada para armazenar alinhamentos de palavras entre dois idiomas em um modelo de tradução automática. Cada palavra do idioma de origem é mapeada para uma lista de palavras alinhadas no idioma de destino.\n",
    "\n",
    "**Hash Function**: A função de hash pode ser usada para mapear palavras de um idioma para listas de palavras alinhadas em outro idioma.\n",
    "\n",
    "**Exemplo**:\n",
    "```python\n",
    "# Criação de uma hash table para armazenar alinhamentos de palavras\n",
    "alignment_hash = {}\n",
    "\n",
    "# Adiciona alinhamentos de palavras usando uma função de hash\n",
    "def add_word_alignment(source_word, target_word):\n",
    "    source_index = hash(source_word)  # Exemplo simples de função de hash\n",
    "    if source_index not in alignment_hash:\n",
    "        alignment_hash[source_index] = [target_word]\n",
    "    else:\n",
    "        alignment_hash[source_index].append(target_word)\n",
    "\n",
    "# Adiciona alguns alinhamentos de palavras\n",
    "add_word_alignment(\"hello\", \"bonjour\")\n",
    "add_word_alignment(\"hello\", \"salut\")\n",
    "\n",
    "print(alignment_hash)\n",
    "# Saída: {126423: ['bonjour', 'salut']}\n",
    "```\n",
    "\n",
    "Esses são apenas alguns exemplos de como hash tables e hash functions podem ser utilizadas no contexto de tradução automática. Elas podem ser aplicadas de muitas outras maneiras, dependendo das necessidades específicas do sistema de tradução automática."
   ]
  },
  {
   "cell_type": "markdown",
   "id": "3c1ec7f9",
   "metadata": {},
   "source": [
    "## Locality sensitive hashing"
   ]
  },
  {
   "cell_type": "markdown",
   "id": "39dd269d",
   "metadata": {},
   "source": [
    "Local Sensitive Hashing (LSH) é uma técnica de hashing probabilística utilizada para encontrar itens semelhantes em grandes conjuntos de dados, especialmente em dados de alta dimensionalidade, como vetores de características. Ao contrário de hash functions tradicionais, que tentam minimizar colisões para preservar a integridade dos dados, LSH tenta maximizar colisões entre itens semelhantes, a fim de agrupá-los juntos.\n",
    "\n",
    "**Funcionamento do LSH:**\n",
    "\n",
    "1. **Divisão do Espaço de Hashing**:\n",
    "   - O espaço de hash é dividido em várias regiões ou \"buckets\". Idealmente, itens semelhantes devem ser mapeados para os mesmos buckets com alta probabilidade.\n",
    "\n",
    "2. **Funções de Hashing Locais**:\n",
    "   - São utilizadas funções de hash específicas que são sensíveis à localidade, ou seja, que maximizam a probabilidade de colisão entre itens semelhantes. Essas funções podem ser projetadas de várias maneiras, como funções de projeção aleatórias ou funções sensíveis à distância.\n",
    "\n",
    "3. **Agrupamento de Itens Semelhantes**:\n",
    "   - Os itens do conjunto de dados são então mapeados para os buckets usando as funções de hash locais. Itens mapeados para os mesmos buckets são considerados candidatos a serem semelhantes.\n",
    "\n",
    "4. **Comparação de Candidatos**:\n",
    "   - Para cada item, apenas uma pequena fração dos itens no mesmo bucket é comparada para determinar os verdadeiros vizinhos mais próximos. Isso ajuda a reduzir o tempo de busca em grandes conjuntos de dados.\n",
    "\n",
    "**Exemplo de Local Sensitive Hashing:**\n",
    "\n",
    "Suponha que temos um conjunto de vetores de características que representam imagens em um banco de dados. Queremos encontrar imagens semelhantes a uma imagem de consulta específica usando LSH.\n",
    "\n",
    "- **Divisão do Espaço de Hashing**: Dividimos o espaço de hash em regiões ou buckets.\n",
    "- **Funções de Hashing Locais**: Definimos funções de hash que maximizam a probabilidade de colisão entre vetores de características semelhantes.\n",
    "- **Agrupamento de Itens Semelhantes**: Mapeamos os vetores de características das imagens para os buckets usando as funções de hash locais.\n",
    "- **Comparação de Candidatos**: Para cada imagem de consulta, comparamos apenas as imagens nos mesmos buckets para determinar os verdadeiros vizinhos mais próximos.\n",
    "\n",
    "**Uso do LSH:**\n",
    "\n",
    "- **Recuperação de Informação**: LSH é usado em sistemas de recomendação, pesquisa de similaridade em grandes conjuntos de dados, detecção de duplicatas e muito mais.\n",
    "- **Mineração de Dados**: É utilizado em mineração de texto, mineração de imagens, mineração de grafos e outras aplicações de mineração de dados.\n",
    "- **Análise de Big Data**: LSH é particularmente útil em análises de big data, onde a eficiência de busca é crucial devido ao grande volume de dados.\n",
    "\n",
    "Em resumo, Local Sensitive Hashing é uma técnica eficaz para encontrar itens semelhantes em grandes conjuntos de dados, especialmente em dados de alta dimensionalidade, como vetores de características, ajudando a reduzir o tempo de busca e os requisitos computacionais."
   ]
  },
  {
   "cell_type": "markdown",
   "id": "e0e582ac",
   "metadata": {
    "ExecuteTime": {
     "end_time": "2024-04-13T20:25:57.502721Z",
     "start_time": "2024-04-13T20:25:57.485161Z"
    }
   },
   "source": [
    "Local Sensitive Hashing (LSH) pode ser aplicado no contexto de tradução automática de várias maneiras para facilitar a busca eficiente de traduções ou alinhamentos de frases semelhantes em grandes conjuntos de dados.\n",
    "\n",
    "**1. Busca Eficiente de Traduções Alternativas:**\n",
    "\n",
    "- **Aplicação**: Em tradução automática, é comum ter várias traduções possíveis para uma determinada frase de origem. LSH pode ser usado para indexar e recuperar traduções alternativas de forma eficiente.\n",
    "\n",
    "- **Implementação**: As frases no idioma de origem e suas traduções correspondentes podem ser mapeadas para um espaço vetorial. Em seguida, LSH pode ser aplicado para agrupar traduções semelhantes em buckets. Isso permite uma busca rápida por traduções alternativas semelhantes à frase de origem.\n",
    "\n",
    "**2. Alinhamento de Frases Semelhantes:**\n",
    "\n",
    "- **Aplicação**: Em alinhamento de frases, é necessário encontrar frases semelhantes em dois idiomas diferentes. LSH pode ser usado para encontrar alinhamentos aproximados entre frases semelhantes.\n",
    "\n",
    "- **Implementação**: As frases nos idiomas de origem e destino podem ser mapeadas para espaços vetoriais. Em seguida, LSH pode ser aplicado para agrupar frases semelhantes em cada idioma em buckets. Isso facilita a busca por frases aproximadamente alinhadas entre os dois idiomas.\n",
    "\n",
    "**3. Identificação de Frases Parcialmente Correspondentes:**\n",
    "\n",
    "- **Aplicação**: Em tradução automática, pode ser útil identificar partes de frases que correspondem parcialmente a outras frases em outro idioma. LSH pode ser usado para identificar frases parcialmente correspondentes de forma eficiente.\n",
    "\n",
    "- **Implementação**: As partes das frases podem ser mapeadas para espaços vetoriais. Em seguida, LSH pode ser aplicado para agrupar partes de frases semelhantes em buckets. Isso permite a identificação eficiente de partes de frases que correspondem parcialmente a outras frases em outro idioma.\n",
    "\n",
    "**Exemplo:**\n",
    "\n",
    "Suponha que temos um conjunto de frases em inglês e suas traduções em francês. Queremos encontrar traduções alternativas para uma frase de origem específica usando LSH.\n",
    "\n",
    "- **Passo 1**: Mapear frases para vetores de características.\n",
    "- **Passo 2**: Aplicar LSH para agrupar frases semelhantes em buckets.\n",
    "- **Passo 3**: Para uma frase de origem, recuperar traduções alternativas semelhantes das frases no mesmo bucket.\n",
    "\n",
    "```python\n",
    "from sklearn.feature_extraction.text import TfidfVectorizer\n",
    "from sklearn.neighbors import NearestNeighbors\n",
    "\n",
    "# Exemplo de frases em inglês\n",
    "english_sentences = [\"hello\", \"goodbye\", \"thank you\", \"how are you\", \"what is your name\"]\n",
    "\n",
    "# Exemplo de traduções em francês\n",
    "french_translations = [\"bonjour\", \"au revoir\", \"merci\", \"comment vas-tu\", \"quel est ton nom\"]\n",
    "\n",
    "# Mapear frases para vetores de características usando TF-IDF\n",
    "vectorizer = TfidfVectorizer()\n",
    "X = vectorizer.fit_transform(english_sentences)\n",
    "\n",
    "# Aplicar LSH para agrupar frases semelhantes\n",
    "lshf = NearestNeighbors(n_neighbors=10)\n",
    "lshf.fit(X)\n",
    "\n",
    "# Recuperar traduções alternativas para uma frase de origem específica\n",
    "query = vectorizer.transform([\"hello\"])\n",
    "neighbors = lshf.kneighbors(query, n_neighbors=3)\n",
    "\n",
    "# Exibir traduções alternativas\n",
    "for neighbor_index in neighbors[1][0]:\n",
    "    print(french_translations[neighbor_index])\n",
    "```\n",
    "\n",
    "Este é um exemplo simples de como usar LSH no contexto de tradução automática para encontrar traduções alternativas para uma frase de origem específica. O LSH é aplicado para agrupar frases semelhantes em buckets, o que facilita a busca eficiente por traduções alternativas semelhantes."
   ]
  },
  {
   "cell_type": "markdown",
   "id": "604861d2",
   "metadata": {},
   "source": [
    "## Multiple Planes"
   ]
  },
  {
   "cell_type": "markdown",
   "id": "9443637b",
   "metadata": {},
   "source": [
    "No contexto de Local Sensitive Hashing (LSH), a técnica de múltiplos planos é uma abordagem utilizada para aumentar a sensibilidade local do hashing, permitindo uma melhor discriminação entre itens semelhantes e não semelhantes. Essa técnica é comumente aplicada em tarefas de busca aproximada, onde o objetivo é agrupar itens semelhantes em buckets para facilitar a recuperação eficiente de vizinhos próximos.\n",
    "\n",
    "**Funcionamento dos Múltiplos Planos:**\n",
    "\n",
    "1. **Definição dos Planos**:\n",
    "   - Os múltiplos planos são definidos como hiperplanos em um espaço de hash de alta dimensão. Cada plano é representado por um vetor de pesos que define a orientação e a localização do plano no espaço.\n",
    "\n",
    "2. **Projeção dos Itens**:\n",
    "   - Os itens a serem hashados são projetados nos múltiplos planos. Isso é feito calculando o produto interno entre o vetor de características do item e o vetor de pesos de cada plano.\n",
    "\n",
    "3. **Geração dos Hash Values**:\n",
    "   - Com base nas projeções, são gerados hash values para cada item em relação a cada plano. Dependendo do sinal do resultado da projeção, um bit é atribuído como 0 ou 1.\n",
    "\n",
    "4. **Combinação dos Hash Values**:\n",
    "   - Os hash values de cada plano são combinados para formar um hash final para cada item. Isso pode ser feito concatenando os hash values ou usando operações de bits, como XOR ou OR.\n",
    "\n",
    "5. **Armazenamento nos Buckets**:\n",
    "   - Com base no hash final, os itens são atribuídos a buckets específicos na hash table.\n",
    "\n",
    "**Exemplo de Múltiplos Planos em LSH:**\n",
    "\n",
    "Considere um problema de busca aproximada em que queremos agrupar documentos semelhantes em buckets usando LSH com múltiplos planos.\n",
    "\n",
    "- **Definição dos Planos**: Os múltiplos planos são representados por vetores de pesos aleatórios.\n",
    "- **Projeção dos Documentos**: Os vetores de características dos documentos são projetados nos múltiplos planos.\n",
    "- **Geração dos Hash Values**: Com base nas projeções, são gerados hash values atribuindo 0 ou 1 dependendo do sinal das projeções.\n",
    "- **Combinação dos Hash Values**: Os hash values de cada plano são combinados para formar o hash final de cada documento.\n",
    "- **Armazenamento nos Buckets**: Com base no hash final, os documentos são atribuídos a buckets específicos na hash table.\n",
    "\n",
    "**Exemplo de Implementação em Python:**\n",
    "\n",
    "```python\n",
    "import numpy as np\n",
    "\n",
    "# Função para gerar vetores de pesos aleatórios para os planos\n",
    "def generate_random_planes(num_planes, num_features):\n",
    "    return np.random.randn(num_planes, num_features)\n",
    "\n",
    "# Função para projetar um item nos planos e gerar hash values\n",
    "def project_and_hash(item, planes):\n",
    "    projections = np.dot(planes, item)\n",
    "    hash_values = (projections >= 0).astype(int)  # Atribui 1 para projeções positivas e 0 para negativas\n",
    "    return hash_values\n",
    "\n",
    "# Exemplo de uso\n",
    "num_planes = 5\n",
    "num_features = 10\n",
    "planes = generate_random_planes(num_planes, num_features)\n",
    "item = np.random.randn(num_features)  # Exemplo de vetor de características de um item\n",
    "hash_values = project_and_hash(item, planes)\n",
    "print(\"Hash Values:\", hash_values)\n",
    "```\n",
    "\n",
    "Neste exemplo, estamos gerando múltiplos planos aleatórios e projetando um vetor de características de um item nesses planos para gerar hash values. Os hash values são então combinados para formar um hash final para o item. Este hash final pode ser usado para atribuir o item a um bucket específico na hash table."
   ]
  },
  {
   "cell_type": "markdown",
   "id": "ddb57cee",
   "metadata": {},
   "source": [
    "## Approximate nearest neighbors"
   ]
  },
  {
   "cell_type": "markdown",
   "id": "916686d3",
   "metadata": {},
   "source": [
    "Approximate Nearest Neighbors (ANN) é uma técnica usada para encontrar pontos que são aproximadamente os vizinhos mais próximos de um ponto de consulta em um conjunto de dados, em vez de encontrar os vizinhos mais próximos exatos. Isso é útil em cenários onde a exatidão total não é necessária, mas a eficiência computacional é crucial.\n",
    "\n",
    "**Funcionamento do Approximate Nearest Neighbors (ANN):**\n",
    "\n",
    "1. **Indexação do Conjunto de Dados**:\n",
    "   - Antes de encontrar os vizinhos mais próximos, o conjunto de dados é indexado de uma maneira que facilite a busca eficiente. Isso pode ser feito usando estruturas de dados como árvores kd, hashing ou técnicas de redução de dimensionalidade, como PCA ou LSH.\n",
    "\n",
    "2. **Busca Aproximada**:\n",
    "   - Quando um ponto de consulta é recebido, o algoritmo de ANN busca no conjunto de dados para encontrar os pontos que são aproximadamente os vizinhos mais próximos do ponto de consulta. A busca é feita de uma maneira que prioriza a eficiência computacional sobre a precisão absoluta.\n",
    "\n",
    "3. **Retorno dos Resultados**:\n",
    "   - Os pontos que são aproximadamente os vizinhos mais próximos do ponto de consulta são retornados como resultados. Dependendo do método utilizado, a precisão dos resultados pode variar, mas geralmente é suficiente para muitos aplicativos.\n",
    "\n",
    "**Exemplos de Aplicativos:**\n",
    "\n",
    "1. **Sistemas de Recomendação**:\n",
    "   - Em sistemas de recomendação, é comum usar ANN para encontrar itens semelhantes aos itens que um usuário já gostou. Isso permite recomendações rápidas, mesmo em grandes conjuntos de dados.\n",
    "\n",
    "2. **Busca em Grandes Conjuntos de Dados**:\n",
    "   - Em sistemas de busca, ANN pode ser usado para encontrar documentos ou imagens semelhantes a uma consulta do usuário em grandes conjuntos de dados.\n",
    "\n",
    "3. **Processamento de Linguagem Natural (NLP)**:\n",
    "   - Em NLP, ANN pode ser usado para encontrar frases ou documentos semelhantes a uma consulta do usuário, facilitando a recuperação de informações relevantes.\n",
    "\n",
    "**Exemplo de Uso de ANN:**\n",
    "\n",
    "Suponha que temos um conjunto de dados de vetores de características que representam imagens. Queremos encontrar imagens que são aproximadamente as mais semelhantes a uma imagem de consulta usando ANN.\n",
    "\n",
    "- **Passo 1**: Indexar o conjunto de dados de imagens para facilitar a busca eficiente.\n",
    "- **Passo 2**: Quando uma imagem de consulta é recebida, usar ANN para encontrar as imagens que são aproximadamente as mais semelhantes à imagem de consulta.\n",
    "- **Passo 3**: Retornar as imagens encontradas como resultados.\n",
    "\n",
    "```python\n",
    "from sklearn.neighbors import NearestNeighbors\n",
    "\n",
    "# Exemplo de conjunto de dados de imagens\n",
    "X = ...  # Vetores de características das imagens\n",
    "\n",
    "# Indexar o conjunto de dados de imagens\n",
    "ann_model = NearestNeighbors(n_neighbors=5, algorithm='auto')\n",
    "ann_model.fit(X)\n",
    "\n",
    "# Quando uma imagem de consulta é recebida\n",
    "query_image = ...  # Vetor de características da imagem de consulta\n",
    "distances, indices = ann_model.kneighbors([query_image])\n",
    "\n",
    "# Retornar as imagens encontradas como resultados\n",
    "similar_images = X[indices[0]]\n",
    "print(\"Imagens aproximadamente mais semelhantes:\", similar_images)\n",
    "```\n",
    "\n",
    "Neste exemplo, estamos usando a biblioteca scikit-learn para encontrar as imagens que são aproximadamente as mais semelhantes a uma imagem de consulta usando ANN. A busca é rápida e eficiente, mesmo em grandes conjuntos de dados de imagens."
   ]
  },
  {
   "cell_type": "markdown",
   "id": "b3c34dc7",
   "metadata": {},
   "source": [
    "No contexto de machine translation (tradução automática), o Approximate Nearest Neighbors (ANN) refere-se à técnica de encontrar traduções aproximadamente mais próximas de uma frase de origem específica em um conjunto de dados de pares de frases. Em vez de buscar exatamente a tradução mais próxima, o objetivo é encontrar traduções que sejam aproximadamente semelhantes à frase de origem de uma maneira eficiente em termos computacionais.\n",
    "\n",
    "**Funcionamento do Approximate Nearest Neighbors (ANN) em Machine Translation:**\n",
    "\n",
    "1. **Indexação do Conjunto de Dados**:\n",
    "   - Antes de encontrar as traduções aproximadamente mais próximas, o conjunto de dados de pares de frases é indexado de uma forma que facilite a busca eficiente. Isso pode ser feito usando técnicas como hashing, LSH (Local Sensitive Hashing), ou outros métodos de indexação.\n",
    "\n",
    "2. **Busca Aproximada**:\n",
    "   - Quando uma frase de origem é recebida, o algoritmo de ANN busca no conjunto de dados para encontrar traduções que sejam aproximadamente as mais próximas da frase de origem. Isso é feito de uma maneira que prioriza a eficiência computacional sobre a precisão absoluta.\n",
    "\n",
    "3. **Retorno dos Resultados**:\n",
    "   - As traduções aproximadamente mais próximas da frase de origem são retornadas como resultados. Embora essas traduções possam não ser exatamente as mais próximas em termos de similaridade linguística, elas são consideradas aceitáveis para o contexto da aplicação.\n",
    "\n",
    "**Exemplo de Aplicação de ANN em Machine Translation:**\n",
    "\n",
    "Suponha que temos um conjunto de dados de pares de frases em inglês e francês. Queremos encontrar traduções aproximadamente mais próximas de uma frase de origem em inglês usando ANN.\n",
    "\n",
    "- **Passo 1**: Indexar o conjunto de dados de pares de frases para facilitar a busca eficiente.\n",
    "- **Passo 2**: Quando uma frase de origem em inglês é recebida, usar ANN para encontrar traduções aproximadamente mais próximas da frase de origem.\n",
    "- **Passo 3**: Retornar as traduções aproximadamente mais próximas encontradas como resultados.\n",
    "\n",
    "```python\n",
    "from sklearn.neighbors import NearestNeighbors\n",
    "from sklearn.feature_extraction.text import TfidfVectorizer\n",
    "\n",
    "# Exemplo de conjunto de dados de pares de frases em inglês e francês\n",
    "english_sentences = [\"hello\", \"goodbye\", \"thank you\", \"how are you\", \"what is your name\"]\n",
    "french_translations = [\"bonjour\", \"au revoir\", \"merci\", \"comment vas-tu\", \"quel est ton nom\"]\n",
    "\n",
    "# Indexar o conjunto de dados de pares de frases\n",
    "vectorizer = TfidfVectorizer()\n",
    "X = vectorizer.fit_transform(english_sentences)\n",
    "\n",
    "# Usar ANN para encontrar traduções aproximadamente mais próximas\n",
    "ann_model = NearestNeighbors(n_neighbors=1, algorithm='auto')\n",
    "ann_model.fit(X)\n",
    "\n",
    "# Quando uma frase de origem em inglês é recebida\n",
    "query_sentence = \"hello\"\n",
    "query_vector = vectorizer.transform([query_sentence])\n",
    "\n",
    "# Encontrar a tradução aproximadamente mais próxima da frase de origem\n",
    "distance, index = ann_model.kneighbors(query_vector)\n",
    "\n",
    "# Retornar a tradução aproximadamente mais próxima encontrada\n",
    "nearest_translation = french_translations[index[0][0]]\n",
    "print(\"Tradução aproximadamente mais próxima:\", nearest_translation)\n",
    "```\n",
    "\n",
    "Neste exemplo, estamos usando a biblioteca scikit-learn para encontrar a tradução aproximadamente mais próxima de uma frase de origem em inglês usando ANN. O processo é rápido e eficiente, mesmo em grandes conjuntos de dados de pares de frases.\n",
    "\n",
    "**Explicação**:\n",
    "\n",
    "**1. Indexação das Frases em Inglês**: Usamos a classe TfidfVectorizer do scikit-learn para converter as frases em inglês em vetores de características. Esses vetores representam a \"assinatura\" de cada frase em inglês com base na frequência dos termos.\n",
    "\n",
    "**2. Aplicação de ANN aos Vetores de Características**: A classe NearestNeighbors é usada para aplicar a técnica de ANN aos vetores de características das frases em inglês. Isso cria uma estrutura de dados que facilita a busca eficiente por traduções aproximadamente mais próximas.\n",
    "\n",
    "**3. Consulta com uma Frase em Inglês**: Quando uma nova frase em inglês é recebida como consulta, ela também é transformada em um vetor de características usando o mesmo TfidfVectorizer.\n",
    "\n",
    "**4. Busca pela Tradução Aproximadamente Mais Próxima**: Usando a classe NearestNeighbors, buscamos a tradução aproximadamente mais próxima da frase de origem em inglês. A busca é feita no conjunto de dados indexado de vetores de características das frases em inglês, não diretamente nas traduções em francês.\n",
    "\n",
    "**5. Recuperação da Tradução Correspondente**: Depois de encontrar o índice da tradução aproximadamente mais próxima, podemos usar esse índice para acessar a lista french_translations e recuperar a tradução correspondente em francês.\n",
    "\n",
    "As traduções em francês não são explicitamente indexadas para a aplicação de ANN. Em vez disso, a busca é realizada nos vetores de características das frases em inglês, e a tradução correspondente é recuperada usando o índice encontrado. Isso permite uma busca eficiente por traduções aproximadamente mais próximas sem a necessidade de indexar separadamente as traduções em francês."
   ]
  },
  {
   "cell_type": "markdown",
   "id": "8d5cfff5",
   "metadata": {},
   "source": [
    "# Referência\n",
    "- Natural Language Processing with Classification and Vector Spaces, disponível em https://www.coursera.org/learn/classification-vector-spaces-in-nlp"
   ]
  },
  {
   "cell_type": "markdown",
   "id": "15521585",
   "metadata": {},
   "source": [
    "# Licença\n",
    "- CC BY-SA 2.0 LEGAL CODE. Attribution-ShareAlike 2.0 Generic\n",
    "- Para detalhes sobre a licença, verifique https://creativecommons.org/licenses/by-sa/2.0/legalcode"
   ]
  },
  {
   "cell_type": "code",
   "execution_count": 42,
   "id": "a818f630",
   "metadata": {
    "ExecuteTime": {
     "end_time": "2024-04-13T21:17:12.002066Z",
     "start_time": "2024-04-13T21:17:11.997072Z"
    }
   },
   "outputs": [
    {
     "name": "stdout",
     "output_type": "stream",
     "text": [
      "A norma de Frobenius de A é: 7.14142842854285\n"
     ]
    }
   ],
   "source": [
    "import numpy as np\n",
    "\n",
    "# Definir a matriz A\n",
    "A = np.array([[1, 3],\n",
    "              [4, 5]])\n",
    "\n",
    "# Calcular a norma de Frobenius\n",
    "norma_frobenius = np.linalg.norm(A, 'fro')\n",
    "\n",
    "print(\"A norma de Frobenius de A é:\", norma_frobenius)"
   ]
  }
 ],
 "metadata": {
  "kernelspec": {
   "display_name": "Python 3 (ipykernel)",
   "language": "python",
   "name": "python3"
  },
  "language_info": {
   "codemirror_mode": {
    "name": "ipython",
    "version": 3
   },
   "file_extension": ".py",
   "mimetype": "text/x-python",
   "name": "python",
   "nbconvert_exporter": "python",
   "pygments_lexer": "ipython3",
   "version": "3.10.12"
  },
  "toc": {
   "base_numbering": 1,
   "nav_menu": {},
   "number_sections": true,
   "sideBar": true,
   "skip_h1_title": false,
   "title_cell": "Table of Contents",
   "title_sidebar": "Contents",
   "toc_cell": false,
   "toc_position": {
    "height": "calc(100% - 180px)",
    "left": "10px",
    "top": "150px",
    "width": "341.465px"
   },
   "toc_section_display": true,
   "toc_window_display": true
  },
  "varInspector": {
   "cols": {
    "lenName": 16,
    "lenType": 16,
    "lenVar": 40
   },
   "kernels_config": {
    "python": {
     "delete_cmd_postfix": "",
     "delete_cmd_prefix": "del ",
     "library": "var_list.py",
     "varRefreshCmd": "print(var_dic_list())"
    },
    "r": {
     "delete_cmd_postfix": ") ",
     "delete_cmd_prefix": "rm(",
     "library": "var_list.r",
     "varRefreshCmd": "cat(var_dic_list()) "
    }
   },
   "types_to_exclude": [
    "module",
    "function",
    "builtin_function_or_method",
    "instance",
    "_Feature"
   ],
   "window_display": false
  }
 },
 "nbformat": 4,
 "nbformat_minor": 5
}
