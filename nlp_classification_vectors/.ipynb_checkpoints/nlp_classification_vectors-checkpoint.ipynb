{
 "cells": [
  {
   "cell_type": "markdown",
   "id": "e14d8fed",
   "metadata": {},
   "source": [
    "# Natural Language Processing with Classification and Vector Spaces\n",
    "\n",
    "Notas sobre o curso Natural Language Processing with Classification and Vector Spaces da DeeplearninigAI.\n",
    "\n",
    "Repositório com a trilha Natural Language Processing:\n",
    "https://github.com/k3ybladewielder/nlp"
   ]
  },
  {
   "cell_type": "markdown",
   "id": "0b8be55b",
   "metadata": {},
   "source": [
    "# Week 1 - Sentiment Analysis With Logistic Regression"
   ]
  },
  {
   "cell_type": "markdown",
   "id": "f8a0e16f",
   "metadata": {},
   "source": [
    "## Objetivos de aprendizagem\n",
    "- Sentiment analysis\n",
    "- Logistic regression\n",
    "- Data pre-processing\n",
    "- Calculating word frequencies\n",
    "- Feature extraction\n",
    "- Vocabulary creation\n",
    "- Supervised learning"
   ]
  },
  {
   "cell_type": "markdown",
   "id": "44ac8867",
   "metadata": {},
   "source": [
    "## Supervised ML and Sentiment Analysis"
   ]
  },
  {
   "cell_type": "markdown",
   "id": "60b2c4ea",
   "metadata": {},
   "source": [
    "Os algoritmos de **Machine Learning (ML)** supervisionados são um tipo de algoritmo que aprende a partir de dados rotulados, ou seja, dados que já possuem um rótulo ou uma classificação pré-definida. Esses algoritmos usam esses dados rotulados para aprender a fazer previsões ou classificações em novos dados.\n",
    "\n",
    "Na área de Processamento de Linguagem Natural (NLP), os algoritmos de ML supervisionados são usados para uma variedade de tarefas, como classificação de sentimentos, identificação de entidades nomeadas, análise de tópicos, tradução automática, entre outras.\n",
    "\n",
    "Um exemplo de como esses algoritmos são usados em NLP é na classificação de sentimentos em textos. Nesse caso, um modelo de ML supervisionado seria **treinado em um conjunto de dados rotulados** que contém textos e suas respectivas classificações de sentimento (por exemplo, positivo, negativo ou neutro). O algoritmo usaria esses dados para **aprender a reconhecer padrões nos textos** e, em seguida, aplicaria esses padrões para **classificar o sentimento em novos textos**.\n",
    "\n",
    "Outro exemplo é na identificação de **entidades nomeadas (NER)**, que é uma tarefa que envolve a identificação de nomes de pessoas, locais, organizações e outras entidades em um texto. Nesse caso, um modelo de ML supervisionado seria treinado em um conjunto de dados rotulados que contém textos e suas respectivas entidades nomeadas. O algoritmo usaria esses dados para aprender a reconhecer os padrões de palavras e contextos que indicam a presença de uma entidade nomeada em um texto, e, em seguida, aplicaria esses padrões para identificar entidades em novos textos.\n",
    "\n",
    "Em resumo, os algoritmos de ML supervisionados são uma técnica poderosa para resolver problemas em NLP, permitindo que modelos aprendam com dados rotulados e possam fazer previsões ou classificações em novos dados com base no que foi aprendido."
   ]
  },
  {
   "cell_type": "markdown",
   "id": "b22e6624",
   "metadata": {},
   "source": [
    "<img src=\"./imgs/supervised_ml.png\">"
   ]
  },
  {
   "cell_type": "markdown",
   "id": "6020bbb4",
   "metadata": {},
   "source": [
    "Um pipeline básico para a _task_ de análise de sentimento (classificação) geralmente envolve as etapas de:\n",
    "- **Pré-processamento de texto**: Esta etapa envolve a limpeza e preparação dos dados. O texto é normalmente convertido em minúsculas, removidos caracteres especiais, removidos números e pontuações, e realizada a tokenização do texto para obter as palavras individuais.\n",
    "- **Criação de features**: Nesta etapa, são criadas as features que serão usadas pelo modelo de classificação. As features podem incluir a contagem de palavras, a frequência de palavras, o tipo de palavras, o uso de negação, entre outras.\n",
    "- **Treinamento do modelo**: O modelo de classificação é treinado em um conjunto de dados rotulados que contêm exemplos de texto e suas respectivas classificações de sentimento. Existem vários algoritmos de aprendizado de máquina que podem ser usados para treinar um modelo, como Árvores de Decisão, Naive Bayes, Regressão Logística, SVM, Redes Neurais, etc.\n",
    "- **Avaliação do modelo**: Após o treinamento, o modelo é avaliado em um conjunto de dados de teste para verificar sua precisão. É comum dividir o conjunto de dados em conjunto de treinamento, validação e teste.\n",
    "- **Implantação**: Finalmente, o modelo treinado é usado para classificar o sentimento de novos textos. Novos textos passam pelas mesmas etapas de pré-processamento e criação de features, e o modelo treinado é usado para prever a classificação de sentimento do texto."
   ]
  },
  {
   "cell_type": "markdown",
   "id": "f11b7a6b",
   "metadata": {},
   "source": [
    "## Vocabulary and Feature Extraction"
   ]
  },
  {
   "cell_type": "markdown",
   "id": "732dbf61",
   "metadata": {},
   "source": [
    "Para representar textos de forma numérica, primeiro precisamos construir um vocabulário, com eles poderemos _encodar_ qualquer texto como um array de números. Um Vocabulário é uma lista com palavras únicas, não repetidas.\n",
    "\n",
    "Uma forma simples de extrair features do texto é usando o vocabulário, verificando cada palavra do vocabulário que aparece no texto. Caso as palavras no texto que estamos extraindo a feature tenham apareca no vocabulário, atribuímos o valor 1 para ela, e zero para as palavras que do vocabulário que não aparecem no texto. Assim, estamos representando o texto usando [**one-hot encoding**](https://k3ybladewielder.medium.com/introdu%C3%A7%C3%A3o-%C3%A0-nlp-4d7d98b9a36a) ou representação esparsa. Mas esse método pode ser problemático porquê o número de features é igual ao número de palavras no vocabulário e a grande maioria das features serão zero, aumentando excessivamente o tempo de treino e predição dos modelos."
   ]
  },
  {
   "cell_type": "markdown",
   "id": "d19c123d",
   "metadata": {},
   "source": [
    "<img src=\"./imgs/vocabulary_and_feature_extraction.png\">"
   ]
  },
  {
   "cell_type": "markdown",
   "id": "5359c35b",
   "metadata": {},
   "source": [
    "Existem diversas técnicas para representar textos como vetores, sendo as mais comuns a Bag of Words (BoW) e a Representação Distribuída de Palavras (Word Embeddings). Vou explicar brevemente cada uma delas:\n",
    "- **Bag of Words (BoW)**: Nessa técnica, o texto é representado como um vetor contendo a contagem de ocorrências de cada palavra presente no texto. Cada palavra é considerada como uma dimensão do vetor. Dessa forma, quanto mais vezes uma palavra aparecer no texto, maior será o valor correspondente na dimensão correspondente no vetor. Por exemplo, se um texto contém as palavras \"gato\", \"cão\" e \"casa\", a representação BoW seria um vetor com três dimensões, com valores correspondentes à contagem de ocorrências de cada palavra no texto.\n",
    "- **Word Embeddings**: Essa técnica é baseada em modelos de linguagem neural, que mapeiam cada palavra em um espaço vetorial de alta dimensão, onde palavras semelhantes têm representações próximas. A ideia é que cada palavra seja representada por um vetor de números reais que captura seu significado semântico. Esses vetores podem ser aprendidos a partir de grandes quantidades de textos usando técnicas de aprendizado de máquina, como Word2Vec, GloVe ou FastText. Os vetores resultantes podem ser usados para representar cada palavra em um texto como um vetor numérico. A representação distribuída de palavras pode capturar relações semânticas entre palavras, como sinonímia e antonímia, e pode ser usada para tarefas mais complexas, como análise de sentimento ou classificação de texto.\n",
    "\n",
    "Ambas as técnicas são amplamente utilizadas em NLP, dependendo do objetivo e do contexto da tarefa em questão. A escolha da técnica de representação de texto pode influenciar significativamente o desempenho do modelo de aprendizado de máquina, e é importante escolher a técnica mais adequada para a tarefa específica.\n",
    "\n",
    "Tanto a técnica de Bag of Words (BoW) quanto a Word Embeddings têm seus **pontos fortes e fracos**, e a escolha de qual usar depende do contexto e do objetivo da tarefa em questão.\n",
    "\n",
    "A representação **BoW** pode ser uma escolha adequada para **tarefas simples de classificação de texto**, como classificação de spam ou análise de sentimento, onde a presença ou ausência de palavras específicas pode ser um indicador importante para a classificação. Além disso, a representação **BoW é computacionalmente eficiente e fácil de interpretar**, o que pode ser uma vantagem para problemas onde a transparência do modelo é importante. No entanto, a representação **BoW não leva em consideração a ordem das palavras no texto, o que pode limitar sua capacidade de capturar nuances semânticas.**\n",
    "\n",
    "Já Word Embedding é mais adequada para **tarefas que envolvem análise semântica**, como tradução automática, classificação de tópicos ou análise de sentimento baseada em frases complexas. A representação Word Embedding **leva em consideração a ordem e o contexto das palavras**, e **pode capturar a similaridade semântica entre palavras que não aparecem juntas com frequência**. Além disso, a representação distribuída de palavras **pode ser usada para inicializar redes neurais em tarefas de aprendizado profundo**, melhorando o desempenho do modelo. No entanto, Word Embedding **pode ser computacionalmente intensiva e requer grandes quantidades de dados de treinamento para obter bons resultados**."
   ]
  },
  {
   "cell_type": "markdown",
   "id": "49958a89",
   "metadata": {},
   "source": [
    "## Feature Extraction with Frequencies"
   ]
  },
  {
   "cell_type": "markdown",
   "id": "52ce507c",
   "metadata": {
    "ExecuteTime": {
     "end_time": "2024-04-11T22:32:44.578226Z",
     "start_time": "2024-04-11T22:32:44.570879Z"
    }
   },
   "source": [
    "Dado um corpus com palavras positivas e negativas em tweets, temos que codificar cada tweet como um vetor com dimensão **V**, pra isso, temos que criar um dicionário mapeando a palavra e a classe a qual ela pertence como o número de vezes em que a palavra aparece na classe correspondente.\n",
    "\n",
    "<img src=\"./imgs/feature_extraction_intro1.png\">\n",
    "<img src=\"./imgs/feature_extraction_intro2.png\">\n",
    "<img src=\"./imgs/feature_extraction_intro3.png\">\n",
    "<img src=\"./imgs/feature_extraction_intro4.png\">\n",
    "\n",
    "Ao final, neste exemplo teríamos o vetor **[1, 8, 11]**"
   ]
  },
  {
   "cell_type": "markdown",
   "id": "3a3031d9",
   "metadata": {},
   "source": [
    "Numa task de classificação de sentimentos, podemos identificar as palavras positivas e negativas a partir da frequencia de ocorrencia em que elas ocorrem nos textos positivos e negativos. Usando essa contagem, podemos extrair features e usá-las no modelo de classificação, como a **regressão logística**. \n",
    "\n",
    "<img src=\"./imgs/tweet_corpus.png\">\n",
    "\n",
    "A partir da contagem da frequencia das palavras em cada classe, chegamos a essa tabela. Na prática, essa tabela será um dicionário que mapeia a classe da palavra e sua frequência de ocorrência.\n",
    "\n",
    "<img src=\"./imgs/word_freq_tweets.png\">\n",
    "\n",
    "Podemos representar essa tabela de frequencia com um array com 3 features, aumentando a velocidade na implementação, porquê em vez de termos v features, teremos apenas 3 para que o modelo aprenda. \n",
    "\n",
    "Aqui, a primeira feature é um bias, depois o somatório das palavras da label positiva e o somatório das palavras da label negativa. Assim, teremos o novo vetor com 3 features.\n",
    "\n",
    "<img src=\"./imgs/vector_3.png\">"
   ]
  },
  {
   "cell_type": "markdown",
   "id": "0092d302",
   "metadata": {},
   "source": [
    "<img src=\"./imgs/feature_extraction.png\">"
   ]
  },
  {
   "cell_type": "code",
   "execution_count": 2,
   "id": "4b7ec08c",
   "metadata": {
    "ExecuteTime": {
     "end_time": "2024-04-09T21:53:39.717282Z",
     "start_time": "2024-04-09T21:53:39.680740Z"
    }
   },
   "outputs": [
    {
     "data": {
      "text/html": [
       "<div>\n",
       "<style scoped>\n",
       "    .dataframe tbody tr th:only-of-type {\n",
       "        vertical-align: middle;\n",
       "    }\n",
       "\n",
       "    .dataframe tbody tr th {\n",
       "        vertical-align: top;\n",
       "    }\n",
       "\n",
       "    .dataframe thead th {\n",
       "        text-align: right;\n",
       "    }\n",
       "</style>\n",
       "<table border=\"1\" class=\"dataframe\">\n",
       "  <thead>\n",
       "    <tr style=\"text-align: right;\">\n",
       "      <th></th>\n",
       "      <th>tweet</th>\n",
       "      <th>label</th>\n",
       "      <th>bias</th>\n",
       "      <th>pos_freq</th>\n",
       "      <th>neg_freq</th>\n",
       "    </tr>\n",
       "  </thead>\n",
       "  <tbody>\n",
       "    <tr>\n",
       "      <th>0</th>\n",
       "      <td>Este é um tweet não tóxico</td>\n",
       "      <td>0</td>\n",
       "      <td>1</td>\n",
       "      <td>0</td>\n",
       "      <td>0</td>\n",
       "    </tr>\n",
       "    <tr>\n",
       "      <th>1</th>\n",
       "      <td>Este é um tweet tóxico com palavras negativas</td>\n",
       "      <td>1</td>\n",
       "      <td>1</td>\n",
       "      <td>0</td>\n",
       "      <td>0</td>\n",
       "    </tr>\n",
       "    <tr>\n",
       "      <th>2</th>\n",
       "      <td>Outro tweet não tóxico com palavras positivas</td>\n",
       "      <td>0</td>\n",
       "      <td>1</td>\n",
       "      <td>0</td>\n",
       "      <td>0</td>\n",
       "    </tr>\n",
       "  </tbody>\n",
       "</table>\n",
       "</div>"
      ],
      "text/plain": [
       "                                           tweet  label  bias  pos_freq  \\\n",
       "0                     Este é um tweet não tóxico      0     1         0   \n",
       "1  Este é um tweet tóxico com palavras negativas      1     1         0   \n",
       "2  Outro tweet não tóxico com palavras positivas      0     1         0   \n",
       "\n",
       "   neg_freq  \n",
       "0         0  \n",
       "1         0  \n",
       "2         0  "
      ]
     },
     "execution_count": 2,
     "metadata": {},
     "output_type": "execute_result"
    }
   ],
   "source": [
    "import pandas as pd\n",
    "import nltk\n",
    "from nltk.tokenize import word_tokenize\n",
    "from nltk.probability import FreqDist\n",
    "\n",
    "# Exemplo de dataframe de tweets\n",
    "data = {'tweet': ['Este é um tweet não tóxico', \n",
    "                  'Este é um tweet tóxico com palavras negativas',\n",
    "                  'Outro tweet não tóxico com palavras positivas'],\n",
    "        'label': [0, 1, 0]}\n",
    "\n",
    "df = pd.DataFrame(data)\n",
    "\n",
    "# Função para mapear a frequência das palavras do subconjunto de palavras positivas (label = 0)\n",
    "def positive_words_frequency(tweet):\n",
    "    positive_words = ['bom', 'legal', 'positivo', 'ótimo']  # Lista de palavras positivas\n",
    "    tokens = word_tokenize(tweet.lower())  # Tokenização e conversão para minúsculas\n",
    "    freq = FreqDist(tokens)\n",
    "    positive_freq = sum([freq[word] for word in positive_words])\n",
    "    return positive_freq\n",
    "\n",
    "# Função para mapear a frequência das palavras do subconjunto de palavras negativas (label = 1)\n",
    "def negative_words_frequency(tweet):\n",
    "    negative_words = ['ruim', 'horrível', 'negativo', 'péssimo']  # Lista de palavras negativas\n",
    "    tokens = word_tokenize(tweet.lower())  # Tokenização e conversão para minúsculas\n",
    "    freq = FreqDist(tokens)\n",
    "    negative_freq = sum([freq[word] for word in negative_words])\n",
    "    return negative_freq\n",
    "\n",
    "# Aplicar as funções aos tweets e adicionar os resultados ao dataframe\n",
    "df['bias'] = 1  # Coluna de bias com valor 1\n",
    "df['pos_freq'] = df['tweet'].apply(positive_words_frequency)\n",
    "df['neg_freq'] = df['tweet'].apply(negative_words_frequency)\n",
    "\n",
    "df"
   ]
  },
  {
   "cell_type": "markdown",
   "id": "a0263dd7",
   "metadata": {},
   "source": [
    "## Preprocessing"
   ]
  },
  {
   "cell_type": "markdown",
   "id": "0f0836cf",
   "metadata": {},
   "source": [
    "O pré-processamento geralmente envolve as etapas de limpeza e preparação dos dados. O texto é normalmente convertido em minúsculas, removidos caracteres especiais, removidos números e pontuações, e realizada a tokenização do texto para obter as palavras individuais.\n",
    "\n",
    "Exemplo em python:"
   ]
  },
  {
   "cell_type": "code",
   "execution_count": 1,
   "id": "0d6b2460",
   "metadata": {
    "ExecuteTime": {
     "end_time": "2024-04-08T22:03:05.318997Z",
     "start_time": "2024-04-08T22:02:59.150249Z"
    }
   },
   "outputs": [
    {
     "name": "stdout",
     "output_type": "stream",
     "text": [
      "['exemplo', 'texto', 'limpo', 'tokenizado']\n"
     ]
    },
    {
     "name": "stderr",
     "output_type": "stream",
     "text": [
      "[nltk_data] Downloading package stopwords to /home/joaoag/nltk_data...\n",
      "[nltk_data]   Package stopwords is already up-to-date!\n"
     ]
    }
   ],
   "source": [
    "import nltk\n",
    "from nltk.corpus import stopwords\n",
    "import string\n",
    "\n",
    "nltk.download('stopwords')\n",
    "\n",
    "def text_cleaning(text):\n",
    "    # Extrai as stopwords em português\n",
    "    stopwords_list = stopwords.words('portuguese')\n",
    "    \n",
    "    # Remove caracteres especiais\n",
    "    text = text.translate(str.maketrans('', '', string.punctuation))\n",
    "    \n",
    "    # Remove números e minimiza\n",
    "    text = ''.join(word for word in text if not word.isdigit()).lower()\n",
    "    \n",
    "    # Converte para minúsculo e tokeniza as palavras\n",
    "    tokens = nltk.word_tokenize(text.lower())\n",
    "    \n",
    "    # Remove as stopwords\n",
    "    tokens = [word for word in tokens if word not in stopwords_list]\n",
    "    \n",
    "    return tokens\n",
    "\n",
    "# Exemplo de uso\n",
    "text = \"Este é um exemplo de texto que será limpo e tokenizado!\"\n",
    "tokens = text_cleaning(text)\n",
    "print(tokens)"
   ]
  },
  {
   "cell_type": "markdown",
   "id": "63b8b7df",
   "metadata": {},
   "source": [
    "Mas além disso também podemos fazer **Stemming** e **lematização**. Elas são técnicas de pré-processamento de texto com o objetivo de reduzir as palavras em sua forma base ou raiz, simplificando o processo de análise de texto.\n",
    "\n",
    "**Stemming** é um processo mais simples e rápido de normalização de palavras, que envolve a remoção de sufixos com o objetivo de transformar uma palavra em sua raiz, ou seja, em sua forma básica. Um exemplo de algoritmo de stemming é o Porter Stemmer, que é amplamente utilizado em NLP. O ponto positivo do stemming é sua simplicidade e velocidade de processamento, o que pode ser útil em projetos com grandes volumes de dados. No entanto, o stemming pode produzir algumas palavras raiz que não são facilmente reconhecidas, o que pode ser um problema em alguns casos.\n",
    "\n",
    "Já a **lematização** é um processo mais complexo de normalização de palavras, que envolve a análise do contexto da palavra para determinar sua forma básica. A lematização utiliza um dicionário de palavras ou um algoritmo para mapear a palavra para sua forma base. O ponto positivo da lematização é que ela produz palavras que são facilmente reconhecíveis, o que pode ser importante em projetos que exigem maior precisão na análise de texto. No entanto, a lematização é um processo mais lento e computacionalmente mais caro do que o stemming, o que pode ser um problema em projetos com grandes volumes de dados."
   ]
  },
  {
   "cell_type": "code",
   "execution_count": 2,
   "id": "ad83edb1",
   "metadata": {
    "ExecuteTime": {
     "end_time": "2024-04-08T22:03:05.331021Z",
     "start_time": "2024-04-08T22:03:05.321793Z"
    }
   },
   "outputs": [
    {
     "name": "stdout",
     "output_type": "stream",
     "text": [
      "['exempl', 'text', 'limp', 'tokeniz', 'stemmed']\n"
     ]
    }
   ],
   "source": [
    "import nltk\n",
    "from nltk.corpus import stopwords\n",
    "from nltk.stem import SnowballStemmer\n",
    "import string\n",
    "\n",
    "def text_cleaning_s(text):\n",
    "    # Extrai as stopwords em português\n",
    "    stopwords_list = stopwords.words('portuguese')\n",
    "    \n",
    "    # Remove caracteres especiais\n",
    "    text = text.translate(str.maketrans('', '', string.punctuation))\n",
    "    \n",
    "    # Remove números e minimiza\n",
    "    text = ''.join(word for word in text if not word.isdigit()).lower()\n",
    "    \n",
    "    # Converte para minúsculo e tokeniza as palavras\n",
    "    tokens = nltk.word_tokenize(text.lower())\n",
    "    \n",
    "    # Remove as stopwords\n",
    "    tokens = [word for word in tokens if word not in stopwords_list]\n",
    "    \n",
    "    # Realiza o stemming dos tokens\n",
    "    stemmer = SnowballStemmer('portuguese')\n",
    "    stemmed_tokens = [stemmer.stem(token) for token in tokens]\n",
    "    \n",
    "    return stemmed_tokens\n",
    "\n",
    "# Exemplo de uso\n",
    "text = \"Este é um exemplo de texto que será limpo, tokenizado e stemmed!\"\n",
    "tokens = text_cleaning_s(text)\n",
    "print(tokens)"
   ]
  },
  {
   "cell_type": "code",
   "execution_count": 3,
   "id": "1891a50a",
   "metadata": {
    "ExecuteTime": {
     "end_time": "2024-04-08T22:03:07.299795Z",
     "start_time": "2024-04-08T22:03:05.332772Z"
    }
   },
   "outputs": [
    {
     "name": "stderr",
     "output_type": "stream",
     "text": [
      "[nltk_data] Downloading package wordnet to /home/joaoag/nltk_data...\n",
      "[nltk_data]   Package wordnet is already up-to-date!\n",
      "[nltk_data] Downloading package omw-1.4 to /home/joaoag/nltk_data...\n",
      "[nltk_data]   Package omw-1.4 is already up-to-date!\n"
     ]
    },
    {
     "name": "stdout",
     "output_type": "stream",
     "text": [
      "['example', 'text', 'cleaned', 'tokenized', 'lemmatized']\n"
     ]
    }
   ],
   "source": [
    "import nltk\n",
    "from nltk.corpus import stopwords\n",
    "from nltk.stem import WordNetLemmatizer\n",
    "import string\n",
    "\n",
    "nltk.download('wordnet')\n",
    "nltk.download('omw-1.4')\n",
    "\n",
    "def text_cleaning_l(text):\n",
    "    # Extrai as stopwords em inglês\n",
    "    stopwords_list = stopwords.words('english')\n",
    "    \n",
    "    # Remove caracteres especiais\n",
    "    text = text.translate(str.maketrans('', '', string.punctuation))\n",
    "    \n",
    "    # Remove números e minimiza\n",
    "    text = ''.join(word for word in text if not word.isdigit()).lower()\n",
    "    \n",
    "    # Converte para minúsculo e tokeniza as palavras\n",
    "    tokens = nltk.word_tokenize(text.lower())\n",
    "    \n",
    "    # Remove as stopwords\n",
    "    tokens = [word for word in tokens if word not in stopwords_list]\n",
    "    \n",
    "    # Realiza a lematização dos tokens\n",
    "    lemmatizer = WordNetLemmatizer()\n",
    "    lemmatized_tokens = [lemmatizer.lemmatize(token) for token in tokens]\n",
    "    \n",
    "    return lemmatized_tokens\n",
    "\n",
    "# Exemplo de uso\n",
    "text = \"This is an example of text that will be cleaned, tokenized, and lemmatized!\"\n",
    "tokens = text_cleaning_l(text)\n",
    "print(tokens)"
   ]
  },
  {
   "cell_type": "markdown",
   "id": "8749e930",
   "metadata": {},
   "source": [
    "## Logistic Regression Overview"
   ]
  },
  {
   "cell_type": "markdown",
   "id": "9b30c91d",
   "metadata": {},
   "source": [
    "A **regressão logística** é frequentemente utilizada em análise de sentimento porque é um algoritmo de classificação simples, rápido e eficiente para problemas de classificação binária, ou seja, quando há apenas duas classes, como positivo e negativo. Além disso, a regressão logística é facilmente interpretável, o que significa que é possível entender como o modelo chegou a uma determinada previsão.\n",
    "\n",
    "Outra vantagem da regressão logística é que ela lida bem com problemas de dados desbalanceados, que é comum em análise de sentimento, onde muitas vezes há mais exemplos de uma classe do que outra. A regressão logística usa uma função sigmoide para calcular as probabilidades de cada classe, e essa função é bem adequada para casos de classes desbalanceadas.\n",
    "\n",
    "Outro motivo para a popularidade da regressão logística em análise de sentimento é que ela é relativamente fácil de implementar e ajustar. É possível utilizar diferentes técnicas de regularização, como a regularização L1 ou L2, para evitar overfitting e melhorar o desempenho do modelo.\n",
    "\n",
    "No entanto, é importante ressaltar que a regressão logística pode não ser adequada para problemas de classificação multiclasse, ou seja, quando há mais de duas classes, como em análise de tópicos. Nesses casos, outros algoritmos, como Árvores de Decisão, SVMs ou Redes Neurais, podem ser mais apropriados."
   ]
  },
  {
   "cell_type": "markdown",
   "id": "8161ec3e",
   "metadata": {},
   "source": [
    "<img src=\"./imgs/logistic_regression.png\">"
   ]
  },
  {
   "cell_type": "markdown",
   "id": "aca16c60",
   "metadata": {},
   "source": [
    "O modelo é treinado usando um conjunto de dados rotulados, onde cada texto é rotulado como tendo um sentimento positivo ou negativo. O objetivo do treinamento é ajustar os parâmetros do modelo para que ele possa fazer previsões precisas em novos dados.\n",
    "\n",
    "Durante o treinamento, o modelo utiliza a função logística para calcular a probabilidade de um texto ter um sentimento positivo ou negativo com base em seus vetores de características. A função logística produz um valor entre 0 e 1, que representa a probabilidade de um texto ter um sentimento positivo. Se a probabilidade for maior que 0,5, o modelo classifica o texto como tendo um sentimento positivo. Caso contrário, o texto é classificado como tendo um sentimento negativo.\n",
    "\n",
    "Após o treinamento, o modelo pode ser usado para fazer previsões em novos dados. Para cada novo texto, o modelo converte-o em um vetor de características e utiliza a função logística para calcular a probabilidade de ter um sentimento positivo ou negativo. Em seguida, classifica o texto como tendo um sentimento positivo ou negativo com base no valor calculado."
   ]
  },
  {
   "cell_type": "code",
   "execution_count": 4,
   "id": "25ccba1b",
   "metadata": {
    "ExecuteTime": {
     "end_time": "2024-04-08T22:03:07.310698Z",
     "start_time": "2024-04-08T22:03:07.303668Z"
    }
   },
   "outputs": [],
   "source": [
    "def text_cleaning_l(text):\n",
    "    # Extrai as stopwords\n",
    "    stopwords_list = stopwords.words('portuguese')\n",
    "    \n",
    "    # Remove caracteres especiais\n",
    "    text = text.translate(str.maketrans('', '', string.punctuation))\n",
    "    \n",
    "    # Remove números e minimiza\n",
    "    text = ''.join(word for word in text if not word.isdigit()).lower()\n",
    "    \n",
    "    # Converte para minúsculo e tokeniza as palavras\n",
    "    tokens = nltk.word_tokenize(text.lower())\n",
    "    \n",
    "    # Remove as stopwords\n",
    "    tokens = [word for word in tokens if word not in stopwords_list]\n",
    "    \n",
    "    # Realiza a lematização dos tokens\n",
    "    lemmatizer = WordNetLemmatizer()\n",
    "    lemmatized_tokens = [lemmatizer.lemmatize(token) for token in tokens]\n",
    "    \n",
    "    return lemmatized_tokens"
   ]
  },
  {
   "cell_type": "code",
   "execution_count": 5,
   "id": "7a5b15ad",
   "metadata": {
    "ExecuteTime": {
     "end_time": "2024-04-08T22:03:07.819369Z",
     "start_time": "2024-04-08T22:03:07.313204Z"
    }
   },
   "outputs": [
    {
     "data": {
      "text/html": [
       "<div>\n",
       "<style scoped>\n",
       "    .dataframe tbody tr th:only-of-type {\n",
       "        vertical-align: middle;\n",
       "    }\n",
       "\n",
       "    .dataframe tbody tr th {\n",
       "        vertical-align: top;\n",
       "    }\n",
       "\n",
       "    .dataframe thead th {\n",
       "        text-align: right;\n",
       "    }\n",
       "</style>\n",
       "<table border=\"1\" class=\"dataframe\">\n",
       "  <thead>\n",
       "    <tr style=\"text-align: right;\">\n",
       "      <th></th>\n",
       "      <th>frase</th>\n",
       "      <th>label</th>\n",
       "    </tr>\n",
       "  </thead>\n",
       "  <tbody>\n",
       "    <tr>\n",
       "      <th>0</th>\n",
       "      <td>Esta é uma frase positiva.</td>\n",
       "      <td>positivo</td>\n",
       "    </tr>\n",
       "    <tr>\n",
       "      <th>1</th>\n",
       "      <td>Esta é uma frase negativa.</td>\n",
       "      <td>negativo</td>\n",
       "    </tr>\n",
       "    <tr>\n",
       "      <th>2</th>\n",
       "      <td>Esta é uma frase positiva.</td>\n",
       "      <td>negativo</td>\n",
       "    </tr>\n",
       "    <tr>\n",
       "      <th>3</th>\n",
       "      <td>Esta é uma frase positiva.</td>\n",
       "      <td>negativo</td>\n",
       "    </tr>\n",
       "    <tr>\n",
       "      <th>4</th>\n",
       "      <td>Esta é uma frase positiva.</td>\n",
       "      <td>negativo</td>\n",
       "    </tr>\n",
       "  </tbody>\n",
       "</table>\n",
       "</div>"
      ],
      "text/plain": [
       "                        frase     label\n",
       "0  Esta é uma frase positiva.  positivo\n",
       "1  Esta é uma frase negativa.  negativo\n",
       "2  Esta é uma frase positiva.  negativo\n",
       "3  Esta é uma frase positiva.  negativo\n",
       "4  Esta é uma frase positiva.  negativo"
      ]
     },
     "execution_count": 5,
     "metadata": {},
     "output_type": "execute_result"
    }
   ],
   "source": [
    "import pandas as pd\n",
    "import numpy as np\n",
    "\n",
    "# Criação das frases aleatórias\n",
    "np.random.seed(42)\n",
    "frases = np.random.choice(['Esta é uma frase positiva.',\n",
    "                           'Esta é uma frase negativa.'], size=100000)\n",
    "\n",
    "# Criação das labels aleatórias\n",
    "labels = np.random.choice(['positivo', 'negativo'], size=100000)\n",
    "\n",
    "# Criação do DataFrame\n",
    "df = pd.DataFrame({'frase': frases, 'label': labels})\n",
    "\n",
    "# Visualização das primeiras linhas\n",
    "df.head()"
   ]
  },
  {
   "cell_type": "code",
   "execution_count": 6,
   "id": "d3f695b2",
   "metadata": {
    "ExecuteTime": {
     "end_time": "2024-04-08T22:03:09.078661Z",
     "start_time": "2024-04-08T22:03:07.821522Z"
    }
   },
   "outputs": [
    {
     "data": {
      "text/plain": [
       "<AxesSubplot:>"
      ]
     },
     "execution_count": 6,
     "metadata": {},
     "output_type": "execute_result"
    },
    {
     "data": {
      "image/png": "[encoded data removed]",
      "text/plain": [
       "<Figure size 432x288 with 1 Axes>"
      ]
     },
     "metadata": {
      "needs_background": "light"
     },
     "output_type": "display_data"
    }
   ],
   "source": [
    "df.groupby('label').agg({'frase': 'count'}).reset_index(drop=True).plot(kind='bar')"
   ]
  },
  {
   "cell_type": "code",
   "execution_count": 7,
   "id": "e310d46c",
   "metadata": {
    "ExecuteTime": {
     "end_time": "2024-04-08T22:03:42.591409Z",
     "start_time": "2024-04-08T22:03:09.081434Z"
    }
   },
   "outputs": [
    {
     "name": "stdout",
     "output_type": "stream",
     "text": [
      "Acurácia da classificação: 0.5006333333333334\n",
      "Precisão da classificação: 0.5049816115011702\n"
     ]
    }
   ],
   "source": [
    "from sklearn.feature_extraction.text import CountVectorizer\n",
    "from sklearn.linear_model import LogisticRegression\n",
    "from sklearn.model_selection import train_test_split\n",
    "\n",
    "# pré-processamento das frases\n",
    "df['frase_processada'] = df['frase'].apply(text_cleaning_l)\n",
    "\n",
    "# vetorização das frases\n",
    "vectorizer = CountVectorizer(tokenizer=lambda text: text, lowercase=False)\n",
    "X = vectorizer.fit_transform(df['frase_processada'].apply(lambda tokens: ' '.join(tokens)))\n",
    "\n",
    "# divisão em treino e teste\n",
    "X_train, X_test, y_train, y_test = train_test_split(X, df['label'], test_size=0.3, random_state=42)\n",
    "\n",
    "# criação do modelo de regressão logística e treinamento\n",
    "lr = LogisticRegression()\n",
    "lr.fit(X_train, y_train)\n",
    "\n",
    "# avaliação do modelo nos dados de teste\n",
    "y_pred = lr.predict(X_test)\n",
    "\n",
    "# avaliando o modelo\n",
    "from sklearn.metrics import accuracy_score, precision_score\n",
    "print(\"Acurácia da classificação:\", accuracy_score(y_test, y_pred))\n",
    "print(\"Precisão da classificação:\", precision_score(y_test, y_pred, pos_label='positivo'))"
   ]
  },
  {
   "cell_type": "code",
   "execution_count": 8,
   "id": "836e68f0",
   "metadata": {
    "ExecuteTime": {
     "end_time": "2024-04-08T22:04:13.904116Z",
     "start_time": "2024-04-08T22:03:42.593154Z"
    }
   },
   "outputs": [
    {
     "name": "stdout",
     "output_type": "stream",
     "text": [
      "Acurácia da classificação: 0.5006333333333334\n",
      "Precisão da classificação: 0.5049816115011702\n"
     ]
    }
   ],
   "source": [
    "# Mesmo exemplo mas com o TF-IDF como vectorizer\n",
    "\n",
    "from sklearn.feature_extraction.text import TfidfVectorizer\n",
    "from sklearn.linear_model import LogisticRegression\n",
    "from sklearn.model_selection import train_test_split\n",
    "\n",
    "# pré-processamento das frases\n",
    "df['frase_processada'] = df['frase'].apply(text_cleaning_l)\n",
    "\n",
    "# vetorização das frases\n",
    "vectorizer = TfidfVectorizer(tokenizer=lambda text: text, lowercase=False)\n",
    "X = vectorizer.fit_transform(df['frase_processada'].apply(lambda tokens: ' '.join(tokens)))\n",
    "\n",
    "# divisão em treino e teste\n",
    "X_train, X_test, y_train, y_test = train_test_split(X, df['label'], test_size=0.3, random_state=42)\n",
    "\n",
    "# criação do modelo de regressão logística e treinamento\n",
    "lr = LogisticRegression()\n",
    "lr.fit(X_train, y_train)\n",
    "\n",
    "# avaliação do modelo nos dados de teste\n",
    "y_pred = lr.predict(X_test)\n",
    "\n",
    "# avaliando o modelo\n",
    "from sklearn.metrics import accuracy_score, precision_score\n",
    "print(\"Acurácia da classificação:\", accuracy_score(y_test, y_pred))\n",
    "print(\"Precisão da classificação:\", precision_score(y_test, y_pred, pos_label='positivo'))"
   ]
  },
  {
   "cell_type": "markdown",
   "id": "d54b0f97",
   "metadata": {},
   "source": [
    "## Logistic Regression Cost Function"
   ]
  },
  {
   "cell_type": "markdown",
   "id": "21a4ff2b",
   "metadata": {},
   "source": [
    "A função de custo da regressão logística é usada para avaliar quão bem um modelo de regressão logística está performando em relação aos dados observados. Ela é frequentemente utilizada em problemas de classificação binária, onde o objetivo é prever se uma observação pertence a uma das duas classes possíveis. Aqui está uma explicação de cada etapa da função de custo da regressão logística:\n",
    "\n",
    "1. **Hipótese da Regressão Logística:**\n",
    "   A primeira etapa é a formulação da hipótese do modelo de regressão logística. A hipótese é uma função que mapeia as entradas para uma probabilidade estimada de pertencer a uma das classes. A função logística (também conhecida como função sigmoide) é comumente utilizada como a função de hipótese na regressão logística e é dada pela seguinte equação:\n",
    "\n",
    "   $$ h_{\\theta}(x) = \\frac{1}{1 + e^{-\\theta^Tx}}$$\n",
    "\n",
    "   Onde:\n",
    "   - $ h_{\\theta}(x) $ é a estimativa da probabilidade de \\( x \\) pertencer à classe positiva,\n",
    "   - $ \\theta $ são os parâmetros do modelo,\n",
    "   - $ x $ é o vetor de entrada,\n",
    "   - $ e $ é o número de Euler (aproximadamente 2.71828).\n",
    "\n",
    "\n",
    "2. **Função de Custo Logístico:**\n",
    "   A função de custo é uma medida de quão bem a hipótese do modelo se ajusta aos dados observados. Para a regressão logística, a função de custo (também conhecida como função de perda ou função de erro) é definida usando a técnica de máxima verossimilhança. A função de custo logístico para um único exemplo de treinamento é dada pela seguinte equação:\n",
    "\n",
    "   $$ J(\\theta) = -y \\log(h_{\\theta}(x)) - (1 - y) \\log(1 - h_{\\theta}(x)) $$\n",
    "\n",
    "   Onde:\n",
    "   - $ J(\\theta) $ é a função de custo,\n",
    "   - $ y $ é a classe verdadeira do exemplo (0 ou 1),\n",
    "   - $ h_{\\theta}(x) $ é a estimativa da probabilidade da classe positiva dada pela hipótese.\n",
    "\n",
    "\n",
    "3. **Função de Custo Médio (ou Função de Custo Regularizada):**\n",
    "   Para avaliar o desempenho do modelo em todo o conjunto de dados, a função de custo médio é calculada. Isso é feito tirando a média dos custos individuais de todos os exemplos de treinamento. Além disso, uma penalidade de regularização pode ser adicionada para evitar overfitting. A função de custo médio (ou função de custo regularizada) é dada pela seguinte equação:\n",
    "\n",
    "   $$ J(\\theta) = \\frac{1}{m} \\sum_{i=1}^{m}[-y^{(i)} \\log(h_{\\theta}(x^{(i)})) - (1 - y^{(i)}) \\log(1 - h_{\\theta}(x^{(i)}))] + \\frac{\\lambda}{2m} \\sum_{j=1}^{n} \\theta_j^2 $$\n",
    "\n",
    "   Onde:\n",
    "   - $ m $ é o número total de exemplos de treinamento,\n",
    "   - $ n $ é o número de características,\n",
    "   - $ \\lambda $ é o parâmetro de regularização,\n",
    "   - $ \\theta_j $ é o j-ésimo parâmetro do modelo."
   ]
  },
  {
   "cell_type": "markdown",
   "id": "c4a286bc",
   "metadata": {},
   "source": [
    "# Week 2 - Sentiment Analysis with Naive Bayes"
   ]
  },
  {
   "cell_type": "markdown",
   "id": "0f03a416",
   "metadata": {},
   "source": [
    "## Objetivos de aprendizagem\n",
    "- Error analysis\n",
    "- Naive Bayes inference\n",
    "- Log likelihood\n",
    "- Laplacian smoothing\n",
    "- conditional probabilities\n",
    "- Bayes rule\n",
    "- Sentiment analysis\n",
    "- Vocabulary creation\n",
    "- Supervised learning"
   ]
  },
  {
   "cell_type": "markdown",
   "id": "110df5ad",
   "metadata": {},
   "source": [
    "## Recaptulando...\n",
    "\n",
    "1. **Probabilidade:**\n",
    "   A probabilidade é uma medida numérica que quantifica a incerteza associada a um evento. Em termos simples, é a chance de que algo aconteça. A probabilidade de um evento é sempre um número entre 0 e 1, onde 0 indica impossibilidade absoluta do evento ocorrer e 1 indica certeza absoluta de que o evento ocorrerá.\n",
    "   \n",
    "<img src=\"./imgs/prob_positive_tweet.png\">\n",
    "<img src=\"./imgs/prob_positive_tweet2.png\">\n",
    "\n",
    "2. **Probabilidade Condicional:**\n",
    "   A probabilidade condicional é a probabilidade de um evento ocorrer dado que outro evento já ocorreu. É denotada por $ P(A|B) $, que lê-se como \"a probabilidade de A dado B\". A fórmula para calcular a probabilidade condicional é:\n",
    "\n",
    "   $$ P(A|B) = \\frac{P(A \\cap B)}{P(B)} $$\n",
    "\n",
    "   Onde:\n",
    "   - $ P(A|B) $ é a probabilidade de A dado B,\n",
    "   - $ P(A \\cap B) $ é a probabilidade da interseção de A e B,\n",
    "   - $ P(B) $ é a probabilidade de B.\n",
    "\n",
    "   Em palavras simples, a probabilidade condicional é a proporção de vezes que o evento A ocorre quando o evento B ocorre.\n",
    "\n",
    "<img src=\"./imgs/conditional_prob_tweet.png\">\n",
    "\n",
    "\n",
    "3. **Regra de Bayes:**\n",
    "   A regra de Bayes é uma ferramenta fundamental na teoria das probabilidades que permite atualizar as probabilidades de uma hipótese à luz de novas evidências. Formalmente, a regra de Bayes é expressa como:\n",
    "\n",
    "   $ P(A|B) = \\frac{P(B|A) \\cdot P(A)}{P(B)} $\n",
    "\n",
    "   Onde:\n",
    "   - $ P(A|B) $ é a probabilidade de A dado B (posterior),\n",
    "   - $ P(B|A) $ é a probabilidade de B dado A (likelihood),\n",
    "   - $ P(A) $ é a probabilidade de A (prior),\n",
    "   - $ P(B) $ é a probabilidade de B.\n",
    "\n",
    "   A regra de Bayes nos permite calcular a probabilidade de uma hipótese (A) ser verdadeira dada uma evidência observada (B), usando a probabilidade da evidência dada a hipótese (likelihood), a probabilidade a priori da hipótese e a probabilidade marginal da evidência.A diferença principal entre a probabilidade condicional e a regra de Bayes é que a probabilidade condicional é uma medida da probabilidade de um evento ocorrer dado que outro evento já ocorreu, enquanto a regra de Bayes é uma ferramenta para atualizar a probabilidade de uma hipótese à luz de novas evidências. A regra de Bayes utiliza a probabilidade condicional como um de seus componentes para calcular a probabilidade posterior.\n",
    "\n",
    "<img src=\"./imgs/bayes_rule_tweet.png\">\n",
    "\n",
    "A probabilidade é a chance de um evento ocorrer, a probabilidade condicional é a probabilidade de um evento ocorrer dado que outro evento já ocorreu, e a regra de Bayes é uma ferramenta para atualizar a probabilidade de uma hipótese à luz de novas evidências."
   ]
  },
  {
   "cell_type": "markdown",
   "id": "aa369d5f",
   "metadata": {},
   "source": [
    "## Naive Bayes\n",
    "\n",
    "O algoritmo Naive Bayes é um método de classificação probabilístico baseado no teorema de Bayes, com uma suposição \"ingênua\" de independência condicional entre os recursos.\n",
    "\n",
    "1. **Suposição de Independência Condicional:**\n",
    "   A primeira etapa do algoritmo Naive Bayes é a suposição de independência condicional entre os recursos. Isso significa que assumimos que os recursos são independentes entre si, dado o valor da variável de classe. Apesar de ser uma suposição forte e muitas vezes não ser verdadeira na prática, ela simplifica os cálculos e torna o algoritmo computacionalmente eficiente.\n",
    "\n",
    "2. **Construção do Modelo de Probabilidade:**\n",
    "   O próximo passo é construir o modelo de probabilidade. Isso envolve calcular a probabilidade de cada classe e a probabilidade de cada valor do recurso dado cada classe. Em outras palavras, para cada classe, calculamos a probabilidade a priori da classe ( $ P(C_k) $ ) e a probabilidade de cada recurso ( $ P(X_i | C_k) $ ).\n",
    "\n",
    "3. **Classificação:**\n",
    "   Depois que o modelo de probabilidade é construído, podemos usá-lo para fazer previsões sobre novos exemplos. Dada uma nova instância com valores de recursos $ x_1, x_2, ..., x_n $, queremos calcular a probabilidade de pertencer a cada classe e, em seguida, atribuir a classe com a maior probabilidade como a classe prevista para a instância. Isso é feito usando o teorema de Bayes:\n",
    "\n",
    "   $$ P(C_k | x_1, x_2, ..., x_n) = \\frac{P(C_k) \\cdot \\prod_{i=1}^{n} P(x_i | C_k)}{P(x_1, x_2, ..., x_n)} $$\n",
    "\n",
    "   Onde:\n",
    "   - $ P(C_k | x_1, x_2, ..., x_n) $ é a probabilidade da classe $ C_k $ dado os valores dos recursos,\n",
    "   - $ P(C_k) $ é a probabilidade a priori da classe $ C_k $,\n",
    "   - $ P(x_i | C_k) $ é a probabilidade de cada valor do recurso dado a classe $ C_k $,\n",
    "   - $ P(x_1, x_2, ..., x_n) $ é a probabilidade dos valores dos recursos.\n",
    "\n",
    "4. **Estimação de Parâmetros:**\n",
    "   Durante a etapa de construção do modelo, precisamos estimar os parâmetros do modelo, ou seja, as probabilidades a priori das classes e as probabilidades condicionais dos recursos para cada classe. Isso geralmente é feito usando técnicas como a frequência relativa de ocorrência dos dados de treinamento.\n",
    "\n",
    "5. **Suavização de Laplace (Opcional):**\n",
    "   Em alguns casos, para evitar probabilidades condicionais iguais a zero para recursos não observados em uma classe particular, pode ser aplicada a suavização de Laplace, adicionando uma pequena quantidade aos contadores de frequência de cada valor de recurso para cada classe durante a estimativa dos parâmetros.\n",
    "\n",
    "Essas são as etapas principais da função do algoritmo Naive Bayes, desde a suposição de independência condicional até a classificação de novas instâncias usando o teorema de Bayes."
   ]
  },
  {
   "cell_type": "markdown",
   "id": "7267d2ce",
   "metadata": {},
   "source": [
    "## Log Likelihood"
   ]
  },
  {
   "cell_type": "markdown",
   "id": "f8e21e41",
   "metadata": {},
   "source": [
    "Para construir um classificador, começaremos primeiro criando probabilidades condicionais, dada a tabela a seguir:\n",
    "\n",
    "<img src=\"./imgs/naive_bayes_intro1.png\">\n",
    "          \n",
    "Isso nos permite calcular a seguinte tabela de probabilidades:\n",
    "<img src=\"./imgs/naive_bayes_intro2.png\">\n",
    "\n",
    "Depois de ter as probabilidades, podemos calcular a pontuação de probabilidade da seguinte forma\n",
    "<img src=\"./imgs/naive_bayes_intro3.png\">\n",
    "\n",
    "Uma pontuação maior que 1 indica que a classe é positiva, caso contrário é negativa."
   ]
  },
  {
   "cell_type": "markdown",
   "id": "6cc1150f",
   "metadata": {},
   "source": [
    "Costumamos calcular a probabilidade de uma palavra dada uma classe da seguinte forma:\n",
    "\n",
    "$$\n",
    "P(w_i \\mid \\text{classe}) = \\frac{\\text{freq}(w_i, \\text{classe})}{N_{\\text{classe}}}\n",
    "\\quad \\text{classe} \\in \\{\\text{Positivo}, \\text{Negativo}\\}\n",
    "$$\n",
    "\n",
    "No entanto, se uma palavra não aparecer no treinamento, ela automaticamente recebe uma probabilidade de 0. Para corrigir isso, adicionamos **suavização de laplace** da seguinte forma:\n",
    "\n",
    "$$\n",
    "P(w_i \\mid \\text{classe}) = \\frac{\\text{freq}(w_i, \\text{classe}) + 1}{N_{\\text{classe}} + V}\n",
    "$$\n",
    "\n",
    "Observe que adicionamos um 1 no numerador e, como há V palavras para normalizar, adicionamos V no denominador.\n",
    "\n",
    "Onde:\n",
    "- $N_{\\text{classe}}$: frequência de todas as palavras na classe.\n",
    "- $V$: número de palavras únicas no vocabulário.\n"
   ]
  },
  {
   "cell_type": "markdown",
   "id": "609fb526",
   "metadata": {},
   "source": [
    "Para calcular a log-verossimilhança (log likelihood), precisamos obter as razões e usá-las para calcular uma pontuação que nos permitirá decidir se um tweet é positivo ou negativo. Quanto maior a razão, mais positiva é a palavra:\n",
    "\n",
    "<img src=\"./imgs/log_likelihood1.png\">\n",
    "\n",
    "Para fazer inferência, você pode calcular o seguinte:\n",
    "\n",
    "$$\n",
    "\\log \\left( \\prod_{i=1}^{m} \\frac{P(w_i \\mid \\text{neg})}{P(w_i \\mid \\text{pos})} \\right) > \\frac{1}{P(\\text{neg}) P(\\text{pos})}\n",
    "$$\n",
    "\n",
    "A expressão acima começa com um logaritmo, $\\log$, que é aplicado a um produto de probabilidades condicionais. O produto é denotado pelo símbolo $\\prod$ e representa o produto de todas as probabilidades condicionais das palavras $w_i$ dadas as classes \"negativo\" e \"positivo\". Isso significa que estamos multiplicando a probabilidade de cada palavra $w_i$ ocorrer, dado que o tweet é negativo, e dividindo pelo mesmo para tweets positivos.\n",
    "\n",
    "A expressão é comparada com o inverso do produto das probabilidades das classes \"negativo\" e \"positivo\". Isso é feito usando o sinal $>$, indicando que queremos que a expressão à esquerda seja maior do que o inverso do produto das probabilidades das classes.\n",
    "\n",
    "Em termos de interpretação, isso significa que estamos comparando a probabilidade conjunta de todas as palavras em um tweet serem negativas (ou positivas) com a probabilidade de um tweet ser classificado como negativo (ou positivo), independente do conteúdo do tweet. Se a probabilidade conjunta de todas as palavras serem negativas (ou positivas) for maior do que a probabilidade do tweet ser classificado como negativo (ou positivo) independentemente do conteúdo, então a inferência seria que o tweet é mais provavelmente negativo (ou positivo).\n",
    "\n",
    "Essa expressão é uma maneira de inferir a polaridade (positiva ou negativa) de um tweet com base na probabilidade condicional de cada palavra em relação às classes \"negativo\" e \"positivo\", em comparação com a probabilidade marginal das classes. Se a probabilidade conjunta das palavras sendo negativas (ou positivas) for maior do que a probabilidade do tweet ser classificado como negativo (ou positivo) independentemente do conteúdo, então a inferência seria que o tweet é mais provavelmente negativo (ou positivo).\n",
    "\n",
    "Conforme o número de palavras do tweet (m) aumenta, podemos ter problemas numéricos, então introduzimos o logaritmo, que nos dá a seguinte equação:\n",
    "\n",
    "$$\n",
    "\\log \\left( \\prod_{i=1}^{m} \\frac{P(w_i \\mid \\text{neg})}{P(w_i \\mid \\text{pos})} \\right) \\Rightarrow \\log \\prod_{i=1}^{m} \\frac{P(w_i \\mid \\text{neg})}{P(w_i \\mid \\text{pos})} + \\sum_{i=1}^{m} \\log \\frac{P(w_i \\mid \\text{neg})}{P(w_i \\mid \\text{pos})}\n",
    "$$\n",
    "\n",
    "Utilizando a propriedade do logaritmo de um produto, podemos reescrever a expressão como a soma dos logaritmos dos fatores dentro do produto. Esta transformação nos permite calcular a log-verossimilhança de forma mais eficiente e robusta, evitando o custo computacional de calcular o logaritmo de um produtório. A expressão agora é uma soma de logaritmos individuais, o que é mais estável numericamente. A nova expressão nos permite calcular a log-verossimilhança somando os logaritmos das razões das probabilidades condicionais de cada palavra em relação às classes \"negativo\" e \"positivo\". Isso nos dá uma medida da probabilidade de observar as palavras em um tweet dado que ele é classificado como negativo, em comparação com a mesma probabilidade para tweets positivos. Essa transformação simplifica o cálculo da log-verossimilhança e reduz a chance de problemas numéricos, tornando a inferência mais eficiente e precisa.\n",
    "\n",
    "O primeiro componente é chamado de log prior e o segundo componente é a log-verossimilhança. Introduzimos ainda $\\lambda$ como segue:\n",
    "\n",
    "<img src=\"./imgs/log_likelihood2.png\">\n",
    "\n",
    "Ter o dicionário $\\lambda$ ajudará muito ao fazer inferência, mas uma vez que computemos o dicionário $\\lambda$, se torna simples fazer a inferência, simplesmente somando os lambdas e comparando com os thresholds de negativo, neutro e positivo.\n",
    "\n",
    "<img src=\"./imgs/log_likelihood3.png\">\n",
    "\n",
    "O resultado foi **3.3**, sendo > 0, classificaremos o documento como positivo. Se tivessemos um número negativo, classificaríamos como a classe negativa"
   ]
  },
  {
   "cell_type": "markdown",
   "id": "8dae4bce",
   "metadata": {},
   "source": [
    "## Training Naïve Bayes"
   ]
  },
  {
   "cell_type": "code",
   "execution_count": 1,
   "id": "7715573e",
   "metadata": {
    "ExecuteTime": {
     "end_time": "2024-04-11T21:49:22.357766Z",
     "start_time": "2024-04-11T21:49:20.990779Z"
    }
   },
   "outputs": [
    {
     "name": "stdout",
     "output_type": "stream",
     "text": [
      "Acurácia do modelo: 0.8857142857142857\n"
     ]
    }
   ],
   "source": [
    "import numpy as np\n",
    "from sklearn.model_selection import train_test_split\n",
    "from sklearn.feature_extraction.text import CountVectorizer\n",
    "from sklearn.naive_bayes import MultinomialNB\n",
    "from sklearn.metrics import accuracy_score\n",
    "\n",
    "# Exemplo de tweets e seus respectivos sentimentos\n",
    "tweets = [\n",
    "    (\"Eu amo o meu cachorro\", \"positivo\"),\n",
    "    (\"Eu odeio acordar cedo\", \"negativo\"),\n",
    "    (\"A comida deste restaurante é incrível\", \"positivo\"),\n",
    "    (\"Estou cansado de estudar\", \"negativo\"),\n",
    "    (\"Que dia lindo para passear no parque\", \"positivo\"),\n",
    "    (\"O filme que vi ontem foi excelente\", \"positivo\"),\n",
    "    (\"Não vejo a hora de encontrar meus amigos\", \"positivo\"),\n",
    "    (\"Estou muito feliz com os resultados\", \"positivo\"),\n",
    "    (\"Que tristeza ver essa notícia\", \"negativo\"),\n",
    "    (\"Estou decepcionado com o serviço dessa empresa\", \"negativo\"),\n",
    "    (\"A chuva estragou meu dia\", \"negativo\"),\n",
    "    (\"Fiquei surpreso com o presente que recebi\", \"positivo\"),\n",
    "    (\"Esse livro é incrível, não consigo parar de ler\", \"positivo\"),\n",
    "    (\"Estou preocupado com o futuro do país\", \"negativo\"),\n",
    "    (\"Adorei o novo restaurante que experimentei\", \"positivo\"),\n",
    "    (\"O trânsito está terrível hoje\", \"negativo\"),\n",
    "    (\"Essa música me faz sentir feliz\", \"positivo\"),\n",
    "    (\"Perdi o ônibus e vou me atrasar para o trabalho\", \"negativo\"),\n",
    "    (\"Estou ansioso para o feriado chegar\", \"positivo\"),\n",
    "    (\"Que vergonha, esqueci meu aniversário de casamento\", \"negativo\"),\n",
    "    (\"Fui promovido no trabalho, estou radiante\", \"positivo\"),\n",
    "    (\"Não suporto essa pessoa, ela é muito arrogante\", \"negativo\"),\n",
    "    (\"O jantar que preparei ficou delicioso\", \"positivo\"),\n",
    "    (\"Meu time perdeu o jogo, estou arrasado\", \"negativo\"),\n",
    "    (\"Que saudade de casa\", \"negativo\"),\n",
    "    (\"Estou animado para o final de semana\", \"positivo\"),\n",
    "    (\"Esse filme é terrível, não recomendo\", \"negativo\"),\n",
    "    (\"A festa de aniversário foi um sucesso\", \"positivo\"),\n",
    "    (\"Estou cansado de tanto trabalhar\", \"negativo\"),\n",
    "    (\"Que alívio, finalmente terminei meu projeto\", \"positivo\"),\n",
    "    (\"Esse lugar é incrível, preciso voltar mais vezes\", \"positivo\"),\n",
    "    (\"Perdi meu voo e agora estou preso no aeroporto\", \"negativo\"),\n",
    "    (\"Estou feliz por ter encontrado um novo emprego\", \"positivo\"),\n",
    "    (\"Não aguento mais essa situação\", \"negativo\"),\n",
    "    (\"O passeio de barco foi maravilhoso\", \"positivo\"),\n",
    "    (\"Estou preocupado com a saúde dos meus pais\", \"negativo\"),\n",
    "    (\"Adorei a nova série que comecei a assistir\", \"positivo\"),\n",
    "    (\"Não vejo a hora de começar minhas férias\", \"positivo\"),\n",
    "    (\"Estou chateado com o cancelamento do evento\", \"negativo\"),\n",
    "    (\"Ganhei um prêmio, estou emocionado\", \"positivo\"),\n",
    "    (\"Esse restaurante não vale o preço que cobram\", \"negativo\"),\n",
    "    (\"Estou apaixonado por essa música\", \"positivo\"),\n",
    "    (\"Não gostei do atendimento dessa loja\", \"negativo\"),\n",
    "    (\"Meu cachorro está doente, estou preocupado\", \"negativo\"),\n",
    "    (\"Adorei o presente que ganhei de aniversário\", \"positivo\"),\n",
    "    (\"Estou cansado de tanto estudar para as provas\", \"negativo\"),\n",
    "    (\"Que alegria, hoje é meu aniversário\", \"positivo\"),\n",
    "    (\"Não vejo a hora de conhecer meu sobrinho que está a caminho\", \"positivo\"),\n",
    "    (\"Estou frustrado com o atraso no projeto\", \"negativo\"),\n",
    "    (\"Que bom ver meus amigos depois de tanto tempo\", \"positivo\"),\n",
    "    (\"Não aguento mais essa dor de cabeça\", \"negativo\"),\n",
    "    (\"O pôr do sol na praia é magnífico\", \"positivo\"),\n",
    "    (\"Estou triste com a perda do meu animal de estimação\", \"negativo\"),\n",
    "    (\"Que maravilha, vou me formar na faculdade\", \"positivo\"),\n",
    "    (\"Estou desanimado com o futuro da economia\", \"negativo\"),\n",
    "    (\"O concerto de música clássica foi incrível\", \"positivo\"),\n",
    "    (\"Não suporto mais essa discussão\", \"negativo\"),\n",
    "    (\"Estou feliz por ter começado a fazer exercícios\", \"positivo\"),\n",
    "    (\"O tráfego está caótico hoje\", \"negativo\"),\n",
    "    (\"Estou radiante com a notícia do meu amigo\", \"positivo\"),\n",
    "    (\"Esse filme me deixou emocionado\", \"positivo\"),\n",
    "    (\"Estou decepcionado com o resultado da eleição\", \"negativo\"),\n",
    "    (\"Que bom encontrar você aqui\", \"positivo\"),\n",
    "    (\"Não gostei do sabor desse prato\", \"negativo\"),\n",
    "    (\"Estou contente por ter conhecido novas pessoas\", \"positivo\"),\n",
    "    (\"Estou estressado com o excesso de trabalho\", \"negativo\"),\n",
    "    (\"Essa viagem foi incrível, quero repetir\", \"positivo\"),\n",
    "    (\"Não aguento mais a rotina cansativa\", \"negativo\"),\n",
    "    (\"Estou preocupado com a segurança da minha cidade\", \"negativo\"),\n",
    "    (\"Que felicidade, consegui uma promoção no trabalho\", \"positivo\"),\n",
    "    (\"Não gosto desse clima frio\", \"negativo\"),\n",
    "    (\"Estou maravilhado com a beleza desse lugar\", \"positivo\"),\n",
    "    (\"Estou triste com a partida do meu amigo\", \"negativo\"),\n",
    "    (\"Adorei o show que fui ontem à noite\", \"positivo\"),\n",
    "    (\"Estou irritado com o comportamento dessa pessoa\", \"negativo\"),\n",
    "    (\"Que alegria, vou passar as férias na praia\", \"positivo\"),\n",
    "    (\"Não consigo parar de pensar naquela situação\", \"negativo\"),\n",
    "    (\"Estou ansioso para o lançamento do novo filme\", \"positivo\"),\n",
    "    (\"Não gostei do resultado do jogo\", \"negativo\"),\n",
    "    (\"Estou encantado com a cultura desse país\", \"positivo\"),\n",
    "    (\"Estou cansado de tantas brigas\", \"negativo\"),\n",
    "    (\"Que bom estar de volta em casa\", \"positivo\"),\n",
    "    (\"Não suporto mais esse barulho\", \"negativo\"),\n",
    "    (\"Estou empolgado para a festa de aniversário\", \"positivo\"),\n",
    "    (\"Estou preocupado com o meio ambiente\", \"negativo\"),\n",
    "    (\"Adorei o presente que ganhei de Natal\", \"positivo\"),\n",
    "    (\"Estou frustrado com a demora no atendimento\", \"negativo\"),\n",
    "    (\"Que alívio, consegui resolver o problema\", \"positivo\"),\n",
    "    (\"Não vejo a hora de voltar para casa\", \"negativo\"),\n",
    "    (\"Estou emocionado com o nascimento do meu sobrinho\", \"positivo\"),\n",
    "    (\"Esse lugar é incrível, não vejo a hora de voltar\", \"positivo\"),\n",
    "    (\"Estou triste por não ter conseguido o emprego\", \"negativo\"),\n",
    "    (\"Estou radiante com a notícia do casamento do meu amigo\", \"positivo\"),\n",
    "    (\"Não aguento mais essa situação difícil\", \"negativo\"),\n",
    "    (\"Que bom te ver depois de tanto tempo\", \"positivo\"),\n",
    "    (\"Estou preocupado com a saúde da minha família\", \"negativo\"),\n",
    "    (\"Adorei a comida desse restaurante\", \"positivo\"),\n",
    "    (\"Estou irritado com o barulho constante\", \"negativo\"),\n",
    "    (\"Estou feliz por ter terminado meus estudos\", \"positivo\"),\n",
    "    (\"Não gostei do final desse livro\", \"negativo\"),\n",
    "    (\"Estou contente por ter conseguido resolver o problema\", \"positivo\"),\n",
    "    (\"Estou estressado com os prazos do trabalho\", \"negativo\"),\n",
    "    (\"Que alegria, vou passar o final de semana na praia\", \"positivo\"),\n",
    "    (\"Não vejo a hora de viajar para o exterior\", \"positivo\"),\n",
    "    (\"Estou triste com a notícia da doença de um amigo\", \"negativo\"),\n",
    "    (\"Adorei o filme que assisti ontem à noite\", \"positivo\"),\n",
    "    (\"Estou frustrado com a falta de oportunidades\", \"negativo\"),\n",
    "    (\"Que alívio, consegui encontrar minhas chaves perdidas\", \"positivo\"),\n",
    "    (\"Não suporto mais essa situação complicada\", \"negativo\"),\n",
    "    (\"Estou emocionado com o nascimento do meu sobrinho\", \"positivo\"),\n",
    "    (\"Estou irritado com o comportamento dessa pessoa\", \"negativo\"),\n",
    "    (\"Estou feliz por ter encontrado um novo emprego\", \"positivo\"),\n",
    "    (\"Não gostei do atendimento dessa loja\", \"negativo\"),\n",
    "    (\"Que bom te ver depois de tanto tempo\", \"positivo\"),\n",
    "    (\"Estou chateado com o cancelamento do evento\", \"negativo\"),\n",
    "    (\"Estou empolgado para a festa de aniversário\", \"positivo\"),\n",
    "    (\"Não aguento mais essa dor de cabeça\", \"negativo\"),\n",
    "    (\"Estou ansioso para o lançamento do novo filme\", \"positivo\"),\n",
    "    (\"Estou preocupado com o meio ambiente\", \"negativo\"),\n",
    "    (\"Estou maravilhado com a beleza desse lugar\", \"positivo\"),\n",
    "    (\"Não consigo parar de pensar naquela situação\", \"negativo\"),\n",
    "    (\"Estou radiante com a notícia do casamento do meu amigo\", \"positivo\"),\n",
    "    (\"Não gostei do final desse livro\", \"negativo\"),\n",
    "    (\"Estou feliz por ter terminado meus estudos\", \"positivo\"),\n",
    "    (\"Estou irritado com o barulho constante\", \"negativo\"),\n",
    "    (\"Adorei a comida desse restaurante\", \"positivo\"),\n",
    "    (\"Estou preocupado com a saúde da minha família\", \"negativo\"),\n",
    "    (\"Que bom te ver depois de tanto tempo\", \"positivo\"),\n",
    "    (\"Estou cansado de tantas brigas\", \"negativo\"),\n",
    "    (\"Estou encantado com a cultura desse país\", \"positivo\"),\n",
    "    (\"Não gostei do resultado do jogo\", \"negativo\"),\n",
    "    (\"Estou ansioso para o final de semana\", \"positivo\"),\n",
    "    (\"Estou empolgado para a festa de aniversário\", \"positivo\"),\n",
    "    (\"Que bom encontrar você aqui\", \"positivo\"),\n",
    "    (\"Estou decepcionado com o resultado da eleição\", \"negativo\"),\n",
    "    (\"Esse filme me deixou emocionado\", \"positivo\"),\n",
    "    (\"Estou frustrado com o atraso no projeto\", \"negativo\"),\n",
    "    (\"Não vejo a hora de conhecer meu sobrinho que está a caminho\", \"positivo\"),\n",
    "    (\"Estou feliz por ter encontrado um novo emprego\", \"positivo\"),\n",
    "    (\"Estou radiante com a notícia do meu amigo\", \"positivo\"),\n",
    "    (\"O tráfego está caótico hoje\", \"negativo\"),\n",
    "    (\"Estou feliz por ter começado a fazer exercícios\", \"positivo\"),\n",
    "    (\"Não suporto mais essa discussão\", \"negativo\"),\n",
    "    (\"O concerto de música clássica foi incrível\", \"positivo\"),\n",
    "    (\"Estou desanimado com o futuro da economia\", \"negativo\"),\n",
    "    (\"Que maravilha, vou me formar na faculdade\", \"positivo\"),\n",
    "    (\"Estou triste com a perda do meu animal de estimação\", \"negativo\"),\n",
    "    (\"O pôr do sol na praia é magnífico\", \"positivo\"),\n",
    "    (\"Estou irritado com o comportamento dessa pessoa\", \"negativo\"),\n",
    "    (\"Adorei o show que fui ontem à noite\", \"positivo\"),\n",
    "    (\"Estou feliz por ter encontrado um novo emprego\", \"positivo\"),\n",
    "    (\"Que bom te ver depois de tanto tempo\", \"positivo\"),\n",
    "    (\"Estou cansado de tantas brigas\", \"negativo\"),\n",
    "    (\"Estou radiante com a notícia do meu amigo\", \"positivo\"),\n",
    "    (\"Não gostei do resultado do jogo\", \"negativo\"),\n",
    "    (\"Que alegria, vou passar o final de semana na praia\", \"positivo\"),\n",
    "    (\"Estou irritado com o barulho constante\", \"negativo\"),\n",
    "    (\"Estou feliz por ter terminado meus estudos\", \"positivo\"),\n",
    "    (\"Estou preocupado com a saúde da minha família\", \"negativo\"),\n",
    "    (\"Estou encantado com a cultura desse país\", \"positivo\"),\n",
    "    (\"Não consigo parar de pensar naquela situação\", \"negativo\"),\n",
    "    (\"Estou maravilhado com a beleza desse lugar\", \"positivo\"),\n",
    "    (\"Não suporto mais essa situação complicada\", \"negativo\"),\n",
    "    (\"Estou emocionado com o nascimento do meu sobrinho\", \"positivo\"),\n",
    "    (\"Estou irritado com o comportamento dessa pessoa\", \"negativo\"),\n",
    "    (\"Estou feliz por ter encontrado um novo emprego\", \"positivo\"),\n",
    "    (\"Não gostei do atendimento dessa loja\", \"negativo\"),\n",
    "    (\"Que bom te ver depois de tanto tempo\", \"positivo\"),\n",
    "    (\"Estou chateado com o cancelamento do evento\", \"negativo\"),\n",
    "    (\"Estou empolgado para a festa de aniversário\", \"positivo\"),\n",
    "    (\"Não aguento mais essa dor de cabeça\", \"negativo\"),\n",
    "    (\"Estou ansioso para o lançamento do novo filme\", \"positivo\"),\n",
    "]\n",
    "\n",
    "\n",
    "# Separando os tweets e seus sentimentos\n",
    "X = [tweet[0] for tweet in tweets]\n",
    "y = [sentimento for _, sentimento in tweets]\n",
    "\n",
    "# Dividindo os dados em conjuntos de treinamento e teste\n",
    "X_train, X_test, y_train, y_test = train_test_split(X, y, test_size=0.2, random_state=42)\n",
    "\n",
    "# Criando uma matriz de frequência de palavras\n",
    "vectorizer = CountVectorizer()\n",
    "X_train_counts = vectorizer.fit_transform(X_train)\n",
    "X_test_counts = vectorizer.transform(X_test)\n",
    "\n",
    "# Treinando o classificador Naive Bayes\n",
    "clf = MultinomialNB()\n",
    "clf.fit(X_train_counts, y_train)\n",
    "\n",
    "# Fazendo previsões\n",
    "predictions = clf.predict(X_test_counts)\n",
    "\n",
    "# Calculando a acurácia do modelo\n",
    "accuracy = accuracy_score(y_test, predictions)\n",
    "print(\"Acurácia do modelo:\", accuracy)"
   ]
  },
  {
   "cell_type": "markdown",
   "id": "a837f8dd",
   "metadata": {},
   "source": [
    "Visão geral de como o algoritmo funciona:\n",
    "\n",
    "- Treinamento: Durante a fase de treinamento, o algoritmo calcula a probabilidade de cada classe (por exemplo, positivo, negativo) ocorrer, bem como as probabilidades condicionais de cada feature (palavra) dado cada classe. Essas probabilidades são estimadas a partir dos dados de treinamento.\n",
    "\n",
    "- Previsão: Durante a fase de previsão, o algoritmo utiliza o Teorema de Bayes para calcular a probabilidade de cada classe dado um conjunto de features (no caso, as palavras em um tweet). A classe com a maior probabilidade posterior é então atribuída como a classe prevista para a instância.\n",
    "\n",
    "- Suavização de Laplace: Para evitar problemas quando uma palavra não aparece no conjunto de treinamento para uma determinada classe, é comum aplicar uma técnica de suavização chamada Suavização de Laplace, que adiciona uma contagem pseudocount para todas as features durante o cálculo das probabilidades condicionais.\n",
    "\n",
    "- Vantagens e Desvantagens: O Naive Bayes é fácil de implementar, eficiente em termos de tempo de treinamento e pode funcionar bem mesmo com conjuntos de dados pequenos. No entanto, sua suposição de independência entre as features pode não ser realista em muitos casos, o que pode levar a resultados subótimos em certas situações."
   ]
  },
  {
   "cell_type": "markdown",
   "id": "d5a352ed",
   "metadata": {},
   "source": [
    "## Testing Naïve Bayes"
   ]
  },
  {
   "cell_type": "markdown",
   "id": "a80ef963",
   "metadata": {},
   "source": [
    "<img src=\"./imgs/naive_bayes_test.png\">"
   ]
  },
  {
   "cell_type": "markdown",
   "id": "7c2d3ded",
   "metadata": {},
   "source": [
    "## Applications of Naïve Bayes"
   ]
  },
  {
   "cell_type": "markdown",
   "id": "e2a768fb",
   "metadata": {},
   "source": [
    "O algoritmo Naive Bayes é amplamente utilizado em uma variedade de aplicações em Data Science e Machine Learning devido à sua simplicidade, eficiência computacional e bom desempenho em muitos cenários. Como em:\n",
    "\n",
    "1. **Classificação de Texto:** Naive Bayes é frequentemente usado para classificar documentos de texto em categorias, como spam vs. não spam em e-mails, classificação de sentimentos em redes sociais, detecção de tópicos em artigos de notícias, entre outros.\n",
    "\n",
    "2. **Filtragem de Spam:** É um uso clássico de Naive Bayes, onde o algoritmo é treinado com uma base de dados de e-mails rotulados como spam ou não spam, e então usado para prever se novos e-mails são spam ou não.\n",
    "\n",
    "3. **Análise de Sentimento:** Naive Bayes é eficaz na análise de sentimentos em dados textuais, como comentários de clientes, análise de feedbacks de produtos e análise de redes sociais, ajudando a determinar se um texto é positivo, negativo ou neutro.\n",
    "\n",
    "4. **Classificação de Documentos:** Além de filtragem de spam, Naive Bayes é usado para categorizar documentos em diferentes classes, como classificar notícias em categorias como política, esportes, entretenimento, etc.\n",
    "\n",
    "5. **Sistemas de Recomendação:** Pode ser utilizado em sistemas de recomendação para classificar e sugerir itens com base no histórico de interações do usuário, como classificar produtos em sites de compras ou recomendar filmes ou músicas em plataformas de streaming.\n",
    "\n",
    "6. **Diagnóstico Médico:** Na área médica, o Naive Bayes pode ser aplicado para auxiliar no diagnóstico de doenças, utilizando características dos pacientes para prever a presença ou ausência de certas condições médicas.\n",
    "\n",
    "7. **Análise de Risco Financeiro:** Naive Bayes é utilizado em análises de risco financeiro para prever riscos de crédito, detectar fraudes em transações financeiras e realizar análises de mercado.\n",
    "\n",
    "8. **Previsão de Churn:** Na área de negócios, o Naive Bayes pode ser usado para prever a probabilidade de um cliente cancelar um serviço (churn), com base em dados históricos de comportamento do cliente.\n",
    "\n",
    "Sua simplicidade e eficiência o tornam uma escolha popular em uma variedade de cenários."
   ]
  },
  {
   "cell_type": "markdown",
   "id": "fcbc3e8c",
   "metadata": {},
   "source": [
    "## Naïve Bayes Assumptions"
   ]
  },
  {
   "cell_type": "markdown",
   "id": "31f2357e",
   "metadata": {},
   "source": [
    "O algoritmo Naive Bayes é baseado em algumas premissas importantes, que são fundamentais para o seu funcionamento. Como:\n",
    "\n",
    "1. **Independência Condicional:** Esta é a premissa mais crucial e é de onde o \"Naive\" em \"Naive Bayes\" vem. O algoritmo assume que as features (ou atributos) usadas para a classificação são independentes entre si, dadas as classes. Em outras palavras, ele assume que a presença ou ausência de uma característica não está relacionada à presença ou ausência de outras features, dado o resultado da classe. Embora esta premissa raramente seja verdadeira na prática, o Naive Bayes muitas vezes funciona bem mesmo quando ela é violada, tornando-o muito eficaz em muitos casos.\n",
    "\n",
    "2. **Presença de Dados de Treinamento:** O Naive Bayes requer um conjunto de dados de treinamento que inclua exemplos rotulados. Ou seja, para cada exemplo, deve-se saber a que classe ele pertence. Esses exemplos de treinamento são essenciais para estimar as probabilidades necessárias para a classificação.\n",
    "\n",
    "3. **Distribuição de Features:** O Naive Bayes assume uma distribuição específica para as features. Embora seja comum assumir uma distribuição de Bernoulli para features binárias, o Naive Bayes também pode ser aplicado com **distribuições multinomiais** (para features categóricas) e distribuições gaussianas (para features contínuas).\n",
    "\n",
    "4. **Probabilidades Condicionais:** O algoritmo Naive Bayes usa a teoria das probabilidades para calcular a probabilidade de uma instância pertencer a cada classe com base nas features observadas. Ele assume que as probabilidades condicionais de cada classe dado o conjunto de features podem ser calculadas facilmente.\n",
    "\n",
    "Essas premissas são simplificações significativas da realidade, e é por isso que o algoritmo é chamado de \"Naive\" (ingênuo). No entanto, apesar de suas simplificações, o Naive Bayes muitas vezes funciona surpreendentemente bem em uma variedade de problemas de classificação, desde que as premissas sejam razoavelmente satisfeitas."
   ]
  },
  {
   "cell_type": "markdown",
   "id": "0c981cdd",
   "metadata": {},
   "source": [
    "# Week 3"
   ]
  },
  {
   "cell_type": "markdown",
   "id": "4abc2572",
   "metadata": {},
   "source": [
    "# Week 4"
   ]
  }
 ],
 "metadata": {
  "kernelspec": {
   "display_name": "Python 3 (ipykernel)",
   "language": "python",
   "name": "python3"
  },
  "language_info": {
   "codemirror_mode": {
    "name": "ipython",
    "version": 3
   },
   "file_extension": ".py",
   "mimetype": "text/x-python",
   "name": "python",
   "nbconvert_exporter": "python",
   "pygments_lexer": "ipython3",
   "version": "3.10.12"
  },
  "toc": {
   "base_numbering": 1,
   "nav_menu": {},
   "number_sections": true,
   "sideBar": true,
   "skip_h1_title": false,
   "title_cell": "Table of Contents",
   "title_sidebar": "Contents",
   "toc_cell": false,
   "toc_position": {
    "height": "calc(100% - 180px)",
    "left": "10px",
    "top": "150px",
    "width": "341.465px"
   },
   "toc_section_display": true,
   "toc_window_display": true
  },
  "varInspector": {
   "cols": {
    "lenName": 16,
    "lenType": 16,
    "lenVar": 40
   },
   "kernels_config": {
    "python": {
     "delete_cmd_postfix": "",
     "delete_cmd_prefix": "del ",
     "library": "var_list.py",
     "varRefreshCmd": "print(var_dic_list())"
    },
    "r": {
     "delete_cmd_postfix": ") ",
     "delete_cmd_prefix": "rm(",
     "library": "var_list.r",
     "varRefreshCmd": "cat(var_dic_list()) "
    }
   },
   "types_to_exclude": [
    "module",
    "function",
    "builtin_function_or_method",
    "instance",
    "_Feature"
   ],
   "window_display": false
  }
 },
 "nbformat": 4,
 "nbformat_minor": 5
}
