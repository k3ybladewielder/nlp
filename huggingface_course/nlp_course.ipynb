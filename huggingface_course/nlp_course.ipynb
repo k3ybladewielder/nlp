{
 "cells": [
  {
   "cell_type": "markdown",
   "id": "ed77fb0c",
   "metadata": {},
   "source": [
    "# Huggingface 🤗 NLP Course\n",
    "\n",
    "Neste curso serão abordados tópicos sobre Natural Language Processing (NLP) usando as bibliotecas do ecossistem a do [hugging face](https://huggingface.co/), como 🤗 Transformers, 🤗 Datasets, 🤗 Tokenizers, and 🤗 Accelerate — assim como Hugging Face Hub.\n",
    "\n",
    "## Visão Geral\n",
    "- Os capítulos 1 a 4 fornecem uma introdução aos principais conceitos da biblioteca 🤗 Transformers. Ao final desta parte do curso, você estará familiarizado com o funcionamento dos modelos do Transformer e saberá como usar um modelo do Hugging Face Hub, ajustá-lo em um conjunto de dados e compartilhar seus resultados no Hub!\n",
    "- Os capítulos 5 a 8 ensinam o básico de 🤗 Conjuntos de dados e 🤗 Tokenizers antes de mergulhar nas tarefas clássicas de PNL. Ao final desta parte, você será capaz de resolver sozinho os problemas mais comuns da PNL.\n",
    "- Os capítulos 9 a 12 vão além da PNL e exploram como os modelos Transformer podem ser usados para lidar com tarefas de processamento de fala e visão computacional. Ao longo do caminho, você aprenderá como criar e compartilhar demonstrações de seus modelos e otimizá-los para ambientes de produção. Ao final desta parte, você estará pronto para aplicar 🤗 Transformers a (quase) qualquer problema de aprendizado de máquina!"
   ]
  },
  {
   "cell_type": "markdown",
   "id": "bfcae5d7",
   "metadata": {},
   "source": []
  },
  {
   "cell_type": "code",
   "execution_count": null,
   "id": "568c3d69",
   "metadata": {},
   "outputs": [],
   "source": []
  },
  {
   "cell_type": "code",
   "execution_count": null,
   "id": "950d9098",
   "metadata": {},
   "outputs": [],
   "source": []
  },
  {
   "cell_type": "code",
   "execution_count": null,
   "id": "33419d38",
   "metadata": {},
   "outputs": [],
   "source": []
  },
  {
   "cell_type": "code",
   "execution_count": null,
   "id": "19743222",
   "metadata": {},
   "outputs": [],
   "source": []
  },
  {
   "cell_type": "code",
   "execution_count": null,
   "id": "7916499f",
   "metadata": {},
   "outputs": [],
   "source": []
  },
  {
   "cell_type": "code",
   "execution_count": null,
   "id": "14d90d4f",
   "metadata": {},
   "outputs": [],
   "source": []
  },
  {
   "cell_type": "code",
   "execution_count": null,
   "id": "6dc4d0a6",
   "metadata": {},
   "outputs": [],
   "source": []
  },
  {
   "cell_type": "code",
   "execution_count": null,
   "id": "2032d92d",
   "metadata": {},
   "outputs": [],
   "source": []
  },
  {
   "cell_type": "code",
   "execution_count": null,
   "id": "34c56876",
   "metadata": {},
   "outputs": [],
   "source": []
  },
  {
   "cell_type": "code",
   "execution_count": null,
   "id": "81813a7b",
   "metadata": {},
   "outputs": [],
   "source": []
  },
  {
   "cell_type": "code",
   "execution_count": null,
   "id": "963cfd42",
   "metadata": {},
   "outputs": [],
   "source": []
  },
  {
   "cell_type": "code",
   "execution_count": null,
   "id": "fbe804e6",
   "metadata": {},
   "outputs": [],
   "source": []
  },
  {
   "cell_type": "code",
   "execution_count": null,
   "id": "5be7e6a1",
   "metadata": {},
   "outputs": [],
   "source": []
  }
 ],
 "metadata": {
  "kernelspec": {
   "display_name": "Python 3 (ipykernel)",
   "language": "python",
   "name": "python3"
  },
  "language_info": {
   "codemirror_mode": {
    "name": "ipython",
    "version": 3
   },
   "file_extension": ".py",
   "mimetype": "text/x-python",
   "name": "python",
   "nbconvert_exporter": "python",
   "pygments_lexer": "ipython3",
   "version": "3.10.12"
  },
  "toc": {
   "base_numbering": 1,
   "nav_menu": {},
   "number_sections": true,
   "sideBar": true,
   "skip_h1_title": false,
   "title_cell": "Table of Contents",
   "title_sidebar": "Contents",
   "toc_cell": false,
   "toc_position": {},
   "toc_section_display": true,
   "toc_window_display": false
  },
  "varInspector": {
   "cols": {
    "lenName": 16,
    "lenType": 16,
    "lenVar": 40
   },
   "kernels_config": {
    "python": {
     "delete_cmd_postfix": "",
     "delete_cmd_prefix": "del ",
     "library": "var_list.py",
     "varRefreshCmd": "print(var_dic_list())"
    },
    "r": {
     "delete_cmd_postfix": ") ",
     "delete_cmd_prefix": "rm(",
     "library": "var_list.r",
     "varRefreshCmd": "cat(var_dic_list()) "
    }
   },
   "types_to_exclude": [
    "module",
    "function",
    "builtin_function_or_method",
    "instance",
    "_Feature"
   ],
   "window_display": false
  }
 },
 "nbformat": 4,
 "nbformat_minor": 5
}
